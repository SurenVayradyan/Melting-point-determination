{
 "cells": [
  {
   "cell_type": "markdown",
   "metadata": {
    "id": "C3-6wmmtNVJd"
   },
   "source": [
    "**Цель проекта:** предсказание температуры стали для оптимизации производственных расходов\n",
    "\n",
    "**Описание проекта:** чтобы оптимизировать производственные расходы, металлургический комбинат решил уменьшить потребление электроэнергии на этапе обработки стали. Необходимо построить модель, которая предскажет температуру стали."
   ]
  },
  {
   "cell_type": "markdown",
   "metadata": {
    "id": "8orJHtSCNVJe"
   },
   "source": [
    "# Импорт библиотек"
   ]
  },
  {
   "cell_type": "code",
   "execution_count": 1,
   "metadata": {
    "id": "Gf501iLlNVJe"
   },
   "outputs": [],
   "source": [
    "import pandas as pd\n",
    "import seaborn as sns\n",
    "import matplotlib.pyplot as plt\n",
    "\n",
    "from sklearn.preprocessing import StandardScaler\n",
    "from sklearn.model_selection import train_test_split\n",
    "\n",
    "from catboost import CatBoostRegressor\n",
    "from sklearn.tree import DecisionTreeRegressor\n",
    "\n",
    "from sklearn.model_selection import GridSearchCV\n",
    "from sklearn.base import BaseEstimator\n",
    "from sklearn.model_selection import StratifiedKFold\n",
    "from sklearn.metrics import mean_absolute_error\n",
    "\n",
    "import warnings\n",
    "warnings.filterwarnings('ignore')\n",
    "\n",
    "import time\n",
    "from datetime import datetime"
   ]
  },
  {
   "cell_type": "markdown",
   "metadata": {
    "id": "4H1cdFRSNVJe"
   },
   "source": [
    "## Иследовательский анализ данных"
   ]
  },
  {
   "cell_type": "markdown",
   "metadata": {
    "id": "L6ZILlJMNVJe"
   },
   "source": [
    "**Данные об электродах**"
   ]
  },
  {
   "cell_type": "code",
   "execution_count": 2,
   "metadata": {
    "colab": {
     "base_uri": "https://localhost:8080/",
     "height": 206
    },
    "id": "vl08puQ7NVJf",
    "outputId": "30530bc8-a96d-46ae-b026-ba701c1b473e",
    "scrolled": true
   },
   "outputs": [
    {
     "data": {
      "text/html": [
       "<div>\n",
       "<style scoped>\n",
       "    .dataframe tbody tr th:only-of-type {\n",
       "        vertical-align: middle;\n",
       "    }\n",
       "\n",
       "    .dataframe tbody tr th {\n",
       "        vertical-align: top;\n",
       "    }\n",
       "\n",
       "    .dataframe thead th {\n",
       "        text-align: right;\n",
       "    }\n",
       "</style>\n",
       "<table border=\"1\" class=\"dataframe\">\n",
       "  <thead>\n",
       "    <tr style=\"text-align: right;\">\n",
       "      <th></th>\n",
       "      <th>key</th>\n",
       "      <th>Начало нагрева дугой</th>\n",
       "      <th>Конец нагрева дугой</th>\n",
       "      <th>Активная мощность</th>\n",
       "      <th>Реактивная мощность</th>\n",
       "    </tr>\n",
       "  </thead>\n",
       "  <tbody>\n",
       "    <tr>\n",
       "      <th>0</th>\n",
       "      <td>1</td>\n",
       "      <td>2019-05-03 11:02:14</td>\n",
       "      <td>2019-05-03 11:06:02</td>\n",
       "      <td>0.305130</td>\n",
       "      <td>0.211253</td>\n",
       "    </tr>\n",
       "    <tr>\n",
       "      <th>1</th>\n",
       "      <td>1</td>\n",
       "      <td>2019-05-03 11:07:28</td>\n",
       "      <td>2019-05-03 11:10:33</td>\n",
       "      <td>0.765658</td>\n",
       "      <td>0.477438</td>\n",
       "    </tr>\n",
       "    <tr>\n",
       "      <th>2</th>\n",
       "      <td>1</td>\n",
       "      <td>2019-05-03 11:11:44</td>\n",
       "      <td>2019-05-03 11:14:36</td>\n",
       "      <td>0.580313</td>\n",
       "      <td>0.430460</td>\n",
       "    </tr>\n",
       "    <tr>\n",
       "      <th>3</th>\n",
       "      <td>1</td>\n",
       "      <td>2019-05-03 11:18:14</td>\n",
       "      <td>2019-05-03 11:24:19</td>\n",
       "      <td>0.518496</td>\n",
       "      <td>0.379979</td>\n",
       "    </tr>\n",
       "    <tr>\n",
       "      <th>4</th>\n",
       "      <td>1</td>\n",
       "      <td>2019-05-03 11:26:09</td>\n",
       "      <td>2019-05-03 11:28:37</td>\n",
       "      <td>0.867133</td>\n",
       "      <td>0.643691</td>\n",
       "    </tr>\n",
       "  </tbody>\n",
       "</table>\n",
       "</div>"
      ],
      "text/plain": [
       "   key Начало нагрева дугой  Конец нагрева дугой  Активная мощность  \\\n",
       "0    1  2019-05-03 11:02:14  2019-05-03 11:06:02           0.305130   \n",
       "1    1  2019-05-03 11:07:28  2019-05-03 11:10:33           0.765658   \n",
       "2    1  2019-05-03 11:11:44  2019-05-03 11:14:36           0.580313   \n",
       "3    1  2019-05-03 11:18:14  2019-05-03 11:24:19           0.518496   \n",
       "4    1  2019-05-03 11:26:09  2019-05-03 11:28:37           0.867133   \n",
       "\n",
       "   Реактивная мощность  \n",
       "0             0.211253  \n",
       "1             0.477438  \n",
       "2             0.430460  \n",
       "3             0.379979  \n",
       "4             0.643691  "
      ]
     },
     "execution_count": 2,
     "metadata": {},
     "output_type": "execute_result"
    }
   ],
   "source": [
    "df_arc = pd.read_csv('/datasets/data_arc_new.csv');\n",
    "df_arc.head(5)"
   ]
  },
  {
   "cell_type": "code",
   "execution_count": 3,
   "metadata": {
    "colab": {
     "base_uri": "https://localhost:8080/"
    },
    "id": "U08xqcHrNVJf",
    "outputId": "7505e65f-0548-4ded-9cf6-ec3bd0559963",
    "scrolled": true
   },
   "outputs": [
    {
     "name": "stdout",
     "output_type": "stream",
     "text": [
      "<class 'pandas.core.frame.DataFrame'>\n",
      "RangeIndex: 14876 entries, 0 to 14875\n",
      "Data columns (total 5 columns):\n",
      " #   Column                Non-Null Count  Dtype  \n",
      "---  ------                --------------  -----  \n",
      " 0   key                   14876 non-null  int64  \n",
      " 1   Начало нагрева дугой  14876 non-null  object \n",
      " 2   Конец нагрева дугой   14876 non-null  object \n",
      " 3   Активная мощность     14876 non-null  float64\n",
      " 4   Реактивная мощность   14876 non-null  float64\n",
      "dtypes: float64(2), int64(1), object(2)\n",
      "memory usage: 581.2+ KB\n"
     ]
    }
   ],
   "source": [
    "df_arc.info()"
   ]
  },
  {
   "cell_type": "code",
   "execution_count": 4,
   "metadata": {
    "colab": {
     "base_uri": "https://localhost:8080/",
     "height": 468
    },
    "id": "fKIr6V5zNVJf",
    "outputId": "db4b0ff1-eeb4-4ca1-fec4-27a5086aa769"
   },
   "outputs": [
    {
     "data": {
      "image/png": "[encoded data removed]",
      "text/plain": [
       "<Figure size 720x360 with 1 Axes>"
      ]
     },
     "metadata": {
      "needs_background": "light"
     },
     "output_type": "display_data"
    }
   ],
   "source": [
    "plt.figure(figsize=(10, 5))\n",
    "sns.boxplot(data=df_arc.drop(['key'], axis=1))\n",
    "plt.title('Данные об электродах')\n",
    "plt.show();"
   ]
  },
  {
   "cell_type": "markdown",
   "metadata": {
    "id": "f_P9ITS7NVJf"
   },
   "source": [
    "**Промежуточный вывод:** видим одно отрицательное значение, возможно сбой в системе замеряющей мощность."
   ]
  },
  {
   "cell_type": "markdown",
   "metadata": {
    "id": "meU8-4TTNVJg"
   },
   "source": [
    "**Данные о подаче сыпучих материалов(объем)**"
   ]
  },
  {
   "cell_type": "code",
   "execution_count": 5,
   "metadata": {
    "colab": {
     "base_uri": "https://localhost:8080/",
     "height": 206
    },
    "id": "4EBtck0KNVJg",
    "outputId": "5bf33a6d-f443-4d5a-e304-b4c31e5fc6cd"
   },
   "outputs": [
    {
     "data": {
      "text/html": [
       "<div>\n",
       "<style scoped>\n",
       "    .dataframe tbody tr th:only-of-type {\n",
       "        vertical-align: middle;\n",
       "    }\n",
       "\n",
       "    .dataframe tbody tr th {\n",
       "        vertical-align: top;\n",
       "    }\n",
       "\n",
       "    .dataframe thead th {\n",
       "        text-align: right;\n",
       "    }\n",
       "</style>\n",
       "<table border=\"1\" class=\"dataframe\">\n",
       "  <thead>\n",
       "    <tr style=\"text-align: right;\">\n",
       "      <th></th>\n",
       "      <th>key</th>\n",
       "      <th>Bulk 1</th>\n",
       "      <th>Bulk 2</th>\n",
       "      <th>Bulk 3</th>\n",
       "      <th>Bulk 4</th>\n",
       "      <th>Bulk 5</th>\n",
       "      <th>Bulk 6</th>\n",
       "      <th>Bulk 7</th>\n",
       "      <th>Bulk 8</th>\n",
       "      <th>Bulk 9</th>\n",
       "      <th>Bulk 10</th>\n",
       "      <th>Bulk 11</th>\n",
       "      <th>Bulk 12</th>\n",
       "      <th>Bulk 13</th>\n",
       "      <th>Bulk 14</th>\n",
       "      <th>Bulk 15</th>\n",
       "    </tr>\n",
       "  </thead>\n",
       "  <tbody>\n",
       "    <tr>\n",
       "      <th>0</th>\n",
       "      <td>1</td>\n",
       "      <td>NaN</td>\n",
       "      <td>NaN</td>\n",
       "      <td>NaN</td>\n",
       "      <td>43.0</td>\n",
       "      <td>NaN</td>\n",
       "      <td>NaN</td>\n",
       "      <td>NaN</td>\n",
       "      <td>NaN</td>\n",
       "      <td>NaN</td>\n",
       "      <td>NaN</td>\n",
       "      <td>NaN</td>\n",
       "      <td>206.0</td>\n",
       "      <td>NaN</td>\n",
       "      <td>150.0</td>\n",
       "      <td>154.0</td>\n",
       "    </tr>\n",
       "    <tr>\n",
       "      <th>1</th>\n",
       "      <td>2</td>\n",
       "      <td>NaN</td>\n",
       "      <td>NaN</td>\n",
       "      <td>NaN</td>\n",
       "      <td>73.0</td>\n",
       "      <td>NaN</td>\n",
       "      <td>NaN</td>\n",
       "      <td>NaN</td>\n",
       "      <td>NaN</td>\n",
       "      <td>NaN</td>\n",
       "      <td>NaN</td>\n",
       "      <td>NaN</td>\n",
       "      <td>206.0</td>\n",
       "      <td>NaN</td>\n",
       "      <td>149.0</td>\n",
       "      <td>154.0</td>\n",
       "    </tr>\n",
       "    <tr>\n",
       "      <th>2</th>\n",
       "      <td>3</td>\n",
       "      <td>NaN</td>\n",
       "      <td>NaN</td>\n",
       "      <td>NaN</td>\n",
       "      <td>34.0</td>\n",
       "      <td>NaN</td>\n",
       "      <td>NaN</td>\n",
       "      <td>NaN</td>\n",
       "      <td>NaN</td>\n",
       "      <td>NaN</td>\n",
       "      <td>NaN</td>\n",
       "      <td>NaN</td>\n",
       "      <td>205.0</td>\n",
       "      <td>NaN</td>\n",
       "      <td>152.0</td>\n",
       "      <td>153.0</td>\n",
       "    </tr>\n",
       "    <tr>\n",
       "      <th>3</th>\n",
       "      <td>4</td>\n",
       "      <td>NaN</td>\n",
       "      <td>NaN</td>\n",
       "      <td>NaN</td>\n",
       "      <td>81.0</td>\n",
       "      <td>NaN</td>\n",
       "      <td>NaN</td>\n",
       "      <td>NaN</td>\n",
       "      <td>NaN</td>\n",
       "      <td>NaN</td>\n",
       "      <td>NaN</td>\n",
       "      <td>NaN</td>\n",
       "      <td>207.0</td>\n",
       "      <td>NaN</td>\n",
       "      <td>153.0</td>\n",
       "      <td>154.0</td>\n",
       "    </tr>\n",
       "    <tr>\n",
       "      <th>4</th>\n",
       "      <td>5</td>\n",
       "      <td>NaN</td>\n",
       "      <td>NaN</td>\n",
       "      <td>NaN</td>\n",
       "      <td>78.0</td>\n",
       "      <td>NaN</td>\n",
       "      <td>NaN</td>\n",
       "      <td>NaN</td>\n",
       "      <td>NaN</td>\n",
       "      <td>NaN</td>\n",
       "      <td>NaN</td>\n",
       "      <td>NaN</td>\n",
       "      <td>203.0</td>\n",
       "      <td>NaN</td>\n",
       "      <td>151.0</td>\n",
       "      <td>152.0</td>\n",
       "    </tr>\n",
       "  </tbody>\n",
       "</table>\n",
       "</div>"
      ],
      "text/plain": [
       "   key  Bulk 1  Bulk 2  Bulk 3  Bulk 4  Bulk 5  Bulk 6  Bulk 7  Bulk 8  \\\n",
       "0    1     NaN     NaN     NaN    43.0     NaN     NaN     NaN     NaN   \n",
       "1    2     NaN     NaN     NaN    73.0     NaN     NaN     NaN     NaN   \n",
       "2    3     NaN     NaN     NaN    34.0     NaN     NaN     NaN     NaN   \n",
       "3    4     NaN     NaN     NaN    81.0     NaN     NaN     NaN     NaN   \n",
       "4    5     NaN     NaN     NaN    78.0     NaN     NaN     NaN     NaN   \n",
       "\n",
       "   Bulk 9  Bulk 10  Bulk 11  Bulk 12  Bulk 13  Bulk 14  Bulk 15  \n",
       "0     NaN      NaN      NaN    206.0      NaN    150.0    154.0  \n",
       "1     NaN      NaN      NaN    206.0      NaN    149.0    154.0  \n",
       "2     NaN      NaN      NaN    205.0      NaN    152.0    153.0  \n",
       "3     NaN      NaN      NaN    207.0      NaN    153.0    154.0  \n",
       "4     NaN      NaN      NaN    203.0      NaN    151.0    152.0  "
      ]
     },
     "execution_count": 5,
     "metadata": {},
     "output_type": "execute_result"
    }
   ],
   "source": [
    "df_bulk = pd.read_csv('/datasets/data_bulk_new.csv');\n",
    "df_bulk.head(5)"
   ]
  },
  {
   "cell_type": "code",
   "execution_count": 6,
   "metadata": {
    "colab": {
     "base_uri": "https://localhost:8080/"
    },
    "id": "la0b9luNNVJg",
    "outputId": "44d13651-98af-40a0-bd98-e2264934921a"
   },
   "outputs": [
    {
     "name": "stdout",
     "output_type": "stream",
     "text": [
      "<class 'pandas.core.frame.DataFrame'>\n",
      "RangeIndex: 3129 entries, 0 to 3128\n",
      "Data columns (total 16 columns):\n",
      " #   Column   Non-Null Count  Dtype  \n",
      "---  ------   --------------  -----  \n",
      " 0   key      3129 non-null   int64  \n",
      " 1   Bulk 1   252 non-null    float64\n",
      " 2   Bulk 2   22 non-null     float64\n",
      " 3   Bulk 3   1298 non-null   float64\n",
      " 4   Bulk 4   1014 non-null   float64\n",
      " 5   Bulk 5   77 non-null     float64\n",
      " 6   Bulk 6   576 non-null    float64\n",
      " 7   Bulk 7   25 non-null     float64\n",
      " 8   Bulk 8   1 non-null      float64\n",
      " 9   Bulk 9   19 non-null     float64\n",
      " 10  Bulk 10  176 non-null    float64\n",
      " 11  Bulk 11  177 non-null    float64\n",
      " 12  Bulk 12  2450 non-null   float64\n",
      " 13  Bulk 13  18 non-null     float64\n",
      " 14  Bulk 14  2806 non-null   float64\n",
      " 15  Bulk 15  2248 non-null   float64\n",
      "dtypes: float64(15), int64(1)\n",
      "memory usage: 391.2 KB\n"
     ]
    }
   ],
   "source": [
    "df_bulk.info()"
   ]
  },
  {
   "cell_type": "code",
   "execution_count": 7,
   "metadata": {
    "colab": {
     "base_uri": "https://localhost:8080/",
     "height": 452
    },
    "id": "nCGDJx8GNVJg",
    "outputId": "27056dc3-8eef-44d6-c5b1-5db6fbe1360b"
   },
   "outputs": [
    {
     "data": {
      "image/png": "[encoded data removed]",
      "text/plain": [
       "<Figure size 1080x360 with 1 Axes>"
      ]
     },
     "metadata": {
      "needs_background": "light"
     },
     "output_type": "display_data"
    }
   ],
   "source": [
    "plt.figure(figsize=(15,5))\n",
    "sns.boxplot(data=df_bulk.drop('key', axis=1))\n",
    "plt.title('Данные о подаче сыпучих материалов')\n",
    "plt.xlabel('Материалы')\n",
    "plt.ylabel('Количество')\n",
    "plt.show();"
   ]
  },
  {
   "cell_type": "markdown",
   "metadata": {
    "id": "2DHs0x3aNVJg"
   },
   "source": [
    "**Промежуточный вывод:**\n",
    "\n",
    "    1. Много пропусков\n",
    "    2. Построили ящик с усами для выявления выбросов"
   ]
  },
  {
   "cell_type": "markdown",
   "metadata": {
    "id": "eD-rP9KBNVJg"
   },
   "source": [
    "**Данные о подаче сыпучих материалов(время)**"
   ]
  },
  {
   "cell_type": "code",
   "execution_count": 8,
   "metadata": {
    "colab": {
     "base_uri": "https://localhost:8080/",
     "height": 354
    },
    "id": "FJspAp3TNVJg",
    "outputId": "60c9c89a-66f8-47fe-d5a3-2728a81dccb8"
   },
   "outputs": [
    {
     "data": {
      "text/html": [
       "<div>\n",
       "<style scoped>\n",
       "    .dataframe tbody tr th:only-of-type {\n",
       "        vertical-align: middle;\n",
       "    }\n",
       "\n",
       "    .dataframe tbody tr th {\n",
       "        vertical-align: top;\n",
       "    }\n",
       "\n",
       "    .dataframe thead th {\n",
       "        text-align: right;\n",
       "    }\n",
       "</style>\n",
       "<table border=\"1\" class=\"dataframe\">\n",
       "  <thead>\n",
       "    <tr style=\"text-align: right;\">\n",
       "      <th></th>\n",
       "      <th>key</th>\n",
       "      <th>Bulk 1</th>\n",
       "      <th>Bulk 2</th>\n",
       "      <th>Bulk 3</th>\n",
       "      <th>Bulk 4</th>\n",
       "      <th>Bulk 5</th>\n",
       "      <th>Bulk 6</th>\n",
       "      <th>Bulk 7</th>\n",
       "      <th>Bulk 8</th>\n",
       "      <th>Bulk 9</th>\n",
       "      <th>Bulk 10</th>\n",
       "      <th>Bulk 11</th>\n",
       "      <th>Bulk 12</th>\n",
       "      <th>Bulk 13</th>\n",
       "      <th>Bulk 14</th>\n",
       "      <th>Bulk 15</th>\n",
       "    </tr>\n",
       "  </thead>\n",
       "  <tbody>\n",
       "    <tr>\n",
       "      <th>0</th>\n",
       "      <td>1</td>\n",
       "      <td>NaN</td>\n",
       "      <td>NaN</td>\n",
       "      <td>NaN</td>\n",
       "      <td>2019-05-03 11:28:48</td>\n",
       "      <td>NaN</td>\n",
       "      <td>NaN</td>\n",
       "      <td>NaN</td>\n",
       "      <td>NaN</td>\n",
       "      <td>NaN</td>\n",
       "      <td>NaN</td>\n",
       "      <td>NaN</td>\n",
       "      <td>2019-05-03 11:24:31</td>\n",
       "      <td>NaN</td>\n",
       "      <td>2019-05-03 11:14:50</td>\n",
       "      <td>2019-05-03 11:10:43</td>\n",
       "    </tr>\n",
       "    <tr>\n",
       "      <th>1</th>\n",
       "      <td>2</td>\n",
       "      <td>NaN</td>\n",
       "      <td>NaN</td>\n",
       "      <td>NaN</td>\n",
       "      <td>2019-05-03 11:36:50</td>\n",
       "      <td>NaN</td>\n",
       "      <td>NaN</td>\n",
       "      <td>NaN</td>\n",
       "      <td>NaN</td>\n",
       "      <td>NaN</td>\n",
       "      <td>NaN</td>\n",
       "      <td>NaN</td>\n",
       "      <td>2019-05-03 11:53:30</td>\n",
       "      <td>NaN</td>\n",
       "      <td>2019-05-03 11:48:37</td>\n",
       "      <td>2019-05-03 11:44:39</td>\n",
       "    </tr>\n",
       "    <tr>\n",
       "      <th>2</th>\n",
       "      <td>3</td>\n",
       "      <td>NaN</td>\n",
       "      <td>NaN</td>\n",
       "      <td>NaN</td>\n",
       "      <td>2019-05-03 12:32:39</td>\n",
       "      <td>NaN</td>\n",
       "      <td>NaN</td>\n",
       "      <td>NaN</td>\n",
       "      <td>NaN</td>\n",
       "      <td>NaN</td>\n",
       "      <td>NaN</td>\n",
       "      <td>NaN</td>\n",
       "      <td>2019-05-03 12:27:13</td>\n",
       "      <td>NaN</td>\n",
       "      <td>2019-05-03 12:21:01</td>\n",
       "      <td>2019-05-03 12:16:16</td>\n",
       "    </tr>\n",
       "    <tr>\n",
       "      <th>3</th>\n",
       "      <td>4</td>\n",
       "      <td>NaN</td>\n",
       "      <td>NaN</td>\n",
       "      <td>NaN</td>\n",
       "      <td>2019-05-03 12:43:22</td>\n",
       "      <td>NaN</td>\n",
       "      <td>NaN</td>\n",
       "      <td>NaN</td>\n",
       "      <td>NaN</td>\n",
       "      <td>NaN</td>\n",
       "      <td>NaN</td>\n",
       "      <td>NaN</td>\n",
       "      <td>2019-05-03 12:58:00</td>\n",
       "      <td>NaN</td>\n",
       "      <td>2019-05-03 12:51:11</td>\n",
       "      <td>2019-05-03 12:46:36</td>\n",
       "    </tr>\n",
       "    <tr>\n",
       "      <th>4</th>\n",
       "      <td>5</td>\n",
       "      <td>NaN</td>\n",
       "      <td>NaN</td>\n",
       "      <td>NaN</td>\n",
       "      <td>2019-05-03 13:30:47</td>\n",
       "      <td>NaN</td>\n",
       "      <td>NaN</td>\n",
       "      <td>NaN</td>\n",
       "      <td>NaN</td>\n",
       "      <td>NaN</td>\n",
       "      <td>NaN</td>\n",
       "      <td>NaN</td>\n",
       "      <td>2019-05-03 13:30:47</td>\n",
       "      <td>NaN</td>\n",
       "      <td>2019-05-03 13:34:12</td>\n",
       "      <td>2019-05-03 13:30:47</td>\n",
       "    </tr>\n",
       "  </tbody>\n",
       "</table>\n",
       "</div>"
      ],
      "text/plain": [
       "   key Bulk 1 Bulk 2 Bulk 3               Bulk 4 Bulk 5 Bulk 6 Bulk 7 Bulk 8  \\\n",
       "0    1    NaN    NaN    NaN  2019-05-03 11:28:48    NaN    NaN    NaN    NaN   \n",
       "1    2    NaN    NaN    NaN  2019-05-03 11:36:50    NaN    NaN    NaN    NaN   \n",
       "2    3    NaN    NaN    NaN  2019-05-03 12:32:39    NaN    NaN    NaN    NaN   \n",
       "3    4    NaN    NaN    NaN  2019-05-03 12:43:22    NaN    NaN    NaN    NaN   \n",
       "4    5    NaN    NaN    NaN  2019-05-03 13:30:47    NaN    NaN    NaN    NaN   \n",
       "\n",
       "  Bulk 9 Bulk 10 Bulk 11              Bulk 12 Bulk 13              Bulk 14  \\\n",
       "0    NaN     NaN     NaN  2019-05-03 11:24:31     NaN  2019-05-03 11:14:50   \n",
       "1    NaN     NaN     NaN  2019-05-03 11:53:30     NaN  2019-05-03 11:48:37   \n",
       "2    NaN     NaN     NaN  2019-05-03 12:27:13     NaN  2019-05-03 12:21:01   \n",
       "3    NaN     NaN     NaN  2019-05-03 12:58:00     NaN  2019-05-03 12:51:11   \n",
       "4    NaN     NaN     NaN  2019-05-03 13:30:47     NaN  2019-05-03 13:34:12   \n",
       "\n",
       "               Bulk 15  \n",
       "0  2019-05-03 11:10:43  \n",
       "1  2019-05-03 11:44:39  \n",
       "2  2019-05-03 12:16:16  \n",
       "3  2019-05-03 12:46:36  \n",
       "4  2019-05-03 13:30:47  "
      ]
     },
     "execution_count": 8,
     "metadata": {},
     "output_type": "execute_result"
    }
   ],
   "source": [
    "df_bulk_time = pd.read_csv('/datasets/data_bulk_time_new.csv');df_bulk_time.head(5)"
   ]
  },
  {
   "cell_type": "code",
   "execution_count": 9,
   "metadata": {
    "colab": {
     "base_uri": "https://localhost:8080/"
    },
    "id": "_9lTSUFPNVJh",
    "outputId": "5d8a212a-b3db-45af-d184-3c2fbc750f3f"
   },
   "outputs": [
    {
     "name": "stdout",
     "output_type": "stream",
     "text": [
      "<class 'pandas.core.frame.DataFrame'>\n",
      "RangeIndex: 3129 entries, 0 to 3128\n",
      "Data columns (total 16 columns):\n",
      " #   Column   Non-Null Count  Dtype \n",
      "---  ------   --------------  ----- \n",
      " 0   key      3129 non-null   int64 \n",
      " 1   Bulk 1   252 non-null    object\n",
      " 2   Bulk 2   22 non-null     object\n",
      " 3   Bulk 3   1298 non-null   object\n",
      " 4   Bulk 4   1014 non-null   object\n",
      " 5   Bulk 5   77 non-null     object\n",
      " 6   Bulk 6   576 non-null    object\n",
      " 7   Bulk 7   25 non-null     object\n",
      " 8   Bulk 8   1 non-null      object\n",
      " 9   Bulk 9   19 non-null     object\n",
      " 10  Bulk 10  176 non-null    object\n",
      " 11  Bulk 11  177 non-null    object\n",
      " 12  Bulk 12  2450 non-null   object\n",
      " 13  Bulk 13  18 non-null     object\n",
      " 14  Bulk 14  2806 non-null   object\n",
      " 15  Bulk 15  2248 non-null   object\n",
      "dtypes: int64(1), object(15)\n",
      "memory usage: 391.2+ KB\n"
     ]
    }
   ],
   "source": [
    "df_bulk_time.info()"
   ]
  },
  {
   "cell_type": "markdown",
   "metadata": {
    "id": "91sY3Te5NVJh"
   },
   "source": [
    "**Промежуточный вывод:**\n",
    "\n",
    "    1.Есть много пропусков в данных."
   ]
  },
  {
   "cell_type": "markdown",
   "metadata": {
    "id": "qLZkMtOENVJh"
   },
   "source": [
    "**Данные о продувке сплава газом**"
   ]
  },
  {
   "cell_type": "code",
   "execution_count": 10,
   "metadata": {
    "colab": {
     "base_uri": "https://localhost:8080/",
     "height": 206
    },
    "id": "4gFZzxcwNVJh",
    "outputId": "4cb42ed1-32d9-4866-8d0a-9fa68027361e"
   },
   "outputs": [
    {
     "data": {
      "text/html": [
       "<div>\n",
       "<style scoped>\n",
       "    .dataframe tbody tr th:only-of-type {\n",
       "        vertical-align: middle;\n",
       "    }\n",
       "\n",
       "    .dataframe tbody tr th {\n",
       "        vertical-align: top;\n",
       "    }\n",
       "\n",
       "    .dataframe thead th {\n",
       "        text-align: right;\n",
       "    }\n",
       "</style>\n",
       "<table border=\"1\" class=\"dataframe\">\n",
       "  <thead>\n",
       "    <tr style=\"text-align: right;\">\n",
       "      <th></th>\n",
       "      <th>key</th>\n",
       "      <th>Газ 1</th>\n",
       "    </tr>\n",
       "  </thead>\n",
       "  <tbody>\n",
       "    <tr>\n",
       "      <th>0</th>\n",
       "      <td>1</td>\n",
       "      <td>29.749986</td>\n",
       "    </tr>\n",
       "    <tr>\n",
       "      <th>1</th>\n",
       "      <td>2</td>\n",
       "      <td>12.555561</td>\n",
       "    </tr>\n",
       "    <tr>\n",
       "      <th>2</th>\n",
       "      <td>3</td>\n",
       "      <td>28.554793</td>\n",
       "    </tr>\n",
       "    <tr>\n",
       "      <th>3</th>\n",
       "      <td>4</td>\n",
       "      <td>18.841219</td>\n",
       "    </tr>\n",
       "    <tr>\n",
       "      <th>4</th>\n",
       "      <td>5</td>\n",
       "      <td>5.413692</td>\n",
       "    </tr>\n",
       "  </tbody>\n",
       "</table>\n",
       "</div>"
      ],
      "text/plain": [
       "   key      Газ 1\n",
       "0    1  29.749986\n",
       "1    2  12.555561\n",
       "2    3  28.554793\n",
       "3    4  18.841219\n",
       "4    5   5.413692"
      ]
     },
     "execution_count": 10,
     "metadata": {},
     "output_type": "execute_result"
    }
   ],
   "source": [
    "df_gas = pd.read_csv('/datasets/data_gas_new.csv');\n",
    "df_gas.head()"
   ]
  },
  {
   "cell_type": "code",
   "execution_count": 11,
   "metadata": {
    "colab": {
     "base_uri": "https://localhost:8080/",
     "height": 474
    },
    "id": "i4ie3y-UNVJh",
    "outputId": "1f2abcec-6bff-43db-94a4-f694e51190a0",
    "scrolled": true
   },
   "outputs": [
    {
     "data": {
      "image/png": "[encoded data removed]",
      "text/plain": [
       "<Figure size 1080x360 with 1 Axes>"
      ]
     },
     "metadata": {
      "needs_background": "light"
     },
     "output_type": "display_data"
    }
   ],
   "source": [
    "plt.figure(figsize=(15,5))\n",
    "sns.boxplot(data=df_gas, x='Газ 1')\n",
    "plt.title('Данные о продувке сплава газом')\n",
    "\n",
    "plt.show();"
   ]
  },
  {
   "cell_type": "markdown",
   "metadata": {
    "id": "j_Rz_N-cNVJh"
   },
   "source": [
    "**Результаты измерения температуры**"
   ]
  },
  {
   "cell_type": "code",
   "execution_count": 12,
   "metadata": {
    "colab": {
     "base_uri": "https://localhost:8080/",
     "height": 206
    },
    "id": "STD6mn8tNVJh",
    "outputId": "f5a2aba3-7589-4282-bfea-98b8c04b82d3"
   },
   "outputs": [
    {
     "data": {
      "text/html": [
       "<div>\n",
       "<style scoped>\n",
       "    .dataframe tbody tr th:only-of-type {\n",
       "        vertical-align: middle;\n",
       "    }\n",
       "\n",
       "    .dataframe tbody tr th {\n",
       "        vertical-align: top;\n",
       "    }\n",
       "\n",
       "    .dataframe thead th {\n",
       "        text-align: right;\n",
       "    }\n",
       "</style>\n",
       "<table border=\"1\" class=\"dataframe\">\n",
       "  <thead>\n",
       "    <tr style=\"text-align: right;\">\n",
       "      <th></th>\n",
       "      <th>key</th>\n",
       "      <th>Время замера</th>\n",
       "      <th>Температура</th>\n",
       "    </tr>\n",
       "  </thead>\n",
       "  <tbody>\n",
       "    <tr>\n",
       "      <th>0</th>\n",
       "      <td>1</td>\n",
       "      <td>2019-05-03 11:02:04</td>\n",
       "      <td>1571.0</td>\n",
       "    </tr>\n",
       "    <tr>\n",
       "      <th>1</th>\n",
       "      <td>1</td>\n",
       "      <td>2019-05-03 11:07:18</td>\n",
       "      <td>1604.0</td>\n",
       "    </tr>\n",
       "    <tr>\n",
       "      <th>2</th>\n",
       "      <td>1</td>\n",
       "      <td>2019-05-03 11:11:34</td>\n",
       "      <td>1618.0</td>\n",
       "    </tr>\n",
       "    <tr>\n",
       "      <th>3</th>\n",
       "      <td>1</td>\n",
       "      <td>2019-05-03 11:18:04</td>\n",
       "      <td>1601.0</td>\n",
       "    </tr>\n",
       "    <tr>\n",
       "      <th>4</th>\n",
       "      <td>1</td>\n",
       "      <td>2019-05-03 11:25:59</td>\n",
       "      <td>1606.0</td>\n",
       "    </tr>\n",
       "  </tbody>\n",
       "</table>\n",
       "</div>"
      ],
      "text/plain": [
       "   key         Время замера  Температура\n",
       "0    1  2019-05-03 11:02:04       1571.0\n",
       "1    1  2019-05-03 11:07:18       1604.0\n",
       "2    1  2019-05-03 11:11:34       1618.0\n",
       "3    1  2019-05-03 11:18:04       1601.0\n",
       "4    1  2019-05-03 11:25:59       1606.0"
      ]
     },
     "execution_count": 12,
     "metadata": {},
     "output_type": "execute_result"
    }
   ],
   "source": [
    "df_gas_temp = pd.read_csv('/datasets/data_temp_new.csv');df_gas_temp.head(5)"
   ]
  },
  {
   "cell_type": "code",
   "execution_count": 13,
   "metadata": {
    "colab": {
     "base_uri": "https://localhost:8080/"
    },
    "id": "ArbHnBKsNVJi",
    "outputId": "f0079724-f4b2-4ec9-eec3-199a819162b7"
   },
   "outputs": [
    {
     "name": "stdout",
     "output_type": "stream",
     "text": [
      "<class 'pandas.core.frame.DataFrame'>\n",
      "RangeIndex: 18092 entries, 0 to 18091\n",
      "Data columns (total 3 columns):\n",
      " #   Column        Non-Null Count  Dtype  \n",
      "---  ------        --------------  -----  \n",
      " 0   key           18092 non-null  int64  \n",
      " 1   Время замера  18092 non-null  object \n",
      " 2   Температура   14665 non-null  float64\n",
      "dtypes: float64(1), int64(1), object(1)\n",
      "memory usage: 424.2+ KB\n"
     ]
    }
   ],
   "source": [
    "df_gas_temp.info()"
   ]
  },
  {
   "cell_type": "code",
   "execution_count": 14,
   "metadata": {
    "colab": {
     "base_uri": "https://localhost:8080/",
     "height": 487
    },
    "id": "rJri_Cm5NVJi",
    "outputId": "cc18158b-421c-49dc-a045-9a052e5d257a"
   },
   "outputs": [
    {
     "data": {
      "image/png": "[encoded data removed]",
      "text/plain": [
       "<Figure size 720x360 with 1 Axes>"
      ]
     },
     "metadata": {
      "needs_background": "light"
     },
     "output_type": "display_data"
    }
   ],
   "source": [
    "plt.figure(figsize=(10,5))\n",
    "sns.histplot(data=df_gas_temp, x='Температура', bins=70, kde=True)\n",
    "plt.title('Изменения температуры')\n",
    "plt.xlabel('Температура')\n",
    "plt.show();"
   ]
  },
  {
   "cell_type": "code",
   "execution_count": 15,
   "metadata": {
    "colab": {
     "base_uri": "https://localhost:8080/",
     "height": 624
    },
    "id": "xwx8kxrmNVJi",
    "outputId": "04bfeb0c-765e-496d-951a-a7359fbce460"
   },
   "outputs": [
    {
     "data": {
      "image/png": "[encoded data removed]",
      "text/plain": [
       "<Figure size 1080x504 with 1 Axes>"
      ]
     },
     "metadata": {
      "needs_background": "light"
     },
     "output_type": "display_data"
    }
   ],
   "source": [
    "plt.figure(figsize=(15, 7))\n",
    "sns.boxplot(data=df_gas_temp, x='Температура')\n",
    "plt.title('Изменения температуры')\n",
    "plt.xlabel('Температура')\n",
    "plt.show();"
   ]
  },
  {
   "cell_type": "markdown",
   "metadata": {
    "id": "zy9pBusGNVJi"
   },
   "source": [
    "**Промежуточный вывод:**\n",
    "\n",
    "    1.Есть выбросы.\n",
    "    "
   ]
  },
  {
   "cell_type": "markdown",
   "metadata": {
    "id": "9qNzWJtoNVJi"
   },
   "source": [
    "**Данные о проволочных материалах(объем)**"
   ]
  },
  {
   "cell_type": "code",
   "execution_count": 16,
   "metadata": {
    "colab": {
     "base_uri": "https://localhost:8080/",
     "height": 206
    },
    "id": "5BhTBp3wNVJp",
    "outputId": "6cdfc4c0-a143-4652-ea12-3bb773070591"
   },
   "outputs": [
    {
     "data": {
      "text/html": [
       "<div>\n",
       "<style scoped>\n",
       "    .dataframe tbody tr th:only-of-type {\n",
       "        vertical-align: middle;\n",
       "    }\n",
       "\n",
       "    .dataframe tbody tr th {\n",
       "        vertical-align: top;\n",
       "    }\n",
       "\n",
       "    .dataframe thead th {\n",
       "        text-align: right;\n",
       "    }\n",
       "</style>\n",
       "<table border=\"1\" class=\"dataframe\">\n",
       "  <thead>\n",
       "    <tr style=\"text-align: right;\">\n",
       "      <th></th>\n",
       "      <th>key</th>\n",
       "      <th>Wire 1</th>\n",
       "      <th>Wire 2</th>\n",
       "      <th>Wire 3</th>\n",
       "      <th>Wire 4</th>\n",
       "      <th>Wire 5</th>\n",
       "      <th>Wire 6</th>\n",
       "      <th>Wire 7</th>\n",
       "      <th>Wire 8</th>\n",
       "      <th>Wire 9</th>\n",
       "    </tr>\n",
       "  </thead>\n",
       "  <tbody>\n",
       "    <tr>\n",
       "      <th>0</th>\n",
       "      <td>1</td>\n",
       "      <td>60.059998</td>\n",
       "      <td>NaN</td>\n",
       "      <td>NaN</td>\n",
       "      <td>NaN</td>\n",
       "      <td>NaN</td>\n",
       "      <td>NaN</td>\n",
       "      <td>NaN</td>\n",
       "      <td>NaN</td>\n",
       "      <td>NaN</td>\n",
       "    </tr>\n",
       "    <tr>\n",
       "      <th>1</th>\n",
       "      <td>2</td>\n",
       "      <td>96.052315</td>\n",
       "      <td>NaN</td>\n",
       "      <td>NaN</td>\n",
       "      <td>NaN</td>\n",
       "      <td>NaN</td>\n",
       "      <td>NaN</td>\n",
       "      <td>NaN</td>\n",
       "      <td>NaN</td>\n",
       "      <td>NaN</td>\n",
       "    </tr>\n",
       "    <tr>\n",
       "      <th>2</th>\n",
       "      <td>3</td>\n",
       "      <td>91.160157</td>\n",
       "      <td>NaN</td>\n",
       "      <td>NaN</td>\n",
       "      <td>NaN</td>\n",
       "      <td>NaN</td>\n",
       "      <td>NaN</td>\n",
       "      <td>NaN</td>\n",
       "      <td>NaN</td>\n",
       "      <td>NaN</td>\n",
       "    </tr>\n",
       "    <tr>\n",
       "      <th>3</th>\n",
       "      <td>4</td>\n",
       "      <td>89.063515</td>\n",
       "      <td>NaN</td>\n",
       "      <td>NaN</td>\n",
       "      <td>NaN</td>\n",
       "      <td>NaN</td>\n",
       "      <td>NaN</td>\n",
       "      <td>NaN</td>\n",
       "      <td>NaN</td>\n",
       "      <td>NaN</td>\n",
       "    </tr>\n",
       "    <tr>\n",
       "      <th>4</th>\n",
       "      <td>5</td>\n",
       "      <td>89.238236</td>\n",
       "      <td>9.11456</td>\n",
       "      <td>NaN</td>\n",
       "      <td>NaN</td>\n",
       "      <td>NaN</td>\n",
       "      <td>NaN</td>\n",
       "      <td>NaN</td>\n",
       "      <td>NaN</td>\n",
       "      <td>NaN</td>\n",
       "    </tr>\n",
       "  </tbody>\n",
       "</table>\n",
       "</div>"
      ],
      "text/plain": [
       "   key     Wire 1   Wire 2  Wire 3  Wire 4  Wire 5  Wire 6  Wire 7  Wire 8  \\\n",
       "0    1  60.059998      NaN     NaN     NaN     NaN     NaN     NaN     NaN   \n",
       "1    2  96.052315      NaN     NaN     NaN     NaN     NaN     NaN     NaN   \n",
       "2    3  91.160157      NaN     NaN     NaN     NaN     NaN     NaN     NaN   \n",
       "3    4  89.063515      NaN     NaN     NaN     NaN     NaN     NaN     NaN   \n",
       "4    5  89.238236  9.11456     NaN     NaN     NaN     NaN     NaN     NaN   \n",
       "\n",
       "   Wire 9  \n",
       "0     NaN  \n",
       "1     NaN  \n",
       "2     NaN  \n",
       "3     NaN  \n",
       "4     NaN  "
      ]
     },
     "execution_count": 16,
     "metadata": {},
     "output_type": "execute_result"
    }
   ],
   "source": [
    "df_wire = pd.read_csv('/datasets/data_wire_new.csv');df_wire.head(5)"
   ]
  },
  {
   "cell_type": "code",
   "execution_count": 17,
   "metadata": {
    "colab": {
     "base_uri": "https://localhost:8080/"
    },
    "id": "GCUds6eYNVJp",
    "outputId": "bf7e933c-711f-419c-a37a-03f129c0ac10"
   },
   "outputs": [
    {
     "name": "stdout",
     "output_type": "stream",
     "text": [
      "<class 'pandas.core.frame.DataFrame'>\n",
      "RangeIndex: 3081 entries, 0 to 3080\n",
      "Data columns (total 10 columns):\n",
      " #   Column  Non-Null Count  Dtype  \n",
      "---  ------  --------------  -----  \n",
      " 0   key     3081 non-null   int64  \n",
      " 1   Wire 1  3055 non-null   float64\n",
      " 2   Wire 2  1079 non-null   float64\n",
      " 3   Wire 3  63 non-null     float64\n",
      " 4   Wire 4  14 non-null     float64\n",
      " 5   Wire 5  1 non-null      float64\n",
      " 6   Wire 6  73 non-null     float64\n",
      " 7   Wire 7  11 non-null     float64\n",
      " 8   Wire 8  19 non-null     float64\n",
      " 9   Wire 9  29 non-null     float64\n",
      "dtypes: float64(9), int64(1)\n",
      "memory usage: 240.8 KB\n"
     ]
    }
   ],
   "source": [
    "df_wire.info()"
   ]
  },
  {
   "cell_type": "code",
   "execution_count": 18,
   "metadata": {
    "colab": {
     "base_uri": "https://localhost:8080/",
     "height": 455
    },
    "id": "e0dyziS2NVJp",
    "outputId": "44d0211a-e950-41d4-ed7e-0e36584c66ba"
   },
   "outputs": [
    {
     "data": {
      "image/png": "[encoded data removed]",
      "text/plain": [
       "<Figure size 1080x360 with 1 Axes>"
      ]
     },
     "metadata": {
      "needs_background": "light"
     },
     "output_type": "display_data"
    }
   ],
   "source": [
    "plt.figure(figsize=(15,5))\n",
    "sns.boxplot(data=df_wire.drop('key', axis=1))\n",
    "plt.title('Данные о проволочных материалах')\n",
    "plt.xlabel('Материалы')\n",
    "plt.ylabel('Количество')\n",
    "\n",
    "plt.show();"
   ]
  },
  {
   "cell_type": "markdown",
   "metadata": {
    "id": "hLtJnY_PNVJp"
   },
   "source": [
    "**Промежуточный вывод:**\n",
    "\n",
    "    1.Пропуски заменили на 0\n",
    "    2.Наблюдаются выбросы"
   ]
  },
  {
   "cell_type": "markdown",
   "metadata": {
    "id": "G0YzRECcNVJp"
   },
   "source": [
    "**Данные о проволочных материалах(время)**"
   ]
  },
  {
   "cell_type": "code",
   "execution_count": 19,
   "metadata": {
    "colab": {
     "base_uri": "https://localhost:8080/",
     "height": 206
    },
    "id": "AlF0KL3ONVJq",
    "outputId": "c0000614-1a68-4301-e1e2-76724900cbae"
   },
   "outputs": [
    {
     "data": {
      "text/html": [
       "<div>\n",
       "<style scoped>\n",
       "    .dataframe tbody tr th:only-of-type {\n",
       "        vertical-align: middle;\n",
       "    }\n",
       "\n",
       "    .dataframe tbody tr th {\n",
       "        vertical-align: top;\n",
       "    }\n",
       "\n",
       "    .dataframe thead th {\n",
       "        text-align: right;\n",
       "    }\n",
       "</style>\n",
       "<table border=\"1\" class=\"dataframe\">\n",
       "  <thead>\n",
       "    <tr style=\"text-align: right;\">\n",
       "      <th></th>\n",
       "      <th>key</th>\n",
       "      <th>Wire 1</th>\n",
       "      <th>Wire 2</th>\n",
       "      <th>Wire 3</th>\n",
       "      <th>Wire 4</th>\n",
       "      <th>Wire 5</th>\n",
       "      <th>Wire 6</th>\n",
       "      <th>Wire 7</th>\n",
       "      <th>Wire 8</th>\n",
       "      <th>Wire 9</th>\n",
       "    </tr>\n",
       "  </thead>\n",
       "  <tbody>\n",
       "    <tr>\n",
       "      <th>0</th>\n",
       "      <td>1</td>\n",
       "      <td>2019-05-03 11:06:19</td>\n",
       "      <td>NaN</td>\n",
       "      <td>NaN</td>\n",
       "      <td>NaN</td>\n",
       "      <td>NaN</td>\n",
       "      <td>NaN</td>\n",
       "      <td>NaN</td>\n",
       "      <td>NaN</td>\n",
       "      <td>NaN</td>\n",
       "    </tr>\n",
       "    <tr>\n",
       "      <th>1</th>\n",
       "      <td>2</td>\n",
       "      <td>2019-05-03 11:36:50</td>\n",
       "      <td>NaN</td>\n",
       "      <td>NaN</td>\n",
       "      <td>NaN</td>\n",
       "      <td>NaN</td>\n",
       "      <td>NaN</td>\n",
       "      <td>NaN</td>\n",
       "      <td>NaN</td>\n",
       "      <td>NaN</td>\n",
       "    </tr>\n",
       "    <tr>\n",
       "      <th>2</th>\n",
       "      <td>3</td>\n",
       "      <td>2019-05-03 12:11:46</td>\n",
       "      <td>NaN</td>\n",
       "      <td>NaN</td>\n",
       "      <td>NaN</td>\n",
       "      <td>NaN</td>\n",
       "      <td>NaN</td>\n",
       "      <td>NaN</td>\n",
       "      <td>NaN</td>\n",
       "      <td>NaN</td>\n",
       "    </tr>\n",
       "    <tr>\n",
       "      <th>3</th>\n",
       "      <td>4</td>\n",
       "      <td>2019-05-03 12:43:22</td>\n",
       "      <td>NaN</td>\n",
       "      <td>NaN</td>\n",
       "      <td>NaN</td>\n",
       "      <td>NaN</td>\n",
       "      <td>NaN</td>\n",
       "      <td>NaN</td>\n",
       "      <td>NaN</td>\n",
       "      <td>NaN</td>\n",
       "    </tr>\n",
       "    <tr>\n",
       "      <th>4</th>\n",
       "      <td>5</td>\n",
       "      <td>2019-05-03 13:20:44</td>\n",
       "      <td>2019-05-03 13:15:34</td>\n",
       "      <td>NaN</td>\n",
       "      <td>NaN</td>\n",
       "      <td>NaN</td>\n",
       "      <td>NaN</td>\n",
       "      <td>NaN</td>\n",
       "      <td>NaN</td>\n",
       "      <td>NaN</td>\n",
       "    </tr>\n",
       "  </tbody>\n",
       "</table>\n",
       "</div>"
      ],
      "text/plain": [
       "   key               Wire 1               Wire 2 Wire 3 Wire 4 Wire 5 Wire 6  \\\n",
       "0    1  2019-05-03 11:06:19                  NaN    NaN    NaN    NaN    NaN   \n",
       "1    2  2019-05-03 11:36:50                  NaN    NaN    NaN    NaN    NaN   \n",
       "2    3  2019-05-03 12:11:46                  NaN    NaN    NaN    NaN    NaN   \n",
       "3    4  2019-05-03 12:43:22                  NaN    NaN    NaN    NaN    NaN   \n",
       "4    5  2019-05-03 13:20:44  2019-05-03 13:15:34    NaN    NaN    NaN    NaN   \n",
       "\n",
       "  Wire 7 Wire 8 Wire 9  \n",
       "0    NaN    NaN    NaN  \n",
       "1    NaN    NaN    NaN  \n",
       "2    NaN    NaN    NaN  \n",
       "3    NaN    NaN    NaN  \n",
       "4    NaN    NaN    NaN  "
      ]
     },
     "execution_count": 19,
     "metadata": {},
     "output_type": "execute_result"
    }
   ],
   "source": [
    "df_wire_time = pd.read_csv('/datasets/data_wire_time_new.csv');\n",
    "df_wire_time.head()"
   ]
  },
  {
   "cell_type": "code",
   "execution_count": 20,
   "metadata": {
    "colab": {
     "base_uri": "https://localhost:8080/"
    },
    "id": "SwxVXC_ENVJq",
    "outputId": "69f2ca42-37ed-4e28-c5af-a637f927dd3e"
   },
   "outputs": [
    {
     "name": "stdout",
     "output_type": "stream",
     "text": [
      "<class 'pandas.core.frame.DataFrame'>\n",
      "RangeIndex: 3081 entries, 0 to 3080\n",
      "Data columns (total 10 columns):\n",
      " #   Column  Non-Null Count  Dtype \n",
      "---  ------  --------------  ----- \n",
      " 0   key     3081 non-null   int64 \n",
      " 1   Wire 1  3055 non-null   object\n",
      " 2   Wire 2  1079 non-null   object\n",
      " 3   Wire 3  63 non-null     object\n",
      " 4   Wire 4  14 non-null     object\n",
      " 5   Wire 5  1 non-null      object\n",
      " 6   Wire 6  73 non-null     object\n",
      " 7   Wire 7  11 non-null     object\n",
      " 8   Wire 8  19 non-null     object\n",
      " 9   Wire 9  29 non-null     object\n",
      "dtypes: int64(1), object(9)\n",
      "memory usage: 240.8+ KB\n"
     ]
    }
   ],
   "source": [
    "df_wire_time.info()"
   ]
  },
  {
   "cell_type": "markdown",
   "metadata": {
    "id": "6vjf_i04NVJq"
   },
   "source": [
    "## Предобработка данных"
   ]
  },
  {
   "cell_type": "code",
   "execution_count": 21,
   "metadata": {
    "colab": {
     "base_uri": "https://localhost:8080/",
     "height": 424
    },
    "id": "7k2Mw-xDFBHB",
    "outputId": "e38585ae-eae0-40c8-9fd6-09aa57753b8c"
   },
   "outputs": [
    {
     "data": {
      "text/html": [
       "<div>\n",
       "<style scoped>\n",
       "    .dataframe tbody tr th:only-of-type {\n",
       "        vertical-align: middle;\n",
       "    }\n",
       "\n",
       "    .dataframe tbody tr th {\n",
       "        vertical-align: top;\n",
       "    }\n",
       "\n",
       "    .dataframe thead th {\n",
       "        text-align: right;\n",
       "    }\n",
       "</style>\n",
       "<table border=\"1\" class=\"dataframe\">\n",
       "  <thead>\n",
       "    <tr style=\"text-align: right;\">\n",
       "      <th></th>\n",
       "      <th>key</th>\n",
       "      <th>Gas</th>\n",
       "    </tr>\n",
       "  </thead>\n",
       "  <tbody>\n",
       "    <tr>\n",
       "      <th>0</th>\n",
       "      <td>1</td>\n",
       "      <td>29.749986</td>\n",
       "    </tr>\n",
       "    <tr>\n",
       "      <th>1</th>\n",
       "      <td>2</td>\n",
       "      <td>12.555561</td>\n",
       "    </tr>\n",
       "    <tr>\n",
       "      <th>2</th>\n",
       "      <td>3</td>\n",
       "      <td>28.554793</td>\n",
       "    </tr>\n",
       "    <tr>\n",
       "      <th>3</th>\n",
       "      <td>4</td>\n",
       "      <td>18.841219</td>\n",
       "    </tr>\n",
       "    <tr>\n",
       "      <th>4</th>\n",
       "      <td>5</td>\n",
       "      <td>5.413692</td>\n",
       "    </tr>\n",
       "    <tr>\n",
       "      <th>...</th>\n",
       "      <td>...</td>\n",
       "      <td>...</td>\n",
       "    </tr>\n",
       "    <tr>\n",
       "      <th>3234</th>\n",
       "      <td>3237</td>\n",
       "      <td>5.543905</td>\n",
       "    </tr>\n",
       "    <tr>\n",
       "      <th>3235</th>\n",
       "      <td>3238</td>\n",
       "      <td>6.745669</td>\n",
       "    </tr>\n",
       "    <tr>\n",
       "      <th>3236</th>\n",
       "      <td>3239</td>\n",
       "      <td>16.023518</td>\n",
       "    </tr>\n",
       "    <tr>\n",
       "      <th>3237</th>\n",
       "      <td>3240</td>\n",
       "      <td>11.863103</td>\n",
       "    </tr>\n",
       "    <tr>\n",
       "      <th>3238</th>\n",
       "      <td>3241</td>\n",
       "      <td>12.680959</td>\n",
       "    </tr>\n",
       "  </tbody>\n",
       "</table>\n",
       "<p>3239 rows × 2 columns</p>\n",
       "</div>"
      ],
      "text/plain": [
       "       key        Gas\n",
       "0        1  29.749986\n",
       "1        2  12.555561\n",
       "2        3  28.554793\n",
       "3        4  18.841219\n",
       "4        5   5.413692\n",
       "...    ...        ...\n",
       "3234  3237   5.543905\n",
       "3235  3238   6.745669\n",
       "3236  3239  16.023518\n",
       "3237  3240  11.863103\n",
       "3238  3241  12.680959\n",
       "\n",
       "[3239 rows x 2 columns]"
      ]
     },
     "execution_count": 21,
     "metadata": {},
     "output_type": "execute_result"
    }
   ],
   "source": [
    "df_gas.rename(columns={'Газ 1': 'Gas'}, inplace=True)\n",
    "df_gas"
   ]
  },
  {
   "cell_type": "code",
   "execution_count": 22,
   "metadata": {
    "colab": {
     "base_uri": "https://localhost:8080/"
    },
    "id": "cvhntM7cFBHC",
    "outputId": "b59863f9-c24a-474b-a6ce-dc5b04cfb66c",
    "scrolled": true
   },
   "outputs": [
    {
     "name": "stdout",
     "output_type": "stream",
     "text": [
      "<class 'pandas.core.frame.DataFrame'>\n",
      "Int64Index: 18092 entries, 0 to 18091\n",
      "Data columns (total 3 columns):\n",
      " #   Column        Non-Null Count  Dtype  \n",
      "---  ------        --------------  -----  \n",
      " 0   key           18092 non-null  int64  \n",
      " 1   Время замера  18092 non-null  object \n",
      " 2   Температура   14665 non-null  float64\n",
      "dtypes: float64(1), int64(1), object(1)\n",
      "memory usage: 565.4+ KB\n"
     ]
    }
   ],
   "source": [
    "df_gas_temp = df_gas_temp.sort_values(by=['key', 'Время замера'])\n",
    "df_gas_temp.info()"
   ]
  },
  {
   "cell_type": "code",
   "execution_count": 23,
   "metadata": {
    "colab": {
     "base_uri": "https://localhost:8080/",
     "height": 424
    },
    "id": "olly5at7FBHC",
    "outputId": "4f418ea2-097d-4dc3-ca9c-20271066bfd9",
    "scrolled": true
   },
   "outputs": [
    {
     "data": {
      "text/html": [
       "<div>\n",
       "<style scoped>\n",
       "    .dataframe tbody tr th:only-of-type {\n",
       "        vertical-align: middle;\n",
       "    }\n",
       "\n",
       "    .dataframe tbody tr th {\n",
       "        vertical-align: top;\n",
       "    }\n",
       "\n",
       "    .dataframe thead th {\n",
       "        text-align: right;\n",
       "    }\n",
       "</style>\n",
       "<table border=\"1\" class=\"dataframe\">\n",
       "  <thead>\n",
       "    <tr style=\"text-align: right;\">\n",
       "      <th></th>\n",
       "      <th>key</th>\n",
       "      <th>First_temp</th>\n",
       "    </tr>\n",
       "  </thead>\n",
       "  <tbody>\n",
       "    <tr>\n",
       "      <th>0</th>\n",
       "      <td>1</td>\n",
       "      <td>1571.0</td>\n",
       "    </tr>\n",
       "    <tr>\n",
       "      <th>6</th>\n",
       "      <td>2</td>\n",
       "      <td>1581.0</td>\n",
       "    </tr>\n",
       "    <tr>\n",
       "      <th>11</th>\n",
       "      <td>3</td>\n",
       "      <td>1596.0</td>\n",
       "    </tr>\n",
       "    <tr>\n",
       "      <th>17</th>\n",
       "      <td>4</td>\n",
       "      <td>1601.0</td>\n",
       "    </tr>\n",
       "    <tr>\n",
       "      <th>22</th>\n",
       "      <td>5</td>\n",
       "      <td>1576.0</td>\n",
       "    </tr>\n",
       "    <tr>\n",
       "      <th>...</th>\n",
       "      <td>...</td>\n",
       "      <td>...</td>\n",
       "    </tr>\n",
       "    <tr>\n",
       "      <th>18061</th>\n",
       "      <td>3237</td>\n",
       "      <td>1569.0</td>\n",
       "    </tr>\n",
       "    <tr>\n",
       "      <th>18067</th>\n",
       "      <td>3238</td>\n",
       "      <td>1584.0</td>\n",
       "    </tr>\n",
       "    <tr>\n",
       "      <th>18071</th>\n",
       "      <td>3239</td>\n",
       "      <td>1598.0</td>\n",
       "    </tr>\n",
       "    <tr>\n",
       "      <th>18080</th>\n",
       "      <td>3240</td>\n",
       "      <td>1617.0</td>\n",
       "    </tr>\n",
       "    <tr>\n",
       "      <th>18086</th>\n",
       "      <td>3241</td>\n",
       "      <td>1586.0</td>\n",
       "    </tr>\n",
       "  </tbody>\n",
       "</table>\n",
       "<p>3216 rows × 2 columns</p>\n",
       "</div>"
      ],
      "text/plain": [
       "        key  First_temp\n",
       "0         1      1571.0\n",
       "6         2      1581.0\n",
       "11        3      1596.0\n",
       "17        4      1601.0\n",
       "22        5      1576.0\n",
       "...     ...         ...\n",
       "18061  3237      1569.0\n",
       "18067  3238      1584.0\n",
       "18071  3239      1598.0\n",
       "18080  3240      1617.0\n",
       "18086  3241      1586.0\n",
       "\n",
       "[3216 rows x 2 columns]"
      ]
     },
     "execution_count": 23,
     "metadata": {},
     "output_type": "execute_result"
    }
   ],
   "source": [
    "idx = [0]\n",
    "for i in range(1, len(df_gas_temp)):\n",
    "    prev_key = df_gas_temp.loc[i - 1].key\n",
    "    next_key = df_gas_temp.loc[i].key\n",
    "    if (prev_key != next_key):\n",
    "        idx.append(i)\n",
    "df_min_time_temp = df_gas_temp[['key', 'Температура']].loc[idx]\n",
    "df_min_time_temp.rename(columns={'Температура': 'First_temp'}, inplace=True)\n",
    "df_min_time_temp"
   ]
  },
  {
   "cell_type": "code",
   "execution_count": 24,
   "metadata": {
    "colab": {
     "base_uri": "https://localhost:8080/",
     "height": 424
    },
    "id": "zVPF50JOFBHC",
    "outputId": "f9328d8f-0e43-4245-e3c6-9b442ac4eded"
   },
   "outputs": [
    {
     "data": {
      "text/html": [
       "<div>\n",
       "<style scoped>\n",
       "    .dataframe tbody tr th:only-of-type {\n",
       "        vertical-align: middle;\n",
       "    }\n",
       "\n",
       "    .dataframe tbody tr th {\n",
       "        vertical-align: top;\n",
       "    }\n",
       "\n",
       "    .dataframe thead th {\n",
       "        text-align: right;\n",
       "    }\n",
       "</style>\n",
       "<table border=\"1\" class=\"dataframe\">\n",
       "  <thead>\n",
       "    <tr style=\"text-align: right;\">\n",
       "      <th></th>\n",
       "      <th>key</th>\n",
       "      <th>First_temp</th>\n",
       "    </tr>\n",
       "  </thead>\n",
       "  <tbody>\n",
       "    <tr>\n",
       "      <th>0</th>\n",
       "      <td>1</td>\n",
       "      <td>1571.0</td>\n",
       "    </tr>\n",
       "    <tr>\n",
       "      <th>6</th>\n",
       "      <td>2</td>\n",
       "      <td>1581.0</td>\n",
       "    </tr>\n",
       "    <tr>\n",
       "      <th>11</th>\n",
       "      <td>3</td>\n",
       "      <td>1596.0</td>\n",
       "    </tr>\n",
       "    <tr>\n",
       "      <th>17</th>\n",
       "      <td>4</td>\n",
       "      <td>1601.0</td>\n",
       "    </tr>\n",
       "    <tr>\n",
       "      <th>22</th>\n",
       "      <td>5</td>\n",
       "      <td>1576.0</td>\n",
       "    </tr>\n",
       "    <tr>\n",
       "      <th>...</th>\n",
       "      <td>...</td>\n",
       "      <td>...</td>\n",
       "    </tr>\n",
       "    <tr>\n",
       "      <th>18061</th>\n",
       "      <td>3237</td>\n",
       "      <td>1569.0</td>\n",
       "    </tr>\n",
       "    <tr>\n",
       "      <th>18067</th>\n",
       "      <td>3238</td>\n",
       "      <td>1584.0</td>\n",
       "    </tr>\n",
       "    <tr>\n",
       "      <th>18071</th>\n",
       "      <td>3239</td>\n",
       "      <td>1598.0</td>\n",
       "    </tr>\n",
       "    <tr>\n",
       "      <th>18080</th>\n",
       "      <td>3240</td>\n",
       "      <td>1617.0</td>\n",
       "    </tr>\n",
       "    <tr>\n",
       "      <th>18086</th>\n",
       "      <td>3241</td>\n",
       "      <td>1586.0</td>\n",
       "    </tr>\n",
       "  </tbody>\n",
       "</table>\n",
       "<p>3211 rows × 2 columns</p>\n",
       "</div>"
      ],
      "text/plain": [
       "        key  First_temp\n",
       "0         1      1571.0\n",
       "6         2      1581.0\n",
       "11        3      1596.0\n",
       "17        4      1601.0\n",
       "22        5      1576.0\n",
       "...     ...         ...\n",
       "18061  3237      1569.0\n",
       "18067  3238      1584.0\n",
       "18071  3239      1598.0\n",
       "18080  3240      1617.0\n",
       "18086  3241      1586.0\n",
       "\n",
       "[3211 rows x 2 columns]"
      ]
     },
     "execution_count": 24,
     "metadata": {},
     "output_type": "execute_result"
    }
   ],
   "source": [
    "df_min_time_temp = df_min_time_temp[(df_min_time_temp.First_temp >= 1500) & (df_min_time_temp.First_temp.notnull())]\n",
    "df_min_time_temp"
   ]
  },
  {
   "cell_type": "code",
   "execution_count": 25,
   "metadata": {
    "colab": {
     "base_uri": "https://localhost:8080/",
     "height": 424
    },
    "id": "QCepzyyaFBHD",
    "outputId": "ec882cc3-7676-4969-af3a-e6224e2b34f5",
    "scrolled": true
   },
   "outputs": [
    {
     "data": {
      "text/html": [
       "<div>\n",
       "<style scoped>\n",
       "    .dataframe tbody tr th:only-of-type {\n",
       "        vertical-align: middle;\n",
       "    }\n",
       "\n",
       "    .dataframe tbody tr th {\n",
       "        vertical-align: top;\n",
       "    }\n",
       "\n",
       "    .dataframe thead th {\n",
       "        text-align: right;\n",
       "    }\n",
       "</style>\n",
       "<table border=\"1\" class=\"dataframe\">\n",
       "  <thead>\n",
       "    <tr style=\"text-align: right;\">\n",
       "      <th></th>\n",
       "      <th>key</th>\n",
       "      <th>Last_temp</th>\n",
       "    </tr>\n",
       "  </thead>\n",
       "  <tbody>\n",
       "    <tr>\n",
       "      <th>5</th>\n",
       "      <td>1</td>\n",
       "      <td>1613.0</td>\n",
       "    </tr>\n",
       "    <tr>\n",
       "      <th>10</th>\n",
       "      <td>2</td>\n",
       "      <td>1602.0</td>\n",
       "    </tr>\n",
       "    <tr>\n",
       "      <th>16</th>\n",
       "      <td>3</td>\n",
       "      <td>1599.0</td>\n",
       "    </tr>\n",
       "    <tr>\n",
       "      <th>21</th>\n",
       "      <td>4</td>\n",
       "      <td>1625.0</td>\n",
       "    </tr>\n",
       "    <tr>\n",
       "      <th>26</th>\n",
       "      <td>5</td>\n",
       "      <td>1602.0</td>\n",
       "    </tr>\n",
       "    <tr>\n",
       "      <th>...</th>\n",
       "      <td>...</td>\n",
       "      <td>...</td>\n",
       "    </tr>\n",
       "    <tr>\n",
       "      <th>18066</th>\n",
       "      <td>3237</td>\n",
       "      <td>NaN</td>\n",
       "    </tr>\n",
       "    <tr>\n",
       "      <th>18070</th>\n",
       "      <td>3238</td>\n",
       "      <td>NaN</td>\n",
       "    </tr>\n",
       "    <tr>\n",
       "      <th>18079</th>\n",
       "      <td>3239</td>\n",
       "      <td>NaN</td>\n",
       "    </tr>\n",
       "    <tr>\n",
       "      <th>18085</th>\n",
       "      <td>3240</td>\n",
       "      <td>NaN</td>\n",
       "    </tr>\n",
       "    <tr>\n",
       "      <th>18091</th>\n",
       "      <td>3241</td>\n",
       "      <td>NaN</td>\n",
       "    </tr>\n",
       "  </tbody>\n",
       "</table>\n",
       "<p>3216 rows × 2 columns</p>\n",
       "</div>"
      ],
      "text/plain": [
       "        key  Last_temp\n",
       "5         1     1613.0\n",
       "10        2     1602.0\n",
       "16        3     1599.0\n",
       "21        4     1625.0\n",
       "26        5     1602.0\n",
       "...     ...        ...\n",
       "18066  3237        NaN\n",
       "18070  3238        NaN\n",
       "18079  3239        NaN\n",
       "18085  3240        NaN\n",
       "18091  3241        NaN\n",
       "\n",
       "[3216 rows x 2 columns]"
      ]
     },
     "execution_count": 25,
     "metadata": {},
     "output_type": "execute_result"
    }
   ],
   "source": [
    "idx = []\n",
    "for i in range(1, len(df_gas_temp)):\n",
    "    prev_key = df_gas_temp.loc[i - 1].key\n",
    "    next_key =  df_gas_temp.loc[i].key\n",
    "    if (prev_key != next_key):\n",
    "        idx.append(i - 1)\n",
    "idx.append(len(df_gas_temp) - 1)\n",
    "df_max_time_temp = df_gas_temp[['key', 'Температура']].loc[idx]\n",
    "df_max_time_temp.rename(columns={'Температура': 'Last_temp'}, inplace=True)\n",
    "df_max_time_temp"
   ]
  },
  {
   "cell_type": "code",
   "execution_count": 26,
   "metadata": {
    "colab": {
     "base_uri": "https://localhost:8080/",
     "height": 424
    },
    "id": "XL1yIZdCFBHD",
    "outputId": "e2a20214-f93f-4d9d-8c83-1e6b8b1ddf20"
   },
   "outputs": [
    {
     "data": {
      "text/html": [
       "<div>\n",
       "<style scoped>\n",
       "    .dataframe tbody tr th:only-of-type {\n",
       "        vertical-align: middle;\n",
       "    }\n",
       "\n",
       "    .dataframe tbody tr th {\n",
       "        vertical-align: top;\n",
       "    }\n",
       "\n",
       "    .dataframe thead th {\n",
       "        text-align: right;\n",
       "    }\n",
       "</style>\n",
       "<table border=\"1\" class=\"dataframe\">\n",
       "  <thead>\n",
       "    <tr style=\"text-align: right;\">\n",
       "      <th></th>\n",
       "      <th>key</th>\n",
       "      <th>Last_temp</th>\n",
       "    </tr>\n",
       "  </thead>\n",
       "  <tbody>\n",
       "    <tr>\n",
       "      <th>5</th>\n",
       "      <td>1</td>\n",
       "      <td>1613.0</td>\n",
       "    </tr>\n",
       "    <tr>\n",
       "      <th>10</th>\n",
       "      <td>2</td>\n",
       "      <td>1602.0</td>\n",
       "    </tr>\n",
       "    <tr>\n",
       "      <th>16</th>\n",
       "      <td>3</td>\n",
       "      <td>1599.0</td>\n",
       "    </tr>\n",
       "    <tr>\n",
       "      <th>21</th>\n",
       "      <td>4</td>\n",
       "      <td>1625.0</td>\n",
       "    </tr>\n",
       "    <tr>\n",
       "      <th>26</th>\n",
       "      <td>5</td>\n",
       "      <td>1602.0</td>\n",
       "    </tr>\n",
       "    <tr>\n",
       "      <th>...</th>\n",
       "      <td>...</td>\n",
       "      <td>...</td>\n",
       "    </tr>\n",
       "    <tr>\n",
       "      <th>13903</th>\n",
       "      <td>2495</td>\n",
       "      <td>1591.0</td>\n",
       "    </tr>\n",
       "    <tr>\n",
       "      <th>13910</th>\n",
       "      <td>2496</td>\n",
       "      <td>1591.0</td>\n",
       "    </tr>\n",
       "    <tr>\n",
       "      <th>13914</th>\n",
       "      <td>2497</td>\n",
       "      <td>1589.0</td>\n",
       "    </tr>\n",
       "    <tr>\n",
       "      <th>13920</th>\n",
       "      <td>2498</td>\n",
       "      <td>1594.0</td>\n",
       "    </tr>\n",
       "    <tr>\n",
       "      <th>13925</th>\n",
       "      <td>2499</td>\n",
       "      <td>1603.0</td>\n",
       "    </tr>\n",
       "  </tbody>\n",
       "</table>\n",
       "<p>2477 rows × 2 columns</p>\n",
       "</div>"
      ],
      "text/plain": [
       "        key  Last_temp\n",
       "5         1     1613.0\n",
       "10        2     1602.0\n",
       "16        3     1599.0\n",
       "21        4     1625.0\n",
       "26        5     1602.0\n",
       "...     ...        ...\n",
       "13903  2495     1591.0\n",
       "13910  2496     1591.0\n",
       "13914  2497     1589.0\n",
       "13920  2498     1594.0\n",
       "13925  2499     1603.0\n",
       "\n",
       "[2477 rows x 2 columns]"
      ]
     },
     "execution_count": 26,
     "metadata": {},
     "output_type": "execute_result"
    }
   ],
   "source": [
    "df_max_time_temp = df_max_time_temp[(df_max_time_temp.Last_temp >= 1500) & (df_max_time_temp.Last_temp.notnull())]\n",
    "df_max_time_temp"
   ]
  },
  {
   "cell_type": "code",
   "execution_count": 27,
   "metadata": {
    "colab": {
     "base_uri": "https://localhost:8080/"
    },
    "id": "SL9X4wSXgOgm",
    "outputId": "d8af2a30-3d26-40d1-feb1-d0779bea8b60",
    "scrolled": true
   },
   "outputs": [
    {
     "name": "stdout",
     "output_type": "stream",
     "text": [
      "<class 'pandas.core.frame.DataFrame'>\n",
      "RangeIndex: 14876 entries, 0 to 14875\n",
      "Data columns (total 5 columns):\n",
      " #   Column                Non-Null Count  Dtype  \n",
      "---  ------                --------------  -----  \n",
      " 0   key                   14876 non-null  int64  \n",
      " 1   Начало нагрева дугой  14876 non-null  object \n",
      " 2   Конец нагрева дугой   14876 non-null  object \n",
      " 3   Активная мощность     14876 non-null  float64\n",
      " 4   Реактивная мощность   14876 non-null  float64\n",
      "dtypes: float64(2), int64(1), object(2)\n",
      "memory usage: 581.2+ KB\n"
     ]
    }
   ],
   "source": [
    "df_arc.info()"
   ]
  },
  {
   "cell_type": "code",
   "execution_count": 28,
   "metadata": {
    "colab": {
     "base_uri": "https://localhost:8080/",
     "height": 81
    },
    "id": "7cM2BpA9FBHD",
    "outputId": "ea684e39-1256-4e07-84b5-6316318b187f"
   },
   "outputs": [
    {
     "data": {
      "text/html": [
       "<div>\n",
       "<style scoped>\n",
       "    .dataframe tbody tr th:only-of-type {\n",
       "        vertical-align: middle;\n",
       "    }\n",
       "\n",
       "    .dataframe tbody tr th {\n",
       "        vertical-align: top;\n",
       "    }\n",
       "\n",
       "    .dataframe thead th {\n",
       "        text-align: right;\n",
       "    }\n",
       "</style>\n",
       "<table border=\"1\" class=\"dataframe\">\n",
       "  <thead>\n",
       "    <tr style=\"text-align: right;\">\n",
       "      <th></th>\n",
       "      <th>key</th>\n",
       "      <th>Начало нагрева дугой</th>\n",
       "      <th>Конец нагрева дугой</th>\n",
       "      <th>Активная мощность</th>\n",
       "      <th>Реактивная мощность</th>\n",
       "    </tr>\n",
       "  </thead>\n",
       "  <tbody>\n",
       "    <tr>\n",
       "      <th>9780</th>\n",
       "      <td>2116</td>\n",
       "      <td>2019-07-28 02:22:08</td>\n",
       "      <td>2019-07-28 02:23:57</td>\n",
       "      <td>0.705344</td>\n",
       "      <td>-715.479924</td>\n",
       "    </tr>\n",
       "  </tbody>\n",
       "</table>\n",
       "</div>"
      ],
      "text/plain": [
       "       key Начало нагрева дугой  Конец нагрева дугой  Активная мощность  \\\n",
       "9780  2116  2019-07-28 02:22:08  2019-07-28 02:23:57           0.705344   \n",
       "\n",
       "      Реактивная мощность  \n",
       "9780          -715.479924  "
      ]
     },
     "execution_count": 28,
     "metadata": {},
     "output_type": "execute_result"
    }
   ],
   "source": [
    "df_arc[df_arc['Реактивная мощность'] < 0]"
   ]
  },
  {
   "cell_type": "code",
   "execution_count": 29,
   "metadata": {
    "colab": {
     "base_uri": "https://localhost:8080/",
     "height": 424
    },
    "id": "BQIoMdbEYFIK",
    "outputId": "51d82322-f6d0-49e5-efb9-d7b1a9756d19",
    "scrolled": true
   },
   "outputs": [
    {
     "data": {
      "text/html": [
       "<div>\n",
       "<style scoped>\n",
       "    .dataframe tbody tr th:only-of-type {\n",
       "        vertical-align: middle;\n",
       "    }\n",
       "\n",
       "    .dataframe tbody tr th {\n",
       "        vertical-align: top;\n",
       "    }\n",
       "\n",
       "    .dataframe thead th {\n",
       "        text-align: right;\n",
       "    }\n",
       "</style>\n",
       "<table border=\"1\" class=\"dataframe\">\n",
       "  <thead>\n",
       "    <tr style=\"text-align: right;\">\n",
       "      <th></th>\n",
       "      <th>key</th>\n",
       "      <th>Начало нагрева дугой</th>\n",
       "      <th>Конец нагрева дугой</th>\n",
       "      <th>Активная мощность</th>\n",
       "      <th>Реактивная мощность</th>\n",
       "    </tr>\n",
       "  </thead>\n",
       "  <tbody>\n",
       "    <tr>\n",
       "      <th>0</th>\n",
       "      <td>1</td>\n",
       "      <td>2019-05-03 11:02:14</td>\n",
       "      <td>2019-05-03 11:06:02</td>\n",
       "      <td>0.305130</td>\n",
       "      <td>0.211253</td>\n",
       "    </tr>\n",
       "    <tr>\n",
       "      <th>1</th>\n",
       "      <td>1</td>\n",
       "      <td>2019-05-03 11:07:28</td>\n",
       "      <td>2019-05-03 11:10:33</td>\n",
       "      <td>0.765658</td>\n",
       "      <td>0.477438</td>\n",
       "    </tr>\n",
       "    <tr>\n",
       "      <th>2</th>\n",
       "      <td>1</td>\n",
       "      <td>2019-05-03 11:11:44</td>\n",
       "      <td>2019-05-03 11:14:36</td>\n",
       "      <td>0.580313</td>\n",
       "      <td>0.430460</td>\n",
       "    </tr>\n",
       "    <tr>\n",
       "      <th>3</th>\n",
       "      <td>1</td>\n",
       "      <td>2019-05-03 11:18:14</td>\n",
       "      <td>2019-05-03 11:24:19</td>\n",
       "      <td>0.518496</td>\n",
       "      <td>0.379979</td>\n",
       "    </tr>\n",
       "    <tr>\n",
       "      <th>4</th>\n",
       "      <td>1</td>\n",
       "      <td>2019-05-03 11:26:09</td>\n",
       "      <td>2019-05-03 11:28:37</td>\n",
       "      <td>0.867133</td>\n",
       "      <td>0.643691</td>\n",
       "    </tr>\n",
       "    <tr>\n",
       "      <th>...</th>\n",
       "      <td>...</td>\n",
       "      <td>...</td>\n",
       "      <td>...</td>\n",
       "      <td>...</td>\n",
       "      <td>...</td>\n",
       "    </tr>\n",
       "    <tr>\n",
       "      <th>14871</th>\n",
       "      <td>3241</td>\n",
       "      <td>2019-09-06 16:49:05</td>\n",
       "      <td>2019-09-06 16:51:42</td>\n",
       "      <td>0.439735</td>\n",
       "      <td>0.299579</td>\n",
       "    </tr>\n",
       "    <tr>\n",
       "      <th>14872</th>\n",
       "      <td>3241</td>\n",
       "      <td>2019-09-06 16:55:11</td>\n",
       "      <td>2019-09-06 16:58:11</td>\n",
       "      <td>0.646498</td>\n",
       "      <td>0.458240</td>\n",
       "    </tr>\n",
       "    <tr>\n",
       "      <th>14873</th>\n",
       "      <td>3241</td>\n",
       "      <td>2019-09-06 17:06:48</td>\n",
       "      <td>2019-09-06 17:09:52</td>\n",
       "      <td>1.039726</td>\n",
       "      <td>0.769302</td>\n",
       "    </tr>\n",
       "    <tr>\n",
       "      <th>14874</th>\n",
       "      <td>3241</td>\n",
       "      <td>2019-09-06 17:21:58</td>\n",
       "      <td>2019-09-06 17:22:55</td>\n",
       "      <td>0.530267</td>\n",
       "      <td>0.361543</td>\n",
       "    </tr>\n",
       "    <tr>\n",
       "      <th>14875</th>\n",
       "      <td>3241</td>\n",
       "      <td>2019-09-06 17:24:54</td>\n",
       "      <td>2019-09-06 17:26:15</td>\n",
       "      <td>0.389057</td>\n",
       "      <td>0.251347</td>\n",
       "    </tr>\n",
       "  </tbody>\n",
       "</table>\n",
       "<p>14872 rows × 5 columns</p>\n",
       "</div>"
      ],
      "text/plain": [
       "        key Начало нагрева дугой  Конец нагрева дугой  Активная мощность  \\\n",
       "0         1  2019-05-03 11:02:14  2019-05-03 11:06:02           0.305130   \n",
       "1         1  2019-05-03 11:07:28  2019-05-03 11:10:33           0.765658   \n",
       "2         1  2019-05-03 11:11:44  2019-05-03 11:14:36           0.580313   \n",
       "3         1  2019-05-03 11:18:14  2019-05-03 11:24:19           0.518496   \n",
       "4         1  2019-05-03 11:26:09  2019-05-03 11:28:37           0.867133   \n",
       "...     ...                  ...                  ...                ...   \n",
       "14871  3241  2019-09-06 16:49:05  2019-09-06 16:51:42           0.439735   \n",
       "14872  3241  2019-09-06 16:55:11  2019-09-06 16:58:11           0.646498   \n",
       "14873  3241  2019-09-06 17:06:48  2019-09-06 17:09:52           1.039726   \n",
       "14874  3241  2019-09-06 17:21:58  2019-09-06 17:22:55           0.530267   \n",
       "14875  3241  2019-09-06 17:24:54  2019-09-06 17:26:15           0.389057   \n",
       "\n",
       "       Реактивная мощность  \n",
       "0                 0.211253  \n",
       "1                 0.477438  \n",
       "2                 0.430460  \n",
       "3                 0.379979  \n",
       "4                 0.643691  \n",
       "...                    ...  \n",
       "14871             0.299579  \n",
       "14872             0.458240  \n",
       "14873             0.769302  \n",
       "14874             0.361543  \n",
       "14875             0.251347  \n",
       "\n",
       "[14872 rows x 5 columns]"
      ]
     },
     "execution_count": 29,
     "metadata": {},
     "output_type": "execute_result"
    }
   ],
   "source": [
    "del_key = df_arc[df_arc['Реактивная мощность'] < 0]['key'].to_list()\n",
    "df_arc = df_arc[~df_arc['key'].isin(del_key)]\n",
    "df_arc"
   ]
  },
  {
   "cell_type": "code",
   "execution_count": 30,
   "metadata": {
    "colab": {
     "base_uri": "https://localhost:8080/",
     "height": 424
    },
    "id": "ADhPRbZRNVJr",
    "outputId": "e9b74121-e3f9-48a6-ffdf-239fcfc33cdd"
   },
   "outputs": [
    {
     "data": {
      "text/html": [
       "<div>\n",
       "<style scoped>\n",
       "    .dataframe tbody tr th:only-of-type {\n",
       "        vertical-align: middle;\n",
       "    }\n",
       "\n",
       "    .dataframe tbody tr th {\n",
       "        vertical-align: top;\n",
       "    }\n",
       "\n",
       "    .dataframe thead th {\n",
       "        text-align: right;\n",
       "    }\n",
       "</style>\n",
       "<table border=\"1\" class=\"dataframe\">\n",
       "  <thead>\n",
       "    <tr style=\"text-align: right;\">\n",
       "      <th></th>\n",
       "      <th>key</th>\n",
       "      <th>Начало нагрева дугой</th>\n",
       "      <th>Конец нагрева дугой</th>\n",
       "      <th>Активная мощность</th>\n",
       "      <th>Реактивная мощность</th>\n",
       "      <th>Time_diff</th>\n",
       "    </tr>\n",
       "  </thead>\n",
       "  <tbody>\n",
       "    <tr>\n",
       "      <th>0</th>\n",
       "      <td>1</td>\n",
       "      <td>2019-05-03 11:02:14</td>\n",
       "      <td>2019-05-03 11:06:02</td>\n",
       "      <td>0.305130</td>\n",
       "      <td>0.211253</td>\n",
       "      <td>228.0</td>\n",
       "    </tr>\n",
       "    <tr>\n",
       "      <th>1</th>\n",
       "      <td>1</td>\n",
       "      <td>2019-05-03 11:07:28</td>\n",
       "      <td>2019-05-03 11:10:33</td>\n",
       "      <td>0.765658</td>\n",
       "      <td>0.477438</td>\n",
       "      <td>185.0</td>\n",
       "    </tr>\n",
       "    <tr>\n",
       "      <th>2</th>\n",
       "      <td>1</td>\n",
       "      <td>2019-05-03 11:11:44</td>\n",
       "      <td>2019-05-03 11:14:36</td>\n",
       "      <td>0.580313</td>\n",
       "      <td>0.430460</td>\n",
       "      <td>172.0</td>\n",
       "    </tr>\n",
       "    <tr>\n",
       "      <th>3</th>\n",
       "      <td>1</td>\n",
       "      <td>2019-05-03 11:18:14</td>\n",
       "      <td>2019-05-03 11:24:19</td>\n",
       "      <td>0.518496</td>\n",
       "      <td>0.379979</td>\n",
       "      <td>365.0</td>\n",
       "    </tr>\n",
       "    <tr>\n",
       "      <th>4</th>\n",
       "      <td>1</td>\n",
       "      <td>2019-05-03 11:26:09</td>\n",
       "      <td>2019-05-03 11:28:37</td>\n",
       "      <td>0.867133</td>\n",
       "      <td>0.643691</td>\n",
       "      <td>148.0</td>\n",
       "    </tr>\n",
       "    <tr>\n",
       "      <th>...</th>\n",
       "      <td>...</td>\n",
       "      <td>...</td>\n",
       "      <td>...</td>\n",
       "      <td>...</td>\n",
       "      <td>...</td>\n",
       "      <td>...</td>\n",
       "    </tr>\n",
       "    <tr>\n",
       "      <th>14871</th>\n",
       "      <td>3241</td>\n",
       "      <td>2019-09-06 16:49:05</td>\n",
       "      <td>2019-09-06 16:51:42</td>\n",
       "      <td>0.439735</td>\n",
       "      <td>0.299579</td>\n",
       "      <td>157.0</td>\n",
       "    </tr>\n",
       "    <tr>\n",
       "      <th>14872</th>\n",
       "      <td>3241</td>\n",
       "      <td>2019-09-06 16:55:11</td>\n",
       "      <td>2019-09-06 16:58:11</td>\n",
       "      <td>0.646498</td>\n",
       "      <td>0.458240</td>\n",
       "      <td>180.0</td>\n",
       "    </tr>\n",
       "    <tr>\n",
       "      <th>14873</th>\n",
       "      <td>3241</td>\n",
       "      <td>2019-09-06 17:06:48</td>\n",
       "      <td>2019-09-06 17:09:52</td>\n",
       "      <td>1.039726</td>\n",
       "      <td>0.769302</td>\n",
       "      <td>184.0</td>\n",
       "    </tr>\n",
       "    <tr>\n",
       "      <th>14874</th>\n",
       "      <td>3241</td>\n",
       "      <td>2019-09-06 17:21:58</td>\n",
       "      <td>2019-09-06 17:22:55</td>\n",
       "      <td>0.530267</td>\n",
       "      <td>0.361543</td>\n",
       "      <td>57.0</td>\n",
       "    </tr>\n",
       "    <tr>\n",
       "      <th>14875</th>\n",
       "      <td>3241</td>\n",
       "      <td>2019-09-06 17:24:54</td>\n",
       "      <td>2019-09-06 17:26:15</td>\n",
       "      <td>0.389057</td>\n",
       "      <td>0.251347</td>\n",
       "      <td>81.0</td>\n",
       "    </tr>\n",
       "  </tbody>\n",
       "</table>\n",
       "<p>14872 rows × 6 columns</p>\n",
       "</div>"
      ],
      "text/plain": [
       "        key Начало нагрева дугой  Конец нагрева дугой  Активная мощность  \\\n",
       "0         1  2019-05-03 11:02:14  2019-05-03 11:06:02           0.305130   \n",
       "1         1  2019-05-03 11:07:28  2019-05-03 11:10:33           0.765658   \n",
       "2         1  2019-05-03 11:11:44  2019-05-03 11:14:36           0.580313   \n",
       "3         1  2019-05-03 11:18:14  2019-05-03 11:24:19           0.518496   \n",
       "4         1  2019-05-03 11:26:09  2019-05-03 11:28:37           0.867133   \n",
       "...     ...                  ...                  ...                ...   \n",
       "14871  3241  2019-09-06 16:49:05  2019-09-06 16:51:42           0.439735   \n",
       "14872  3241  2019-09-06 16:55:11  2019-09-06 16:58:11           0.646498   \n",
       "14873  3241  2019-09-06 17:06:48  2019-09-06 17:09:52           1.039726   \n",
       "14874  3241  2019-09-06 17:21:58  2019-09-06 17:22:55           0.530267   \n",
       "14875  3241  2019-09-06 17:24:54  2019-09-06 17:26:15           0.389057   \n",
       "\n",
       "       Реактивная мощность  Time_diff  \n",
       "0                 0.211253      228.0  \n",
       "1                 0.477438      185.0  \n",
       "2                 0.430460      172.0  \n",
       "3                 0.379979      365.0  \n",
       "4                 0.643691      148.0  \n",
       "...                    ...        ...  \n",
       "14871             0.299579      157.0  \n",
       "14872             0.458240      180.0  \n",
       "14873             0.769302      184.0  \n",
       "14874             0.361543       57.0  \n",
       "14875             0.251347       81.0  \n",
       "\n",
       "[14872 rows x 6 columns]"
      ]
     },
     "execution_count": 30,
     "metadata": {},
     "output_type": "execute_result"
    }
   ],
   "source": [
    "df_arc['Time_diff'] = (pd.to_datetime(df_arc['Конец нагрева дугой']) - pd.to_datetime(df_arc['Начало нагрева дугой'])).dt.total_seconds()\n",
    "df_arc"
   ]
  },
  {
   "cell_type": "code",
   "execution_count": 31,
   "metadata": {
    "colab": {
     "base_uri": "https://localhost:8080/",
     "height": 455
    },
    "id": "aoxepH3iFBHE",
    "outputId": "ba452a23-bf1e-47b7-ab45-f8eeafad43eb"
   },
   "outputs": [
    {
     "data": {
      "text/html": [
       "<div>\n",
       "<style scoped>\n",
       "    .dataframe tbody tr th:only-of-type {\n",
       "        vertical-align: middle;\n",
       "    }\n",
       "\n",
       "    .dataframe tbody tr th {\n",
       "        vertical-align: top;\n",
       "    }\n",
       "\n",
       "    .dataframe thead th {\n",
       "        text-align: right;\n",
       "    }\n",
       "</style>\n",
       "<table border=\"1\" class=\"dataframe\">\n",
       "  <thead>\n",
       "    <tr style=\"text-align: right;\">\n",
       "      <th></th>\n",
       "      <th>Active_power</th>\n",
       "      <th>Reactive_power</th>\n",
       "      <th>Time_diff</th>\n",
       "    </tr>\n",
       "    <tr>\n",
       "      <th>key</th>\n",
       "      <th></th>\n",
       "      <th></th>\n",
       "      <th></th>\n",
       "    </tr>\n",
       "  </thead>\n",
       "  <tbody>\n",
       "    <tr>\n",
       "      <th>1</th>\n",
       "      <td>0.607346</td>\n",
       "      <td>0.428564</td>\n",
       "      <td>219.60</td>\n",
       "    </tr>\n",
       "    <tr>\n",
       "      <th>2</th>\n",
       "      <td>0.534852</td>\n",
       "      <td>0.363339</td>\n",
       "      <td>202.75</td>\n",
       "    </tr>\n",
       "    <tr>\n",
       "      <th>3</th>\n",
       "      <td>0.812728</td>\n",
       "      <td>0.587491</td>\n",
       "      <td>131.00</td>\n",
       "    </tr>\n",
       "    <tr>\n",
       "      <th>4</th>\n",
       "      <td>0.676622</td>\n",
       "      <td>0.514248</td>\n",
       "      <td>185.25</td>\n",
       "    </tr>\n",
       "    <tr>\n",
       "      <th>5</th>\n",
       "      <td>0.563238</td>\n",
       "      <td>0.421998</td>\n",
       "      <td>217.25</td>\n",
       "    </tr>\n",
       "    <tr>\n",
       "      <th>...</th>\n",
       "      <td>...</td>\n",
       "      <td>...</td>\n",
       "      <td>...</td>\n",
       "    </tr>\n",
       "    <tr>\n",
       "      <th>3237</th>\n",
       "      <td>0.508374</td>\n",
       "      <td>0.405083</td>\n",
       "      <td>181.80</td>\n",
       "    </tr>\n",
       "    <tr>\n",
       "      <th>3238</th>\n",
       "      <td>0.458274</td>\n",
       "      <td>0.346034</td>\n",
       "      <td>182.00</td>\n",
       "    </tr>\n",
       "    <tr>\n",
       "      <th>3239</th>\n",
       "      <td>0.606001</td>\n",
       "      <td>0.442693</td>\n",
       "      <td>152.00</td>\n",
       "    </tr>\n",
       "    <tr>\n",
       "      <th>3240</th>\n",
       "      <td>0.663536</td>\n",
       "      <td>0.474710</td>\n",
       "      <td>167.80</td>\n",
       "    </tr>\n",
       "    <tr>\n",
       "      <th>3241</th>\n",
       "      <td>0.609057</td>\n",
       "      <td>0.428002</td>\n",
       "      <td>131.80</td>\n",
       "    </tr>\n",
       "  </tbody>\n",
       "</table>\n",
       "<p>3213 rows × 3 columns</p>\n",
       "</div>"
      ],
      "text/plain": [
       "      Active_power  Reactive_power  Time_diff\n",
       "key                                          \n",
       "1         0.607346        0.428564     219.60\n",
       "2         0.534852        0.363339     202.75\n",
       "3         0.812728        0.587491     131.00\n",
       "4         0.676622        0.514248     185.25\n",
       "5         0.563238        0.421998     217.25\n",
       "...            ...             ...        ...\n",
       "3237      0.508374        0.405083     181.80\n",
       "3238      0.458274        0.346034     182.00\n",
       "3239      0.606001        0.442693     152.00\n",
       "3240      0.663536        0.474710     167.80\n",
       "3241      0.609057        0.428002     131.80\n",
       "\n",
       "[3213 rows x 3 columns]"
      ]
     },
     "execution_count": 31,
     "metadata": {},
     "output_type": "execute_result"
    }
   ],
   "source": [
    "df_arc_mean = df_arc.groupby('key', as_index=False).mean().set_index('key')\n",
    "df_arc_mean.rename(columns={'Активная мощность': 'Active_power', 'Реактивная мощность': 'Reactive_power'}, inplace=True)\n",
    "df_arc_mean"
   ]
  },
  {
   "cell_type": "markdown",
   "metadata": {
    "id": "tpgywFgUNVJr"
   },
   "source": [
    "### Объединяем данные таблиц в одну общую с которой будем уже работать в модели"
   ]
  },
  {
   "cell_type": "code",
   "execution_count": 32,
   "metadata": {
    "colab": {
     "base_uri": "https://localhost:8080/",
     "height": 536
    },
    "id": "jG4IiDqGFBHE",
    "outputId": "e7c6c0f6-371b-499e-87d6-ada2344a7c33",
    "scrolled": true
   },
   "outputs": [
    {
     "data": {
      "text/html": [
       "<div>\n",
       "<style scoped>\n",
       "    .dataframe tbody tr th:only-of-type {\n",
       "        vertical-align: middle;\n",
       "    }\n",
       "\n",
       "    .dataframe tbody tr th {\n",
       "        vertical-align: top;\n",
       "    }\n",
       "\n",
       "    .dataframe thead th {\n",
       "        text-align: right;\n",
       "    }\n",
       "</style>\n",
       "<table border=\"1\" class=\"dataframe\">\n",
       "  <thead>\n",
       "    <tr style=\"text-align: right;\">\n",
       "      <th></th>\n",
       "      <th>First_temp</th>\n",
       "      <th>Last_temp</th>\n",
       "      <th>Gas</th>\n",
       "      <th>Active_power</th>\n",
       "      <th>Reactive_power</th>\n",
       "      <th>Time_diff</th>\n",
       "      <th>Wire 1</th>\n",
       "      <th>Wire 2</th>\n",
       "      <th>Wire 3</th>\n",
       "      <th>Wire 4</th>\n",
       "      <th>...</th>\n",
       "      <th>Bulk 6</th>\n",
       "      <th>Bulk 7</th>\n",
       "      <th>Bulk 8</th>\n",
       "      <th>Bulk 9</th>\n",
       "      <th>Bulk 10</th>\n",
       "      <th>Bulk 11</th>\n",
       "      <th>Bulk 12</th>\n",
       "      <th>Bulk 13</th>\n",
       "      <th>Bulk 14</th>\n",
       "      <th>Bulk 15</th>\n",
       "    </tr>\n",
       "    <tr>\n",
       "      <th>key</th>\n",
       "      <th></th>\n",
       "      <th></th>\n",
       "      <th></th>\n",
       "      <th></th>\n",
       "      <th></th>\n",
       "      <th></th>\n",
       "      <th></th>\n",
       "      <th></th>\n",
       "      <th></th>\n",
       "      <th></th>\n",
       "      <th></th>\n",
       "      <th></th>\n",
       "      <th></th>\n",
       "      <th></th>\n",
       "      <th></th>\n",
       "      <th></th>\n",
       "      <th></th>\n",
       "      <th></th>\n",
       "      <th></th>\n",
       "      <th></th>\n",
       "      <th></th>\n",
       "    </tr>\n",
       "  </thead>\n",
       "  <tbody>\n",
       "    <tr>\n",
       "      <th>1</th>\n",
       "      <td>1571.0</td>\n",
       "      <td>1613.0</td>\n",
       "      <td>29.749986</td>\n",
       "      <td>0.607346</td>\n",
       "      <td>0.428564</td>\n",
       "      <td>219.600000</td>\n",
       "      <td>60.059998</td>\n",
       "      <td>NaN</td>\n",
       "      <td>NaN</td>\n",
       "      <td>NaN</td>\n",
       "      <td>...</td>\n",
       "      <td>NaN</td>\n",
       "      <td>NaN</td>\n",
       "      <td>NaN</td>\n",
       "      <td>NaN</td>\n",
       "      <td>NaN</td>\n",
       "      <td>NaN</td>\n",
       "      <td>206.0</td>\n",
       "      <td>NaN</td>\n",
       "      <td>150.0</td>\n",
       "      <td>154.0</td>\n",
       "    </tr>\n",
       "    <tr>\n",
       "      <th>2</th>\n",
       "      <td>1581.0</td>\n",
       "      <td>1602.0</td>\n",
       "      <td>12.555561</td>\n",
       "      <td>0.534852</td>\n",
       "      <td>0.363339</td>\n",
       "      <td>202.750000</td>\n",
       "      <td>96.052315</td>\n",
       "      <td>NaN</td>\n",
       "      <td>NaN</td>\n",
       "      <td>NaN</td>\n",
       "      <td>...</td>\n",
       "      <td>NaN</td>\n",
       "      <td>NaN</td>\n",
       "      <td>NaN</td>\n",
       "      <td>NaN</td>\n",
       "      <td>NaN</td>\n",
       "      <td>NaN</td>\n",
       "      <td>206.0</td>\n",
       "      <td>NaN</td>\n",
       "      <td>149.0</td>\n",
       "      <td>154.0</td>\n",
       "    </tr>\n",
       "    <tr>\n",
       "      <th>3</th>\n",
       "      <td>1596.0</td>\n",
       "      <td>1599.0</td>\n",
       "      <td>28.554793</td>\n",
       "      <td>0.812728</td>\n",
       "      <td>0.587491</td>\n",
       "      <td>131.000000</td>\n",
       "      <td>91.160157</td>\n",
       "      <td>NaN</td>\n",
       "      <td>NaN</td>\n",
       "      <td>NaN</td>\n",
       "      <td>...</td>\n",
       "      <td>NaN</td>\n",
       "      <td>NaN</td>\n",
       "      <td>NaN</td>\n",
       "      <td>NaN</td>\n",
       "      <td>NaN</td>\n",
       "      <td>NaN</td>\n",
       "      <td>205.0</td>\n",
       "      <td>NaN</td>\n",
       "      <td>152.0</td>\n",
       "      <td>153.0</td>\n",
       "    </tr>\n",
       "    <tr>\n",
       "      <th>4</th>\n",
       "      <td>1601.0</td>\n",
       "      <td>1625.0</td>\n",
       "      <td>18.841219</td>\n",
       "      <td>0.676622</td>\n",
       "      <td>0.514248</td>\n",
       "      <td>185.250000</td>\n",
       "      <td>89.063515</td>\n",
       "      <td>NaN</td>\n",
       "      <td>NaN</td>\n",
       "      <td>NaN</td>\n",
       "      <td>...</td>\n",
       "      <td>NaN</td>\n",
       "      <td>NaN</td>\n",
       "      <td>NaN</td>\n",
       "      <td>NaN</td>\n",
       "      <td>NaN</td>\n",
       "      <td>NaN</td>\n",
       "      <td>207.0</td>\n",
       "      <td>NaN</td>\n",
       "      <td>153.0</td>\n",
       "      <td>154.0</td>\n",
       "    </tr>\n",
       "    <tr>\n",
       "      <th>5</th>\n",
       "      <td>1576.0</td>\n",
       "      <td>1602.0</td>\n",
       "      <td>5.413692</td>\n",
       "      <td>0.563238</td>\n",
       "      <td>0.421998</td>\n",
       "      <td>217.250000</td>\n",
       "      <td>89.238236</td>\n",
       "      <td>9.11456</td>\n",
       "      <td>NaN</td>\n",
       "      <td>NaN</td>\n",
       "      <td>...</td>\n",
       "      <td>NaN</td>\n",
       "      <td>NaN</td>\n",
       "      <td>NaN</td>\n",
       "      <td>NaN</td>\n",
       "      <td>NaN</td>\n",
       "      <td>NaN</td>\n",
       "      <td>203.0</td>\n",
       "      <td>NaN</td>\n",
       "      <td>151.0</td>\n",
       "      <td>152.0</td>\n",
       "    </tr>\n",
       "    <tr>\n",
       "      <th>...</th>\n",
       "      <td>...</td>\n",
       "      <td>...</td>\n",
       "      <td>...</td>\n",
       "      <td>...</td>\n",
       "      <td>...</td>\n",
       "      <td>...</td>\n",
       "      <td>...</td>\n",
       "      <td>...</td>\n",
       "      <td>...</td>\n",
       "      <td>...</td>\n",
       "      <td>...</td>\n",
       "      <td>...</td>\n",
       "      <td>...</td>\n",
       "      <td>...</td>\n",
       "      <td>...</td>\n",
       "      <td>...</td>\n",
       "      <td>...</td>\n",
       "      <td>...</td>\n",
       "      <td>...</td>\n",
       "      <td>...</td>\n",
       "      <td>...</td>\n",
       "    </tr>\n",
       "    <tr>\n",
       "      <th>2495</th>\n",
       "      <td>1570.0</td>\n",
       "      <td>1591.0</td>\n",
       "      <td>7.125735</td>\n",
       "      <td>0.792033</td>\n",
       "      <td>0.552734</td>\n",
       "      <td>180.750000</td>\n",
       "      <td>89.150879</td>\n",
       "      <td>NaN</td>\n",
       "      <td>NaN</td>\n",
       "      <td>NaN</td>\n",
       "      <td>...</td>\n",
       "      <td>NaN</td>\n",
       "      <td>NaN</td>\n",
       "      <td>NaN</td>\n",
       "      <td>NaN</td>\n",
       "      <td>90.0</td>\n",
       "      <td>NaN</td>\n",
       "      <td>256.0</td>\n",
       "      <td>NaN</td>\n",
       "      <td>129.0</td>\n",
       "      <td>223.0</td>\n",
       "    </tr>\n",
       "    <tr>\n",
       "      <th>2496</th>\n",
       "      <td>1554.0</td>\n",
       "      <td>1591.0</td>\n",
       "      <td>9.412616</td>\n",
       "      <td>0.695820</td>\n",
       "      <td>0.478672</td>\n",
       "      <td>156.666667</td>\n",
       "      <td>114.179527</td>\n",
       "      <td>NaN</td>\n",
       "      <td>NaN</td>\n",
       "      <td>NaN</td>\n",
       "      <td>...</td>\n",
       "      <td>NaN</td>\n",
       "      <td>NaN</td>\n",
       "      <td>NaN</td>\n",
       "      <td>NaN</td>\n",
       "      <td>122.0</td>\n",
       "      <td>NaN</td>\n",
       "      <td>256.0</td>\n",
       "      <td>NaN</td>\n",
       "      <td>129.0</td>\n",
       "      <td>226.0</td>\n",
       "    </tr>\n",
       "    <tr>\n",
       "      <th>2497</th>\n",
       "      <td>1571.0</td>\n",
       "      <td>1589.0</td>\n",
       "      <td>6.271699</td>\n",
       "      <td>1.201746</td>\n",
       "      <td>0.817364</td>\n",
       "      <td>189.666667</td>\n",
       "      <td>94.086723</td>\n",
       "      <td>9.04800</td>\n",
       "      <td>NaN</td>\n",
       "      <td>NaN</td>\n",
       "      <td>...</td>\n",
       "      <td>NaN</td>\n",
       "      <td>NaN</td>\n",
       "      <td>NaN</td>\n",
       "      <td>NaN</td>\n",
       "      <td>NaN</td>\n",
       "      <td>NaN</td>\n",
       "      <td>230.0</td>\n",
       "      <td>NaN</td>\n",
       "      <td>124.0</td>\n",
       "      <td>226.0</td>\n",
       "    </tr>\n",
       "    <tr>\n",
       "      <th>2498</th>\n",
       "      <td>1591.0</td>\n",
       "      <td>1594.0</td>\n",
       "      <td>14.953657</td>\n",
       "      <td>0.640462</td>\n",
       "      <td>0.447964</td>\n",
       "      <td>150.000000</td>\n",
       "      <td>118.110717</td>\n",
       "      <td>NaN</td>\n",
       "      <td>NaN</td>\n",
       "      <td>NaN</td>\n",
       "      <td>...</td>\n",
       "      <td>NaN</td>\n",
       "      <td>NaN</td>\n",
       "      <td>NaN</td>\n",
       "      <td>NaN</td>\n",
       "      <td>101.0</td>\n",
       "      <td>NaN</td>\n",
       "      <td>206.0</td>\n",
       "      <td>NaN</td>\n",
       "      <td>129.0</td>\n",
       "      <td>207.0</td>\n",
       "    </tr>\n",
       "    <tr>\n",
       "      <th>2499</th>\n",
       "      <td>1569.0</td>\n",
       "      <td>1603.0</td>\n",
       "      <td>11.336151</td>\n",
       "      <td>0.434271</td>\n",
       "      <td>0.324209</td>\n",
       "      <td>220.750000</td>\n",
       "      <td>110.160958</td>\n",
       "      <td>50.00528</td>\n",
       "      <td>NaN</td>\n",
       "      <td>NaN</td>\n",
       "      <td>...</td>\n",
       "      <td>NaN</td>\n",
       "      <td>NaN</td>\n",
       "      <td>NaN</td>\n",
       "      <td>NaN</td>\n",
       "      <td>NaN</td>\n",
       "      <td>NaN</td>\n",
       "      <td>233.0</td>\n",
       "      <td>NaN</td>\n",
       "      <td>126.0</td>\n",
       "      <td>227.0</td>\n",
       "    </tr>\n",
       "  </tbody>\n",
       "</table>\n",
       "<p>2288 rows × 30 columns</p>\n",
       "</div>"
      ],
      "text/plain": [
       "      First_temp  Last_temp        Gas  Active_power  Reactive_power  \\\n",
       "key                                                                    \n",
       "1         1571.0     1613.0  29.749986      0.607346        0.428564   \n",
       "2         1581.0     1602.0  12.555561      0.534852        0.363339   \n",
       "3         1596.0     1599.0  28.554793      0.812728        0.587491   \n",
       "4         1601.0     1625.0  18.841219      0.676622        0.514248   \n",
       "5         1576.0     1602.0   5.413692      0.563238        0.421998   \n",
       "...          ...        ...        ...           ...             ...   \n",
       "2495      1570.0     1591.0   7.125735      0.792033        0.552734   \n",
       "2496      1554.0     1591.0   9.412616      0.695820        0.478672   \n",
       "2497      1571.0     1589.0   6.271699      1.201746        0.817364   \n",
       "2498      1591.0     1594.0  14.953657      0.640462        0.447964   \n",
       "2499      1569.0     1603.0  11.336151      0.434271        0.324209   \n",
       "\n",
       "       Time_diff      Wire 1    Wire 2  Wire 3  Wire 4  ...  Bulk 6  Bulk 7  \\\n",
       "key                                                     ...                   \n",
       "1     219.600000   60.059998       NaN     NaN     NaN  ...     NaN     NaN   \n",
       "2     202.750000   96.052315       NaN     NaN     NaN  ...     NaN     NaN   \n",
       "3     131.000000   91.160157       NaN     NaN     NaN  ...     NaN     NaN   \n",
       "4     185.250000   89.063515       NaN     NaN     NaN  ...     NaN     NaN   \n",
       "5     217.250000   89.238236   9.11456     NaN     NaN  ...     NaN     NaN   \n",
       "...          ...         ...       ...     ...     ...  ...     ...     ...   \n",
       "2495  180.750000   89.150879       NaN     NaN     NaN  ...     NaN     NaN   \n",
       "2496  156.666667  114.179527       NaN     NaN     NaN  ...     NaN     NaN   \n",
       "2497  189.666667   94.086723   9.04800     NaN     NaN  ...     NaN     NaN   \n",
       "2498  150.000000  118.110717       NaN     NaN     NaN  ...     NaN     NaN   \n",
       "2499  220.750000  110.160958  50.00528     NaN     NaN  ...     NaN     NaN   \n",
       "\n",
       "      Bulk 8  Bulk 9  Bulk 10  Bulk 11  Bulk 12  Bulk 13  Bulk 14  Bulk 15  \n",
       "key                                                                         \n",
       "1        NaN     NaN      NaN      NaN    206.0      NaN    150.0    154.0  \n",
       "2        NaN     NaN      NaN      NaN    206.0      NaN    149.0    154.0  \n",
       "3        NaN     NaN      NaN      NaN    205.0      NaN    152.0    153.0  \n",
       "4        NaN     NaN      NaN      NaN    207.0      NaN    153.0    154.0  \n",
       "5        NaN     NaN      NaN      NaN    203.0      NaN    151.0    152.0  \n",
       "...      ...     ...      ...      ...      ...      ...      ...      ...  \n",
       "2495     NaN     NaN     90.0      NaN    256.0      NaN    129.0    223.0  \n",
       "2496     NaN     NaN    122.0      NaN    256.0      NaN    129.0    226.0  \n",
       "2497     NaN     NaN      NaN      NaN    230.0      NaN    124.0    226.0  \n",
       "2498     NaN     NaN    101.0      NaN    206.0      NaN    129.0    207.0  \n",
       "2499     NaN     NaN      NaN      NaN    233.0      NaN    126.0    227.0  \n",
       "\n",
       "[2288 rows x 30 columns]"
      ]
     },
     "execution_count": 32,
     "metadata": {},
     "output_type": "execute_result"
    }
   ],
   "source": [
    "data = df_min_time_temp.merge(df_max_time_temp, on='key', how='inner')\n",
    "data = data[data.First_temp != data.Last_temp]\n",
    "data = data.merge(df_gas, on='key', how='inner')\n",
    "data = data.merge(df_arc_mean, on='key', how='inner')\n",
    "data = data.merge(df_wire, on='key', how='inner')\n",
    "data = data.merge(df_bulk, on='key', how='inner')\n",
    "data = data.set_index('key')\n",
    "data"
   ]
  },
  {
   "cell_type": "code",
   "execution_count": 33,
   "metadata": {
    "colab": {
     "base_uri": "https://localhost:8080/",
     "height": 536
    },
    "id": "LDbnIlpjNVJs",
    "outputId": "14621f0a-9850-44cc-aaa8-7d0e23db1e23"
   },
   "outputs": [
    {
     "data": {
      "text/html": [
       "<div>\n",
       "<style scoped>\n",
       "    .dataframe tbody tr th:only-of-type {\n",
       "        vertical-align: middle;\n",
       "    }\n",
       "\n",
       "    .dataframe tbody tr th {\n",
       "        vertical-align: top;\n",
       "    }\n",
       "\n",
       "    .dataframe thead th {\n",
       "        text-align: right;\n",
       "    }\n",
       "</style>\n",
       "<table border=\"1\" class=\"dataframe\">\n",
       "  <thead>\n",
       "    <tr style=\"text-align: right;\">\n",
       "      <th></th>\n",
       "      <th>First_temp</th>\n",
       "      <th>Last_temp</th>\n",
       "      <th>Gas</th>\n",
       "      <th>Active_power</th>\n",
       "      <th>Reactive_power</th>\n",
       "      <th>Time_diff</th>\n",
       "      <th>Wire 1</th>\n",
       "      <th>Wire 2</th>\n",
       "      <th>Wire 3</th>\n",
       "      <th>Wire 4</th>\n",
       "      <th>...</th>\n",
       "      <th>Bulk 7</th>\n",
       "      <th>Bulk 8</th>\n",
       "      <th>Bulk 9</th>\n",
       "      <th>Bulk 10</th>\n",
       "      <th>Bulk 11</th>\n",
       "      <th>Bulk 12</th>\n",
       "      <th>Bulk 13</th>\n",
       "      <th>Bulk 14</th>\n",
       "      <th>Bulk 15</th>\n",
       "      <th>Full_power</th>\n",
       "    </tr>\n",
       "    <tr>\n",
       "      <th>key</th>\n",
       "      <th></th>\n",
       "      <th></th>\n",
       "      <th></th>\n",
       "      <th></th>\n",
       "      <th></th>\n",
       "      <th></th>\n",
       "      <th></th>\n",
       "      <th></th>\n",
       "      <th></th>\n",
       "      <th></th>\n",
       "      <th></th>\n",
       "      <th></th>\n",
       "      <th></th>\n",
       "      <th></th>\n",
       "      <th></th>\n",
       "      <th></th>\n",
       "      <th></th>\n",
       "      <th></th>\n",
       "      <th></th>\n",
       "      <th></th>\n",
       "      <th></th>\n",
       "    </tr>\n",
       "  </thead>\n",
       "  <tbody>\n",
       "    <tr>\n",
       "      <th>1</th>\n",
       "      <td>1571.0</td>\n",
       "      <td>1613.0</td>\n",
       "      <td>29.749986</td>\n",
       "      <td>0.607346</td>\n",
       "      <td>0.428564</td>\n",
       "      <td>219.600000</td>\n",
       "      <td>60.059998</td>\n",
       "      <td>NaN</td>\n",
       "      <td>NaN</td>\n",
       "      <td>NaN</td>\n",
       "      <td>...</td>\n",
       "      <td>NaN</td>\n",
       "      <td>NaN</td>\n",
       "      <td>NaN</td>\n",
       "      <td>NaN</td>\n",
       "      <td>NaN</td>\n",
       "      <td>206.0</td>\n",
       "      <td>NaN</td>\n",
       "      <td>150.0</td>\n",
       "      <td>154.0</td>\n",
       "      <td>0.743328</td>\n",
       "    </tr>\n",
       "    <tr>\n",
       "      <th>2</th>\n",
       "      <td>1581.0</td>\n",
       "      <td>1602.0</td>\n",
       "      <td>12.555561</td>\n",
       "      <td>0.534852</td>\n",
       "      <td>0.363339</td>\n",
       "      <td>202.750000</td>\n",
       "      <td>96.052315</td>\n",
       "      <td>NaN</td>\n",
       "      <td>NaN</td>\n",
       "      <td>NaN</td>\n",
       "      <td>...</td>\n",
       "      <td>NaN</td>\n",
       "      <td>NaN</td>\n",
       "      <td>NaN</td>\n",
       "      <td>NaN</td>\n",
       "      <td>NaN</td>\n",
       "      <td>206.0</td>\n",
       "      <td>NaN</td>\n",
       "      <td>149.0</td>\n",
       "      <td>154.0</td>\n",
       "      <td>0.646593</td>\n",
       "    </tr>\n",
       "    <tr>\n",
       "      <th>3</th>\n",
       "      <td>1596.0</td>\n",
       "      <td>1599.0</td>\n",
       "      <td>28.554793</td>\n",
       "      <td>0.812728</td>\n",
       "      <td>0.587491</td>\n",
       "      <td>131.000000</td>\n",
       "      <td>91.160157</td>\n",
       "      <td>NaN</td>\n",
       "      <td>NaN</td>\n",
       "      <td>NaN</td>\n",
       "      <td>...</td>\n",
       "      <td>NaN</td>\n",
       "      <td>NaN</td>\n",
       "      <td>NaN</td>\n",
       "      <td>NaN</td>\n",
       "      <td>NaN</td>\n",
       "      <td>205.0</td>\n",
       "      <td>NaN</td>\n",
       "      <td>152.0</td>\n",
       "      <td>153.0</td>\n",
       "      <td>1.002833</td>\n",
       "    </tr>\n",
       "    <tr>\n",
       "      <th>4</th>\n",
       "      <td>1601.0</td>\n",
       "      <td>1625.0</td>\n",
       "      <td>18.841219</td>\n",
       "      <td>0.676622</td>\n",
       "      <td>0.514248</td>\n",
       "      <td>185.250000</td>\n",
       "      <td>89.063515</td>\n",
       "      <td>NaN</td>\n",
       "      <td>NaN</td>\n",
       "      <td>NaN</td>\n",
       "      <td>...</td>\n",
       "      <td>NaN</td>\n",
       "      <td>NaN</td>\n",
       "      <td>NaN</td>\n",
       "      <td>NaN</td>\n",
       "      <td>NaN</td>\n",
       "      <td>207.0</td>\n",
       "      <td>NaN</td>\n",
       "      <td>153.0</td>\n",
       "      <td>154.0</td>\n",
       "      <td>0.849864</td>\n",
       "    </tr>\n",
       "    <tr>\n",
       "      <th>5</th>\n",
       "      <td>1576.0</td>\n",
       "      <td>1602.0</td>\n",
       "      <td>5.413692</td>\n",
       "      <td>0.563238</td>\n",
       "      <td>0.421998</td>\n",
       "      <td>217.250000</td>\n",
       "      <td>89.238236</td>\n",
       "      <td>9.11456</td>\n",
       "      <td>NaN</td>\n",
       "      <td>NaN</td>\n",
       "      <td>...</td>\n",
       "      <td>NaN</td>\n",
       "      <td>NaN</td>\n",
       "      <td>NaN</td>\n",
       "      <td>NaN</td>\n",
       "      <td>NaN</td>\n",
       "      <td>203.0</td>\n",
       "      <td>NaN</td>\n",
       "      <td>151.0</td>\n",
       "      <td>152.0</td>\n",
       "      <td>0.703789</td>\n",
       "    </tr>\n",
       "    <tr>\n",
       "      <th>...</th>\n",
       "      <td>...</td>\n",
       "      <td>...</td>\n",
       "      <td>...</td>\n",
       "      <td>...</td>\n",
       "      <td>...</td>\n",
       "      <td>...</td>\n",
       "      <td>...</td>\n",
       "      <td>...</td>\n",
       "      <td>...</td>\n",
       "      <td>...</td>\n",
       "      <td>...</td>\n",
       "      <td>...</td>\n",
       "      <td>...</td>\n",
       "      <td>...</td>\n",
       "      <td>...</td>\n",
       "      <td>...</td>\n",
       "      <td>...</td>\n",
       "      <td>...</td>\n",
       "      <td>...</td>\n",
       "      <td>...</td>\n",
       "      <td>...</td>\n",
       "    </tr>\n",
       "    <tr>\n",
       "      <th>2495</th>\n",
       "      <td>1570.0</td>\n",
       "      <td>1591.0</td>\n",
       "      <td>7.125735</td>\n",
       "      <td>0.792033</td>\n",
       "      <td>0.552734</td>\n",
       "      <td>180.750000</td>\n",
       "      <td>89.150879</td>\n",
       "      <td>NaN</td>\n",
       "      <td>NaN</td>\n",
       "      <td>NaN</td>\n",
       "      <td>...</td>\n",
       "      <td>NaN</td>\n",
       "      <td>NaN</td>\n",
       "      <td>NaN</td>\n",
       "      <td>90.0</td>\n",
       "      <td>NaN</td>\n",
       "      <td>256.0</td>\n",
       "      <td>NaN</td>\n",
       "      <td>129.0</td>\n",
       "      <td>223.0</td>\n",
       "      <td>0.965832</td>\n",
       "    </tr>\n",
       "    <tr>\n",
       "      <th>2496</th>\n",
       "      <td>1554.0</td>\n",
       "      <td>1591.0</td>\n",
       "      <td>9.412616</td>\n",
       "      <td>0.695820</td>\n",
       "      <td>0.478672</td>\n",
       "      <td>156.666667</td>\n",
       "      <td>114.179527</td>\n",
       "      <td>NaN</td>\n",
       "      <td>NaN</td>\n",
       "      <td>NaN</td>\n",
       "      <td>...</td>\n",
       "      <td>NaN</td>\n",
       "      <td>NaN</td>\n",
       "      <td>NaN</td>\n",
       "      <td>122.0</td>\n",
       "      <td>NaN</td>\n",
       "      <td>256.0</td>\n",
       "      <td>NaN</td>\n",
       "      <td>129.0</td>\n",
       "      <td>226.0</td>\n",
       "      <td>0.844566</td>\n",
       "    </tr>\n",
       "    <tr>\n",
       "      <th>2497</th>\n",
       "      <td>1571.0</td>\n",
       "      <td>1589.0</td>\n",
       "      <td>6.271699</td>\n",
       "      <td>1.201746</td>\n",
       "      <td>0.817364</td>\n",
       "      <td>189.666667</td>\n",
       "      <td>94.086723</td>\n",
       "      <td>9.04800</td>\n",
       "      <td>NaN</td>\n",
       "      <td>NaN</td>\n",
       "      <td>...</td>\n",
       "      <td>NaN</td>\n",
       "      <td>NaN</td>\n",
       "      <td>NaN</td>\n",
       "      <td>NaN</td>\n",
       "      <td>NaN</td>\n",
       "      <td>230.0</td>\n",
       "      <td>NaN</td>\n",
       "      <td>124.0</td>\n",
       "      <td>226.0</td>\n",
       "      <td>1.453368</td>\n",
       "    </tr>\n",
       "    <tr>\n",
       "      <th>2498</th>\n",
       "      <td>1591.0</td>\n",
       "      <td>1594.0</td>\n",
       "      <td>14.953657</td>\n",
       "      <td>0.640462</td>\n",
       "      <td>0.447964</td>\n",
       "      <td>150.000000</td>\n",
       "      <td>118.110717</td>\n",
       "      <td>NaN</td>\n",
       "      <td>NaN</td>\n",
       "      <td>NaN</td>\n",
       "      <td>...</td>\n",
       "      <td>NaN</td>\n",
       "      <td>NaN</td>\n",
       "      <td>NaN</td>\n",
       "      <td>101.0</td>\n",
       "      <td>NaN</td>\n",
       "      <td>206.0</td>\n",
       "      <td>NaN</td>\n",
       "      <td>129.0</td>\n",
       "      <td>207.0</td>\n",
       "      <td>0.781577</td>\n",
       "    </tr>\n",
       "    <tr>\n",
       "      <th>2499</th>\n",
       "      <td>1569.0</td>\n",
       "      <td>1603.0</td>\n",
       "      <td>11.336151</td>\n",
       "      <td>0.434271</td>\n",
       "      <td>0.324209</td>\n",
       "      <td>220.750000</td>\n",
       "      <td>110.160958</td>\n",
       "      <td>50.00528</td>\n",
       "      <td>NaN</td>\n",
       "      <td>NaN</td>\n",
       "      <td>...</td>\n",
       "      <td>NaN</td>\n",
       "      <td>NaN</td>\n",
       "      <td>NaN</td>\n",
       "      <td>NaN</td>\n",
       "      <td>NaN</td>\n",
       "      <td>233.0</td>\n",
       "      <td>NaN</td>\n",
       "      <td>126.0</td>\n",
       "      <td>227.0</td>\n",
       "      <td>0.541944</td>\n",
       "    </tr>\n",
       "  </tbody>\n",
       "</table>\n",
       "<p>2288 rows × 31 columns</p>\n",
       "</div>"
      ],
      "text/plain": [
       "      First_temp  Last_temp        Gas  Active_power  Reactive_power  \\\n",
       "key                                                                    \n",
       "1         1571.0     1613.0  29.749986      0.607346        0.428564   \n",
       "2         1581.0     1602.0  12.555561      0.534852        0.363339   \n",
       "3         1596.0     1599.0  28.554793      0.812728        0.587491   \n",
       "4         1601.0     1625.0  18.841219      0.676622        0.514248   \n",
       "5         1576.0     1602.0   5.413692      0.563238        0.421998   \n",
       "...          ...        ...        ...           ...             ...   \n",
       "2495      1570.0     1591.0   7.125735      0.792033        0.552734   \n",
       "2496      1554.0     1591.0   9.412616      0.695820        0.478672   \n",
       "2497      1571.0     1589.0   6.271699      1.201746        0.817364   \n",
       "2498      1591.0     1594.0  14.953657      0.640462        0.447964   \n",
       "2499      1569.0     1603.0  11.336151      0.434271        0.324209   \n",
       "\n",
       "       Time_diff      Wire 1    Wire 2  Wire 3  Wire 4  ...  Bulk 7  Bulk 8  \\\n",
       "key                                                     ...                   \n",
       "1     219.600000   60.059998       NaN     NaN     NaN  ...     NaN     NaN   \n",
       "2     202.750000   96.052315       NaN     NaN     NaN  ...     NaN     NaN   \n",
       "3     131.000000   91.160157       NaN     NaN     NaN  ...     NaN     NaN   \n",
       "4     185.250000   89.063515       NaN     NaN     NaN  ...     NaN     NaN   \n",
       "5     217.250000   89.238236   9.11456     NaN     NaN  ...     NaN     NaN   \n",
       "...          ...         ...       ...     ...     ...  ...     ...     ...   \n",
       "2495  180.750000   89.150879       NaN     NaN     NaN  ...     NaN     NaN   \n",
       "2496  156.666667  114.179527       NaN     NaN     NaN  ...     NaN     NaN   \n",
       "2497  189.666667   94.086723   9.04800     NaN     NaN  ...     NaN     NaN   \n",
       "2498  150.000000  118.110717       NaN     NaN     NaN  ...     NaN     NaN   \n",
       "2499  220.750000  110.160958  50.00528     NaN     NaN  ...     NaN     NaN   \n",
       "\n",
       "      Bulk 9  Bulk 10  Bulk 11  Bulk 12  Bulk 13  Bulk 14  Bulk 15  Full_power  \n",
       "key                                                                             \n",
       "1        NaN      NaN      NaN    206.0      NaN    150.0    154.0    0.743328  \n",
       "2        NaN      NaN      NaN    206.0      NaN    149.0    154.0    0.646593  \n",
       "3        NaN      NaN      NaN    205.0      NaN    152.0    153.0    1.002833  \n",
       "4        NaN      NaN      NaN    207.0      NaN    153.0    154.0    0.849864  \n",
       "5        NaN      NaN      NaN    203.0      NaN    151.0    152.0    0.703789  \n",
       "...      ...      ...      ...      ...      ...      ...      ...         ...  \n",
       "2495     NaN     90.0      NaN    256.0      NaN    129.0    223.0    0.965832  \n",
       "2496     NaN    122.0      NaN    256.0      NaN    129.0    226.0    0.844566  \n",
       "2497     NaN      NaN      NaN    230.0      NaN    124.0    226.0    1.453368  \n",
       "2498     NaN    101.0      NaN    206.0      NaN    129.0    207.0    0.781577  \n",
       "2499     NaN      NaN      NaN    233.0      NaN    126.0    227.0    0.541944  \n",
       "\n",
       "[2288 rows x 31 columns]"
      ]
     },
     "execution_count": 33,
     "metadata": {},
     "output_type": "execute_result"
    }
   ],
   "source": [
    "data['Full_power'] = (data['Active_power']**2 + data['Reactive_power']**2)**0.5;data"
   ]
  },
  {
   "cell_type": "code",
   "execution_count": 34,
   "metadata": {
    "colab": {
     "base_uri": "https://localhost:8080/"
    },
    "id": "L2DkEEGZM0Nr",
    "outputId": "97c79ec3-c8d4-4b31-a678-d5fc6004aaf5"
   },
   "outputs": [
    {
     "data": {
      "text/plain": [
       "First_temp        0\n",
       "Last_temp         0\n",
       "Gas               0\n",
       "Active_power      0\n",
       "Reactive_power    0\n",
       "Time_diff         0\n",
       "Wire 1            0\n",
       "Wire 2            0\n",
       "Wire 3            0\n",
       "Wire 4            0\n",
       "Wire 5            0\n",
       "Wire 6            0\n",
       "Wire 7            0\n",
       "Wire 8            0\n",
       "Wire 9            0\n",
       "Bulk 1            0\n",
       "Bulk 2            0\n",
       "Bulk 3            0\n",
       "Bulk 4            0\n",
       "Bulk 5            0\n",
       "Bulk 6            0\n",
       "Bulk 7            0\n",
       "Bulk 8            0\n",
       "Bulk 9            0\n",
       "Bulk 10           0\n",
       "Bulk 11           0\n",
       "Bulk 12           0\n",
       "Bulk 13           0\n",
       "Bulk 14           0\n",
       "Bulk 15           0\n",
       "Full_power        0\n",
       "dtype: int64"
      ]
     },
     "execution_count": 34,
     "metadata": {},
     "output_type": "execute_result"
    }
   ],
   "source": [
    "data = data.fillna(0); data.isna().sum()"
   ]
  },
  {
   "cell_type": "code",
   "execution_count": 35,
   "metadata": {
    "colab": {
     "base_uri": "https://localhost:8080/",
     "height": 548
    },
    "id": "UK4loyCiNVJs",
    "outputId": "6026f495-a11e-4b60-8df1-8cbb50daae9e"
   },
   "outputs": [
    {
     "data": {
      "image/png": "[encoded data removed]",
      "text/plain": [
       "<Figure size 432x288 with 2 Axes>"
      ]
     },
     "metadata": {
      "needs_background": "light"
     },
     "output_type": "display_data"
    }
   ],
   "source": [
    "sns.heatmap(data.corr());"
   ]
  },
  {
   "cell_type": "markdown",
   "metadata": {},
   "source": [
    "**Промежуточный вывод:** после предобработки данных, видно на матрице корреляции что столбец Wire 5 не несет в себе ни какой смысловой нагрузки, поэтому его убираем из выборки"
   ]
  },
  {
   "cell_type": "markdown",
   "metadata": {
    "id": "8ZI-Jp4wNVJs"
   },
   "source": [
    "### Разбиение на выборки"
   ]
  },
  {
   "cell_type": "code",
   "execution_count": 36,
   "metadata": {
    "colab": {
     "base_uri": "https://localhost:8080/"
    },
    "id": "rEdKH8wBNVJs",
    "outputId": "7a84f6f9-0a0c-4d3b-b809-62580a6e5091"
   },
   "outputs": [
    {
     "name": "stdout",
     "output_type": "stream",
     "text": [
      "Размер тренировочных данных: (1598, 29)\n",
      "Размер тестовых данных: (572, 29)\n",
      "Размер целевого тренировочного: (1598,)\n",
      "Размер целевого тестового: (572,)\n"
     ]
    }
   ],
   "source": [
    "features = data.drop(['Wire 5', 'Last_temp'], axis=1)\n",
    "target = data['Last_temp']\n",
    "features_train, features_test, target_train, target_test = train_test_split(features, target, test_size=0.25, random_state=30723)\n",
    "\n",
    "features_train = features_train[features_train['Gas'] < 21]\n",
    "target_train = target_train.loc[features_train.index]\n",
    "\n",
    "print('Размер тренировочных данных:', features_train.shape)\n",
    "print('Размер тестовых данных:', features_test.shape)\n",
    "print('Размер целевого тренировочного:', target_train.shape)\n",
    "print('Размер целевого тестового:', target_test.shape)"
   ]
  },
  {
   "cell_type": "markdown",
   "metadata": {},
   "source": [
    "### Train model"
   ]
  },
  {
   "cell_type": "markdown",
   "metadata": {
    "id": "yjSFvAbjNVJs"
   },
   "source": [
    "**DecisionTreeRegressor**"
   ]
  },
  {
   "cell_type": "code",
   "execution_count": 37,
   "metadata": {
    "colab": {
     "base_uri": "https://localhost:8080/"
    },
    "id": "HLGReSo5NVJs",
    "outputId": "72a2f40d-0f00-41ea-8cb4-eb562cea35f9"
   },
   "outputs": [
    {
     "name": "stdout",
     "output_type": "stream",
     "text": [
      "CPU times: user 33 µs, sys: 2 µs, total: 35 µs\n",
      "Wall time: 37.2 µs\n"
     ]
    }
   ],
   "source": [
    "%%time\n",
    "\n",
    "RANDOM_STATE = 30723\n",
    "SPLIT_COUNT = 4\n",
    "\n",
    "k_fold = StratifiedKFold(n_splits=SPLIT_COUNT, shuffle=True, random_state=RANDOM_STATE)\n",
    "\n",
    "def fit_model_with_best_params(name: str, estimator: BaseEstimator, param_grid: dict) -> dict:\n",
    "    grid_search = GridSearchCV(estimator=estimator, param_grid=param_grid, cv=k_fold, verbose=3, scoring='neg_mean_absolute_error')\n",
    "    grid_search.fit(features_train, target_train)\n",
    "\n",
    "    estimator.set_params(**grid_search.best_params_)\n",
    "    estimator.fit(features_train, target_train)\n",
    "\n",
    "    predicted_values = estimator.predict(features_train)\n",
    "    mae = mean_absolute_error(target_train, predicted_values)\n",
    "\n",
    "    return {\n",
    "        'Name': name,\n",
    "        'Model': estimator,\n",
    "        'BestParams': grid_search.best_params_,\n",
    "        'BestScore': -grid_search.best_score_,\n",
    "        'MAE': mae\n",
    "    }\n"
   ]
  },
  {
   "cell_type": "code",
   "execution_count": 38,
   "metadata": {
    "id": "MDa5N059p_XJ"
   },
   "outputs": [],
   "source": [
    "def show_feature_importance(estimator: BaseEstimator):\n",
    "    importance = estimator.feature_importances_\n",
    "    plt.figure(figsize=(12, 12))\n",
    "    plt.barh(features_train.columns, importance)\n",
    "    plt.xticks(rotation=90)\n",
    "    plt.xlabel(\"Features\")\n",
    "    plt.ylabel(\"Importance\")\n",
    "    plt.title(\"Feature Importance\")\n",
    "    plt.show()"
   ]
  },
  {
   "cell_type": "code",
   "execution_count": 39,
   "metadata": {
    "colab": {
     "base_uri": "https://localhost:8080/"
    },
    "id": "v2x0EhXX1erq",
    "outputId": "7498285b-dfdf-4d08-807d-3fd6cea3db4d",
    "scrolled": true
   },
   "outputs": [
    {
     "name": "stdout",
     "output_type": "stream",
     "text": [
      "Fitting 4 folds for each of 48 candidates, totalling 192 fits\n",
      "[CV 1/4] END max_depth=4, min_samples_leaf=1, min_samples_split=2; total time=   0.0s\n",
      "[CV 2/4] END max_depth=4, min_samples_leaf=1, min_samples_split=2; total time=   0.0s\n",
      "[CV 3/4] END max_depth=4, min_samples_leaf=1, min_samples_split=2; total time=   0.0s\n",
      "[CV 4/4] END max_depth=4, min_samples_leaf=1, min_samples_split=2; total time=   0.0s\n",
      "[CV 1/4] END max_depth=4, min_samples_leaf=1, min_samples_split=4; total time=   0.0s\n",
      "[CV 2/4] END max_depth=4, min_samples_leaf=1, min_samples_split=4; total time=   0.0s\n",
      "[CV 3/4] END max_depth=4, min_samples_leaf=1, min_samples_split=4; total time=   0.0s\n",
      "[CV 4/4] END max_depth=4, min_samples_leaf=1, min_samples_split=4; total time=   0.0s\n",
      "[CV 1/4] END max_depth=4, min_samples_leaf=1, min_samples_split=6; total time=   0.0s\n",
      "[CV 2/4] END max_depth=4, min_samples_leaf=1, min_samples_split=6; total time=   0.0s\n",
      "[CV 3/4] END max_depth=4, min_samples_leaf=1, min_samples_split=6; total time=   0.0s\n",
      "[CV 4/4] END max_depth=4, min_samples_leaf=1, min_samples_split=6; total time=   0.0s\n",
      "[CV 1/4] END max_depth=4, min_samples_leaf=1, min_samples_split=8; total time=   0.0s\n",
      "[CV 2/4] END max_depth=4, min_samples_leaf=1, min_samples_split=8; total time=   0.0s\n",
      "[CV 3/4] END max_depth=4, min_samples_leaf=1, min_samples_split=8; total time=   0.0s\n",
      "[CV 4/4] END max_depth=4, min_samples_leaf=1, min_samples_split=8; total time=   0.0s\n",
      "[CV 1/4] END max_depth=4, min_samples_leaf=3, min_samples_split=2; total time=   0.0s\n",
      "[CV 2/4] END max_depth=4, min_samples_leaf=3, min_samples_split=2; total time=   0.0s\n",
      "[CV 3/4] END max_depth=4, min_samples_leaf=3, min_samples_split=2; total time=   0.0s\n",
      "[CV 4/4] END max_depth=4, min_samples_leaf=3, min_samples_split=2; total time=   0.0s\n",
      "[CV 1/4] END max_depth=4, min_samples_leaf=3, min_samples_split=4; total time=   0.0s\n",
      "[CV 2/4] END max_depth=4, min_samples_leaf=3, min_samples_split=4; total time=   0.0s\n",
      "[CV 3/4] END max_depth=4, min_samples_leaf=3, min_samples_split=4; total time=   0.0s\n",
      "[CV 4/4] END max_depth=4, min_samples_leaf=3, min_samples_split=4; total time=   0.0s\n",
      "[CV 1/4] END max_depth=4, min_samples_leaf=3, min_samples_split=6; total time=   0.0s\n",
      "[CV 2/4] END max_depth=4, min_samples_leaf=3, min_samples_split=6; total time=   0.0s\n",
      "[CV 3/4] END max_depth=4, min_samples_leaf=3, min_samples_split=6; total time=   0.0s\n",
      "[CV 4/4] END max_depth=4, min_samples_leaf=3, min_samples_split=6; total time=   0.0s\n",
      "[CV 1/4] END max_depth=4, min_samples_leaf=3, min_samples_split=8; total time=   0.0s\n",
      "[CV 2/4] END max_depth=4, min_samples_leaf=3, min_samples_split=8; total time=   0.0s\n",
      "[CV 3/4] END max_depth=4, min_samples_leaf=3, min_samples_split=8; total time=   0.0s\n",
      "[CV 4/4] END max_depth=4, min_samples_leaf=3, min_samples_split=8; total time=   0.0s\n",
      "[CV 1/4] END max_depth=4, min_samples_leaf=5, min_samples_split=2; total time=   0.0s\n",
      "[CV 2/4] END max_depth=4, min_samples_leaf=5, min_samples_split=2; total time=   0.0s\n",
      "[CV 3/4] END max_depth=4, min_samples_leaf=5, min_samples_split=2; total time=   0.0s\n",
      "[CV 4/4] END max_depth=4, min_samples_leaf=5, min_samples_split=2; total time=   0.0s\n",
      "[CV 1/4] END max_depth=4, min_samples_leaf=5, min_samples_split=4; total time=   0.0s\n",
      "[CV 2/4] END max_depth=4, min_samples_leaf=5, min_samples_split=4; total time=   0.0s\n",
      "[CV 3/4] END max_depth=4, min_samples_leaf=5, min_samples_split=4; total time=   0.0s\n",
      "[CV 4/4] END max_depth=4, min_samples_leaf=5, min_samples_split=4; total time=   0.0s\n",
      "[CV 1/4] END max_depth=4, min_samples_leaf=5, min_samples_split=6; total time=   0.0s\n",
      "[CV 2/4] END max_depth=4, min_samples_leaf=5, min_samples_split=6; total time=   0.0s\n",
      "[CV 3/4] END max_depth=4, min_samples_leaf=5, min_samples_split=6; total time=   0.0s\n",
      "[CV 4/4] END max_depth=4, min_samples_leaf=5, min_samples_split=6; total time=   0.0s\n",
      "[CV 1/4] END max_depth=4, min_samples_leaf=5, min_samples_split=8; total time=   0.0s\n",
      "[CV 2/4] END max_depth=4, min_samples_leaf=5, min_samples_split=8; total time=   0.0s\n",
      "[CV 3/4] END max_depth=4, min_samples_leaf=5, min_samples_split=8; total time=   0.0s\n",
      "[CV 4/4] END max_depth=4, min_samples_leaf=5, min_samples_split=8; total time=   0.0s\n",
      "[CV 1/4] END max_depth=6, min_samples_leaf=1, min_samples_split=2; total time=   0.0s\n",
      "[CV 2/4] END max_depth=6, min_samples_leaf=1, min_samples_split=2; total time=   0.0s\n",
      "[CV 3/4] END max_depth=6, min_samples_leaf=1, min_samples_split=2; total time=   0.0s\n",
      "[CV 4/4] END max_depth=6, min_samples_leaf=1, min_samples_split=2; total time=   0.0s\n",
      "[CV 1/4] END max_depth=6, min_samples_leaf=1, min_samples_split=4; total time=   0.0s\n",
      "[CV 2/4] END max_depth=6, min_samples_leaf=1, min_samples_split=4; total time=   0.0s\n",
      "[CV 3/4] END max_depth=6, min_samples_leaf=1, min_samples_split=4; total time=   0.0s\n",
      "[CV 4/4] END max_depth=6, min_samples_leaf=1, min_samples_split=4; total time=   0.0s\n",
      "[CV 1/4] END max_depth=6, min_samples_leaf=1, min_samples_split=6; total time=   0.0s\n",
      "[CV 2/4] END max_depth=6, min_samples_leaf=1, min_samples_split=6; total time=   0.0s\n",
      "[CV 3/4] END max_depth=6, min_samples_leaf=1, min_samples_split=6; total time=   0.0s\n",
      "[CV 4/4] END max_depth=6, min_samples_leaf=1, min_samples_split=6; total time=   0.0s\n",
      "[CV 1/4] END max_depth=6, min_samples_leaf=1, min_samples_split=8; total time=   0.0s\n",
      "[CV 2/4] END max_depth=6, min_samples_leaf=1, min_samples_split=8; total time=   0.0s\n",
      "[CV 3/4] END max_depth=6, min_samples_leaf=1, min_samples_split=8; total time=   0.0s\n",
      "[CV 4/4] END max_depth=6, min_samples_leaf=1, min_samples_split=8; total time=   0.0s\n",
      "[CV 1/4] END max_depth=6, min_samples_leaf=3, min_samples_split=2; total time=   0.0s\n",
      "[CV 2/4] END max_depth=6, min_samples_leaf=3, min_samples_split=2; total time=   0.0s\n",
      "[CV 3/4] END max_depth=6, min_samples_leaf=3, min_samples_split=2; total time=   0.0s\n",
      "[CV 4/4] END max_depth=6, min_samples_leaf=3, min_samples_split=2; total time=   0.0s\n",
      "[CV 1/4] END max_depth=6, min_samples_leaf=3, min_samples_split=4; total time=   0.0s\n",
      "[CV 2/4] END max_depth=6, min_samples_leaf=3, min_samples_split=4; total time=   0.0s\n",
      "[CV 3/4] END max_depth=6, min_samples_leaf=3, min_samples_split=4; total time=   0.0s\n",
      "[CV 4/4] END max_depth=6, min_samples_leaf=3, min_samples_split=4; total time=   0.0s\n",
      "[CV 1/4] END max_depth=6, min_samples_leaf=3, min_samples_split=6; total time=   0.0s\n",
      "[CV 2/4] END max_depth=6, min_samples_leaf=3, min_samples_split=6; total time=   0.0s\n",
      "[CV 3/4] END max_depth=6, min_samples_leaf=3, min_samples_split=6; total time=   0.0s\n",
      "[CV 4/4] END max_depth=6, min_samples_leaf=3, min_samples_split=6; total time=   0.0s\n",
      "[CV 1/4] END max_depth=6, min_samples_leaf=3, min_samples_split=8; total time=   0.0s\n",
      "[CV 2/4] END max_depth=6, min_samples_leaf=3, min_samples_split=8; total time=   0.0s\n",
      "[CV 3/4] END max_depth=6, min_samples_leaf=3, min_samples_split=8; total time=   0.0s\n",
      "[CV 4/4] END max_depth=6, min_samples_leaf=3, min_samples_split=8; total time=   0.0s\n",
      "[CV 1/4] END max_depth=6, min_samples_leaf=5, min_samples_split=2; total time=   0.0s\n",
      "[CV 2/4] END max_depth=6, min_samples_leaf=5, min_samples_split=2; total time=   0.0s\n",
      "[CV 3/4] END max_depth=6, min_samples_leaf=5, min_samples_split=2; total time=   0.0s\n",
      "[CV 4/4] END max_depth=6, min_samples_leaf=5, min_samples_split=2; total time=   0.0s\n",
      "[CV 1/4] END max_depth=6, min_samples_leaf=5, min_samples_split=4; total time=   0.0s\n",
      "[CV 2/4] END max_depth=6, min_samples_leaf=5, min_samples_split=4; total time=   0.0s\n",
      "[CV 3/4] END max_depth=6, min_samples_leaf=5, min_samples_split=4; total time=   0.0s\n",
      "[CV 4/4] END max_depth=6, min_samples_leaf=5, min_samples_split=4; total time=   0.0s\n",
      "[CV 1/4] END max_depth=6, min_samples_leaf=5, min_samples_split=6; total time=   0.0s\n",
      "[CV 2/4] END max_depth=6, min_samples_leaf=5, min_samples_split=6; total time=   0.0s\n",
      "[CV 3/4] END max_depth=6, min_samples_leaf=5, min_samples_split=6; total time=   0.0s\n",
      "[CV 4/4] END max_depth=6, min_samples_leaf=5, min_samples_split=6; total time=   0.0s\n",
      "[CV 1/4] END max_depth=6, min_samples_leaf=5, min_samples_split=8; total time=   0.0s\n",
      "[CV 2/4] END max_depth=6, min_samples_leaf=5, min_samples_split=8; total time=   0.0s\n",
      "[CV 3/4] END max_depth=6, min_samples_leaf=5, min_samples_split=8; total time=   0.0s\n",
      "[CV 4/4] END max_depth=6, min_samples_leaf=5, min_samples_split=8; total time=   0.0s\n",
      "[CV 1/4] END max_depth=8, min_samples_leaf=1, min_samples_split=2; total time=   0.0s\n",
      "[CV 2/4] END max_depth=8, min_samples_leaf=1, min_samples_split=2; total time=   0.0s\n",
      "[CV 3/4] END max_depth=8, min_samples_leaf=1, min_samples_split=2; total time=   0.0s\n",
      "[CV 4/4] END max_depth=8, min_samples_leaf=1, min_samples_split=2; total time=   0.0s\n",
      "[CV 1/4] END max_depth=8, min_samples_leaf=1, min_samples_split=4; total time=   0.0s\n",
      "[CV 2/4] END max_depth=8, min_samples_leaf=1, min_samples_split=4; total time=   0.0s\n",
      "[CV 3/4] END max_depth=8, min_samples_leaf=1, min_samples_split=4; total time=   0.0s\n",
      "[CV 4/4] END max_depth=8, min_samples_leaf=1, min_samples_split=4; total time=   0.0s\n",
      "[CV 1/4] END max_depth=8, min_samples_leaf=1, min_samples_split=6; total time=   0.0s\n",
      "[CV 2/4] END max_depth=8, min_samples_leaf=1, min_samples_split=6; total time=   0.0s\n",
      "[CV 3/4] END max_depth=8, min_samples_leaf=1, min_samples_split=6; total time=   0.0s\n",
      "[CV 4/4] END max_depth=8, min_samples_leaf=1, min_samples_split=6; total time=   0.0s\n",
      "[CV 1/4] END max_depth=8, min_samples_leaf=1, min_samples_split=8; total time=   0.0s\n",
      "[CV 2/4] END max_depth=8, min_samples_leaf=1, min_samples_split=8; total time=   0.0s\n",
      "[CV 3/4] END max_depth=8, min_samples_leaf=1, min_samples_split=8; total time=   0.0s\n",
      "[CV 4/4] END max_depth=8, min_samples_leaf=1, min_samples_split=8; total time=   0.0s\n",
      "[CV 1/4] END max_depth=8, min_samples_leaf=3, min_samples_split=2; total time=   0.0s\n",
      "[CV 2/4] END max_depth=8, min_samples_leaf=3, min_samples_split=2; total time=   0.0s\n",
      "[CV 3/4] END max_depth=8, min_samples_leaf=3, min_samples_split=2; total time=   0.0s\n",
      "[CV 4/4] END max_depth=8, min_samples_leaf=3, min_samples_split=2; total time=   0.0s\n",
      "[CV 1/4] END max_depth=8, min_samples_leaf=3, min_samples_split=4; total time=   0.0s\n",
      "[CV 2/4] END max_depth=8, min_samples_leaf=3, min_samples_split=4; total time=   0.0s\n",
      "[CV 3/4] END max_depth=8, min_samples_leaf=3, min_samples_split=4; total time=   0.0s\n",
      "[CV 4/4] END max_depth=8, min_samples_leaf=3, min_samples_split=4; total time=   0.0s\n",
      "[CV 1/4] END max_depth=8, min_samples_leaf=3, min_samples_split=6; total time=   0.0s\n",
      "[CV 2/4] END max_depth=8, min_samples_leaf=3, min_samples_split=6; total time=   0.0s\n",
      "[CV 3/4] END max_depth=8, min_samples_leaf=3, min_samples_split=6; total time=   0.0s\n",
      "[CV 4/4] END max_depth=8, min_samples_leaf=3, min_samples_split=6; total time=   0.0s\n",
      "[CV 1/4] END max_depth=8, min_samples_leaf=3, min_samples_split=8; total time=   0.0s\n",
      "[CV 2/4] END max_depth=8, min_samples_leaf=3, min_samples_split=8; total time=   0.0s\n",
      "[CV 3/4] END max_depth=8, min_samples_leaf=3, min_samples_split=8; total time=   0.0s\n",
      "[CV 4/4] END max_depth=8, min_samples_leaf=3, min_samples_split=8; total time=   0.0s\n",
      "[CV 1/4] END max_depth=8, min_samples_leaf=5, min_samples_split=2; total time=   0.0s\n",
      "[CV 2/4] END max_depth=8, min_samples_leaf=5, min_samples_split=2; total time=   0.0s\n",
      "[CV 3/4] END max_depth=8, min_samples_leaf=5, min_samples_split=2; total time=   0.0s\n",
      "[CV 4/4] END max_depth=8, min_samples_leaf=5, min_samples_split=2; total time=   0.0s\n",
      "[CV 1/4] END max_depth=8, min_samples_leaf=5, min_samples_split=4; total time=   0.0s\n",
      "[CV 2/4] END max_depth=8, min_samples_leaf=5, min_samples_split=4; total time=   0.0s\n",
      "[CV 3/4] END max_depth=8, min_samples_leaf=5, min_samples_split=4; total time=   0.0s\n",
      "[CV 4/4] END max_depth=8, min_samples_leaf=5, min_samples_split=4; total time=   0.0s\n",
      "[CV 1/4] END max_depth=8, min_samples_leaf=5, min_samples_split=6; total time=   0.0s\n",
      "[CV 2/4] END max_depth=8, min_samples_leaf=5, min_samples_split=6; total time=   0.0s\n",
      "[CV 3/4] END max_depth=8, min_samples_leaf=5, min_samples_split=6; total time=   0.0s\n",
      "[CV 4/4] END max_depth=8, min_samples_leaf=5, min_samples_split=6; total time=   0.0s\n",
      "[CV 1/4] END max_depth=8, min_samples_leaf=5, min_samples_split=8; total time=   0.0s\n",
      "[CV 2/4] END max_depth=8, min_samples_leaf=5, min_samples_split=8; total time=   0.0s\n",
      "[CV 3/4] END max_depth=8, min_samples_leaf=5, min_samples_split=8; total time=   0.0s\n",
      "[CV 4/4] END max_depth=8, min_samples_leaf=5, min_samples_split=8; total time=   0.0s\n",
      "[CV 1/4] END max_depth=None, min_samples_leaf=1, min_samples_split=2; total time=   0.0s\n",
      "[CV 2/4] END max_depth=None, min_samples_leaf=1, min_samples_split=2; total time=   0.0s\n",
      "[CV 3/4] END max_depth=None, min_samples_leaf=1, min_samples_split=2; total time=   0.0s\n",
      "[CV 4/4] END max_depth=None, min_samples_leaf=1, min_samples_split=2; total time=   0.0s\n",
      "[CV 1/4] END max_depth=None, min_samples_leaf=1, min_samples_split=4; total time=   0.0s\n",
      "[CV 2/4] END max_depth=None, min_samples_leaf=1, min_samples_split=4; total time=   0.0s\n",
      "[CV 3/4] END max_depth=None, min_samples_leaf=1, min_samples_split=4; total time=   0.0s\n",
      "[CV 4/4] END max_depth=None, min_samples_leaf=1, min_samples_split=4; total time=   0.0s\n",
      "[CV 1/4] END max_depth=None, min_samples_leaf=1, min_samples_split=6; total time=   0.0s\n",
      "[CV 2/4] END max_depth=None, min_samples_leaf=1, min_samples_split=6; total time=   0.0s\n",
      "[CV 3/4] END max_depth=None, min_samples_leaf=1, min_samples_split=6; total time=   0.0s\n",
      "[CV 4/4] END max_depth=None, min_samples_leaf=1, min_samples_split=6; total time=   0.0s\n",
      "[CV 1/4] END max_depth=None, min_samples_leaf=1, min_samples_split=8; total time=   0.0s\n",
      "[CV 2/4] END max_depth=None, min_samples_leaf=1, min_samples_split=8; total time=   0.0s\n",
      "[CV 3/4] END max_depth=None, min_samples_leaf=1, min_samples_split=8; total time=   0.0s\n",
      "[CV 4/4] END max_depth=None, min_samples_leaf=1, min_samples_split=8; total time=   0.0s\n",
      "[CV 1/4] END max_depth=None, min_samples_leaf=3, min_samples_split=2; total time=   0.0s\n",
      "[CV 2/4] END max_depth=None, min_samples_leaf=3, min_samples_split=2; total time=   0.0s\n",
      "[CV 3/4] END max_depth=None, min_samples_leaf=3, min_samples_split=2; total time=   0.0s\n",
      "[CV 4/4] END max_depth=None, min_samples_leaf=3, min_samples_split=2; total time=   0.0s\n",
      "[CV 1/4] END max_depth=None, min_samples_leaf=3, min_samples_split=4; total time=   0.0s\n",
      "[CV 2/4] END max_depth=None, min_samples_leaf=3, min_samples_split=4; total time=   0.0s\n",
      "[CV 3/4] END max_depth=None, min_samples_leaf=3, min_samples_split=4; total time=   0.0s\n",
      "[CV 4/4] END max_depth=None, min_samples_leaf=3, min_samples_split=4; total time=   0.0s\n",
      "[CV 1/4] END max_depth=None, min_samples_leaf=3, min_samples_split=6; total time=   0.0s\n",
      "[CV 2/4] END max_depth=None, min_samples_leaf=3, min_samples_split=6; total time=   0.0s\n",
      "[CV 3/4] END max_depth=None, min_samples_leaf=3, min_samples_split=6; total time=   0.0s\n",
      "[CV 4/4] END max_depth=None, min_samples_leaf=3, min_samples_split=6; total time=   0.0s\n",
      "[CV 1/4] END max_depth=None, min_samples_leaf=3, min_samples_split=8; total time=   0.0s\n",
      "[CV 2/4] END max_depth=None, min_samples_leaf=3, min_samples_split=8; total time=   0.0s\n",
      "[CV 3/4] END max_depth=None, min_samples_leaf=3, min_samples_split=8; total time=   0.0s\n",
      "[CV 4/4] END max_depth=None, min_samples_leaf=3, min_samples_split=8; total time=   0.0s\n",
      "[CV 1/4] END max_depth=None, min_samples_leaf=5, min_samples_split=2; total time=   0.0s\n",
      "[CV 2/4] END max_depth=None, min_samples_leaf=5, min_samples_split=2; total time=   0.0s\n",
      "[CV 3/4] END max_depth=None, min_samples_leaf=5, min_samples_split=2; total time=   0.0s\n",
      "[CV 4/4] END max_depth=None, min_samples_leaf=5, min_samples_split=2; total time=   0.0s\n",
      "[CV 1/4] END max_depth=None, min_samples_leaf=5, min_samples_split=4; total time=   0.0s\n",
      "[CV 2/4] END max_depth=None, min_samples_leaf=5, min_samples_split=4; total time=   0.0s\n",
      "[CV 3/4] END max_depth=None, min_samples_leaf=5, min_samples_split=4; total time=   0.0s\n",
      "[CV 4/4] END max_depth=None, min_samples_leaf=5, min_samples_split=4; total time=   0.0s\n",
      "[CV 1/4] END max_depth=None, min_samples_leaf=5, min_samples_split=6; total time=   0.0s\n",
      "[CV 2/4] END max_depth=None, min_samples_leaf=5, min_samples_split=6; total time=   0.0s\n",
      "[CV 3/4] END max_depth=None, min_samples_leaf=5, min_samples_split=6; total time=   0.0s\n",
      "[CV 4/4] END max_depth=None, min_samples_leaf=5, min_samples_split=6; total time=   0.0s\n",
      "[CV 1/4] END max_depth=None, min_samples_leaf=5, min_samples_split=8; total time=   0.0s\n",
      "[CV 2/4] END max_depth=None, min_samples_leaf=5, min_samples_split=8; total time=   0.0s\n",
      "[CV 3/4] END max_depth=None, min_samples_leaf=5, min_samples_split=8; total time=   0.0s\n",
      "[CV 4/4] END max_depth=None, min_samples_leaf=5, min_samples_split=8; total time=   0.0s\n"
     ]
    },
    {
     "data": {
      "text/plain": [
       "{'Name': 'decision_tree',\n",
       " 'Model': DecisionTreeRegressor(max_depth=4, min_samples_leaf=5, random_state=30723),\n",
       " 'BestParams': {'max_depth': 4, 'min_samples_leaf': 5, 'min_samples_split': 2},\n",
       " 'BestScore': 7.542938971898014,\n",
       " 'MAE': 6.821322386864133}"
      ]
     },
     "execution_count": 39,
     "metadata": {},
     "output_type": "execute_result"
    }
   ],
   "source": [
    "decision_tree = DecisionTreeRegressor(random_state=RANDOM_STATE)\n",
    "\n",
    "decision_tree_param_grid = {\n",
    "    'max_depth': [4, 6, 8, None],\n",
    "    'min_samples_split': [2, 4, 6, 8],\n",
    "    'min_samples_leaf': [1, 3, 5],\n",
    "}\n",
    "\n",
    "decision_tree_result = fit_model_with_best_params('decision_tree', decision_tree, decision_tree_param_grid)\n",
    "decision_tree_result"
   ]
  },
  {
   "cell_type": "code",
   "execution_count": 40,
   "metadata": {
    "colab": {
     "base_uri": "https://localhost:8080/",
     "height": 1000
    },
    "id": "GJ7iAZv-5pKB",
    "outputId": "c07a99ff-44ac-4927-e64b-908556824e3c"
   },
   "outputs": [
    {
     "data": {
      "image/png": "[encoded data removed]",
      "text/plain": [
       "<Figure size 864x864 with 1 Axes>"
      ]
     },
     "metadata": {
      "needs_background": "light"
     },
     "output_type": "display_data"
    }
   ],
   "source": [
    "show_feature_importance(estimator = decision_tree_result['Model'])"
   ]
  },
  {
   "cell_type": "code",
   "execution_count": 41,
   "metadata": {
    "colab": {
     "base_uri": "https://localhost:8080/",
     "height": 564
    },
    "id": "Y7uGE3Ph5n0I",
    "outputId": "1224d6a2-d428-4357-bf5e-56e03d84946b"
   },
   "outputs": [
    {
     "data": {
      "image/png": "[encoded data removed]",
      "text/plain": [
       "<Figure size 720x432 with 1 Axes>"
      ]
     },
     "metadata": {
      "needs_background": "light"
     },
     "output_type": "display_data"
    }
   ],
   "source": [
    "feature_importances = decision_tree.feature_importances_\n",
    "\n",
    "def plot_feature_importance(sorted_features):\n",
    "    features, importances = zip(*sorted_features)\n",
    "\n",
    "    sorted_indices = sorted(range(len(importances)), key=lambda k: importances[k], reverse=False)\n",
    "    features = [features[i] for i in sorted_indices]\n",
    "    importances = [importances[i] for i in sorted_indices]\n",
    "\n",
    "    plt.figure(figsize=(10, 6))\n",
    "    plt.barh(range(len(features)), importances, align='center')\n",
    "    plt.yticks(range(len(features)), features)\n",
    "    plt.xlabel('Importance')\n",
    "    plt.ylabel('Feature')\n",
    "    plt.title('Feature Importance')\n",
    "    plt.show()\n",
    "\n",
    "sorted_features = sorted(zip(data.columns, feature_importances), key=lambda x: x[1], reverse=True)\n",
    "plot_feature_importance(sorted_features)"
   ]
  },
  {
   "cell_type": "markdown",
   "metadata": {},
   "source": [
    "**CatBoostRegressor**"
   ]
  },
  {
   "cell_type": "code",
   "execution_count": 42,
   "metadata": {
    "scrolled": true
   },
   "outputs": [
    {
     "name": "stdout",
     "output_type": "stream",
     "text": [
      "Fitting 4 folds for each of 27 candidates, totalling 108 fits\n",
      "[CV 1/4] END ..depth=3, learning_rate=0.01, n_estimators=200; total time=   0.7s\n",
      "[CV 2/4] END ..depth=3, learning_rate=0.01, n_estimators=200; total time=   0.6s\n",
      "[CV 3/4] END ..depth=3, learning_rate=0.01, n_estimators=200; total time=   0.7s\n",
      "[CV 4/4] END ..depth=3, learning_rate=0.01, n_estimators=200; total time=   0.6s\n",
      "[CV 1/4] END ..depth=3, learning_rate=0.01, n_estimators=300; total time=   0.8s\n",
      "[CV 2/4] END ..depth=3, learning_rate=0.01, n_estimators=300; total time=   0.8s\n",
      "[CV 3/4] END ..depth=3, learning_rate=0.01, n_estimators=300; total time=   0.8s\n",
      "[CV 4/4] END ..depth=3, learning_rate=0.01, n_estimators=300; total time=   0.8s\n",
      "[CV 1/4] END ..depth=3, learning_rate=0.01, n_estimators=400; total time=   1.0s\n",
      "[CV 2/4] END ..depth=3, learning_rate=0.01, n_estimators=400; total time=   0.9s\n",
      "[CV 3/4] END ..depth=3, learning_rate=0.01, n_estimators=400; total time=   1.0s\n",
      "[CV 4/4] END ..depth=3, learning_rate=0.01, n_estimators=400; total time=   1.0s\n",
      "[CV 1/4] END ..depth=3, learning_rate=0.05, n_estimators=200; total time=   0.7s\n",
      "[CV 2/4] END ..depth=3, learning_rate=0.05, n_estimators=200; total time=   0.7s\n",
      "[CV 3/4] END ..depth=3, learning_rate=0.05, n_estimators=200; total time=   0.7s\n",
      "[CV 4/4] END ..depth=3, learning_rate=0.05, n_estimators=200; total time=   0.7s\n",
      "[CV 1/4] END ..depth=3, learning_rate=0.05, n_estimators=300; total time=   0.9s\n",
      "[CV 2/4] END ..depth=3, learning_rate=0.05, n_estimators=300; total time=   0.8s\n",
      "[CV 3/4] END ..depth=3, learning_rate=0.05, n_estimators=300; total time=   0.8s\n",
      "[CV 4/4] END ..depth=3, learning_rate=0.05, n_estimators=300; total time=   0.8s\n",
      "[CV 1/4] END ..depth=3, learning_rate=0.05, n_estimators=400; total time=   1.0s\n",
      "[CV 2/4] END ..depth=3, learning_rate=0.05, n_estimators=400; total time=   0.9s\n",
      "[CV 3/4] END ..depth=3, learning_rate=0.05, n_estimators=400; total time=   1.2s\n",
      "[CV 4/4] END ..depth=3, learning_rate=0.05, n_estimators=400; total time=   0.9s\n",
      "[CV 1/4] END ...depth=3, learning_rate=0.1, n_estimators=200; total time=   0.6s\n",
      "[CV 2/4] END ...depth=3, learning_rate=0.1, n_estimators=200; total time=   0.7s\n",
      "[CV 3/4] END ...depth=3, learning_rate=0.1, n_estimators=200; total time=   0.6s\n",
      "[CV 4/4] END ...depth=3, learning_rate=0.1, n_estimators=200; total time=   0.7s\n",
      "[CV 1/4] END ...depth=3, learning_rate=0.1, n_estimators=300; total time=   0.8s\n",
      "[CV 2/4] END ...depth=3, learning_rate=0.1, n_estimators=300; total time=   0.9s\n",
      "[CV 3/4] END ...depth=3, learning_rate=0.1, n_estimators=300; total time=   0.9s\n",
      "[CV 4/4] END ...depth=3, learning_rate=0.1, n_estimators=300; total time=   1.0s\n",
      "[CV 1/4] END ...depth=3, learning_rate=0.1, n_estimators=400; total time=   1.0s\n",
      "[CV 2/4] END ...depth=3, learning_rate=0.1, n_estimators=400; total time=   0.9s\n",
      "[CV 3/4] END ...depth=3, learning_rate=0.1, n_estimators=400; total time=   1.4s\n",
      "[CV 4/4] END ...depth=3, learning_rate=0.1, n_estimators=400; total time=   1.8s\n",
      "[CV 1/4] END ..depth=5, learning_rate=0.01, n_estimators=200; total time=   0.9s\n",
      "[CV 2/4] END ..depth=5, learning_rate=0.01, n_estimators=200; total time=   0.9s\n",
      "[CV 3/4] END ..depth=5, learning_rate=0.01, n_estimators=200; total time=   0.9s\n",
      "[CV 4/4] END ..depth=5, learning_rate=0.01, n_estimators=200; total time=   0.9s\n",
      "[CV 1/4] END ..depth=5, learning_rate=0.01, n_estimators=300; total time=   1.2s\n",
      "[CV 2/4] END ..depth=5, learning_rate=0.01, n_estimators=300; total time=   1.1s\n",
      "[CV 3/4] END ..depth=5, learning_rate=0.01, n_estimators=300; total time=   1.2s\n",
      "[CV 4/4] END ..depth=5, learning_rate=0.01, n_estimators=300; total time=   1.2s\n",
      "[CV 1/4] END ..depth=5, learning_rate=0.01, n_estimators=400; total time=   1.5s\n",
      "[CV 2/4] END ..depth=5, learning_rate=0.01, n_estimators=400; total time=   1.4s\n",
      "[CV 3/4] END ..depth=5, learning_rate=0.01, n_estimators=400; total time=   1.4s\n",
      "[CV 4/4] END ..depth=5, learning_rate=0.01, n_estimators=400; total time=   1.4s\n",
      "[CV 1/4] END ..depth=5, learning_rate=0.05, n_estimators=200; total time=   1.5s\n",
      "[CV 2/4] END ..depth=5, learning_rate=0.05, n_estimators=200; total time=   0.9s\n",
      "[CV 3/4] END ..depth=5, learning_rate=0.05, n_estimators=200; total time=   1.0s\n",
      "[CV 4/4] END ..depth=5, learning_rate=0.05, n_estimators=200; total time=   0.9s\n",
      "[CV 1/4] END ..depth=5, learning_rate=0.05, n_estimators=300; total time=   1.1s\n",
      "[CV 2/4] END ..depth=5, learning_rate=0.05, n_estimators=300; total time=   1.2s\n",
      "[CV 3/4] END ..depth=5, learning_rate=0.05, n_estimators=300; total time=   1.3s\n",
      "[CV 4/4] END ..depth=5, learning_rate=0.05, n_estimators=300; total time=   1.3s\n",
      "[CV 1/4] END ..depth=5, learning_rate=0.05, n_estimators=400; total time=   1.8s\n",
      "[CV 2/4] END ..depth=5, learning_rate=0.05, n_estimators=400; total time=   1.4s\n",
      "[CV 3/4] END ..depth=5, learning_rate=0.05, n_estimators=400; total time=   1.5s\n",
      "[CV 4/4] END ..depth=5, learning_rate=0.05, n_estimators=400; total time=   1.5s\n",
      "[CV 1/4] END ...depth=5, learning_rate=0.1, n_estimators=200; total time=   1.0s\n",
      "[CV 2/4] END ...depth=5, learning_rate=0.1, n_estimators=200; total time=   0.9s\n",
      "[CV 3/4] END ...depth=5, learning_rate=0.1, n_estimators=200; total time=   0.9s\n",
      "[CV 4/4] END ...depth=5, learning_rate=0.1, n_estimators=200; total time=   0.9s\n",
      "[CV 1/4] END ...depth=5, learning_rate=0.1, n_estimators=300; total time=   1.2s\n",
      "[CV 2/4] END ...depth=5, learning_rate=0.1, n_estimators=300; total time=   1.1s\n",
      "[CV 3/4] END ...depth=5, learning_rate=0.1, n_estimators=300; total time=   1.1s\n",
      "[CV 4/4] END ...depth=5, learning_rate=0.1, n_estimators=300; total time=   1.1s\n",
      "[CV 1/4] END ...depth=5, learning_rate=0.1, n_estimators=400; total time=   1.4s\n",
      "[CV 2/4] END ...depth=5, learning_rate=0.1, n_estimators=400; total time=   1.5s\n",
      "[CV 3/4] END ...depth=5, learning_rate=0.1, n_estimators=400; total time=   1.4s\n",
      "[CV 4/4] END ...depth=5, learning_rate=0.1, n_estimators=400; total time=   1.4s\n",
      "[CV 1/4] END ..depth=7, learning_rate=0.01, n_estimators=200; total time=   1.9s\n",
      "[CV 2/4] END ..depth=7, learning_rate=0.01, n_estimators=200; total time=   1.9s\n",
      "[CV 3/4] END ..depth=7, learning_rate=0.01, n_estimators=200; total time=   1.9s\n",
      "[CV 4/4] END ..depth=7, learning_rate=0.01, n_estimators=200; total time=   1.7s\n",
      "[CV 1/4] END ..depth=7, learning_rate=0.01, n_estimators=300; total time=   2.3s\n",
      "[CV 2/4] END ..depth=7, learning_rate=0.01, n_estimators=300; total time=   2.5s\n",
      "[CV 3/4] END ..depth=7, learning_rate=0.01, n_estimators=300; total time=   2.4s\n",
      "[CV 4/4] END ..depth=7, learning_rate=0.01, n_estimators=300; total time=   2.3s\n",
      "[CV 1/4] END ..depth=7, learning_rate=0.01, n_estimators=400; total time=   3.1s\n",
      "[CV 2/4] END ..depth=7, learning_rate=0.01, n_estimators=400; total time=   3.0s\n",
      "[CV 3/4] END ..depth=7, learning_rate=0.01, n_estimators=400; total time=   3.0s\n",
      "[CV 4/4] END ..depth=7, learning_rate=0.01, n_estimators=400; total time=   3.0s\n",
      "[CV 1/4] END ..depth=7, learning_rate=0.05, n_estimators=200; total time=   1.6s\n",
      "[CV 2/4] END ..depth=7, learning_rate=0.05, n_estimators=200; total time=   1.7s\n",
      "[CV 3/4] END ..depth=7, learning_rate=0.05, n_estimators=200; total time=   1.7s\n",
      "[CV 4/4] END ..depth=7, learning_rate=0.05, n_estimators=200; total time=   1.6s\n",
      "[CV 1/4] END ..depth=7, learning_rate=0.05, n_estimators=300; total time=   2.4s\n",
      "[CV 2/4] END ..depth=7, learning_rate=0.05, n_estimators=300; total time=   2.6s\n",
      "[CV 3/4] END ..depth=7, learning_rate=0.05, n_estimators=300; total time=   2.7s\n",
      "[CV 4/4] END ..depth=7, learning_rate=0.05, n_estimators=300; total time=   2.2s\n",
      "[CV 1/4] END ..depth=7, learning_rate=0.05, n_estimators=400; total time=   2.9s\n",
      "[CV 2/4] END ..depth=7, learning_rate=0.05, n_estimators=400; total time=   3.0s\n",
      "[CV 3/4] END ..depth=7, learning_rate=0.05, n_estimators=400; total time=   3.0s\n",
      "[CV 4/4] END ..depth=7, learning_rate=0.05, n_estimators=400; total time=   3.0s\n",
      "[CV 1/4] END ...depth=7, learning_rate=0.1, n_estimators=200; total time=   1.8s\n",
      "[CV 2/4] END ...depth=7, learning_rate=0.1, n_estimators=200; total time=   1.9s\n",
      "[CV 3/4] END ...depth=7, learning_rate=0.1, n_estimators=200; total time=   1.7s\n",
      "[CV 4/4] END ...depth=7, learning_rate=0.1, n_estimators=200; total time=   1.8s\n",
      "[CV 1/4] END ...depth=7, learning_rate=0.1, n_estimators=300; total time=   2.4s\n",
      "[CV 2/4] END ...depth=7, learning_rate=0.1, n_estimators=300; total time=   2.4s\n",
      "[CV 3/4] END ...depth=7, learning_rate=0.1, n_estimators=300; total time=   2.6s\n",
      "[CV 4/4] END ...depth=7, learning_rate=0.1, n_estimators=300; total time=   2.4s\n",
      "[CV 1/4] END ...depth=7, learning_rate=0.1, n_estimators=400; total time=   2.9s\n",
      "[CV 2/4] END ...depth=7, learning_rate=0.1, n_estimators=400; total time=   3.0s\n",
      "[CV 3/4] END ...depth=7, learning_rate=0.1, n_estimators=400; total time=   3.2s\n",
      "[CV 4/4] END ...depth=7, learning_rate=0.1, n_estimators=400; total time=   3.1s\n"
     ]
    },
    {
     "data": {
      "text/plain": [
       "{'Name': 'cat_boost',\n",
       " 'Model': <catboost.core.CatBoostRegressor at 0x7fe1ef11c6d0>,\n",
       " 'BestParams': {'depth': 7, 'learning_rate': 0.05, 'n_estimators': 200},\n",
       " 'BestScore': 6.580919476970126,\n",
       " 'MAE': 5.078089381590272}"
      ]
     },
     "execution_count": 42,
     "metadata": {},
     "output_type": "execute_result"
    }
   ],
   "source": [
    "cat_boost = CatBoostRegressor(random_state=RANDOM_STATE, verbose=False)\n",
    "\n",
    "cat_boost_params = {\n",
    "    'n_estimators': [200, 300, 400],\n",
    "    'learning_rate': [0.01, 0.05, 0.1],\n",
    "    'depth': [3, 5, 7]\n",
    "}\n",
    "cat_boost_result = fit_model_with_best_params('cat_boost', cat_boost, cat_boost_params)\n",
    "cat_boost_result"
   ]
  },
  {
   "cell_type": "code",
   "execution_count": 43,
   "metadata": {},
   "outputs": [
    {
     "data": {
      "image/png": "[encoded data removed]",
      "text/plain": [
       "<Figure size 720x432 with 1 Axes>"
      ]
     },
     "metadata": {
      "needs_background": "light"
     },
     "output_type": "display_data"
    }
   ],
   "source": [
    "feature_importances = cat_boost.feature_importances_\n",
    "\n",
    "def plot_feature_importance(sorted_features):\n",
    "    features, importances = zip(*sorted_features)\n",
    "\n",
    "    sorted_indices = sorted(range(len(importances)), key=lambda k: importances[k], reverse=False)\n",
    "    features = [features[i] for i in sorted_indices]\n",
    "    importances = [importances[i] for i in sorted_indices]\n",
    "\n",
    "    plt.figure(figsize=(10, 6))\n",
    "    plt.barh(range(len(features)), importances, align='center')\n",
    "    plt.yticks(range(len(features)), features)\n",
    "    plt.xlabel('Importance')\n",
    "    plt.ylabel('Feature')\n",
    "    plt.title('Feature Importance')\n",
    "    plt.show()\n",
    "\n",
    "sorted_features = sorted(zip(data.columns, feature_importances), key=lambda x: x[1], reverse=True)\n",
    "plot_feature_importance(sorted_features)"
   ]
  },
  {
   "cell_type": "code",
   "execution_count": 44,
   "metadata": {},
   "outputs": [
    {
     "data": {
      "image/png": "[encoded data removed]",
      "text/plain": [
       "<Figure size 864x864 with 1 Axes>"
      ]
     },
     "metadata": {
      "needs_background": "light"
     },
     "output_type": "display_data"
    }
   ],
   "source": [
    "show_feature_importance(estimator = cat_boost_result['Model'])"
   ]
  },
  {
   "cell_type": "code",
   "execution_count": 45,
   "metadata": {},
   "outputs": [
    {
     "data": {
      "text/html": [
       "<div>\n",
       "<style scoped>\n",
       "    .dataframe tbody tr th:only-of-type {\n",
       "        vertical-align: middle;\n",
       "    }\n",
       "\n",
       "    .dataframe tbody tr th {\n",
       "        vertical-align: top;\n",
       "    }\n",
       "\n",
       "    .dataframe thead th {\n",
       "        text-align: right;\n",
       "    }\n",
       "</style>\n",
       "<table border=\"1\" class=\"dataframe\">\n",
       "  <thead>\n",
       "    <tr style=\"text-align: right;\">\n",
       "      <th></th>\n",
       "      <th>Name</th>\n",
       "      <th>Model</th>\n",
       "      <th>BestParams</th>\n",
       "      <th>BestScore</th>\n",
       "      <th>MAE</th>\n",
       "    </tr>\n",
       "  </thead>\n",
       "  <tbody>\n",
       "    <tr>\n",
       "      <th>0</th>\n",
       "      <td>decision_tree</td>\n",
       "      <td>DecisionTreeRegressor(max_depth=4, min_samples...</td>\n",
       "      <td>{'max_depth': 4, 'min_samples_leaf': 5, 'min_s...</td>\n",
       "      <td>7.542939</td>\n",
       "      <td>6.821322</td>\n",
       "    </tr>\n",
       "    <tr>\n",
       "      <th>1</th>\n",
       "      <td>cat_boost</td>\n",
       "      <td>&lt;catboost.core.CatBoostRegressor object at 0x7...</td>\n",
       "      <td>{'depth': 7, 'learning_rate': 0.05, 'n_estimat...</td>\n",
       "      <td>6.580919</td>\n",
       "      <td>5.078089</td>\n",
       "    </tr>\n",
       "  </tbody>\n",
       "</table>\n",
       "</div>"
      ],
      "text/plain": [
       "            Name                                              Model  \\\n",
       "0  decision_tree  DecisionTreeRegressor(max_depth=4, min_samples...   \n",
       "1      cat_boost  <catboost.core.CatBoostRegressor object at 0x7...   \n",
       "\n",
       "                                          BestParams  BestScore       MAE  \n",
       "0  {'max_depth': 4, 'min_samples_leaf': 5, 'min_s...   7.542939  6.821322  \n",
       "1  {'depth': 7, 'learning_rate': 0.05, 'n_estimat...   6.580919  5.078089  "
      ]
     },
     "execution_count": 45,
     "metadata": {},
     "output_type": "execute_result"
    }
   ],
   "source": [
    "model_result = pd.DataFrame([\n",
    "    decision_tree_result,\n",
    "    cat_boost_result]\n",
    ")\n",
    "model_result.sort_values(by='BestScore', ascending=False).head(10)"
   ]
  },
  {
   "cell_type": "markdown",
   "metadata": {},
   "source": [
    "**Промежуточный вывод:** по результату на тренировочных данных принимаем решение для дальнейшей работы взять модель CatBoost с гиперпараметрами: 'depth': 7, 'learning_rate': 0.05, 'n_estimators': 200"
   ]
  },
  {
   "cell_type": "markdown",
   "metadata": {},
   "source": [
    "### Test model"
   ]
  },
  {
   "cell_type": "code",
   "execution_count": 46,
   "metadata": {},
   "outputs": [
    {
     "data": {
      "text/plain": [
       "{'Name': 'cat_boost',\n",
       " 'Model': <catboost.core.CatBoostRegressor at 0x7fe1ee7853d0>,\n",
       " 'Params': {'n_estimators': 200, 'learning_rate': 0.05, 'depth': 7},\n",
       " 'MAE': 6.733532796316115}"
      ]
     },
     "execution_count": 46,
     "metadata": {},
     "output_type": "execute_result"
    }
   ],
   "source": [
    "def fit_model_with_best_params(name: str, estimator: BaseEstimator, params: dict) -> dict:\n",
    "    estimator.set_params(**params)\n",
    "    estimator.fit(features_train, target_train)\n",
    "\n",
    "    predicted_values = estimator.predict(features_test)\n",
    "    mae = mean_absolute_error(target_test, predicted_values)\n",
    "\n",
    "    return {\n",
    "        'Name': name,\n",
    "        'Model': estimator,\n",
    "        'Params': params,\n",
    "        'MAE': mae\n",
    "    }\n",
    "\n",
    "cat_boost = CatBoostRegressor(random_state=RANDOM_STATE, verbose=False)\n",
    "\n",
    "cat_boost_params = {\n",
    "    'n_estimators': 200,\n",
    "    'learning_rate': 0.05,\n",
    "    'depth': 7\n",
    "}\n",
    "\n",
    "cat_boost_result = fit_model_with_best_params('cat_boost', cat_boost, cat_boost_params)\n",
    "cat_boost_result\n"
   ]
  },
  {
   "cell_type": "code",
   "execution_count": 47,
   "metadata": {},
   "outputs": [
    {
     "data": {
      "image/png": "[encoded data removed]",
      "text/plain": [
       "<Figure size 864x864 with 1 Axes>"
      ]
     },
     "metadata": {
      "needs_background": "light"
     },
     "output_type": "display_data"
    }
   ],
   "source": [
    "show_feature_importance(estimator = cat_boost_result['Model'])"
   ]
  },
  {
   "cell_type": "code",
   "execution_count": 48,
   "metadata": {
    "colab": {
     "base_uri": "https://localhost:8080/",
     "height": 112
    },
    "id": "o_rW8KD8qucJ",
    "outputId": "400b6f2f-9993-43c5-960d-94fd06b669c0"
   },
   "outputs": [
    {
     "data": {
      "text/html": [
       "<div>\n",
       "<style scoped>\n",
       "    .dataframe tbody tr th:only-of-type {\n",
       "        vertical-align: middle;\n",
       "    }\n",
       "\n",
       "    .dataframe tbody tr th {\n",
       "        vertical-align: top;\n",
       "    }\n",
       "\n",
       "    .dataframe thead th {\n",
       "        text-align: right;\n",
       "    }\n",
       "</style>\n",
       "<table border=\"1\" class=\"dataframe\">\n",
       "  <thead>\n",
       "    <tr style=\"text-align: right;\">\n",
       "      <th></th>\n",
       "      <th>Name</th>\n",
       "      <th>Model</th>\n",
       "      <th>Params</th>\n",
       "      <th>MAE</th>\n",
       "    </tr>\n",
       "  </thead>\n",
       "  <tbody>\n",
       "    <tr>\n",
       "      <th>0</th>\n",
       "      <td>cat_boost</td>\n",
       "      <td>&lt;catboost.core.CatBoostRegressor object at 0x7...</td>\n",
       "      <td>{'n_estimators': 200, 'learning_rate': 0.05, '...</td>\n",
       "      <td>6.733533</td>\n",
       "    </tr>\n",
       "  </tbody>\n",
       "</table>\n",
       "</div>"
      ],
      "text/plain": [
       "        Name                                              Model  \\\n",
       "0  cat_boost  <catboost.core.CatBoostRegressor object at 0x7...   \n",
       "\n",
       "                                              Params       MAE  \n",
       "0  {'n_estimators': 200, 'learning_rate': 0.05, '...  6.733533  "
      ]
     },
     "execution_count": 48,
     "metadata": {},
     "output_type": "execute_result"
    }
   ],
   "source": [
    "model_result = pd.DataFrame([\n",
    "    cat_boost_result]\n",
    ")\n",
    "model_result.sort_values(by='Name', ascending=False).head(10)"
   ]
  },
  {
   "cell_type": "markdown",
   "metadata": {
    "id": "TQuaYc4o55e0"
   },
   "source": [
    "**Вывод:** как оказалось в данных было очень много пропусков и на большое количество аномалий. Пропуски заменили на 0, аномалии удалили. Сделали преобработку данных собрав в группы все ковши и получив по одному замеру в каждом, добавили пару фич. Прогнали данные через дерево решений и catboost. Ожидаемо буст показал результат лучше."
   ]
  },
  {
   "cell_type": "markdown",
   "metadata": {},
   "source": [
    "## Отчет по проделанной работе\n",
    "\n",
    "    В процессе выполнения проекта был уточнен и дополнен исходный план, разработанный после проведения разведывательного анализа данных. Несмотря на это, общая структура плана осталась неизменной, и все его пункты были успешно выполнены.\n",
    "    В ходе разведывательного анализа данных мы обратили внимание на высокую долю повторяющихся данных в различных датасетах. Оказалось, что некоторые наборы данных не имели прямого отношения к поставленной задаче. После тщательного анализа мы решили исключить данные о времени добавления присадок.\n",
    "    Во время предобработки данных возникла соблазнительная возможность удалить выбросы в некоторых признаках. Однако, учитывая, что у нас отсутствовала подробная информация о технологическом процессе, мы приняли решение не удалять выбросы, поскольку это могло бы быть некорректным.\n",
    "    Основные этапы проекта включали:\n",
    "        1.Анализ полученных данных.\n",
    "        2.Обнаружение и удаление явных выбросов.\n",
    "        3.Создание новых признаков на основе имеющихся данных.\n",
    "        4.Формирование окончательного датасета.\n",
    "        5.Проверка признаков на наличие мультиколлинеарности.\n",
    "        6.Использование нескольких моделей и выбор наилучшей из них.\n",
    "        7.Оценка важности признаков для прогнозирования конечной температуры.\n",
    "        8.Сравнение результатов моделей с константной моделью.\n",
    "        9.Тестирование наилучшей модели на отложенной выборке.\n",
    "    Итоговая модель, основанная на стохастическом градиентном бустинге (SGB) с использованием CatBoost, была выбрана для предсказания конечной температуры. Модель была обучена с помощью функции потерь MAE (mean_absolute_error) и шага градиентного бустинга 0,05. Средняя абсолютная ошибка (MAE) составила около 5°C на тренировочной выборке и около 6.7°C на тестовой выборке.\n",
    "    В итоговый датасет вошли следующие признаки:\n",
    "        Из датасета 'data arc new.csv' была удалена партия с аномальным значением по реактивной мощности, и был создан новый признак 'full power'.\n",
    "        В датасетах 'data bulk new.csv' и 'data wire new.csv' пропущенные значения были заменены на нулевые.\n",
    "        Из датасета 'data gas new.csv' были включены все имеющиеся данные.\n",
    "        Из датасета 'data temo new.csv' были удалены партии с температурой ниже 1400°C и партии с только одним замером температуры."
   ]
  }
 ],
 "metadata": {
  "ExecuteTimeLog": [
   {
    "duration": 368,
    "start_time": "2023-07-04T07:08:27.152Z"
   },
   {
    "duration": 102,
    "start_time": "2023-07-04T07:09:32.194Z"
   },
   {
    "duration": 115,
    "start_time": "2023-07-04T07:09:53.748Z"
   },
   {
    "duration": 130,
    "start_time": "2023-07-04T07:10:59.591Z"
   },
   {
    "duration": 53,
    "start_time": "2023-07-04T07:12:32.748Z"
   },
   {
    "duration": 62,
    "start_time": "2023-07-04T07:12:38.914Z"
   },
   {
    "duration": 47,
    "start_time": "2023-07-04T07:13:33.762Z"
   },
   {
    "duration": 45,
    "start_time": "2023-07-04T07:15:18.503Z"
   },
   {
    "duration": 89,
    "start_time": "2023-07-04T07:16:22.173Z"
   },
   {
    "duration": 7,
    "start_time": "2023-07-04T07:17:30.528Z"
   },
   {
    "duration": 8,
    "start_time": "2023-07-04T07:17:45.997Z"
   },
   {
    "duration": 8,
    "start_time": "2023-07-04T07:17:59.865Z"
   },
   {
    "duration": 148,
    "start_time": "2023-07-04T07:18:20.892Z"
   },
   {
    "duration": 69,
    "start_time": "2023-07-04T07:19:01.048Z"
   },
   {
    "duration": 110,
    "start_time": "2023-07-04T07:19:41.539Z"
   },
   {
    "duration": 51,
    "start_time": "2023-07-04T07:21:04.254Z"
   },
   {
    "duration": 9,
    "start_time": "2023-07-04T07:21:54.706Z"
   },
   {
    "duration": 14,
    "start_time": "2023-07-04T07:22:11.032Z"
   },
   {
    "duration": 10,
    "start_time": "2023-07-04T07:23:58.962Z"
   },
   {
    "duration": 7,
    "start_time": "2023-07-04T07:24:58.791Z"
   },
   {
    "duration": 16,
    "start_time": "2023-07-04T07:25:04.222Z"
   },
   {
    "duration": 13,
    "start_time": "2023-07-04T07:25:46.955Z"
   },
   {
    "duration": 14,
    "start_time": "2023-07-04T07:26:32.222Z"
   },
   {
    "duration": 41,
    "start_time": "2023-07-04T07:27:13.389Z"
   },
   {
    "duration": 11,
    "start_time": "2023-07-04T07:27:37.525Z"
   },
   {
    "duration": 16,
    "start_time": "2023-07-04T07:27:50.465Z"
   },
   {
    "duration": 7,
    "start_time": "2023-07-04T07:40:12.620Z"
   },
   {
    "duration": 118,
    "start_time": "2023-07-04T07:41:08.270Z"
   },
   {
    "duration": 7,
    "start_time": "2023-07-04T07:41:12.903Z"
   },
   {
    "duration": 52,
    "start_time": "2023-07-04T07:41:20.214Z"
   },
   {
    "duration": 13,
    "start_time": "2023-07-04T07:41:21.193Z"
   },
   {
    "duration": 11,
    "start_time": "2023-07-04T07:41:22.592Z"
   },
   {
    "duration": 115,
    "start_time": "2023-07-04T07:41:23.754Z"
   },
   {
    "duration": 904,
    "start_time": "2023-07-04T07:54:29.260Z"
   },
   {
    "duration": 5,
    "start_time": "2023-07-04T07:54:31.211Z"
   },
   {
    "duration": 4,
    "start_time": "2023-07-04T07:54:31.989Z"
   },
   {
    "duration": 52,
    "start_time": "2023-07-04T07:57:12.249Z"
   },
   {
    "duration": 4,
    "start_time": "2023-07-04T07:58:04.318Z"
   },
   {
    "duration": 23,
    "start_time": "2023-07-04T07:58:18.229Z"
   },
   {
    "duration": 8,
    "start_time": "2023-07-04T07:58:48.686Z"
   },
   {
    "duration": 553,
    "start_time": "2023-07-04T07:58:55.526Z"
   },
   {
    "duration": 481,
    "start_time": "2023-07-04T07:59:14.584Z"
   },
   {
    "duration": 591,
    "start_time": "2023-07-04T07:59:28.311Z"
   },
   {
    "duration": 526,
    "start_time": "2023-07-04T07:59:36.273Z"
   },
   {
    "duration": 14,
    "start_time": "2023-07-04T08:01:43.007Z"
   },
   {
    "duration": 664,
    "start_time": "2023-07-04T08:02:10.342Z"
   },
   {
    "duration": 449,
    "start_time": "2023-07-04T08:02:28.146Z"
   },
   {
    "duration": 601,
    "start_time": "2023-07-04T08:02:52.494Z"
   },
   {
    "duration": 710,
    "start_time": "2023-07-04T08:03:02.866Z"
   },
   {
    "duration": 684,
    "start_time": "2023-07-04T08:03:14.489Z"
   },
   {
    "duration": 557,
    "start_time": "2023-07-04T08:03:24.176Z"
   },
   {
    "duration": 615,
    "start_time": "2023-07-04T08:03:32.598Z"
   },
   {
    "duration": 119,
    "start_time": "2023-07-04T08:48:46.090Z"
   },
   {
    "duration": 130,
    "start_time": "2023-07-04T08:48:59.348Z"
   },
   {
    "duration": 114,
    "start_time": "2023-07-04T08:49:08.686Z"
   },
   {
    "duration": 101,
    "start_time": "2023-07-04T08:49:16.556Z"
   },
   {
    "duration": 196,
    "start_time": "2023-07-04T08:49:24.881Z"
   },
   {
    "duration": 138,
    "start_time": "2023-07-04T08:49:30.187Z"
   },
   {
    "duration": 170,
    "start_time": "2023-07-04T08:49:35.705Z"
   },
   {
    "duration": 137,
    "start_time": "2023-07-04T08:49:43.735Z"
   },
   {
    "duration": 183,
    "start_time": "2023-07-04T08:49:56.220Z"
   },
   {
    "duration": 231,
    "start_time": "2023-07-04T08:50:07.721Z"
   },
   {
    "duration": 129,
    "start_time": "2023-07-04T08:50:19.889Z"
   },
   {
    "duration": 140,
    "start_time": "2023-07-04T08:50:26.887Z"
   },
   {
    "duration": 157,
    "start_time": "2023-07-04T08:50:31.590Z"
   },
   {
    "duration": 1323,
    "start_time": "2023-07-04T11:20:20.910Z"
   },
   {
    "duration": 72,
    "start_time": "2023-07-04T11:20:22.235Z"
   },
   {
    "duration": 18,
    "start_time": "2023-07-04T11:20:22.309Z"
   },
   {
    "duration": 45,
    "start_time": "2023-07-04T11:20:22.330Z"
   },
   {
    "duration": 12,
    "start_time": "2023-07-04T11:20:22.377Z"
   },
   {
    "duration": 61,
    "start_time": "2023-07-04T11:20:22.390Z"
   },
   {
    "duration": 13,
    "start_time": "2023-07-04T11:20:22.454Z"
   },
   {
    "duration": 46,
    "start_time": "2023-07-04T11:20:22.469Z"
   },
   {
    "duration": 17,
    "start_time": "2023-07-04T11:20:22.517Z"
   },
   {
    "duration": 48,
    "start_time": "2023-07-04T11:20:22.541Z"
   },
   {
    "duration": 18,
    "start_time": "2023-07-04T11:20:22.592Z"
   },
   {
    "duration": 10,
    "start_time": "2023-07-04T11:20:22.612Z"
   },
   {
    "duration": 149,
    "start_time": "2023-07-04T11:20:22.632Z"
   },
   {
    "duration": 651,
    "start_time": "2023-07-04T11:20:22.783Z"
   },
   {
    "duration": 148,
    "start_time": "2023-07-04T11:20:23.440Z"
   },
   {
    "duration": 38,
    "start_time": "2023-07-04T11:20:23.590Z"
   },
   {
    "duration": 23,
    "start_time": "2023-07-04T11:20:23.630Z"
   },
   {
    "duration": 34,
    "start_time": "2023-07-04T11:20:23.654Z"
   },
   {
    "duration": 12,
    "start_time": "2023-07-04T11:20:23.690Z"
   },
   {
    "duration": 4,
    "start_time": "2023-07-04T11:24:36.182Z"
   },
   {
    "duration": 11,
    "start_time": "2023-07-04T11:24:47.717Z"
   },
   {
    "duration": 116,
    "start_time": "2023-07-04T11:25:32.089Z"
   },
   {
    "duration": 2559,
    "start_time": "2023-07-04T11:25:58.581Z"
   },
   {
    "duration": 1134,
    "start_time": "2023-07-04T11:26:13.292Z"
   },
   {
    "duration": 3475,
    "start_time": "2023-07-04T11:26:30.811Z"
   },
   {
    "duration": 142,
    "start_time": "2023-07-04T11:27:24.231Z"
   },
   {
    "duration": 186,
    "start_time": "2023-07-04T11:27:37.875Z"
   },
   {
    "duration": 329,
    "start_time": "2023-07-04T11:28:07.750Z"
   },
   {
    "duration": 309,
    "start_time": "2023-07-04T11:28:15.465Z"
   },
   {
    "duration": 328,
    "start_time": "2023-07-04T11:29:07.120Z"
   },
   {
    "duration": 542,
    "start_time": "2023-07-04T11:29:38.806Z"
   },
   {
    "duration": 8,
    "start_time": "2023-07-04T11:31:15.045Z"
   },
   {
    "duration": 135,
    "start_time": "2023-07-04T11:31:26.947Z"
   },
   {
    "duration": 188,
    "start_time": "2023-07-04T11:32:07.626Z"
   },
   {
    "duration": 142,
    "start_time": "2023-07-04T11:33:22.301Z"
   },
   {
    "duration": 19,
    "start_time": "2023-07-04T11:33:37.018Z"
   },
   {
    "duration": 144,
    "start_time": "2023-07-04T11:34:08.879Z"
   },
   {
    "duration": 117,
    "start_time": "2023-07-04T11:35:04.069Z"
   },
   {
    "duration": 4,
    "start_time": "2023-07-04T11:36:22.579Z"
   },
   {
    "duration": 223,
    "start_time": "2023-07-04T11:36:48.813Z"
   },
   {
    "duration": 333,
    "start_time": "2023-07-04T11:37:12.087Z"
   },
   {
    "duration": 7,
    "start_time": "2023-07-04T11:38:37.898Z"
   },
   {
    "duration": 1424,
    "start_time": "2023-07-05T08:09:42.822Z"
   },
   {
    "duration": 102,
    "start_time": "2023-07-05T08:09:45.991Z"
   },
   {
    "duration": 14,
    "start_time": "2023-07-05T08:09:46.756Z"
   },
   {
    "duration": 107,
    "start_time": "2023-07-05T08:10:22.379Z"
   },
   {
    "duration": 1332,
    "start_time": "2023-07-05T08:10:38.928Z"
   },
   {
    "duration": 17,
    "start_time": "2023-07-05T08:11:22.455Z"
   },
   {
    "duration": 136,
    "start_time": "2023-07-05T08:11:43.067Z"
   },
   {
    "duration": 1663,
    "start_time": "2023-07-05T08:12:10.613Z"
   },
   {
    "duration": 274,
    "start_time": "2023-07-05T08:12:45.182Z"
   },
   {
    "duration": 18,
    "start_time": "2023-07-05T08:12:53.226Z"
   },
   {
    "duration": 23,
    "start_time": "2023-07-05T08:12:59.275Z"
   },
   {
    "duration": 127,
    "start_time": "2023-07-05T08:13:02.898Z"
   },
   {
    "duration": 52,
    "start_time": "2023-07-05T08:13:08.223Z"
   },
   {
    "duration": 21,
    "start_time": "2023-07-05T08:13:20.394Z"
   },
   {
    "duration": 232,
    "start_time": "2023-07-05T08:13:29.644Z"
   },
   {
    "duration": 144,
    "start_time": "2023-07-05T08:14:26.281Z"
   },
   {
    "duration": 145,
    "start_time": "2023-07-05T08:14:31.524Z"
   },
   {
    "duration": 133,
    "start_time": "2023-07-05T08:14:55.711Z"
   },
   {
    "duration": 6,
    "start_time": "2023-07-05T08:24:15.012Z"
   },
   {
    "duration": 132,
    "start_time": "2023-07-05T08:24:20.748Z"
   },
   {
    "duration": 53,
    "start_time": "2023-07-05T08:24:56.955Z"
   },
   {
    "duration": 12,
    "start_time": "2023-07-05T08:24:57.401Z"
   },
   {
    "duration": 132,
    "start_time": "2023-07-05T08:24:58.159Z"
   },
   {
    "duration": 6,
    "start_time": "2023-07-05T08:24:59.089Z"
   },
   {
    "duration": 131,
    "start_time": "2023-07-05T08:25:00.145Z"
   },
   {
    "duration": 123,
    "start_time": "2023-07-05T08:26:09.564Z"
   },
   {
    "duration": 4,
    "start_time": "2023-07-05T08:26:10.717Z"
   },
   {
    "duration": 11,
    "start_time": "2023-07-05T08:26:12.288Z"
   },
   {
    "duration": 159,
    "start_time": "2023-07-05T08:29:21.886Z"
   },
   {
    "duration": 79,
    "start_time": "2023-07-05T08:29:57.036Z"
   },
   {
    "duration": 325,
    "start_time": "2023-07-05T08:30:07.015Z"
   },
   {
    "duration": 109,
    "start_time": "2023-07-05T08:31:09.420Z"
   },
   {
    "duration": 12,
    "start_time": "2023-07-05T08:31:10.097Z"
   },
   {
    "duration": 8,
    "start_time": "2023-07-05T08:31:19.176Z"
   },
   {
    "duration": 94,
    "start_time": "2023-07-05T08:31:26.993Z"
   },
   {
    "duration": 12,
    "start_time": "2023-07-05T08:31:28.631Z"
   },
   {
    "duration": 117,
    "start_time": "2023-07-05T08:31:29.837Z"
   },
   {
    "duration": 155,
    "start_time": "2023-07-05T08:31:37.736Z"
   },
   {
    "duration": 12,
    "start_time": "2023-07-05T08:31:39.331Z"
   },
   {
    "duration": 528,
    "start_time": "2023-07-05T08:32:11.008Z"
   },
   {
    "duration": 115,
    "start_time": "2023-07-05T08:32:14.270Z"
   },
   {
    "duration": 1993,
    "start_time": "2023-07-05T08:34:37.638Z"
   },
   {
    "duration": 4,
    "start_time": "2023-07-05T08:34:57.032Z"
   },
   {
    "duration": 1944,
    "start_time": "2023-07-05T08:35:08.039Z"
   },
   {
    "duration": 8,
    "start_time": "2023-07-05T08:35:55.576Z"
   },
   {
    "duration": 131,
    "start_time": "2023-07-05T08:36:00.845Z"
   },
   {
    "duration": 46,
    "start_time": "2023-07-05T08:36:11.371Z"
   },
   {
    "duration": 13,
    "start_time": "2023-07-05T08:36:11.533Z"
   },
   {
    "duration": 440,
    "start_time": "2023-07-05T08:36:11.706Z"
   },
   {
    "duration": 119,
    "start_time": "2023-07-05T08:36:12.406Z"
   },
   {
    "duration": 5,
    "start_time": "2023-07-05T08:36:26.010Z"
   },
   {
    "duration": 129,
    "start_time": "2023-07-05T08:36:27.771Z"
   },
   {
    "duration": 6,
    "start_time": "2023-07-05T08:36:46.204Z"
   },
   {
    "duration": 130,
    "start_time": "2023-07-05T08:36:48.239Z"
   },
   {
    "duration": 500,
    "start_time": "2023-07-05T08:37:47.090Z"
   },
   {
    "duration": 1091,
    "start_time": "2023-07-05T08:38:55.544Z"
   },
   {
    "duration": 8,
    "start_time": "2023-07-05T08:39:23.041Z"
   },
   {
    "duration": 132,
    "start_time": "2023-07-05T08:39:26.172Z"
   },
   {
    "duration": 7,
    "start_time": "2023-07-05T08:39:30.152Z"
   },
   {
    "duration": 127,
    "start_time": "2023-07-05T08:43:51.193Z"
   },
   {
    "duration": 8,
    "start_time": "2023-07-05T08:43:59.011Z"
   },
   {
    "duration": 127,
    "start_time": "2023-07-05T08:44:00.020Z"
   },
   {
    "duration": 8,
    "start_time": "2023-07-05T08:44:02.135Z"
   },
   {
    "duration": 225,
    "start_time": "2023-07-05T08:44:03.555Z"
   },
   {
    "duration": 8,
    "start_time": "2023-07-05T08:44:48.466Z"
   },
   {
    "duration": 130,
    "start_time": "2023-07-05T08:44:50.104Z"
   },
   {
    "duration": 8,
    "start_time": "2023-07-05T08:46:30.479Z"
   },
   {
    "duration": 135,
    "start_time": "2023-07-05T08:46:31.836Z"
   },
   {
    "duration": 73,
    "start_time": "2023-07-05T08:47:40.598Z"
   },
   {
    "duration": 11,
    "start_time": "2023-07-05T08:47:40.876Z"
   },
   {
    "duration": 4,
    "start_time": "2023-07-05T08:47:43.185Z"
   },
   {
    "duration": 257,
    "start_time": "2023-07-05T08:47:43.562Z"
   },
   {
    "duration": 237,
    "start_time": "2023-07-05T08:48:39.613Z"
   },
   {
    "duration": 118,
    "start_time": "2023-07-05T08:49:27.490Z"
   },
   {
    "duration": 13,
    "start_time": "2023-07-05T08:49:28.128Z"
   },
   {
    "duration": 8,
    "start_time": "2023-07-05T08:49:29.537Z"
   },
   {
    "duration": 1458,
    "start_time": "2023-07-05T19:35:26.932Z"
   },
   {
    "duration": 425,
    "start_time": "2023-07-05T19:35:28.393Z"
   },
   {
    "duration": 13,
    "start_time": "2023-07-05T19:35:28.820Z"
   },
   {
    "duration": 154,
    "start_time": "2023-07-05T19:35:28.835Z"
   },
   {
    "duration": 7,
    "start_time": "2023-07-05T19:35:28.992Z"
   },
   {
    "duration": 154,
    "start_time": "2023-07-05T19:35:29.000Z"
   },
   {
    "duration": 68,
    "start_time": "2023-07-05T19:35:29.155Z"
   },
   {
    "duration": 3,
    "start_time": "2023-07-05T19:35:29.225Z"
   },
   {
    "duration": 15,
    "start_time": "2023-07-05T19:35:29.230Z"
   },
   {
    "duration": 336,
    "start_time": "2023-07-05T19:35:29.247Z"
   },
   {
    "duration": 171,
    "start_time": "2023-07-05T19:35:29.584Z"
   },
   {
    "duration": 12,
    "start_time": "2023-07-05T19:35:29.756Z"
   },
   {
    "duration": 15,
    "start_time": "2023-07-05T19:35:29.770Z"
   },
   {
    "duration": 105,
    "start_time": "2023-07-05T19:35:29.788Z"
   },
   {
    "duration": 10,
    "start_time": "2023-07-05T19:35:29.895Z"
   },
   {
    "duration": 125,
    "start_time": "2023-07-05T19:35:29.907Z"
   },
   {
    "duration": 77,
    "start_time": "2023-07-05T19:35:30.034Z"
   },
   {
    "duration": 13,
    "start_time": "2023-07-05T19:35:30.112Z"
   },
   {
    "duration": 497,
    "start_time": "2023-07-05T19:35:30.127Z"
   },
   {
    "duration": 145,
    "start_time": "2023-07-05T19:35:30.625Z"
   },
   {
    "duration": 114,
    "start_time": "2023-07-05T19:35:30.772Z"
   },
   {
    "duration": 11,
    "start_time": "2023-07-05T19:35:30.888Z"
   },
   {
    "duration": 55,
    "start_time": "2023-07-05T19:35:30.901Z"
   },
   {
    "duration": 356,
    "start_time": "2023-07-05T19:35:30.958Z"
   },
   {
    "duration": 73,
    "start_time": "2023-07-05T19:35:31.316Z"
   },
   {
    "duration": 18,
    "start_time": "2023-07-05T19:35:31.391Z"
   },
   {
    "duration": 49,
    "start_time": "2023-07-05T19:35:31.411Z"
   },
   {
    "duration": 1306,
    "start_time": "2023-07-05T19:36:26.448Z"
   },
   {
    "duration": 62,
    "start_time": "2023-07-05T19:36:27.756Z"
   },
   {
    "duration": 14,
    "start_time": "2023-07-05T19:36:27.820Z"
   },
   {
    "duration": 154,
    "start_time": "2023-07-05T19:36:27.837Z"
   },
   {
    "duration": 9,
    "start_time": "2023-07-05T19:36:27.994Z"
   },
   {
    "duration": 157,
    "start_time": "2023-07-05T19:36:28.004Z"
   },
   {
    "duration": 34,
    "start_time": "2023-07-05T19:36:28.163Z"
   },
   {
    "duration": 3,
    "start_time": "2023-07-05T19:36:28.199Z"
   },
   {
    "duration": 20,
    "start_time": "2023-07-05T19:36:28.203Z"
   },
   {
    "duration": 354,
    "start_time": "2023-07-05T19:36:28.225Z"
   },
   {
    "duration": 41,
    "start_time": "2023-07-05T19:36:28.580Z"
   },
   {
    "duration": 15,
    "start_time": "2023-07-05T19:36:28.622Z"
   },
   {
    "duration": 17,
    "start_time": "2023-07-05T19:36:28.639Z"
   },
   {
    "duration": 45,
    "start_time": "2023-07-05T19:36:28.659Z"
   },
   {
    "duration": 11,
    "start_time": "2023-07-05T19:36:28.706Z"
   },
   {
    "duration": 137,
    "start_time": "2023-07-05T19:36:28.719Z"
   },
   {
    "duration": 47,
    "start_time": "2023-07-05T19:36:28.858Z"
   },
   {
    "duration": 12,
    "start_time": "2023-07-05T19:36:28.907Z"
   },
   {
    "duration": 491,
    "start_time": "2023-07-05T19:36:28.921Z"
   },
   {
    "duration": 128,
    "start_time": "2023-07-05T19:36:29.414Z"
   },
   {
    "duration": 30,
    "start_time": "2023-07-05T19:36:29.544Z"
   },
   {
    "duration": 11,
    "start_time": "2023-07-05T19:36:29.576Z"
   },
   {
    "duration": 5,
    "start_time": "2023-07-05T19:36:29.588Z"
   },
   {
    "duration": 341,
    "start_time": "2023-07-05T19:36:29.594Z"
   },
   {
    "duration": 40,
    "start_time": "2023-07-05T19:36:29.937Z"
   },
   {
    "duration": 12,
    "start_time": "2023-07-05T19:36:29.979Z"
   },
   {
    "duration": 8,
    "start_time": "2023-07-05T19:36:29.992Z"
   },
   {
    "duration": 107,
    "start_time": "2023-07-06T09:38:37.252Z"
   },
   {
    "duration": 1581,
    "start_time": "2023-07-06T09:38:48.428Z"
   },
   {
    "duration": 240,
    "start_time": "2023-07-06T09:38:51.752Z"
   },
   {
    "duration": 20,
    "start_time": "2023-07-06T09:38:52.909Z"
   },
   {
    "duration": 161,
    "start_time": "2023-07-06T09:38:54.143Z"
   },
   {
    "duration": 2,
    "start_time": "2023-07-06T09:39:04.571Z"
   },
   {
    "duration": 79,
    "start_time": "2023-07-06T09:39:04.728Z"
   },
   {
    "duration": 146,
    "start_time": "2023-07-06T09:39:16.586Z"
   },
   {
    "duration": 170,
    "start_time": "2023-07-06T09:39:29.691Z"
   },
   {
    "duration": 149,
    "start_time": "2023-07-06T09:39:43.193Z"
   },
   {
    "duration": 143,
    "start_time": "2023-07-06T09:39:52.070Z"
   },
   {
    "duration": 178,
    "start_time": "2023-07-06T09:40:13.902Z"
   },
   {
    "duration": 83,
    "start_time": "2023-07-06T09:40:59.311Z"
   },
   {
    "duration": 3,
    "start_time": "2023-07-06T09:41:01.606Z"
   },
   {
    "duration": 13,
    "start_time": "2023-07-06T09:41:02.351Z"
   },
   {
    "duration": 399,
    "start_time": "2023-07-06T09:41:25.384Z"
   },
   {
    "duration": 208,
    "start_time": "2023-07-06T09:41:33.778Z"
   },
   {
    "duration": 15,
    "start_time": "2023-07-06T09:41:34.798Z"
   },
   {
    "duration": 141,
    "start_time": "2023-07-06T09:41:53.105Z"
   },
   {
    "duration": 10,
    "start_time": "2023-07-06T09:41:53.248Z"
   },
   {
    "duration": 134,
    "start_time": "2023-07-06T09:41:57.633Z"
   },
   {
    "duration": 90,
    "start_time": "2023-07-06T09:42:03.986Z"
   },
   {
    "duration": 15,
    "start_time": "2023-07-06T09:42:04.928Z"
   },
   {
    "duration": 669,
    "start_time": "2023-07-06T09:42:09.267Z"
   },
   {
    "duration": 126,
    "start_time": "2023-07-06T09:42:12.449Z"
   },
   {
    "duration": 112,
    "start_time": "2023-07-06T09:42:28.516Z"
   },
   {
    "duration": 11,
    "start_time": "2023-07-06T09:42:28.835Z"
   },
   {
    "duration": 4,
    "start_time": "2023-07-06T09:42:29.500Z"
   },
   {
    "duration": 295,
    "start_time": "2023-07-06T09:42:48.740Z"
   },
   {
    "duration": 80,
    "start_time": "2023-07-06T09:42:54.286Z"
   },
   {
    "duration": 14,
    "start_time": "2023-07-06T09:42:54.694Z"
   },
   {
    "duration": 10,
    "start_time": "2023-07-06T09:42:57.250Z"
   },
   {
    "duration": 12,
    "start_time": "2023-07-06T09:51:33.657Z"
   },
   {
    "duration": 123,
    "start_time": "2023-07-06T09:51:45.803Z"
   },
   {
    "duration": 25,
    "start_time": "2023-07-06T09:54:15.309Z"
   },
   {
    "duration": 1257,
    "start_time": "2023-07-06T09:54:25.817Z"
   },
   {
    "duration": 63,
    "start_time": "2023-07-06T09:54:27.076Z"
   },
   {
    "duration": 14,
    "start_time": "2023-07-06T09:54:27.141Z"
   },
   {
    "duration": 194,
    "start_time": "2023-07-06T09:54:27.158Z"
   },
   {
    "duration": 34,
    "start_time": "2023-07-06T09:54:27.354Z"
   },
   {
    "duration": 4,
    "start_time": "2023-07-06T09:54:27.390Z"
   },
   {
    "duration": 25,
    "start_time": "2023-07-06T09:54:27.396Z"
   },
   {
    "duration": 407,
    "start_time": "2023-07-06T09:54:27.423Z"
   },
   {
    "duration": 39,
    "start_time": "2023-07-06T09:54:27.834Z"
   },
   {
    "duration": 18,
    "start_time": "2023-07-06T09:54:27.877Z"
   },
   {
    "duration": 52,
    "start_time": "2023-07-06T09:54:27.897Z"
   },
   {
    "duration": 13,
    "start_time": "2023-07-06T09:54:27.952Z"
   },
   {
    "duration": 192,
    "start_time": "2023-07-06T09:54:27.967Z"
   },
   {
    "duration": 45,
    "start_time": "2023-07-06T09:54:28.162Z"
   },
   {
    "duration": 18,
    "start_time": "2023-07-06T09:54:28.208Z"
   },
   {
    "duration": 492,
    "start_time": "2023-07-06T09:54:28.229Z"
   },
   {
    "duration": 131,
    "start_time": "2023-07-06T09:54:28.729Z"
   },
   {
    "duration": 27,
    "start_time": "2023-07-06T09:54:28.862Z"
   },
   {
    "duration": 11,
    "start_time": "2023-07-06T09:54:28.891Z"
   },
   {
    "duration": 17,
    "start_time": "2023-07-06T09:54:28.904Z"
   },
   {
    "duration": 287,
    "start_time": "2023-07-06T09:54:28.924Z"
   },
   {
    "duration": 46,
    "start_time": "2023-07-06T09:54:29.213Z"
   },
   {
    "duration": 13,
    "start_time": "2023-07-06T09:54:29.262Z"
   },
   {
    "duration": 16,
    "start_time": "2023-07-06T09:54:29.277Z"
   },
   {
    "duration": 163,
    "start_time": "2023-07-06T09:54:29.295Z"
   },
   {
    "duration": 1329,
    "start_time": "2023-07-06T09:55:28.970Z"
   },
   {
    "duration": 66,
    "start_time": "2023-07-06T09:55:30.301Z"
   },
   {
    "duration": 14,
    "start_time": "2023-07-06T09:55:30.369Z"
   },
   {
    "duration": 201,
    "start_time": "2023-07-06T09:55:30.385Z"
   },
   {
    "duration": 38,
    "start_time": "2023-07-06T09:55:30.588Z"
   },
   {
    "duration": 241,
    "start_time": "2023-07-06T09:55:30.629Z"
   },
   {
    "duration": 262,
    "start_time": "2023-07-06T09:55:30.873Z"
   },
   {
    "duration": 429,
    "start_time": "2023-07-06T09:55:31.137Z"
   },
   {
    "duration": 57,
    "start_time": "2023-07-06T09:55:31.567Z"
   },
   {
    "duration": 308,
    "start_time": "2023-07-06T09:55:31.630Z"
   },
   {
    "duration": 105,
    "start_time": "2023-07-06T09:55:31.941Z"
   },
   {
    "duration": 11,
    "start_time": "2023-07-06T09:55:32.048Z"
   },
   {
    "duration": 179,
    "start_time": "2023-07-06T09:55:32.061Z"
   },
   {
    "duration": 40,
    "start_time": "2023-07-06T09:55:32.245Z"
   },
   {
    "duration": 29,
    "start_time": "2023-07-06T09:55:32.287Z"
   },
   {
    "duration": 472,
    "start_time": "2023-07-06T09:55:32.327Z"
   },
   {
    "duration": 148,
    "start_time": "2023-07-06T09:55:32.801Z"
   },
   {
    "duration": 38,
    "start_time": "2023-07-06T09:55:32.951Z"
   },
   {
    "duration": 29,
    "start_time": "2023-07-06T09:55:32.991Z"
   },
   {
    "duration": 44,
    "start_time": "2023-07-06T09:55:33.022Z"
   },
   {
    "duration": 379,
    "start_time": "2023-07-06T09:55:33.068Z"
   },
   {
    "duration": 30,
    "start_time": "2023-07-06T09:55:33.448Z"
   },
   {
    "duration": 14,
    "start_time": "2023-07-06T09:55:33.480Z"
   },
   {
    "duration": 42,
    "start_time": "2023-07-06T09:55:33.496Z"
   },
   {
    "duration": 164,
    "start_time": "2023-07-06T09:55:33.540Z"
   },
   {
    "duration": 1299,
    "start_time": "2023-07-06T09:56:30.898Z"
   },
   {
    "duration": 60,
    "start_time": "2023-07-06T09:56:32.199Z"
   },
   {
    "duration": 17,
    "start_time": "2023-07-06T09:56:32.261Z"
   },
   {
    "duration": 177,
    "start_time": "2023-07-06T09:56:32.280Z"
   },
   {
    "duration": 39,
    "start_time": "2023-07-06T09:56:32.459Z"
   },
   {
    "duration": 5,
    "start_time": "2023-07-06T09:56:32.500Z"
   },
   {
    "duration": 77,
    "start_time": "2023-07-06T09:56:32.512Z"
   },
   {
    "duration": 401,
    "start_time": "2023-07-06T09:56:32.591Z"
   },
   {
    "duration": 41,
    "start_time": "2023-07-06T09:56:32.994Z"
   },
   {
    "duration": 17,
    "start_time": "2023-07-06T09:56:33.038Z"
   },
   {
    "duration": 91,
    "start_time": "2023-07-06T09:56:33.057Z"
   },
   {
    "duration": 12,
    "start_time": "2023-07-06T09:56:33.150Z"
   },
   {
    "duration": 169,
    "start_time": "2023-07-06T09:56:33.164Z"
   },
   {
    "duration": 44,
    "start_time": "2023-07-06T09:56:33.336Z"
   },
   {
    "duration": 15,
    "start_time": "2023-07-06T09:56:33.381Z"
   },
   {
    "duration": 633,
    "start_time": "2023-07-06T09:56:33.398Z"
   },
   {
    "duration": 130,
    "start_time": "2023-07-06T09:56:34.033Z"
   },
   {
    "duration": 27,
    "start_time": "2023-07-06T09:56:34.165Z"
   },
   {
    "duration": 11,
    "start_time": "2023-07-06T09:56:34.193Z"
   },
   {
    "duration": 18,
    "start_time": "2023-07-06T09:56:34.214Z"
   },
   {
    "duration": 271,
    "start_time": "2023-07-06T09:56:34.234Z"
   },
   {
    "duration": 64,
    "start_time": "2023-07-06T09:56:34.507Z"
   },
   {
    "duration": 12,
    "start_time": "2023-07-06T09:56:34.572Z"
   },
   {
    "duration": 12,
    "start_time": "2023-07-06T09:56:34.585Z"
   },
   {
    "duration": 13,
    "start_time": "2023-07-06T09:56:34.599Z"
   },
   {
    "duration": 1283,
    "start_time": "2023-07-06T09:59:04.525Z"
   },
   {
    "duration": 59,
    "start_time": "2023-07-06T09:59:05.812Z"
   },
   {
    "duration": 237,
    "start_time": "2023-07-06T09:59:05.873Z"
   },
   {
    "duration": 197,
    "start_time": "2023-07-06T09:59:06.113Z"
   },
   {
    "duration": 33,
    "start_time": "2023-07-06T09:59:06.312Z"
   },
   {
    "duration": 3,
    "start_time": "2023-07-06T09:59:06.346Z"
   },
   {
    "duration": 57,
    "start_time": "2023-07-06T09:59:06.351Z"
   },
   {
    "duration": 354,
    "start_time": "2023-07-06T09:59:06.410Z"
   },
   {
    "duration": 49,
    "start_time": "2023-07-06T09:59:06.766Z"
   },
   {
    "duration": 13,
    "start_time": "2023-07-06T09:59:06.816Z"
   },
   {
    "duration": 68,
    "start_time": "2023-07-06T09:59:06.831Z"
   },
   {
    "duration": 11,
    "start_time": "2023-07-06T09:59:06.901Z"
   },
   {
    "duration": 141,
    "start_time": "2023-07-06T09:59:06.914Z"
   },
   {
    "duration": 44,
    "start_time": "2023-07-06T09:59:07.058Z"
   },
   {
    "duration": 20,
    "start_time": "2023-07-06T09:59:07.104Z"
   },
   {
    "duration": 590,
    "start_time": "2023-07-06T09:59:07.127Z"
   },
   {
    "duration": 169,
    "start_time": "2023-07-06T09:59:07.719Z"
   },
   {
    "duration": 40,
    "start_time": "2023-07-06T09:59:07.889Z"
   },
   {
    "duration": 12,
    "start_time": "2023-07-06T09:59:07.931Z"
   },
   {
    "duration": 28,
    "start_time": "2023-07-06T09:59:07.945Z"
   },
   {
    "duration": 362,
    "start_time": "2023-07-06T09:59:07.975Z"
   },
   {
    "duration": 30,
    "start_time": "2023-07-06T09:59:08.339Z"
   },
   {
    "duration": 14,
    "start_time": "2023-07-06T09:59:08.371Z"
   },
   {
    "duration": 29,
    "start_time": "2023-07-06T09:59:08.386Z"
   },
   {
    "duration": 128,
    "start_time": "2023-07-06T09:59:08.417Z"
   },
   {
    "duration": 1264,
    "start_time": "2023-07-06T10:01:17.635Z"
   },
   {
    "duration": 63,
    "start_time": "2023-07-06T10:01:18.901Z"
   },
   {
    "duration": 15,
    "start_time": "2023-07-06T10:01:18.966Z"
   },
   {
    "duration": 143,
    "start_time": "2023-07-06T10:01:18.986Z"
   },
   {
    "duration": 33,
    "start_time": "2023-07-06T10:01:19.131Z"
   },
   {
    "duration": 4,
    "start_time": "2023-07-06T10:01:19.167Z"
   },
   {
    "duration": 15,
    "start_time": "2023-07-06T10:01:19.172Z"
   },
   {
    "duration": 356,
    "start_time": "2023-07-06T10:01:19.189Z"
   },
   {
    "duration": 53,
    "start_time": "2023-07-06T10:01:19.547Z"
   },
   {
    "duration": 18,
    "start_time": "2023-07-06T10:01:19.603Z"
   },
   {
    "duration": 47,
    "start_time": "2023-07-06T10:01:19.624Z"
   },
   {
    "duration": 18,
    "start_time": "2023-07-06T10:01:19.673Z"
   },
   {
    "duration": 184,
    "start_time": "2023-07-06T10:01:19.694Z"
   },
   {
    "duration": 41,
    "start_time": "2023-07-06T10:01:19.881Z"
   },
   {
    "duration": 18,
    "start_time": "2023-07-06T10:01:19.924Z"
   },
   {
    "duration": 583,
    "start_time": "2023-07-06T10:01:19.944Z"
   },
   {
    "duration": 145,
    "start_time": "2023-07-06T10:01:20.530Z"
   },
   {
    "duration": 52,
    "start_time": "2023-07-06T10:01:20.677Z"
   },
   {
    "duration": 13,
    "start_time": "2023-07-06T10:01:20.730Z"
   },
   {
    "duration": 8,
    "start_time": "2023-07-06T10:01:20.745Z"
   },
   {
    "duration": 320,
    "start_time": "2023-07-06T10:01:20.755Z"
   },
   {
    "duration": 32,
    "start_time": "2023-07-06T10:01:21.077Z"
   },
   {
    "duration": 28,
    "start_time": "2023-07-06T10:01:21.111Z"
   },
   {
    "duration": 41,
    "start_time": "2023-07-06T10:01:21.141Z"
   },
   {
    "duration": 178,
    "start_time": "2023-07-06T10:01:21.185Z"
   },
   {
    "duration": 23,
    "start_time": "2023-07-06T10:01:34.264Z"
   },
   {
    "duration": 1323,
    "start_time": "2023-07-06T10:01:44.566Z"
   },
   {
    "duration": 64,
    "start_time": "2023-07-06T10:01:45.892Z"
   },
   {
    "duration": 22,
    "start_time": "2023-07-06T10:01:45.958Z"
   },
   {
    "duration": 177,
    "start_time": "2023-07-06T10:01:45.982Z"
   },
   {
    "duration": 36,
    "start_time": "2023-07-06T10:01:46.163Z"
   },
   {
    "duration": 3,
    "start_time": "2023-07-06T10:01:46.202Z"
   },
   {
    "duration": 17,
    "start_time": "2023-07-06T10:01:46.213Z"
   },
   {
    "duration": 345,
    "start_time": "2023-07-06T10:01:46.232Z"
   },
   {
    "duration": 36,
    "start_time": "2023-07-06T10:01:46.579Z"
   },
   {
    "duration": 13,
    "start_time": "2023-07-06T10:01:46.617Z"
   },
   {
    "duration": 53,
    "start_time": "2023-07-06T10:01:46.632Z"
   },
   {
    "duration": 15,
    "start_time": "2023-07-06T10:01:46.687Z"
   },
   {
    "duration": 134,
    "start_time": "2023-07-06T10:01:46.705Z"
   },
   {
    "duration": 34,
    "start_time": "2023-07-06T10:01:46.843Z"
   },
   {
    "duration": 118,
    "start_time": "2023-07-06T10:01:46.879Z"
   },
   {
    "duration": 611,
    "start_time": "2023-07-06T10:01:46.999Z"
   },
   {
    "duration": 159,
    "start_time": "2023-07-06T10:01:47.613Z"
   },
   {
    "duration": 39,
    "start_time": "2023-07-06T10:01:47.774Z"
   },
   {
    "duration": 12,
    "start_time": "2023-07-06T10:01:47.814Z"
   },
   {
    "duration": 7,
    "start_time": "2023-07-06T10:01:47.828Z"
   },
   {
    "duration": 279,
    "start_time": "2023-07-06T10:01:47.837Z"
   },
   {
    "duration": 33,
    "start_time": "2023-07-06T10:01:48.118Z"
   },
   {
    "duration": 16,
    "start_time": "2023-07-06T10:01:48.152Z"
   },
   {
    "duration": 18,
    "start_time": "2023-07-06T10:01:48.170Z"
   },
   {
    "duration": 2231,
    "start_time": "2023-07-06T10:01:48.190Z"
   },
   {
    "duration": 1269,
    "start_time": "2023-07-06T10:02:03.227Z"
   },
   {
    "duration": 59,
    "start_time": "2023-07-06T10:02:04.499Z"
   },
   {
    "duration": 13,
    "start_time": "2023-07-06T10:02:04.559Z"
   },
   {
    "duration": 154,
    "start_time": "2023-07-06T10:02:04.574Z"
   },
   {
    "duration": 34,
    "start_time": "2023-07-06T10:02:04.730Z"
   },
   {
    "duration": 4,
    "start_time": "2023-07-06T10:02:04.765Z"
   },
   {
    "duration": 16,
    "start_time": "2023-07-06T10:02:04.770Z"
   },
   {
    "duration": 374,
    "start_time": "2023-07-06T10:02:04.788Z"
   },
   {
    "duration": 36,
    "start_time": "2023-07-06T10:02:05.164Z"
   },
   {
    "duration": 19,
    "start_time": "2023-07-06T10:02:05.201Z"
   },
   {
    "duration": 65,
    "start_time": "2023-07-06T10:02:05.222Z"
   },
   {
    "duration": 12,
    "start_time": "2023-07-06T10:02:05.289Z"
   },
   {
    "duration": 169,
    "start_time": "2023-07-06T10:02:05.303Z"
   },
   {
    "duration": 41,
    "start_time": "2023-07-06T10:02:05.476Z"
   },
   {
    "duration": 16,
    "start_time": "2023-07-06T10:02:05.519Z"
   },
   {
    "duration": 537,
    "start_time": "2023-07-06T10:02:05.537Z"
   },
   {
    "duration": 150,
    "start_time": "2023-07-06T10:02:06.076Z"
   },
   {
    "duration": 38,
    "start_time": "2023-07-06T10:02:06.228Z"
   },
   {
    "duration": 11,
    "start_time": "2023-07-06T10:02:06.268Z"
   },
   {
    "duration": 43,
    "start_time": "2023-07-06T10:02:06.280Z"
   },
   {
    "duration": 264,
    "start_time": "2023-07-06T10:02:06.324Z"
   },
   {
    "duration": 29,
    "start_time": "2023-07-06T10:02:06.590Z"
   },
   {
    "duration": 13,
    "start_time": "2023-07-06T10:02:06.621Z"
   },
   {
    "duration": 26,
    "start_time": "2023-07-06T10:02:06.637Z"
   },
   {
    "duration": 147,
    "start_time": "2023-07-06T10:02:06.666Z"
   },
   {
    "duration": 1218,
    "start_time": "2023-07-06T10:04:33.217Z"
   },
   {
    "duration": 77,
    "start_time": "2023-07-06T10:04:34.438Z"
   },
   {
    "duration": 14,
    "start_time": "2023-07-06T10:04:34.516Z"
   },
   {
    "duration": 167,
    "start_time": "2023-07-06T10:04:34.532Z"
   },
   {
    "duration": 33,
    "start_time": "2023-07-06T10:04:34.702Z"
   },
   {
    "duration": 4,
    "start_time": "2023-07-06T10:04:34.737Z"
   },
   {
    "duration": 19,
    "start_time": "2023-07-06T10:04:34.743Z"
   },
   {
    "duration": 371,
    "start_time": "2023-07-06T10:04:34.764Z"
   },
   {
    "duration": 38,
    "start_time": "2023-07-06T10:04:35.137Z"
   },
   {
    "duration": 120,
    "start_time": "2023-07-06T10:04:35.176Z"
   },
   {
    "duration": 144,
    "start_time": "2023-07-06T10:04:35.299Z"
   },
   {
    "duration": 18,
    "start_time": "2023-07-06T10:04:35.445Z"
   },
   {
    "duration": 211,
    "start_time": "2023-07-06T10:04:35.465Z"
   },
   {
    "duration": 47,
    "start_time": "2023-07-06T10:04:35.680Z"
   },
   {
    "duration": 14,
    "start_time": "2023-07-06T10:04:35.728Z"
   },
   {
    "duration": 580,
    "start_time": "2023-07-06T10:04:35.744Z"
   },
   {
    "duration": 140,
    "start_time": "2023-07-06T10:04:36.326Z"
   },
   {
    "duration": 28,
    "start_time": "2023-07-06T10:04:36.468Z"
   },
   {
    "duration": 15,
    "start_time": "2023-07-06T10:04:36.498Z"
   },
   {
    "duration": 9,
    "start_time": "2023-07-06T10:04:36.515Z"
   },
   {
    "duration": 261,
    "start_time": "2023-07-06T10:04:36.526Z"
   },
   {
    "duration": 40,
    "start_time": "2023-07-06T10:04:36.789Z"
   },
   {
    "duration": 13,
    "start_time": "2023-07-06T10:04:36.831Z"
   },
   {
    "duration": 27,
    "start_time": "2023-07-06T10:04:36.846Z"
   },
   {
    "duration": 10,
    "start_time": "2023-07-06T10:04:36.875Z"
   },
   {
    "duration": 218,
    "start_time": "2023-07-06T10:04:54.361Z"
   },
   {
    "duration": 1198,
    "start_time": "2023-07-06T10:07:08.061Z"
   },
   {
    "duration": 68,
    "start_time": "2023-07-06T10:07:09.261Z"
   },
   {
    "duration": 13,
    "start_time": "2023-07-06T10:07:09.331Z"
   },
   {
    "duration": 157,
    "start_time": "2023-07-06T10:07:09.347Z"
   },
   {
    "duration": 33,
    "start_time": "2023-07-06T10:07:09.506Z"
   },
   {
    "duration": 3,
    "start_time": "2023-07-06T10:07:09.540Z"
   },
   {
    "duration": 24,
    "start_time": "2023-07-06T10:07:09.544Z"
   },
   {
    "duration": 412,
    "start_time": "2023-07-06T10:07:09.570Z"
   },
   {
    "duration": 38,
    "start_time": "2023-07-06T10:07:09.984Z"
   },
   {
    "duration": 22,
    "start_time": "2023-07-06T10:07:10.026Z"
   },
   {
    "duration": 96,
    "start_time": "2023-07-06T10:07:10.050Z"
   },
   {
    "duration": 12,
    "start_time": "2023-07-06T10:07:10.147Z"
   },
   {
    "duration": 163,
    "start_time": "2023-07-06T10:07:10.160Z"
   },
   {
    "duration": 45,
    "start_time": "2023-07-06T10:07:10.326Z"
   },
   {
    "duration": 12,
    "start_time": "2023-07-06T10:07:10.373Z"
   },
   {
    "duration": 679,
    "start_time": "2023-07-06T10:07:10.386Z"
   },
   {
    "duration": 133,
    "start_time": "2023-07-06T10:07:11.067Z"
   },
   {
    "duration": 27,
    "start_time": "2023-07-06T10:07:11.202Z"
   },
   {
    "duration": 37,
    "start_time": "2023-07-06T10:07:11.230Z"
   },
   {
    "duration": 41,
    "start_time": "2023-07-06T10:07:11.268Z"
   },
   {
    "duration": 269,
    "start_time": "2023-07-06T10:07:11.311Z"
   },
   {
    "duration": 41,
    "start_time": "2023-07-06T10:07:11.582Z"
   },
   {
    "duration": 186,
    "start_time": "2023-07-06T10:07:11.624Z"
   },
   {
    "duration": 82,
    "start_time": "2023-07-06T10:07:11.812Z"
   },
   {
    "duration": 325,
    "start_time": "2023-07-06T10:07:11.896Z"
   },
   {
    "duration": 138,
    "start_time": "2023-07-06T10:12:35.019Z"
   },
   {
    "duration": 1270,
    "start_time": "2023-07-06T10:12:43.510Z"
   },
   {
    "duration": 62,
    "start_time": "2023-07-06T10:12:44.782Z"
   },
   {
    "duration": 19,
    "start_time": "2023-07-06T10:12:44.846Z"
   },
   {
    "duration": 194,
    "start_time": "2023-07-06T10:12:44.867Z"
   },
   {
    "duration": 35,
    "start_time": "2023-07-06T10:12:45.064Z"
   },
   {
    "duration": 37,
    "start_time": "2023-07-06T10:12:45.101Z"
   },
   {
    "duration": 336,
    "start_time": "2023-07-06T10:12:45.140Z"
   },
   {
    "duration": 37,
    "start_time": "2023-07-06T10:12:45.478Z"
   },
   {
    "duration": 23,
    "start_time": "2023-07-06T10:12:45.518Z"
   },
   {
    "duration": 46,
    "start_time": "2023-07-06T10:12:45.543Z"
   },
   {
    "duration": 14,
    "start_time": "2023-07-06T10:12:45.591Z"
   },
   {
    "duration": 150,
    "start_time": "2023-07-06T10:12:45.608Z"
   },
   {
    "duration": 34,
    "start_time": "2023-07-06T10:12:45.760Z"
   },
   {
    "duration": 21,
    "start_time": "2023-07-06T10:12:45.798Z"
   },
   {
    "duration": 447,
    "start_time": "2023-07-06T10:12:45.821Z"
   },
   {
    "duration": 150,
    "start_time": "2023-07-06T10:12:46.270Z"
   },
   {
    "duration": 39,
    "start_time": "2023-07-06T10:12:46.423Z"
   },
   {
    "duration": 12,
    "start_time": "2023-07-06T10:12:46.465Z"
   },
   {
    "duration": 4,
    "start_time": "2023-07-06T10:12:46.479Z"
   },
   {
    "duration": 254,
    "start_time": "2023-07-06T10:12:46.485Z"
   },
   {
    "duration": 28,
    "start_time": "2023-07-06T10:12:46.741Z"
   },
   {
    "duration": 15,
    "start_time": "2023-07-06T10:12:46.771Z"
   },
   {
    "duration": 12,
    "start_time": "2023-07-06T10:12:46.788Z"
   },
   {
    "duration": 9,
    "start_time": "2023-07-06T10:12:46.814Z"
   },
   {
    "duration": 130,
    "start_time": "2023-07-06T10:12:46.825Z"
   },
   {
    "duration": 1214,
    "start_time": "2023-07-06T10:13:35.921Z"
   },
   {
    "duration": 60,
    "start_time": "2023-07-06T10:13:37.137Z"
   },
   {
    "duration": 13,
    "start_time": "2023-07-06T10:13:37.199Z"
   },
   {
    "duration": 146,
    "start_time": "2023-07-06T10:13:37.215Z"
   },
   {
    "duration": 33,
    "start_time": "2023-07-06T10:13:37.363Z"
   },
   {
    "duration": 15,
    "start_time": "2023-07-06T10:13:37.398Z"
   },
   {
    "duration": 364,
    "start_time": "2023-07-06T10:13:37.414Z"
   },
   {
    "duration": 36,
    "start_time": "2023-07-06T10:13:37.780Z"
   },
   {
    "duration": 13,
    "start_time": "2023-07-06T10:13:37.817Z"
   },
   {
    "duration": 56,
    "start_time": "2023-07-06T10:13:37.832Z"
   },
   {
    "duration": 11,
    "start_time": "2023-07-06T10:13:37.890Z"
   },
   {
    "duration": 136,
    "start_time": "2023-07-06T10:13:37.903Z"
   },
   {
    "duration": 34,
    "start_time": "2023-07-06T10:13:38.040Z"
   },
   {
    "duration": 12,
    "start_time": "2023-07-06T10:13:38.076Z"
   },
   {
    "duration": 483,
    "start_time": "2023-07-06T10:13:38.090Z"
   },
   {
    "duration": 140,
    "start_time": "2023-07-06T10:13:38.576Z"
   },
   {
    "duration": 37,
    "start_time": "2023-07-06T10:13:38.718Z"
   },
   {
    "duration": 11,
    "start_time": "2023-07-06T10:13:38.757Z"
   },
   {
    "duration": 6,
    "start_time": "2023-07-06T10:13:38.770Z"
   },
   {
    "duration": 249,
    "start_time": "2023-07-06T10:13:38.777Z"
   },
   {
    "duration": 28,
    "start_time": "2023-07-06T10:13:39.027Z"
   },
   {
    "duration": 12,
    "start_time": "2023-07-06T10:13:39.056Z"
   },
   {
    "duration": 17,
    "start_time": "2023-07-06T10:13:39.070Z"
   },
   {
    "duration": 8,
    "start_time": "2023-07-06T10:13:39.090Z"
   },
   {
    "duration": 121,
    "start_time": "2023-07-06T10:13:39.100Z"
   },
   {
    "duration": 4,
    "start_time": "2023-07-06T10:13:51.159Z"
   },
   {
    "duration": 5,
    "start_time": "2023-07-06T10:15:19.095Z"
   },
   {
    "duration": 469,
    "start_time": "2023-07-06T10:15:29.546Z"
   },
   {
    "duration": 5,
    "start_time": "2023-07-06T10:15:56.926Z"
   },
   {
    "duration": 172,
    "start_time": "2023-07-06T10:16:05.424Z"
   },
   {
    "duration": 1139,
    "start_time": "2023-07-06T10:17:52.664Z"
   },
   {
    "duration": 62,
    "start_time": "2023-07-06T10:17:53.804Z"
   },
   {
    "duration": 14,
    "start_time": "2023-07-06T10:17:53.867Z"
   },
   {
    "duration": 165,
    "start_time": "2023-07-06T10:17:53.884Z"
   },
   {
    "duration": 33,
    "start_time": "2023-07-06T10:17:54.051Z"
   },
   {
    "duration": 11,
    "start_time": "2023-07-06T10:17:54.086Z"
   },
   {
    "duration": 332,
    "start_time": "2023-07-06T10:17:54.099Z"
   },
   {
    "duration": 36,
    "start_time": "2023-07-06T10:17:54.433Z"
   },
   {
    "duration": 13,
    "start_time": "2023-07-06T10:17:54.471Z"
   },
   {
    "duration": 54,
    "start_time": "2023-07-06T10:17:54.487Z"
   },
   {
    "duration": 11,
    "start_time": "2023-07-06T10:17:54.542Z"
   },
   {
    "duration": 137,
    "start_time": "2023-07-06T10:17:54.555Z"
   },
   {
    "duration": 34,
    "start_time": "2023-07-06T10:17:54.694Z"
   },
   {
    "duration": 12,
    "start_time": "2023-07-06T10:17:54.729Z"
   },
   {
    "duration": 537,
    "start_time": "2023-07-06T10:17:54.742Z"
   },
   {
    "duration": 134,
    "start_time": "2023-07-06T10:17:55.281Z"
   },
   {
    "duration": 38,
    "start_time": "2023-07-06T10:17:55.417Z"
   },
   {
    "duration": 10,
    "start_time": "2023-07-06T10:17:55.456Z"
   },
   {
    "duration": 8,
    "start_time": "2023-07-06T10:17:55.468Z"
   },
   {
    "duration": 248,
    "start_time": "2023-07-06T10:17:55.477Z"
   },
   {
    "duration": 28,
    "start_time": "2023-07-06T10:17:55.727Z"
   },
   {
    "duration": 12,
    "start_time": "2023-07-06T10:17:55.757Z"
   },
   {
    "duration": 8,
    "start_time": "2023-07-06T10:17:55.771Z"
   },
   {
    "duration": 17,
    "start_time": "2023-07-06T10:17:55.781Z"
   },
   {
    "duration": 129,
    "start_time": "2023-07-06T10:17:55.799Z"
   },
   {
    "duration": 5,
    "start_time": "2023-07-06T10:19:03.883Z"
   },
   {
    "duration": 19,
    "start_time": "2023-07-06T10:19:15.370Z"
   },
   {
    "duration": 1646,
    "start_time": "2023-07-06T10:26:59.017Z"
   },
   {
    "duration": 1155,
    "start_time": "2023-07-06T10:27:08.410Z"
   },
   {
    "duration": 68,
    "start_time": "2023-07-06T10:27:09.567Z"
   },
   {
    "duration": 17,
    "start_time": "2023-07-06T10:27:09.638Z"
   },
   {
    "duration": 210,
    "start_time": "2023-07-06T10:27:09.657Z"
   },
   {
    "duration": 48,
    "start_time": "2023-07-06T10:27:09.870Z"
   },
   {
    "duration": 14,
    "start_time": "2023-07-06T10:27:09.920Z"
   },
   {
    "duration": 338,
    "start_time": "2023-07-06T10:27:09.935Z"
   },
   {
    "duration": 38,
    "start_time": "2023-07-06T10:27:10.275Z"
   },
   {
    "duration": 13,
    "start_time": "2023-07-06T10:27:10.315Z"
   },
   {
    "duration": 44,
    "start_time": "2023-07-06T10:27:10.330Z"
   },
   {
    "duration": 11,
    "start_time": "2023-07-06T10:27:10.376Z"
   },
   {
    "duration": 140,
    "start_time": "2023-07-06T10:27:10.389Z"
   },
   {
    "duration": 43,
    "start_time": "2023-07-06T10:27:10.531Z"
   },
   {
    "duration": 15,
    "start_time": "2023-07-06T10:27:10.578Z"
   },
   {
    "duration": 507,
    "start_time": "2023-07-06T10:27:10.596Z"
   },
   {
    "duration": 133,
    "start_time": "2023-07-06T10:27:11.104Z"
   },
   {
    "duration": 38,
    "start_time": "2023-07-06T10:27:11.239Z"
   },
   {
    "duration": 11,
    "start_time": "2023-07-06T10:27:11.279Z"
   },
   {
    "duration": 5,
    "start_time": "2023-07-06T10:27:11.291Z"
   },
   {
    "duration": 274,
    "start_time": "2023-07-06T10:27:11.298Z"
   },
   {
    "duration": 30,
    "start_time": "2023-07-06T10:27:11.573Z"
   },
   {
    "duration": 18,
    "start_time": "2023-07-06T10:27:11.605Z"
   },
   {
    "duration": 26,
    "start_time": "2023-07-06T10:27:11.624Z"
   },
   {
    "duration": 9,
    "start_time": "2023-07-06T10:27:11.651Z"
   },
   {
    "duration": 7,
    "start_time": "2023-07-06T10:27:11.662Z"
   },
   {
    "duration": 414,
    "start_time": "2023-07-06T10:27:23.966Z"
   },
   {
    "duration": 1257,
    "start_time": "2023-07-06T10:27:54.304Z"
   },
   {
    "duration": 59,
    "start_time": "2023-07-06T10:27:55.564Z"
   },
   {
    "duration": 15,
    "start_time": "2023-07-06T10:27:55.625Z"
   },
   {
    "duration": 165,
    "start_time": "2023-07-06T10:27:55.642Z"
   },
   {
    "duration": 35,
    "start_time": "2023-07-06T10:27:55.813Z"
   },
   {
    "duration": 16,
    "start_time": "2023-07-06T10:27:55.850Z"
   },
   {
    "duration": 376,
    "start_time": "2023-07-06T10:27:55.869Z"
   },
   {
    "duration": 347,
    "start_time": "2023-07-06T10:27:56.248Z"
   },
   {
    "duration": 49,
    "start_time": "2023-07-06T10:27:56.596Z"
   },
   {
    "duration": 14,
    "start_time": "2023-07-06T10:27:56.647Z"
   },
   {
    "duration": 47,
    "start_time": "2023-07-06T10:27:56.663Z"
   },
   {
    "duration": 11,
    "start_time": "2023-07-06T10:27:56.712Z"
   },
   {
    "duration": 146,
    "start_time": "2023-07-06T10:27:56.725Z"
   },
   {
    "duration": 35,
    "start_time": "2023-07-06T10:27:56.874Z"
   },
   {
    "duration": 13,
    "start_time": "2023-07-06T10:27:56.910Z"
   },
   {
    "duration": 445,
    "start_time": "2023-07-06T10:27:56.925Z"
   },
   {
    "duration": 132,
    "start_time": "2023-07-06T10:27:57.372Z"
   },
   {
    "duration": 37,
    "start_time": "2023-07-06T10:27:57.513Z"
   },
   {
    "duration": 11,
    "start_time": "2023-07-06T10:27:57.552Z"
   },
   {
    "duration": 14,
    "start_time": "2023-07-06T10:27:57.564Z"
   },
   {
    "duration": 335,
    "start_time": "2023-07-06T10:27:57.580Z"
   },
   {
    "duration": 40,
    "start_time": "2023-07-06T10:27:57.917Z"
   },
   {
    "duration": 13,
    "start_time": "2023-07-06T10:27:57.959Z"
   },
   {
    "duration": 28,
    "start_time": "2023-07-06T10:27:57.974Z"
   },
   {
    "duration": 22,
    "start_time": "2023-07-06T10:27:58.004Z"
   },
   {
    "duration": 17,
    "start_time": "2023-07-06T10:27:58.028Z"
   },
   {
    "duration": 4,
    "start_time": "2023-07-06T10:28:01.169Z"
   },
   {
    "duration": 321,
    "start_time": "2023-07-06T10:28:07.452Z"
   },
   {
    "duration": 1234,
    "start_time": "2023-07-06T10:29:00.331Z"
   },
   {
    "duration": 61,
    "start_time": "2023-07-06T10:29:01.568Z"
   },
   {
    "duration": 16,
    "start_time": "2023-07-06T10:29:01.632Z"
   },
   {
    "duration": 230,
    "start_time": "2023-07-06T10:29:01.651Z"
   },
   {
    "duration": 34,
    "start_time": "2023-07-06T10:29:01.885Z"
   },
   {
    "duration": 56,
    "start_time": "2023-07-06T10:29:01.921Z"
   },
   {
    "duration": 421,
    "start_time": "2023-07-06T10:29:01.979Z"
   },
   {
    "duration": 40,
    "start_time": "2023-07-06T10:29:02.402Z"
   },
   {
    "duration": 18,
    "start_time": "2023-07-06T10:29:02.444Z"
   },
   {
    "duration": 46,
    "start_time": "2023-07-06T10:29:02.464Z"
   },
   {
    "duration": 15,
    "start_time": "2023-07-06T10:29:02.511Z"
   },
   {
    "duration": 154,
    "start_time": "2023-07-06T10:29:02.528Z"
   },
   {
    "duration": 44,
    "start_time": "2023-07-06T10:29:02.684Z"
   },
   {
    "duration": 12,
    "start_time": "2023-07-06T10:29:02.731Z"
   },
   {
    "duration": 531,
    "start_time": "2023-07-06T10:29:02.745Z"
   },
   {
    "duration": 149,
    "start_time": "2023-07-06T10:29:03.277Z"
   },
   {
    "duration": 27,
    "start_time": "2023-07-06T10:29:03.429Z"
   },
   {
    "duration": 88,
    "start_time": "2023-07-06T10:29:03.458Z"
   },
   {
    "duration": 75,
    "start_time": "2023-07-06T10:29:03.548Z"
   },
   {
    "duration": 281,
    "start_time": "2023-07-06T10:29:03.625Z"
   },
   {
    "duration": 47,
    "start_time": "2023-07-06T10:29:03.908Z"
   },
   {
    "duration": 21,
    "start_time": "2023-07-06T10:29:03.957Z"
   },
   {
    "duration": 29,
    "start_time": "2023-07-06T10:29:03.980Z"
   },
   {
    "duration": 48,
    "start_time": "2023-07-06T10:29:04.012Z"
   },
   {
    "duration": 21,
    "start_time": "2023-07-06T10:29:04.062Z"
   },
   {
    "duration": 422,
    "start_time": "2023-07-06T10:29:13.895Z"
   },
   {
    "duration": 1174,
    "start_time": "2023-07-06T10:29:35.346Z"
   },
   {
    "duration": 59,
    "start_time": "2023-07-06T10:29:36.522Z"
   },
   {
    "duration": 16,
    "start_time": "2023-07-06T10:29:36.583Z"
   },
   {
    "duration": 156,
    "start_time": "2023-07-06T10:29:36.600Z"
   },
   {
    "duration": 36,
    "start_time": "2023-07-06T10:29:36.758Z"
   },
   {
    "duration": 17,
    "start_time": "2023-07-06T10:29:36.796Z"
   },
   {
    "duration": 341,
    "start_time": "2023-07-06T10:29:36.815Z"
   },
   {
    "duration": 37,
    "start_time": "2023-07-06T10:29:37.158Z"
   },
   {
    "duration": 16,
    "start_time": "2023-07-06T10:29:37.197Z"
   },
   {
    "duration": 44,
    "start_time": "2023-07-06T10:29:37.215Z"
   },
   {
    "duration": 10,
    "start_time": "2023-07-06T10:29:37.261Z"
   },
   {
    "duration": 128,
    "start_time": "2023-07-06T10:29:37.273Z"
   },
   {
    "duration": 33,
    "start_time": "2023-07-06T10:29:37.403Z"
   },
   {
    "duration": 12,
    "start_time": "2023-07-06T10:29:37.438Z"
   },
   {
    "duration": 511,
    "start_time": "2023-07-06T10:29:37.452Z"
   },
   {
    "duration": 140,
    "start_time": "2023-07-06T10:29:37.965Z"
   },
   {
    "duration": 44,
    "start_time": "2023-07-06T10:29:38.107Z"
   },
   {
    "duration": 63,
    "start_time": "2023-07-06T10:29:38.153Z"
   },
   {
    "duration": 4,
    "start_time": "2023-07-06T10:29:38.219Z"
   },
   {
    "duration": 270,
    "start_time": "2023-07-06T10:29:38.224Z"
   },
   {
    "duration": 31,
    "start_time": "2023-07-06T10:29:38.496Z"
   },
   {
    "duration": 12,
    "start_time": "2023-07-06T10:29:38.529Z"
   },
   {
    "duration": 14,
    "start_time": "2023-07-06T10:29:38.544Z"
   },
   {
    "duration": 16,
    "start_time": "2023-07-06T10:29:38.560Z"
   },
   {
    "duration": 8,
    "start_time": "2023-07-06T10:29:38.578Z"
   },
   {
    "duration": 424,
    "start_time": "2023-07-06T10:29:45.894Z"
   },
   {
    "duration": 1241,
    "start_time": "2023-07-06T10:30:13.088Z"
   },
   {
    "duration": 59,
    "start_time": "2023-07-06T10:30:14.331Z"
   },
   {
    "duration": 12,
    "start_time": "2023-07-06T10:30:14.392Z"
   },
   {
    "duration": 157,
    "start_time": "2023-07-06T10:30:14.406Z"
   },
   {
    "duration": 34,
    "start_time": "2023-07-06T10:30:14.566Z"
   },
   {
    "duration": 17,
    "start_time": "2023-07-06T10:30:14.602Z"
   },
   {
    "duration": 355,
    "start_time": "2023-07-06T10:30:14.621Z"
   },
   {
    "duration": 39,
    "start_time": "2023-07-06T10:30:14.977Z"
   },
   {
    "duration": 15,
    "start_time": "2023-07-06T10:30:15.018Z"
   },
   {
    "duration": 84,
    "start_time": "2023-07-06T10:30:15.035Z"
   },
   {
    "duration": 12,
    "start_time": "2023-07-06T10:30:15.121Z"
   },
   {
    "duration": 157,
    "start_time": "2023-07-06T10:30:15.135Z"
   },
   {
    "duration": 36,
    "start_time": "2023-07-06T10:30:15.294Z"
   },
   {
    "duration": 13,
    "start_time": "2023-07-06T10:30:15.333Z"
   },
   {
    "duration": 538,
    "start_time": "2023-07-06T10:30:15.348Z"
   },
   {
    "duration": 204,
    "start_time": "2023-07-06T10:30:15.889Z"
   },
   {
    "duration": 40,
    "start_time": "2023-07-06T10:30:16.095Z"
   },
   {
    "duration": 15,
    "start_time": "2023-07-06T10:30:16.136Z"
   },
   {
    "duration": 9,
    "start_time": "2023-07-06T10:30:16.153Z"
   },
   {
    "duration": 277,
    "start_time": "2023-07-06T10:30:16.165Z"
   },
   {
    "duration": 30,
    "start_time": "2023-07-06T10:30:16.444Z"
   },
   {
    "duration": 13,
    "start_time": "2023-07-06T10:30:16.477Z"
   },
   {
    "duration": 22,
    "start_time": "2023-07-06T10:30:16.493Z"
   },
   {
    "duration": 7,
    "start_time": "2023-07-06T10:30:16.517Z"
   },
   {
    "duration": 7,
    "start_time": "2023-07-06T10:30:16.527Z"
   },
   {
    "duration": 4,
    "start_time": "2023-07-06T10:34:03.049Z"
   },
   {
    "duration": 212,
    "start_time": "2023-07-06T10:34:12.488Z"
   },
   {
    "duration": 4,
    "start_time": "2023-07-06T10:34:26.861Z"
   },
   {
    "duration": 113,
    "start_time": "2023-07-06T10:34:32.028Z"
   },
   {
    "duration": 4,
    "start_time": "2023-07-06T10:34:58.653Z"
   },
   {
    "duration": 122,
    "start_time": "2023-07-06T10:35:03.892Z"
   },
   {
    "duration": 5,
    "start_time": "2023-07-06T10:35:16.860Z"
   },
   {
    "duration": 124,
    "start_time": "2023-07-06T10:35:21.635Z"
   },
   {
    "duration": 155,
    "start_time": "2023-07-06T10:38:46.710Z"
   },
   {
    "duration": 1278,
    "start_time": "2023-07-06T10:39:31.174Z"
   },
   {
    "duration": 64,
    "start_time": "2023-07-06T10:39:32.454Z"
   },
   {
    "duration": 21,
    "start_time": "2023-07-06T10:39:32.521Z"
   },
   {
    "duration": 177,
    "start_time": "2023-07-06T10:39:32.544Z"
   },
   {
    "duration": 35,
    "start_time": "2023-07-06T10:39:32.728Z"
   },
   {
    "duration": 19,
    "start_time": "2023-07-06T10:39:32.764Z"
   },
   {
    "duration": 360,
    "start_time": "2023-07-06T10:39:32.785Z"
   },
   {
    "duration": 37,
    "start_time": "2023-07-06T10:39:33.148Z"
   },
   {
    "duration": 13,
    "start_time": "2023-07-06T10:39:33.187Z"
   },
   {
    "duration": 43,
    "start_time": "2023-07-06T10:39:33.217Z"
   },
   {
    "duration": 11,
    "start_time": "2023-07-06T10:39:33.262Z"
   },
   {
    "duration": 144,
    "start_time": "2023-07-06T10:39:33.275Z"
   },
   {
    "duration": 34,
    "start_time": "2023-07-06T10:39:33.422Z"
   },
   {
    "duration": 11,
    "start_time": "2023-07-06T10:39:33.460Z"
   },
   {
    "duration": 553,
    "start_time": "2023-07-06T10:39:33.473Z"
   },
   {
    "duration": 161,
    "start_time": "2023-07-06T10:39:34.029Z"
   },
   {
    "duration": 68,
    "start_time": "2023-07-06T10:39:34.193Z"
   },
   {
    "duration": 11,
    "start_time": "2023-07-06T10:39:34.263Z"
   },
   {
    "duration": 8,
    "start_time": "2023-07-06T10:39:34.276Z"
   },
   {
    "duration": 383,
    "start_time": "2023-07-06T10:39:34.286Z"
   },
   {
    "duration": 28,
    "start_time": "2023-07-06T10:39:34.671Z"
   },
   {
    "duration": 16,
    "start_time": "2023-07-06T10:39:34.701Z"
   },
   {
    "duration": 15,
    "start_time": "2023-07-06T10:39:34.719Z"
   },
   {
    "duration": 6,
    "start_time": "2023-07-06T10:39:34.737Z"
   },
   {
    "duration": 9,
    "start_time": "2023-07-06T10:39:34.745Z"
   },
   {
    "duration": 133,
    "start_time": "2023-07-06T10:39:34.756Z"
   },
   {
    "duration": 14,
    "start_time": "2023-07-06T10:39:44.129Z"
   },
   {
    "duration": 1310,
    "start_time": "2023-07-06T10:41:08.626Z"
   },
   {
    "duration": 63,
    "start_time": "2023-07-06T10:41:09.940Z"
   },
   {
    "duration": 26,
    "start_time": "2023-07-06T10:41:10.005Z"
   },
   {
    "duration": 178,
    "start_time": "2023-07-06T10:41:10.036Z"
   },
   {
    "duration": 44,
    "start_time": "2023-07-06T10:41:10.216Z"
   },
   {
    "duration": 16,
    "start_time": "2023-07-06T10:41:10.262Z"
   },
   {
    "duration": 389,
    "start_time": "2023-07-06T10:41:10.280Z"
   },
   {
    "duration": 36,
    "start_time": "2023-07-06T10:41:10.671Z"
   },
   {
    "duration": 20,
    "start_time": "2023-07-06T10:41:10.708Z"
   },
   {
    "duration": 45,
    "start_time": "2023-07-06T10:41:10.732Z"
   },
   {
    "duration": 11,
    "start_time": "2023-07-06T10:41:10.778Z"
   },
   {
    "duration": 169,
    "start_time": "2023-07-06T10:41:10.791Z"
   },
   {
    "duration": 44,
    "start_time": "2023-07-06T10:41:10.961Z"
   },
   {
    "duration": 12,
    "start_time": "2023-07-06T10:41:11.007Z"
   },
   {
    "duration": 488,
    "start_time": "2023-07-06T10:41:11.021Z"
   },
   {
    "duration": 164,
    "start_time": "2023-07-06T10:41:11.514Z"
   },
   {
    "duration": 27,
    "start_time": "2023-07-06T10:41:11.680Z"
   },
   {
    "duration": 23,
    "start_time": "2023-07-06T10:41:11.709Z"
   },
   {
    "duration": 4,
    "start_time": "2023-07-06T10:41:11.735Z"
   },
   {
    "duration": 314,
    "start_time": "2023-07-06T10:41:11.741Z"
   },
   {
    "duration": 40,
    "start_time": "2023-07-06T10:41:12.057Z"
   },
   {
    "duration": 13,
    "start_time": "2023-07-06T10:41:12.098Z"
   },
   {
    "duration": 13,
    "start_time": "2023-07-06T10:41:12.114Z"
   },
   {
    "duration": 10,
    "start_time": "2023-07-06T10:41:12.130Z"
   },
   {
    "duration": 8,
    "start_time": "2023-07-06T10:41:12.143Z"
   },
   {
    "duration": 5,
    "start_time": "2023-07-06T10:41:12.153Z"
   },
   {
    "duration": 13,
    "start_time": "2023-07-06T10:41:12.160Z"
   },
   {
    "duration": 8,
    "start_time": "2023-07-06T10:49:58.747Z"
   },
   {
    "duration": 264,
    "start_time": "2023-07-06T10:50:04.025Z"
   },
   {
    "duration": 6,
    "start_time": "2023-07-06T10:50:27.837Z"
   },
   {
    "duration": 150,
    "start_time": "2023-07-06T10:50:31.332Z"
   },
   {
    "duration": 6,
    "start_time": "2023-07-06T10:50:49.639Z"
   },
   {
    "duration": 131,
    "start_time": "2023-07-06T10:50:54.143Z"
   },
   {
    "duration": 1376,
    "start_time": "2023-07-06T10:51:00.419Z"
   },
   {
    "duration": 68,
    "start_time": "2023-07-06T10:51:01.799Z"
   },
   {
    "duration": 15,
    "start_time": "2023-07-06T10:51:01.870Z"
   },
   {
    "duration": 212,
    "start_time": "2023-07-06T10:51:01.887Z"
   },
   {
    "duration": 46,
    "start_time": "2023-07-06T10:51:02.102Z"
   },
   {
    "duration": 27,
    "start_time": "2023-07-06T10:51:02.150Z"
   },
   {
    "duration": 456,
    "start_time": "2023-07-06T10:51:02.184Z"
   },
   {
    "duration": 40,
    "start_time": "2023-07-06T10:51:02.642Z"
   },
   {
    "duration": 14,
    "start_time": "2023-07-06T10:51:02.684Z"
   },
   {
    "duration": 114,
    "start_time": "2023-07-06T10:51:02.700Z"
   },
   {
    "duration": 15,
    "start_time": "2023-07-06T10:51:02.816Z"
   },
   {
    "duration": 187,
    "start_time": "2023-07-06T10:51:02.833Z"
   },
   {
    "duration": 46,
    "start_time": "2023-07-06T10:51:03.024Z"
   },
   {
    "duration": 13,
    "start_time": "2023-07-06T10:51:03.073Z"
   },
   {
    "duration": 636,
    "start_time": "2023-07-06T10:51:03.088Z"
   },
   {
    "duration": 163,
    "start_time": "2023-07-06T10:51:03.726Z"
   },
   {
    "duration": 45,
    "start_time": "2023-07-06T10:51:03.891Z"
   },
   {
    "duration": 24,
    "start_time": "2023-07-06T10:51:03.940Z"
   },
   {
    "duration": 31,
    "start_time": "2023-07-06T10:51:03.968Z"
   },
   {
    "duration": 341,
    "start_time": "2023-07-06T10:51:04.001Z"
   },
   {
    "duration": 41,
    "start_time": "2023-07-06T10:51:04.345Z"
   },
   {
    "duration": 21,
    "start_time": "2023-07-06T10:51:04.388Z"
   },
   {
    "duration": 22,
    "start_time": "2023-07-06T10:51:04.411Z"
   },
   {
    "duration": 22,
    "start_time": "2023-07-06T10:51:04.436Z"
   },
   {
    "duration": 10,
    "start_time": "2023-07-06T10:51:04.461Z"
   },
   {
    "duration": 11,
    "start_time": "2023-07-06T10:51:04.473Z"
   },
   {
    "duration": 9,
    "start_time": "2023-07-06T10:51:04.486Z"
   },
   {
    "duration": 248,
    "start_time": "2023-07-06T10:51:23.197Z"
   },
   {
    "duration": 5,
    "start_time": "2023-07-06T10:51:37.341Z"
   },
   {
    "duration": 209,
    "start_time": "2023-07-06T10:51:37.950Z"
   },
   {
    "duration": 5,
    "start_time": "2023-07-06T10:51:47.555Z"
   },
   {
    "duration": 169,
    "start_time": "2023-07-06T10:51:48.199Z"
   },
   {
    "duration": 8,
    "start_time": "2023-07-06T10:53:10.122Z"
   },
   {
    "duration": 168,
    "start_time": "2023-07-06T10:53:10.799Z"
   },
   {
    "duration": 8,
    "start_time": "2023-07-06T10:54:41.315Z"
   },
   {
    "duration": 150,
    "start_time": "2023-07-06T10:54:41.988Z"
   },
   {
    "duration": 7,
    "start_time": "2023-07-06T10:54:49.137Z"
   },
   {
    "duration": 213,
    "start_time": "2023-07-06T10:54:49.892Z"
   },
   {
    "duration": 11,
    "start_time": "2023-07-06T10:54:59.227Z"
   },
   {
    "duration": 160,
    "start_time": "2023-07-06T10:55:00.280Z"
   },
   {
    "duration": 4,
    "start_time": "2023-07-06T10:55:50.400Z"
   },
   {
    "duration": 11,
    "start_time": "2023-07-06T12:55:09.484Z"
   },
   {
    "duration": 13,
    "start_time": "2023-07-06T12:57:42.187Z"
   },
   {
    "duration": 156,
    "start_time": "2023-07-06T13:00:43.393Z"
   },
   {
    "duration": 12,
    "start_time": "2023-07-06T13:05:52.483Z"
   },
   {
    "duration": 147,
    "start_time": "2023-07-06T13:32:51.138Z"
   },
   {
    "duration": 169,
    "start_time": "2023-07-06T13:34:01.683Z"
   },
   {
    "duration": 119,
    "start_time": "2023-07-06T13:36:02.234Z"
   },
   {
    "duration": 1235,
    "start_time": "2023-07-06T13:37:00.859Z"
   },
   {
    "duration": 69,
    "start_time": "2023-07-06T13:37:02.096Z"
   },
   {
    "duration": 179,
    "start_time": "2023-07-06T13:37:02.167Z"
   },
   {
    "duration": 194,
    "start_time": "2023-07-06T13:37:02.348Z"
   },
   {
    "duration": 35,
    "start_time": "2023-07-06T13:37:02.554Z"
   },
   {
    "duration": 16,
    "start_time": "2023-07-06T13:37:02.592Z"
   },
   {
    "duration": 373,
    "start_time": "2023-07-06T13:37:02.610Z"
   },
   {
    "duration": 52,
    "start_time": "2023-07-06T13:37:02.985Z"
   },
   {
    "duration": 13,
    "start_time": "2023-07-06T13:37:03.040Z"
   },
   {
    "duration": 58,
    "start_time": "2023-07-06T13:37:03.055Z"
   },
   {
    "duration": 18,
    "start_time": "2023-07-06T13:37:03.120Z"
   },
   {
    "duration": 150,
    "start_time": "2023-07-06T13:37:03.141Z"
   },
   {
    "duration": 62,
    "start_time": "2023-07-06T13:37:03.293Z"
   },
   {
    "duration": 21,
    "start_time": "2023-07-06T13:37:03.358Z"
   },
   {
    "duration": 530,
    "start_time": "2023-07-06T13:37:03.382Z"
   },
   {
    "duration": 163,
    "start_time": "2023-07-06T13:37:03.915Z"
   },
   {
    "duration": 44,
    "start_time": "2023-07-06T13:37:04.081Z"
   },
   {
    "duration": 14,
    "start_time": "2023-07-06T13:37:04.129Z"
   },
   {
    "duration": 296,
    "start_time": "2023-07-06T13:37:04.145Z"
   },
   {
    "duration": 42,
    "start_time": "2023-07-06T13:37:04.443Z"
   },
   {
    "duration": 13,
    "start_time": "2023-07-06T13:37:04.487Z"
   },
   {
    "duration": 24,
    "start_time": "2023-07-06T13:37:04.501Z"
   },
   {
    "duration": 21,
    "start_time": "2023-07-06T13:37:04.527Z"
   },
   {
    "duration": 95,
    "start_time": "2023-07-06T13:37:04.550Z"
   },
   {
    "duration": 46,
    "start_time": "2023-07-06T13:37:04.647Z"
   },
   {
    "duration": 46,
    "start_time": "2023-07-06T13:37:04.695Z"
   },
   {
    "duration": 33,
    "start_time": "2023-07-06T13:37:04.746Z"
   },
   {
    "duration": 32,
    "start_time": "2023-07-06T13:37:04.781Z"
   },
   {
    "duration": 131,
    "start_time": "2023-07-06T13:37:04.818Z"
   },
   {
    "duration": 12,
    "start_time": "2023-07-06T13:37:34.843Z"
   },
   {
    "duration": 9,
    "start_time": "2023-07-06T13:37:42.289Z"
   },
   {
    "duration": 14,
    "start_time": "2023-07-06T13:37:48.093Z"
   },
   {
    "duration": 17,
    "start_time": "2023-07-06T13:39:05.006Z"
   },
   {
    "duration": 10,
    "start_time": "2023-07-06T13:39:12.236Z"
   },
   {
    "duration": 15,
    "start_time": "2023-07-06T13:39:19.252Z"
   },
   {
    "duration": 13,
    "start_time": "2023-07-06T13:39:27.900Z"
   },
   {
    "duration": 14,
    "start_time": "2023-07-06T13:39:40.276Z"
   },
   {
    "duration": 14,
    "start_time": "2023-07-06T13:41:16.649Z"
   },
   {
    "duration": 11,
    "start_time": "2023-07-06T13:41:45.881Z"
   },
   {
    "duration": 197,
    "start_time": "2023-07-06T13:42:16.861Z"
   },
   {
    "duration": 43,
    "start_time": "2023-07-06T13:43:23.237Z"
   },
   {
    "duration": 86,
    "start_time": "2023-07-06T13:44:10.930Z"
   },
   {
    "duration": 1394,
    "start_time": "2023-07-06T13:44:58.877Z"
   },
   {
    "duration": 72,
    "start_time": "2023-07-06T13:45:00.274Z"
   },
   {
    "duration": 68,
    "start_time": "2023-07-06T13:45:00.349Z"
   },
   {
    "duration": 367,
    "start_time": "2023-07-06T13:45:00.426Z"
   },
   {
    "duration": 49,
    "start_time": "2023-07-06T13:45:00.796Z"
   },
   {
    "duration": 116,
    "start_time": "2023-07-06T13:45:00.848Z"
   },
   {
    "duration": 674,
    "start_time": "2023-07-06T13:45:00.966Z"
   },
   {
    "duration": 49,
    "start_time": "2023-07-06T13:45:01.642Z"
   },
   {
    "duration": 111,
    "start_time": "2023-07-06T13:45:01.694Z"
   },
   {
    "duration": 86,
    "start_time": "2023-07-06T13:45:01.807Z"
   },
   {
    "duration": 12,
    "start_time": "2023-07-06T13:45:01.895Z"
   },
   {
    "duration": 267,
    "start_time": "2023-07-06T13:45:01.910Z"
   },
   {
    "duration": 41,
    "start_time": "2023-07-06T13:45:02.179Z"
   },
   {
    "duration": 47,
    "start_time": "2023-07-06T13:45:02.229Z"
   },
   {
    "duration": 519,
    "start_time": "2023-07-06T13:45:02.278Z"
   },
   {
    "duration": 149,
    "start_time": "2023-07-06T13:45:02.798Z"
   },
   {
    "duration": 38,
    "start_time": "2023-07-06T13:45:02.953Z"
   },
   {
    "duration": 19,
    "start_time": "2023-07-06T13:45:02.993Z"
   },
   {
    "duration": 316,
    "start_time": "2023-07-06T13:45:03.020Z"
   },
   {
    "duration": 35,
    "start_time": "2023-07-06T13:45:03.340Z"
   },
   {
    "duration": 25,
    "start_time": "2023-07-06T13:45:03.377Z"
   },
   {
    "duration": 34,
    "start_time": "2023-07-06T13:45:03.405Z"
   },
   {
    "duration": 17,
    "start_time": "2023-07-06T13:45:03.441Z"
   },
   {
    "duration": 28,
    "start_time": "2023-07-06T13:45:03.462Z"
   },
   {
    "duration": 116,
    "start_time": "2023-07-06T13:45:03.492Z"
   },
   {
    "duration": 24,
    "start_time": "2023-07-06T13:45:03.610Z"
   },
   {
    "duration": 57,
    "start_time": "2023-07-06T13:45:03.636Z"
   },
   {
    "duration": 22,
    "start_time": "2023-07-06T13:45:03.695Z"
   },
   {
    "duration": 35,
    "start_time": "2023-07-06T13:45:03.719Z"
   },
   {
    "duration": 224,
    "start_time": "2023-07-06T13:45:03.756Z"
   },
   {
    "duration": 311,
    "start_time": "2023-07-06T13:48:22.754Z"
   },
   {
    "duration": 19,
    "start_time": "2023-07-06T13:56:20.303Z"
   },
   {
    "duration": 10,
    "start_time": "2023-07-06T13:56:27.724Z"
   },
   {
    "duration": 4,
    "start_time": "2023-07-06T13:56:32.390Z"
   },
   {
    "duration": 6,
    "start_time": "2023-07-06T13:56:35.730Z"
   },
   {
    "duration": 7,
    "start_time": "2023-07-06T13:57:05.694Z"
   },
   {
    "duration": 5,
    "start_time": "2023-07-06T13:59:09.241Z"
   },
   {
    "duration": 7,
    "start_time": "2023-07-06T13:59:16.534Z"
   },
   {
    "duration": 9,
    "start_time": "2023-07-06T14:00:18.941Z"
   },
   {
    "duration": 21,
    "start_time": "2023-07-06T14:02:11.904Z"
   },
   {
    "duration": 15,
    "start_time": "2023-07-06T14:02:36.202Z"
   },
   {
    "duration": 1438,
    "start_time": "2023-07-06T14:03:45.601Z"
   },
   {
    "duration": 59,
    "start_time": "2023-07-06T14:03:47.041Z"
   },
   {
    "duration": 16,
    "start_time": "2023-07-06T14:03:47.101Z"
   },
   {
    "duration": 164,
    "start_time": "2023-07-06T14:03:47.122Z"
   },
   {
    "duration": 42,
    "start_time": "2023-07-06T14:03:47.289Z"
   },
   {
    "duration": 14,
    "start_time": "2023-07-06T14:03:47.333Z"
   },
   {
    "duration": 397,
    "start_time": "2023-07-06T14:03:47.349Z"
   },
   {
    "duration": 39,
    "start_time": "2023-07-06T14:03:47.748Z"
   },
   {
    "duration": 13,
    "start_time": "2023-07-06T14:03:47.789Z"
   },
   {
    "duration": 55,
    "start_time": "2023-07-06T14:03:47.813Z"
   },
   {
    "duration": 11,
    "start_time": "2023-07-06T14:03:47.869Z"
   },
   {
    "duration": 154,
    "start_time": "2023-07-06T14:03:47.882Z"
   },
   {
    "duration": 33,
    "start_time": "2023-07-06T14:03:48.038Z"
   },
   {
    "duration": 13,
    "start_time": "2023-07-06T14:03:48.074Z"
   },
   {
    "duration": 480,
    "start_time": "2023-07-06T14:03:48.089Z"
   },
   {
    "duration": 157,
    "start_time": "2023-07-06T14:03:48.571Z"
   },
   {
    "duration": 45,
    "start_time": "2023-07-06T14:03:48.730Z"
   },
   {
    "duration": 12,
    "start_time": "2023-07-06T14:03:48.777Z"
   },
   {
    "duration": 342,
    "start_time": "2023-07-06T14:03:48.791Z"
   },
   {
    "duration": 29,
    "start_time": "2023-07-06T14:03:49.135Z"
   },
   {
    "duration": 12,
    "start_time": "2023-07-06T14:03:49.166Z"
   },
   {
    "duration": 11,
    "start_time": "2023-07-06T14:03:49.180Z"
   },
   {
    "duration": 8,
    "start_time": "2023-07-06T14:03:49.193Z"
   },
   {
    "duration": 21,
    "start_time": "2023-07-06T14:03:49.203Z"
   },
   {
    "duration": 11,
    "start_time": "2023-07-06T14:03:49.227Z"
   },
   {
    "duration": 28,
    "start_time": "2023-07-06T14:03:49.240Z"
   },
   {
    "duration": 12,
    "start_time": "2023-07-06T14:03:49.270Z"
   },
   {
    "duration": 3,
    "start_time": "2023-07-06T14:03:49.284Z"
   },
   {
    "duration": 17,
    "start_time": "2023-07-06T14:03:49.288Z"
   },
   {
    "duration": 26,
    "start_time": "2023-07-06T14:03:49.307Z"
   },
   {
    "duration": 24,
    "start_time": "2023-07-06T14:03:49.334Z"
   },
   {
    "duration": 29,
    "start_time": "2023-07-06T14:03:49.360Z"
   },
   {
    "duration": 2,
    "start_time": "2023-07-06T14:03:49.391Z"
   },
   {
    "duration": 126,
    "start_time": "2023-07-06T14:05:31.684Z"
   },
   {
    "duration": 1596,
    "start_time": "2023-07-06T14:05:41.812Z"
   },
   {
    "duration": 68,
    "start_time": "2023-07-06T14:05:43.410Z"
   },
   {
    "duration": 19,
    "start_time": "2023-07-06T14:05:43.481Z"
   },
   {
    "duration": 186,
    "start_time": "2023-07-06T14:05:43.502Z"
   },
   {
    "duration": 41,
    "start_time": "2023-07-06T14:05:43.691Z"
   },
   {
    "duration": 12,
    "start_time": "2023-07-06T14:05:43.735Z"
   },
   {
    "duration": 498,
    "start_time": "2023-07-06T14:05:43.749Z"
   },
   {
    "duration": 50,
    "start_time": "2023-07-06T14:05:44.249Z"
   },
   {
    "duration": 26,
    "start_time": "2023-07-06T14:05:44.302Z"
   },
   {
    "duration": 49,
    "start_time": "2023-07-06T14:05:44.330Z"
   },
   {
    "duration": 11,
    "start_time": "2023-07-06T14:05:44.382Z"
   },
   {
    "duration": 148,
    "start_time": "2023-07-06T14:05:44.396Z"
   },
   {
    "duration": 45,
    "start_time": "2023-07-06T14:05:44.546Z"
   },
   {
    "duration": 11,
    "start_time": "2023-07-06T14:05:44.594Z"
   },
   {
    "duration": 484,
    "start_time": "2023-07-06T14:05:44.606Z"
   },
   {
    "duration": 151,
    "start_time": "2023-07-06T14:05:45.092Z"
   },
   {
    "duration": 26,
    "start_time": "2023-07-06T14:05:45.245Z"
   },
   {
    "duration": 11,
    "start_time": "2023-07-06T14:05:45.272Z"
   },
   {
    "duration": 374,
    "start_time": "2023-07-06T14:05:45.285Z"
   },
   {
    "duration": 43,
    "start_time": "2023-07-06T14:05:45.661Z"
   },
   {
    "duration": 23,
    "start_time": "2023-07-06T14:05:45.706Z"
   },
   {
    "duration": 21,
    "start_time": "2023-07-06T14:05:45.733Z"
   },
   {
    "duration": 9,
    "start_time": "2023-07-06T14:05:45.756Z"
   },
   {
    "duration": 7,
    "start_time": "2023-07-06T14:05:45.768Z"
   },
   {
    "duration": 11,
    "start_time": "2023-07-06T14:05:45.777Z"
   },
   {
    "duration": 20,
    "start_time": "2023-07-06T14:05:45.789Z"
   },
   {
    "duration": 20,
    "start_time": "2023-07-06T14:05:45.811Z"
   },
   {
    "duration": 3,
    "start_time": "2023-07-06T14:05:45.833Z"
   },
   {
    "duration": 8,
    "start_time": "2023-07-06T14:05:45.838Z"
   },
   {
    "duration": 11,
    "start_time": "2023-07-06T14:05:45.847Z"
   },
   {
    "duration": 14,
    "start_time": "2023-07-06T14:05:45.860Z"
   },
   {
    "duration": 56,
    "start_time": "2023-07-06T14:05:45.876Z"
   },
   {
    "duration": 2,
    "start_time": "2023-07-06T14:05:45.933Z"
   },
   {
    "duration": 121,
    "start_time": "2023-07-06T14:08:06.260Z"
   },
   {
    "duration": 1439,
    "start_time": "2023-07-06T14:09:10.229Z"
   },
   {
    "duration": 63,
    "start_time": "2023-07-06T14:09:11.670Z"
   },
   {
    "duration": 15,
    "start_time": "2023-07-06T14:09:11.735Z"
   },
   {
    "duration": 178,
    "start_time": "2023-07-06T14:09:11.752Z"
   },
   {
    "duration": 32,
    "start_time": "2023-07-06T14:09:11.933Z"
   },
   {
    "duration": 12,
    "start_time": "2023-07-06T14:09:11.967Z"
   },
   {
    "duration": 384,
    "start_time": "2023-07-06T14:09:11.982Z"
   },
   {
    "duration": 36,
    "start_time": "2023-07-06T14:09:12.368Z"
   },
   {
    "duration": 20,
    "start_time": "2023-07-06T14:09:12.406Z"
   },
   {
    "duration": 53,
    "start_time": "2023-07-06T14:09:12.428Z"
   },
   {
    "duration": 15,
    "start_time": "2023-07-06T14:09:12.484Z"
   },
   {
    "duration": 172,
    "start_time": "2023-07-06T14:09:12.501Z"
   },
   {
    "duration": 45,
    "start_time": "2023-07-06T14:09:12.675Z"
   },
   {
    "duration": 12,
    "start_time": "2023-07-06T14:09:12.732Z"
   },
   {
    "duration": 540,
    "start_time": "2023-07-06T14:09:12.746Z"
   },
   {
    "duration": 148,
    "start_time": "2023-07-06T14:09:13.288Z"
   },
   {
    "duration": 38,
    "start_time": "2023-07-06T14:09:13.438Z"
   },
   {
    "duration": 11,
    "start_time": "2023-07-06T14:09:13.478Z"
   },
   {
    "duration": 356,
    "start_time": "2023-07-06T14:09:13.491Z"
   },
   {
    "duration": 30,
    "start_time": "2023-07-06T14:09:13.849Z"
   },
   {
    "duration": 17,
    "start_time": "2023-07-06T14:09:13.881Z"
   },
   {
    "duration": 9,
    "start_time": "2023-07-06T14:09:13.915Z"
   },
   {
    "duration": 29,
    "start_time": "2023-07-06T14:09:13.926Z"
   },
   {
    "duration": 8,
    "start_time": "2023-07-06T14:09:13.957Z"
   },
   {
    "duration": 12,
    "start_time": "2023-07-06T14:09:13.967Z"
   },
   {
    "duration": 19,
    "start_time": "2023-07-06T14:09:13.980Z"
   },
   {
    "duration": 23,
    "start_time": "2023-07-06T14:09:14.001Z"
   },
   {
    "duration": 13,
    "start_time": "2023-07-06T14:09:14.026Z"
   },
   {
    "duration": 16,
    "start_time": "2023-07-06T14:09:14.042Z"
   },
   {
    "duration": 145,
    "start_time": "2023-07-06T14:09:14.060Z"
   },
   {
    "duration": 0,
    "start_time": "2023-07-06T14:09:14.207Z"
   },
   {
    "duration": 0,
    "start_time": "2023-07-06T14:09:14.208Z"
   },
   {
    "duration": 0,
    "start_time": "2023-07-06T14:09:14.209Z"
   },
   {
    "duration": 1649,
    "start_time": "2023-07-06T14:09:49.011Z"
   },
   {
    "duration": 65,
    "start_time": "2023-07-06T14:09:50.662Z"
   },
   {
    "duration": 16,
    "start_time": "2023-07-06T14:09:50.728Z"
   },
   {
    "duration": 206,
    "start_time": "2023-07-06T14:09:50.746Z"
   },
   {
    "duration": 34,
    "start_time": "2023-07-06T14:09:50.954Z"
   },
   {
    "duration": 18,
    "start_time": "2023-07-06T14:09:50.989Z"
   },
   {
    "duration": 429,
    "start_time": "2023-07-06T14:09:51.010Z"
   },
   {
    "duration": 39,
    "start_time": "2023-07-06T14:09:51.441Z"
   },
   {
    "duration": 47,
    "start_time": "2023-07-06T14:09:51.482Z"
   },
   {
    "duration": 46,
    "start_time": "2023-07-06T14:09:51.532Z"
   },
   {
    "duration": 15,
    "start_time": "2023-07-06T14:09:51.580Z"
   },
   {
    "duration": 184,
    "start_time": "2023-07-06T14:09:51.597Z"
   },
   {
    "duration": 50,
    "start_time": "2023-07-06T14:09:51.783Z"
   },
   {
    "duration": 12,
    "start_time": "2023-07-06T14:09:51.837Z"
   },
   {
    "duration": 519,
    "start_time": "2023-07-06T14:09:51.851Z"
   },
   {
    "duration": 160,
    "start_time": "2023-07-06T14:09:52.371Z"
   },
   {
    "duration": 26,
    "start_time": "2023-07-06T14:09:52.533Z"
   },
   {
    "duration": 32,
    "start_time": "2023-07-06T14:09:52.561Z"
   },
   {
    "duration": 378,
    "start_time": "2023-07-06T14:09:52.595Z"
   },
   {
    "duration": 54,
    "start_time": "2023-07-06T14:09:52.975Z"
   },
   {
    "duration": 13,
    "start_time": "2023-07-06T14:09:53.031Z"
   },
   {
    "duration": 39,
    "start_time": "2023-07-06T14:09:53.046Z"
   },
   {
    "duration": 21,
    "start_time": "2023-07-06T14:09:53.087Z"
   },
   {
    "duration": 31,
    "start_time": "2023-07-06T14:09:53.110Z"
   },
   {
    "duration": 42,
    "start_time": "2023-07-06T14:09:53.143Z"
   },
   {
    "duration": 50,
    "start_time": "2023-07-06T14:09:53.187Z"
   },
   {
    "duration": 39,
    "start_time": "2023-07-06T14:09:53.238Z"
   },
   {
    "duration": 30,
    "start_time": "2023-07-06T14:09:53.279Z"
   },
   {
    "duration": 40,
    "start_time": "2023-07-06T14:09:53.311Z"
   },
   {
    "duration": 48,
    "start_time": "2023-07-06T14:09:53.352Z"
   },
   {
    "duration": 17,
    "start_time": "2023-07-06T14:09:53.402Z"
   },
   {
    "duration": 115,
    "start_time": "2023-07-06T14:09:53.420Z"
   },
   {
    "duration": 23,
    "start_time": "2023-07-06T14:09:53.537Z"
   },
   {
    "duration": 1530,
    "start_time": "2023-07-06T14:14:30.202Z"
   },
   {
    "duration": 58,
    "start_time": "2023-07-06T14:14:31.734Z"
   },
   {
    "duration": 13,
    "start_time": "2023-07-06T14:14:31.793Z"
   },
   {
    "duration": 171,
    "start_time": "2023-07-06T14:14:31.808Z"
   },
   {
    "duration": 37,
    "start_time": "2023-07-06T14:14:31.982Z"
   },
   {
    "duration": 14,
    "start_time": "2023-07-06T14:14:32.027Z"
   },
   {
    "duration": 347,
    "start_time": "2023-07-06T14:14:32.043Z"
   },
   {
    "duration": 47,
    "start_time": "2023-07-06T14:14:32.392Z"
   },
   {
    "duration": 14,
    "start_time": "2023-07-06T14:14:32.441Z"
   },
   {
    "duration": 76,
    "start_time": "2023-07-06T14:14:32.457Z"
   },
   {
    "duration": 10,
    "start_time": "2023-07-06T14:14:32.535Z"
   },
   {
    "duration": 141,
    "start_time": "2023-07-06T14:14:32.547Z"
   },
   {
    "duration": 38,
    "start_time": "2023-07-06T14:14:32.690Z"
   },
   {
    "duration": 11,
    "start_time": "2023-07-06T14:14:32.731Z"
   },
   {
    "duration": 541,
    "start_time": "2023-07-06T14:14:32.744Z"
   },
   {
    "duration": 142,
    "start_time": "2023-07-06T14:14:33.286Z"
   },
   {
    "duration": 37,
    "start_time": "2023-07-06T14:14:33.431Z"
   },
   {
    "duration": 11,
    "start_time": "2023-07-06T14:14:33.469Z"
   },
   {
    "duration": 377,
    "start_time": "2023-07-06T14:14:33.481Z"
   },
   {
    "duration": 28,
    "start_time": "2023-07-06T14:14:33.860Z"
   },
   {
    "duration": 29,
    "start_time": "2023-07-06T14:14:33.890Z"
   },
   {
    "duration": 54,
    "start_time": "2023-07-06T14:14:33.922Z"
   },
   {
    "duration": 25,
    "start_time": "2023-07-06T14:14:33.977Z"
   },
   {
    "duration": 45,
    "start_time": "2023-07-06T14:14:34.004Z"
   },
   {
    "duration": 117,
    "start_time": "2023-07-06T14:14:34.051Z"
   },
   {
    "duration": 40,
    "start_time": "2023-07-06T14:14:34.170Z"
   },
   {
    "duration": 41,
    "start_time": "2023-07-06T14:14:34.211Z"
   },
   {
    "duration": 29,
    "start_time": "2023-07-06T14:14:34.254Z"
   },
   {
    "duration": 41,
    "start_time": "2023-07-06T14:14:34.285Z"
   },
   {
    "duration": 7,
    "start_time": "2023-07-06T14:14:34.328Z"
   },
   {
    "duration": 19,
    "start_time": "2023-07-06T14:14:34.337Z"
   },
   {
    "duration": 126,
    "start_time": "2023-07-06T14:14:34.358Z"
   },
   {
    "duration": 0,
    "start_time": "2023-07-06T14:14:34.485Z"
   },
   {
    "duration": 1467,
    "start_time": "2023-07-06T14:16:23.251Z"
   },
   {
    "duration": 63,
    "start_time": "2023-07-06T14:16:24.720Z"
   },
   {
    "duration": 26,
    "start_time": "2023-07-06T14:16:24.785Z"
   },
   {
    "duration": 167,
    "start_time": "2023-07-06T14:16:24.813Z"
   },
   {
    "duration": 38,
    "start_time": "2023-07-06T14:16:24.983Z"
   },
   {
    "duration": 12,
    "start_time": "2023-07-06T14:16:25.023Z"
   },
   {
    "duration": 367,
    "start_time": "2023-07-06T14:16:25.037Z"
   },
   {
    "duration": 46,
    "start_time": "2023-07-06T14:16:25.406Z"
   },
   {
    "duration": 12,
    "start_time": "2023-07-06T14:16:25.454Z"
   },
   {
    "duration": 75,
    "start_time": "2023-07-06T14:16:25.468Z"
   },
   {
    "duration": 11,
    "start_time": "2023-07-06T14:16:25.545Z"
   },
   {
    "duration": 171,
    "start_time": "2023-07-06T14:16:25.558Z"
   },
   {
    "duration": 34,
    "start_time": "2023-07-06T14:16:25.732Z"
   },
   {
    "duration": 12,
    "start_time": "2023-07-06T14:16:25.769Z"
   },
   {
    "duration": 507,
    "start_time": "2023-07-06T14:16:25.782Z"
   },
   {
    "duration": 155,
    "start_time": "2023-07-06T14:16:26.291Z"
   },
   {
    "duration": 40,
    "start_time": "2023-07-06T14:16:26.448Z"
   },
   {
    "duration": 11,
    "start_time": "2023-07-06T14:16:26.490Z"
   },
   {
    "duration": 365,
    "start_time": "2023-07-06T14:16:26.503Z"
   },
   {
    "duration": 30,
    "start_time": "2023-07-06T14:16:26.870Z"
   },
   {
    "duration": 22,
    "start_time": "2023-07-06T14:16:26.902Z"
   },
   {
    "duration": 10,
    "start_time": "2023-07-06T14:16:26.931Z"
   },
   {
    "duration": 11,
    "start_time": "2023-07-06T14:16:26.943Z"
   },
   {
    "duration": 9,
    "start_time": "2023-07-06T14:16:26.956Z"
   },
   {
    "duration": 9,
    "start_time": "2023-07-06T14:16:26.967Z"
   },
   {
    "duration": 19,
    "start_time": "2023-07-06T14:16:26.977Z"
   },
   {
    "duration": 31,
    "start_time": "2023-07-06T14:16:26.998Z"
   },
   {
    "duration": 12,
    "start_time": "2023-07-06T14:16:27.031Z"
   },
   {
    "duration": 9,
    "start_time": "2023-07-06T14:16:27.045Z"
   },
   {
    "duration": 8,
    "start_time": "2023-07-06T14:16:27.056Z"
   },
   {
    "duration": 20,
    "start_time": "2023-07-06T14:16:27.066Z"
   },
   {
    "duration": 41,
    "start_time": "2023-07-06T14:16:27.087Z"
   },
   {
    "duration": 2,
    "start_time": "2023-07-06T14:16:27.130Z"
   },
   {
    "duration": 1524,
    "start_time": "2023-07-07T11:40:53.796Z"
   },
   {
    "duration": 177,
    "start_time": "2023-07-07T11:40:55.324Z"
   },
   {
    "duration": 13,
    "start_time": "2023-07-07T11:40:55.502Z"
   },
   {
    "duration": 143,
    "start_time": "2023-07-07T11:40:55.516Z"
   },
   {
    "duration": 65,
    "start_time": "2023-07-07T11:40:55.661Z"
   },
   {
    "duration": 11,
    "start_time": "2023-07-07T11:40:55.728Z"
   },
   {
    "duration": 301,
    "start_time": "2023-07-07T11:40:55.741Z"
   },
   {
    "duration": 128,
    "start_time": "2023-07-07T11:40:56.044Z"
   },
   {
    "duration": 12,
    "start_time": "2023-07-07T11:40:56.173Z"
   },
   {
    "duration": 70,
    "start_time": "2023-07-07T11:40:56.187Z"
   },
   {
    "duration": 9,
    "start_time": "2023-07-07T11:40:56.259Z"
   },
   {
    "duration": 128,
    "start_time": "2023-07-07T11:40:56.269Z"
   },
   {
    "duration": 81,
    "start_time": "2023-07-07T11:40:56.398Z"
   },
   {
    "duration": 11,
    "start_time": "2023-07-07T11:40:56.482Z"
   },
   {
    "duration": 499,
    "start_time": "2023-07-07T11:40:56.495Z"
   },
   {
    "duration": 127,
    "start_time": "2023-07-07T11:40:56.996Z"
   },
   {
    "duration": 77,
    "start_time": "2023-07-07T11:40:57.126Z"
   },
   {
    "duration": 11,
    "start_time": "2023-07-07T11:40:57.205Z"
   },
   {
    "duration": 313,
    "start_time": "2023-07-07T11:40:57.218Z"
   },
   {
    "duration": 70,
    "start_time": "2023-07-07T11:40:57.532Z"
   },
   {
    "duration": 11,
    "start_time": "2023-07-07T11:40:57.604Z"
   },
   {
    "duration": 12,
    "start_time": "2023-07-07T11:40:57.616Z"
   },
   {
    "duration": 9,
    "start_time": "2023-07-07T11:40:57.629Z"
   },
   {
    "duration": 13,
    "start_time": "2023-07-07T11:40:57.640Z"
   },
   {
    "duration": 6,
    "start_time": "2023-07-07T11:40:57.654Z"
   },
   {
    "duration": 89,
    "start_time": "2023-07-07T11:40:57.662Z"
   },
   {
    "duration": 0,
    "start_time": "2023-07-07T11:40:57.753Z"
   },
   {
    "duration": 0,
    "start_time": "2023-07-07T11:40:57.754Z"
   },
   {
    "duration": 0,
    "start_time": "2023-07-07T11:40:57.755Z"
   },
   {
    "duration": 0,
    "start_time": "2023-07-07T11:40:57.756Z"
   },
   {
    "duration": 0,
    "start_time": "2023-07-07T11:40:57.758Z"
   },
   {
    "duration": 0,
    "start_time": "2023-07-07T11:40:57.759Z"
   },
   {
    "duration": 16,
    "start_time": "2023-07-07T11:41:17.449Z"
   },
   {
    "duration": 21,
    "start_time": "2023-07-07T11:42:44.320Z"
   },
   {
    "duration": 4,
    "start_time": "2023-07-07T11:49:25.700Z"
   },
   {
    "duration": 13,
    "start_time": "2023-07-07T11:49:43.660Z"
   },
   {
    "duration": 1318,
    "start_time": "2023-07-07T11:50:30.994Z"
   },
   {
    "duration": 56,
    "start_time": "2023-07-07T11:50:32.314Z"
   },
   {
    "duration": 14,
    "start_time": "2023-07-07T11:50:32.371Z"
   },
   {
    "duration": 164,
    "start_time": "2023-07-07T11:50:32.387Z"
   },
   {
    "duration": 31,
    "start_time": "2023-07-07T11:50:32.556Z"
   },
   {
    "duration": 13,
    "start_time": "2023-07-07T11:50:32.589Z"
   },
   {
    "duration": 337,
    "start_time": "2023-07-07T11:50:32.604Z"
   },
   {
    "duration": 36,
    "start_time": "2023-07-07T11:50:32.942Z"
   },
   {
    "duration": 11,
    "start_time": "2023-07-07T11:50:32.980Z"
   },
   {
    "duration": 68,
    "start_time": "2023-07-07T11:50:32.993Z"
   },
   {
    "duration": 9,
    "start_time": "2023-07-07T11:50:33.063Z"
   },
   {
    "duration": 165,
    "start_time": "2023-07-07T11:50:33.074Z"
   },
   {
    "duration": 33,
    "start_time": "2023-07-07T11:50:33.240Z"
   },
   {
    "duration": 18,
    "start_time": "2023-07-07T11:50:33.276Z"
   },
   {
    "duration": 507,
    "start_time": "2023-07-07T11:50:33.295Z"
   },
   {
    "duration": 129,
    "start_time": "2023-07-07T11:50:33.804Z"
   },
   {
    "duration": 37,
    "start_time": "2023-07-07T11:50:33.935Z"
   },
   {
    "duration": 11,
    "start_time": "2023-07-07T11:50:33.974Z"
   },
   {
    "duration": 336,
    "start_time": "2023-07-07T11:50:33.987Z"
   },
   {
    "duration": 26,
    "start_time": "2023-07-07T11:50:34.324Z"
   },
   {
    "duration": 11,
    "start_time": "2023-07-07T11:50:34.352Z"
   },
   {
    "duration": 32,
    "start_time": "2023-07-07T11:50:34.364Z"
   },
   {
    "duration": 31,
    "start_time": "2023-07-07T11:50:34.397Z"
   },
   {
    "duration": 12,
    "start_time": "2023-07-07T11:50:34.430Z"
   },
   {
    "duration": 14,
    "start_time": "2023-07-07T11:50:34.443Z"
   },
   {
    "duration": 17,
    "start_time": "2023-07-07T11:50:34.458Z"
   },
   {
    "duration": 15,
    "start_time": "2023-07-07T11:50:34.476Z"
   },
   {
    "duration": 2,
    "start_time": "2023-07-07T11:50:34.493Z"
   },
   {
    "duration": 65,
    "start_time": "2023-07-07T11:50:34.497Z"
   },
   {
    "duration": 2,
    "start_time": "2023-07-07T11:50:34.564Z"
   },
   {
    "duration": 3,
    "start_time": "2023-07-07T11:53:45.559Z"
   },
   {
    "duration": 5,
    "start_time": "2023-07-07T11:55:09.114Z"
   },
   {
    "duration": 5,
    "start_time": "2023-07-07T11:55:14.185Z"
   },
   {
    "duration": 7,
    "start_time": "2023-07-07T11:55:18.536Z"
   },
   {
    "duration": 6,
    "start_time": "2023-07-07T11:55:22.598Z"
   },
   {
    "duration": 5,
    "start_time": "2023-07-07T11:55:28.725Z"
   },
   {
    "duration": 7,
    "start_time": "2023-07-07T11:55:31.985Z"
   },
   {
    "duration": 4,
    "start_time": "2023-07-07T11:55:35.983Z"
   },
   {
    "duration": 5,
    "start_time": "2023-07-07T11:55:39.446Z"
   },
   {
    "duration": 5,
    "start_time": "2023-07-07T11:55:43.129Z"
   },
   {
    "duration": 6,
    "start_time": "2023-07-07T11:55:46.079Z"
   },
   {
    "duration": 5,
    "start_time": "2023-07-07T11:55:48.753Z"
   },
   {
    "duration": 7,
    "start_time": "2023-07-07T11:55:51.178Z"
   },
   {
    "duration": 5,
    "start_time": "2023-07-07T11:55:53.922Z"
   },
   {
    "duration": 6,
    "start_time": "2023-07-07T11:55:56.167Z"
   },
   {
    "duration": 7,
    "start_time": "2023-07-07T11:55:59.024Z"
   },
   {
    "duration": 1428,
    "start_time": "2023-07-07T11:56:03.533Z"
   },
   {
    "duration": 5,
    "start_time": "2023-07-07T11:56:10.844Z"
   },
   {
    "duration": 11,
    "start_time": "2023-07-07T11:56:13.548Z"
   },
   {
    "duration": 4,
    "start_time": "2023-07-07T11:56:15.663Z"
   },
   {
    "duration": 5,
    "start_time": "2023-07-07T11:56:18.483Z"
   },
   {
    "duration": 6,
    "start_time": "2023-07-07T11:56:20.366Z"
   },
   {
    "duration": 5,
    "start_time": "2023-07-07T11:56:26.722Z"
   },
   {
    "duration": 5,
    "start_time": "2023-07-07T11:56:28.972Z"
   },
   {
    "duration": 5,
    "start_time": "2023-07-07T11:56:31.693Z"
   },
   {
    "duration": 4,
    "start_time": "2023-07-07T11:56:33.949Z"
   },
   {
    "duration": 1433,
    "start_time": "2023-07-07T11:56:37.026Z"
   },
   {
    "duration": 13,
    "start_time": "2023-07-07T12:02:20.130Z"
   },
   {
    "duration": 4622,
    "start_time": "2023-07-07T12:03:32.851Z"
   },
   {
    "duration": 542,
    "start_time": "2023-07-07T12:03:44.650Z"
   },
   {
    "duration": 19,
    "start_time": "2023-07-07T12:05:48.655Z"
   },
   {
    "duration": 127,
    "start_time": "2023-07-07T12:13:26.507Z"
   },
   {
    "duration": 19,
    "start_time": "2023-07-07T12:13:38.237Z"
   },
   {
    "duration": 17,
    "start_time": "2023-07-07T12:13:58.431Z"
   },
   {
    "duration": 4,
    "start_time": "2023-07-07T12:14:24.815Z"
   },
   {
    "duration": 15,
    "start_time": "2023-07-07T12:15:12.779Z"
   },
   {
    "duration": 1338,
    "start_time": "2023-07-07T12:15:53.171Z"
   },
   {
    "duration": 126,
    "start_time": "2023-07-07T12:16:19.341Z"
   },
   {
    "duration": 1348,
    "start_time": "2023-07-07T12:16:51.510Z"
   },
   {
    "duration": 1497,
    "start_time": "2023-07-07T12:16:57.373Z"
   },
   {
    "duration": 1455,
    "start_time": "2023-07-07T12:17:05.233Z"
   },
   {
    "duration": 1448,
    "start_time": "2023-07-07T12:17:27.208Z"
   },
   {
    "duration": 1843,
    "start_time": "2023-07-07T12:17:30.687Z"
   },
   {
    "duration": 1458,
    "start_time": "2023-07-07T12:17:49.608Z"
   },
   {
    "duration": 1343,
    "start_time": "2023-07-07T12:18:28.120Z"
   },
   {
    "duration": 1278,
    "start_time": "2023-07-07T12:18:32.191Z"
   },
   {
    "duration": 11,
    "start_time": "2023-07-07T12:18:53.130Z"
   },
   {
    "duration": 10,
    "start_time": "2023-07-07T12:18:59.613Z"
   },
   {
    "duration": 4,
    "start_time": "2023-07-07T12:19:05.224Z"
   },
   {
    "duration": 6,
    "start_time": "2023-07-07T12:19:19.890Z"
   },
   {
    "duration": 11,
    "start_time": "2023-07-07T12:19:37.298Z"
   },
   {
    "duration": 4,
    "start_time": "2023-07-07T12:20:53.106Z"
   },
   {
    "duration": 32,
    "start_time": "2023-07-07T12:21:02.653Z"
   },
   {
    "duration": 4,
    "start_time": "2023-07-07T12:21:21.902Z"
   },
   {
    "duration": 76,
    "start_time": "2023-07-07T12:23:46.383Z"
   },
   {
    "duration": 4,
    "start_time": "2023-07-07T12:26:49.402Z"
   },
   {
    "duration": 4,
    "start_time": "2023-07-07T12:26:55.869Z"
   },
   {
    "duration": 34,
    "start_time": "2023-07-07T12:27:16.135Z"
   },
   {
    "duration": 4,
    "start_time": "2023-07-07T12:27:43.302Z"
   },
   {
    "duration": 31,
    "start_time": "2023-07-07T12:27:44.615Z"
   },
   {
    "duration": 37,
    "start_time": "2023-07-07T12:27:50.134Z"
   },
   {
    "duration": 4,
    "start_time": "2023-07-07T12:27:57.538Z"
   },
   {
    "duration": 38,
    "start_time": "2023-07-07T12:27:58.381Z"
   },
   {
    "duration": 1486,
    "start_time": "2023-07-07T12:30:05.828Z"
   },
   {
    "duration": 60,
    "start_time": "2023-07-07T12:30:07.316Z"
   },
   {
    "duration": 15,
    "start_time": "2023-07-07T12:30:07.378Z"
   },
   {
    "duration": 161,
    "start_time": "2023-07-07T12:30:07.395Z"
   },
   {
    "duration": 35,
    "start_time": "2023-07-07T12:30:07.558Z"
   },
   {
    "duration": 16,
    "start_time": "2023-07-07T12:30:07.595Z"
   },
   {
    "duration": 322,
    "start_time": "2023-07-07T12:30:07.613Z"
   },
   {
    "duration": 35,
    "start_time": "2023-07-07T12:30:07.937Z"
   },
   {
    "duration": 13,
    "start_time": "2023-07-07T12:30:07.974Z"
   },
   {
    "duration": 41,
    "start_time": "2023-07-07T12:30:07.989Z"
   },
   {
    "duration": 10,
    "start_time": "2023-07-07T12:30:08.032Z"
   },
   {
    "duration": 133,
    "start_time": "2023-07-07T12:30:08.044Z"
   },
   {
    "duration": 45,
    "start_time": "2023-07-07T12:30:08.179Z"
   },
   {
    "duration": 11,
    "start_time": "2023-07-07T12:30:08.228Z"
   },
   {
    "duration": 460,
    "start_time": "2023-07-07T12:30:08.241Z"
   },
   {
    "duration": 242,
    "start_time": "2023-07-07T12:30:08.703Z"
   },
   {
    "duration": 40,
    "start_time": "2023-07-07T12:30:08.947Z"
   },
   {
    "duration": 15,
    "start_time": "2023-07-07T12:30:08.990Z"
   },
   {
    "duration": 295,
    "start_time": "2023-07-07T12:30:09.007Z"
   },
   {
    "duration": 29,
    "start_time": "2023-07-07T12:30:09.304Z"
   },
   {
    "duration": 13,
    "start_time": "2023-07-07T12:30:09.334Z"
   },
   {
    "duration": 11,
    "start_time": "2023-07-07T12:30:09.357Z"
   },
   {
    "duration": 4,
    "start_time": "2023-07-07T12:30:09.370Z"
   },
   {
    "duration": 6,
    "start_time": "2023-07-07T12:30:09.375Z"
   },
   {
    "duration": 38,
    "start_time": "2023-07-07T12:30:09.383Z"
   },
   {
    "duration": 24,
    "start_time": "2023-07-07T12:30:09.423Z"
   },
   {
    "duration": 7,
    "start_time": "2023-07-07T12:30:09.449Z"
   },
   {
    "duration": 49,
    "start_time": "2023-07-07T12:30:09.457Z"
   },
   {
    "duration": 488,
    "start_time": "2023-07-07T12:30:09.508Z"
   },
   {
    "duration": 112,
    "start_time": "2023-07-07T12:30:09.997Z"
   },
   {
    "duration": 0,
    "start_time": "2023-07-07T12:30:10.110Z"
   },
   {
    "duration": 0,
    "start_time": "2023-07-07T12:30:10.111Z"
   },
   {
    "duration": 25,
    "start_time": "2023-07-07T12:30:40.635Z"
   },
   {
    "duration": 30,
    "start_time": "2023-07-07T12:30:45.299Z"
   },
   {
    "duration": 1471,
    "start_time": "2023-07-07T12:30:54.623Z"
   },
   {
    "duration": 6,
    "start_time": "2023-07-07T12:30:59.569Z"
   },
   {
    "duration": 6,
    "start_time": "2023-07-07T12:31:16.692Z"
   },
   {
    "duration": 7,
    "start_time": "2023-07-07T12:31:21.344Z"
   },
   {
    "duration": 82,
    "start_time": "2023-07-07T12:32:07.480Z"
   },
   {
    "duration": 7,
    "start_time": "2023-07-07T12:32:36.416Z"
   },
   {
    "duration": 10,
    "start_time": "2023-07-07T12:32:58.031Z"
   },
   {
    "duration": 11,
    "start_time": "2023-07-07T12:33:02.348Z"
   },
   {
    "duration": 6,
    "start_time": "2023-07-07T12:33:58.270Z"
   },
   {
    "duration": 33,
    "start_time": "2023-07-07T12:34:13.911Z"
   },
   {
    "duration": 7,
    "start_time": "2023-07-07T12:34:44.304Z"
   },
   {
    "duration": 3,
    "start_time": "2023-07-07T12:34:54.142Z"
   },
   {
    "duration": 6,
    "start_time": "2023-07-07T12:35:04.769Z"
   },
   {
    "duration": 1469,
    "start_time": "2023-07-07T12:35:27.212Z"
   },
   {
    "duration": 55,
    "start_time": "2023-07-07T12:35:28.684Z"
   },
   {
    "duration": 11,
    "start_time": "2023-07-07T12:35:28.740Z"
   },
   {
    "duration": 159,
    "start_time": "2023-07-07T12:35:28.754Z"
   },
   {
    "duration": 38,
    "start_time": "2023-07-07T12:35:28.914Z"
   },
   {
    "duration": 15,
    "start_time": "2023-07-07T12:35:28.954Z"
   },
   {
    "duration": 369,
    "start_time": "2023-07-07T12:35:28.971Z"
   },
   {
    "duration": 35,
    "start_time": "2023-07-07T12:35:29.341Z"
   },
   {
    "duration": 12,
    "start_time": "2023-07-07T12:35:29.377Z"
   },
   {
    "duration": 44,
    "start_time": "2023-07-07T12:35:29.391Z"
   },
   {
    "duration": 10,
    "start_time": "2023-07-07T12:35:29.437Z"
   },
   {
    "duration": 121,
    "start_time": "2023-07-07T12:35:29.449Z"
   },
   {
    "duration": 31,
    "start_time": "2023-07-07T12:35:29.571Z"
   },
   {
    "duration": 11,
    "start_time": "2023-07-07T12:35:29.604Z"
   },
   {
    "duration": 486,
    "start_time": "2023-07-07T12:35:29.617Z"
   },
   {
    "duration": 221,
    "start_time": "2023-07-07T12:35:30.105Z"
   },
   {
    "duration": 37,
    "start_time": "2023-07-07T12:35:30.328Z"
   },
   {
    "duration": 44,
    "start_time": "2023-07-07T12:35:30.367Z"
   },
   {
    "duration": 304,
    "start_time": "2023-07-07T12:35:30.412Z"
   },
   {
    "duration": 29,
    "start_time": "2023-07-07T12:35:30.718Z"
   },
   {
    "duration": 15,
    "start_time": "2023-07-07T12:35:30.749Z"
   },
   {
    "duration": 46,
    "start_time": "2023-07-07T12:35:30.766Z"
   },
   {
    "duration": 52,
    "start_time": "2023-07-07T12:35:30.814Z"
   },
   {
    "duration": 26,
    "start_time": "2023-07-07T12:35:30.868Z"
   },
   {
    "duration": 48,
    "start_time": "2023-07-07T12:35:30.895Z"
   },
   {
    "duration": 26,
    "start_time": "2023-07-07T12:35:30.945Z"
   },
   {
    "duration": 3,
    "start_time": "2023-07-07T12:35:30.973Z"
   },
   {
    "duration": 72,
    "start_time": "2023-07-07T12:35:30.980Z"
   },
   {
    "duration": 4,
    "start_time": "2023-07-07T12:35:31.053Z"
   },
   {
    "duration": 58,
    "start_time": "2023-07-07T12:35:31.058Z"
   },
   {
    "duration": 479,
    "start_time": "2023-07-07T12:35:31.117Z"
   },
   {
    "duration": 3,
    "start_time": "2023-07-07T12:35:31.597Z"
   },
   {
    "duration": 34,
    "start_time": "2023-07-07T12:35:31.601Z"
   },
   {
    "duration": 19,
    "start_time": "2023-07-07T12:35:31.637Z"
   },
   {
    "duration": 7,
    "start_time": "2023-07-07T12:36:21.745Z"
   },
   {
    "duration": 4,
    "start_time": "2023-07-07T12:36:30.614Z"
   },
   {
    "duration": 30,
    "start_time": "2023-07-07T12:36:34.886Z"
   },
   {
    "duration": 119,
    "start_time": "2023-07-07T12:37:22.527Z"
   },
   {
    "duration": 1489,
    "start_time": "2023-07-07T12:37:48.463Z"
   },
   {
    "duration": 57,
    "start_time": "2023-07-07T12:37:49.954Z"
   },
   {
    "duration": 14,
    "start_time": "2023-07-07T12:37:50.013Z"
   },
   {
    "duration": 172,
    "start_time": "2023-07-07T12:37:50.029Z"
   },
   {
    "duration": 33,
    "start_time": "2023-07-07T12:37:50.205Z"
   },
   {
    "duration": 18,
    "start_time": "2023-07-07T12:37:50.240Z"
   },
   {
    "duration": 327,
    "start_time": "2023-07-07T12:37:50.260Z"
   },
   {
    "duration": 36,
    "start_time": "2023-07-07T12:37:50.588Z"
   },
   {
    "duration": 12,
    "start_time": "2023-07-07T12:37:50.626Z"
   },
   {
    "duration": 58,
    "start_time": "2023-07-07T12:37:50.642Z"
   },
   {
    "duration": 10,
    "start_time": "2023-07-07T12:37:50.702Z"
   },
   {
    "duration": 124,
    "start_time": "2023-07-07T12:37:50.714Z"
   },
   {
    "duration": 33,
    "start_time": "2023-07-07T12:37:50.840Z"
   },
   {
    "duration": 12,
    "start_time": "2023-07-07T12:37:50.875Z"
   },
   {
    "duration": 510,
    "start_time": "2023-07-07T12:37:50.889Z"
   },
   {
    "duration": 213,
    "start_time": "2023-07-07T12:37:51.401Z"
   },
   {
    "duration": 36,
    "start_time": "2023-07-07T12:37:51.615Z"
   },
   {
    "duration": 10,
    "start_time": "2023-07-07T12:37:51.653Z"
   },
   {
    "duration": 249,
    "start_time": "2023-07-07T12:37:51.665Z"
   },
   {
    "duration": 29,
    "start_time": "2023-07-07T12:37:51.916Z"
   },
   {
    "duration": 17,
    "start_time": "2023-07-07T12:37:51.947Z"
   },
   {
    "duration": 25,
    "start_time": "2023-07-07T12:37:51.965Z"
   },
   {
    "duration": 21,
    "start_time": "2023-07-07T12:37:51.992Z"
   },
   {
    "duration": 19,
    "start_time": "2023-07-07T12:37:52.014Z"
   },
   {
    "duration": 18,
    "start_time": "2023-07-07T12:37:52.035Z"
   },
   {
    "duration": 18,
    "start_time": "2023-07-07T12:37:52.054Z"
   },
   {
    "duration": 15,
    "start_time": "2023-07-07T12:37:52.073Z"
   },
   {
    "duration": 63,
    "start_time": "2023-07-07T12:37:52.091Z"
   },
   {
    "duration": 3,
    "start_time": "2023-07-07T12:37:52.155Z"
   },
   {
    "duration": 440,
    "start_time": "2023-07-07T12:37:52.159Z"
   },
   {
    "duration": 116,
    "start_time": "2023-07-07T12:37:52.600Z"
   },
   {
    "duration": 0,
    "start_time": "2023-07-07T12:37:52.718Z"
   },
   {
    "duration": 0,
    "start_time": "2023-07-07T12:37:52.719Z"
   },
   {
    "duration": 0,
    "start_time": "2023-07-07T18:38:46.663Z"
   },
   {
    "duration": 0,
    "start_time": "2023-07-07T18:38:46.667Z"
   },
   {
    "duration": 0,
    "start_time": "2023-07-07T18:38:46.668Z"
   },
   {
    "duration": 0,
    "start_time": "2023-07-07T18:38:46.670Z"
   },
   {
    "duration": 0,
    "start_time": "2023-07-07T18:38:46.671Z"
   },
   {
    "duration": 0,
    "start_time": "2023-07-07T18:38:46.672Z"
   },
   {
    "duration": 0,
    "start_time": "2023-07-07T18:38:46.673Z"
   },
   {
    "duration": 0,
    "start_time": "2023-07-07T18:38:46.675Z"
   },
   {
    "duration": 0,
    "start_time": "2023-07-07T18:38:46.676Z"
   },
   {
    "duration": 0,
    "start_time": "2023-07-07T18:38:46.678Z"
   },
   {
    "duration": 0,
    "start_time": "2023-07-07T18:38:46.680Z"
   },
   {
    "duration": 0,
    "start_time": "2023-07-07T18:38:46.681Z"
   },
   {
    "duration": 0,
    "start_time": "2023-07-07T18:38:46.682Z"
   },
   {
    "duration": 0,
    "start_time": "2023-07-07T18:38:46.683Z"
   },
   {
    "duration": 0,
    "start_time": "2023-07-07T18:38:46.684Z"
   },
   {
    "duration": 0,
    "start_time": "2023-07-07T18:38:46.686Z"
   },
   {
    "duration": 0,
    "start_time": "2023-07-07T18:38:46.687Z"
   },
   {
    "duration": 0,
    "start_time": "2023-07-07T18:38:46.689Z"
   },
   {
    "duration": 0,
    "start_time": "2023-07-07T18:38:46.690Z"
   },
   {
    "duration": 0,
    "start_time": "2023-07-07T18:38:46.691Z"
   },
   {
    "duration": 0,
    "start_time": "2023-07-07T18:38:46.693Z"
   },
   {
    "duration": 0,
    "start_time": "2023-07-07T18:38:46.694Z"
   },
   {
    "duration": 0,
    "start_time": "2023-07-07T18:38:46.695Z"
   },
   {
    "duration": 1,
    "start_time": "2023-07-07T18:38:46.696Z"
   },
   {
    "duration": 0,
    "start_time": "2023-07-07T18:38:46.698Z"
   },
   {
    "duration": 0,
    "start_time": "2023-07-07T18:38:46.699Z"
   },
   {
    "duration": 0,
    "start_time": "2023-07-07T18:38:46.701Z"
   },
   {
    "duration": 0,
    "start_time": "2023-07-07T18:38:46.705Z"
   },
   {
    "duration": 0,
    "start_time": "2023-07-07T18:38:46.767Z"
   },
   {
    "duration": 1,
    "start_time": "2023-07-07T18:38:46.768Z"
   },
   {
    "duration": 0,
    "start_time": "2023-07-07T18:38:46.770Z"
   },
   {
    "duration": 0,
    "start_time": "2023-07-07T18:38:46.771Z"
   },
   {
    "duration": 0,
    "start_time": "2023-07-07T18:38:46.772Z"
   },
   {
    "duration": 1462,
    "start_time": "2023-07-07T18:41:21.162Z"
   },
   {
    "duration": 61,
    "start_time": "2023-07-07T18:41:22.627Z"
   },
   {
    "duration": 14,
    "start_time": "2023-07-07T18:41:22.690Z"
   },
   {
    "duration": 160,
    "start_time": "2023-07-07T18:41:22.707Z"
   },
   {
    "duration": 35,
    "start_time": "2023-07-07T18:41:22.869Z"
   },
   {
    "duration": 12,
    "start_time": "2023-07-07T18:41:22.906Z"
   },
   {
    "duration": 384,
    "start_time": "2023-07-07T18:41:22.921Z"
   },
   {
    "duration": 35,
    "start_time": "2023-07-07T18:41:23.307Z"
   },
   {
    "duration": 12,
    "start_time": "2023-07-07T18:41:23.344Z"
   },
   {
    "duration": 41,
    "start_time": "2023-07-07T18:41:23.368Z"
   },
   {
    "duration": 13,
    "start_time": "2023-07-07T18:41:23.411Z"
   },
   {
    "duration": 141,
    "start_time": "2023-07-07T18:41:23.426Z"
   },
   {
    "duration": 33,
    "start_time": "2023-07-07T18:41:23.568Z"
   },
   {
    "duration": 11,
    "start_time": "2023-07-07T18:41:23.603Z"
   },
   {
    "duration": 591,
    "start_time": "2023-07-07T18:41:23.616Z"
   },
   {
    "duration": 217,
    "start_time": "2023-07-07T18:41:24.209Z"
   },
   {
    "duration": 38,
    "start_time": "2023-07-07T18:41:24.428Z"
   },
   {
    "duration": 12,
    "start_time": "2023-07-07T18:41:24.467Z"
   },
   {
    "duration": 257,
    "start_time": "2023-07-07T18:41:24.481Z"
   },
   {
    "duration": 28,
    "start_time": "2023-07-07T18:41:24.740Z"
   },
   {
    "duration": 12,
    "start_time": "2023-07-07T18:41:24.770Z"
   },
   {
    "duration": 8,
    "start_time": "2023-07-07T18:41:24.784Z"
   },
   {
    "duration": 6,
    "start_time": "2023-07-07T18:41:24.793Z"
   },
   {
    "duration": 6,
    "start_time": "2023-07-07T18:41:24.801Z"
   },
   {
    "duration": 492,
    "start_time": "2023-07-07T18:41:24.808Z"
   },
   {
    "duration": 0,
    "start_time": "2023-07-07T18:41:25.302Z"
   },
   {
    "duration": 0,
    "start_time": "2023-07-07T18:41:25.302Z"
   },
   {
    "duration": 0,
    "start_time": "2023-07-07T18:41:25.304Z"
   },
   {
    "duration": 0,
    "start_time": "2023-07-07T18:41:25.305Z"
   },
   {
    "duration": 0,
    "start_time": "2023-07-07T18:41:25.306Z"
   },
   {
    "duration": 0,
    "start_time": "2023-07-07T18:41:25.307Z"
   },
   {
    "duration": 0,
    "start_time": "2023-07-07T18:41:25.309Z"
   },
   {
    "duration": 0,
    "start_time": "2023-07-07T18:41:25.310Z"
   },
   {
    "duration": 1799,
    "start_time": "2023-07-07T18:42:21.136Z"
   },
   {
    "duration": 1510,
    "start_time": "2023-07-07T18:42:36.071Z"
   },
   {
    "duration": 59,
    "start_time": "2023-07-07T18:42:37.584Z"
   },
   {
    "duration": 20,
    "start_time": "2023-07-07T18:42:37.645Z"
   },
   {
    "duration": 175,
    "start_time": "2023-07-07T18:42:37.668Z"
   },
   {
    "duration": 38,
    "start_time": "2023-07-07T18:42:37.847Z"
   },
   {
    "duration": 11,
    "start_time": "2023-07-07T18:42:37.888Z"
   },
   {
    "duration": 392,
    "start_time": "2023-07-07T18:42:37.901Z"
   },
   {
    "duration": 36,
    "start_time": "2023-07-07T18:42:38.295Z"
   },
   {
    "duration": 17,
    "start_time": "2023-07-07T18:42:38.332Z"
   },
   {
    "duration": 53,
    "start_time": "2023-07-07T18:42:38.352Z"
   },
   {
    "duration": 18,
    "start_time": "2023-07-07T18:42:38.407Z"
   },
   {
    "duration": 132,
    "start_time": "2023-07-07T18:42:38.427Z"
   },
   {
    "duration": 35,
    "start_time": "2023-07-07T18:42:38.566Z"
   },
   {
    "duration": 12,
    "start_time": "2023-07-07T18:42:38.605Z"
   },
   {
    "duration": 509,
    "start_time": "2023-07-07T18:42:38.619Z"
   },
   {
    "duration": 226,
    "start_time": "2023-07-07T18:42:39.129Z"
   },
   {
    "duration": 45,
    "start_time": "2023-07-07T18:42:39.357Z"
   },
   {
    "duration": 11,
    "start_time": "2023-07-07T18:42:39.404Z"
   },
   {
    "duration": 252,
    "start_time": "2023-07-07T18:42:39.417Z"
   },
   {
    "duration": 29,
    "start_time": "2023-07-07T18:42:39.671Z"
   },
   {
    "duration": 13,
    "start_time": "2023-07-07T18:42:39.702Z"
   },
   {
    "duration": 6,
    "start_time": "2023-07-07T18:42:39.717Z"
   },
   {
    "duration": 6,
    "start_time": "2023-07-07T18:42:39.725Z"
   },
   {
    "duration": 7,
    "start_time": "2023-07-07T18:42:39.732Z"
   },
   {
    "duration": 27,
    "start_time": "2023-07-07T18:42:39.741Z"
   },
   {
    "duration": 19,
    "start_time": "2023-07-07T18:42:39.769Z"
   },
   {
    "duration": 3,
    "start_time": "2023-07-07T18:42:39.790Z"
   },
   {
    "duration": 50,
    "start_time": "2023-07-07T18:42:39.795Z"
   },
   {
    "duration": 3,
    "start_time": "2023-07-07T18:42:39.868Z"
   },
   {
    "duration": 444,
    "start_time": "2023-07-07T18:42:39.873Z"
   },
   {
    "duration": 129,
    "start_time": "2023-07-07T18:42:40.319Z"
   },
   {
    "duration": 0,
    "start_time": "2023-07-07T18:42:40.450Z"
   },
   {
    "duration": 0,
    "start_time": "2023-07-07T18:42:40.452Z"
   },
   {
    "duration": 10,
    "start_time": "2023-07-07T18:43:43.244Z"
   },
   {
    "duration": 1486,
    "start_time": "2023-07-07T18:49:30.012Z"
   },
   {
    "duration": 1484,
    "start_time": "2023-07-07T18:49:37.182Z"
   },
   {
    "duration": 57,
    "start_time": "2023-07-07T18:49:38.668Z"
   },
   {
    "duration": 13,
    "start_time": "2023-07-07T18:49:38.726Z"
   },
   {
    "duration": 152,
    "start_time": "2023-07-07T18:49:38.741Z"
   },
   {
    "duration": 33,
    "start_time": "2023-07-07T18:49:38.896Z"
   },
   {
    "duration": 16,
    "start_time": "2023-07-07T18:49:38.931Z"
   },
   {
    "duration": 329,
    "start_time": "2023-07-07T18:49:38.949Z"
   },
   {
    "duration": 35,
    "start_time": "2023-07-07T18:49:39.280Z"
   },
   {
    "duration": 12,
    "start_time": "2023-07-07T18:49:39.317Z"
   },
   {
    "duration": 54,
    "start_time": "2023-07-07T18:49:39.331Z"
   },
   {
    "duration": 11,
    "start_time": "2023-07-07T18:49:39.387Z"
   },
   {
    "duration": 144,
    "start_time": "2023-07-07T18:49:39.400Z"
   },
   {
    "duration": 35,
    "start_time": "2023-07-07T18:49:39.546Z"
   },
   {
    "duration": 13,
    "start_time": "2023-07-07T18:49:39.584Z"
   },
   {
    "duration": 508,
    "start_time": "2023-07-07T18:49:39.598Z"
   },
   {
    "duration": 217,
    "start_time": "2023-07-07T18:49:40.108Z"
   },
   {
    "duration": 36,
    "start_time": "2023-07-07T18:49:40.326Z"
   },
   {
    "duration": 11,
    "start_time": "2023-07-07T18:49:40.364Z"
   },
   {
    "duration": 252,
    "start_time": "2023-07-07T18:49:40.376Z"
   },
   {
    "duration": 28,
    "start_time": "2023-07-07T18:49:40.629Z"
   },
   {
    "duration": 14,
    "start_time": "2023-07-07T18:49:40.659Z"
   },
   {
    "duration": 9,
    "start_time": "2023-07-07T18:49:40.674Z"
   },
   {
    "duration": 4,
    "start_time": "2023-07-07T18:49:40.684Z"
   },
   {
    "duration": 7,
    "start_time": "2023-07-07T18:49:40.689Z"
   },
   {
    "duration": 10,
    "start_time": "2023-07-07T18:49:40.698Z"
   },
   {
    "duration": 17,
    "start_time": "2023-07-07T18:49:40.709Z"
   },
   {
    "duration": 7,
    "start_time": "2023-07-07T18:49:40.728Z"
   },
   {
    "duration": 44,
    "start_time": "2023-07-07T18:49:40.736Z"
   },
   {
    "duration": 443,
    "start_time": "2023-07-07T18:49:40.783Z"
   },
   {
    "duration": 113,
    "start_time": "2023-07-07T18:49:41.228Z"
   },
   {
    "duration": 0,
    "start_time": "2023-07-07T18:49:41.343Z"
   },
   {
    "duration": 0,
    "start_time": "2023-07-07T18:49:41.344Z"
   },
   {
    "duration": 1527,
    "start_time": "2023-07-07T21:03:23.978Z"
   },
   {
    "duration": 59,
    "start_time": "2023-07-07T21:03:25.507Z"
   },
   {
    "duration": 18,
    "start_time": "2023-07-07T21:03:25.568Z"
   },
   {
    "duration": 166,
    "start_time": "2023-07-07T21:03:25.589Z"
   },
   {
    "duration": 35,
    "start_time": "2023-07-07T21:03:25.757Z"
   },
   {
    "duration": 12,
    "start_time": "2023-07-07T21:03:25.794Z"
   },
   {
    "duration": 347,
    "start_time": "2023-07-07T21:03:25.808Z"
   },
   {
    "duration": 35,
    "start_time": "2023-07-07T21:03:26.157Z"
   },
   {
    "duration": 13,
    "start_time": "2023-07-07T21:03:26.194Z"
   },
   {
    "duration": 43,
    "start_time": "2023-07-07T21:03:26.209Z"
   },
   {
    "duration": 11,
    "start_time": "2023-07-07T21:03:26.254Z"
   },
   {
    "duration": 145,
    "start_time": "2023-07-07T21:03:26.266Z"
   },
   {
    "duration": 33,
    "start_time": "2023-07-07T21:03:26.412Z"
   },
   {
    "duration": 21,
    "start_time": "2023-07-07T21:03:26.447Z"
   },
   {
    "duration": 472,
    "start_time": "2023-07-07T21:03:26.470Z"
   },
   {
    "duration": 233,
    "start_time": "2023-07-07T21:03:26.944Z"
   },
   {
    "duration": 37,
    "start_time": "2023-07-07T21:03:27.179Z"
   },
   {
    "duration": 12,
    "start_time": "2023-07-07T21:03:27.217Z"
   },
   {
    "duration": 281,
    "start_time": "2023-07-07T21:03:27.231Z"
   },
   {
    "duration": 28,
    "start_time": "2023-07-07T21:03:27.514Z"
   },
   {
    "duration": 12,
    "start_time": "2023-07-07T21:03:27.544Z"
   },
   {
    "duration": 10,
    "start_time": "2023-07-07T21:03:27.567Z"
   },
   {
    "duration": 11,
    "start_time": "2023-07-07T21:03:27.580Z"
   },
   {
    "duration": 6,
    "start_time": "2023-07-07T21:03:27.593Z"
   },
   {
    "duration": 1496,
    "start_time": "2023-07-07T21:03:27.601Z"
   },
   {
    "duration": 0,
    "start_time": "2023-07-07T21:03:29.098Z"
   },
   {
    "duration": 0,
    "start_time": "2023-07-07T21:03:29.101Z"
   },
   {
    "duration": 0,
    "start_time": "2023-07-07T21:03:29.103Z"
   },
   {
    "duration": 0,
    "start_time": "2023-07-07T21:03:29.104Z"
   },
   {
    "duration": 0,
    "start_time": "2023-07-07T21:03:29.105Z"
   },
   {
    "duration": 0,
    "start_time": "2023-07-07T21:03:29.106Z"
   },
   {
    "duration": 0,
    "start_time": "2023-07-07T21:03:29.107Z"
   },
   {
    "duration": 1582,
    "start_time": "2023-07-07T21:03:38.484Z"
   },
   {
    "duration": 60,
    "start_time": "2023-07-07T21:03:40.068Z"
   },
   {
    "duration": 15,
    "start_time": "2023-07-07T21:03:40.129Z"
   },
   {
    "duration": 165,
    "start_time": "2023-07-07T21:03:40.146Z"
   },
   {
    "duration": 33,
    "start_time": "2023-07-07T21:03:40.314Z"
   },
   {
    "duration": 12,
    "start_time": "2023-07-07T21:03:40.349Z"
   },
   {
    "duration": 333,
    "start_time": "2023-07-07T21:03:40.366Z"
   },
   {
    "duration": 36,
    "start_time": "2023-07-07T21:03:40.701Z"
   },
   {
    "duration": 14,
    "start_time": "2023-07-07T21:03:40.739Z"
   },
   {
    "duration": 53,
    "start_time": "2023-07-07T21:03:40.755Z"
   },
   {
    "duration": 12,
    "start_time": "2023-07-07T21:03:40.810Z"
   },
   {
    "duration": 137,
    "start_time": "2023-07-07T21:03:40.824Z"
   },
   {
    "duration": 34,
    "start_time": "2023-07-07T21:03:40.963Z"
   },
   {
    "duration": 11,
    "start_time": "2023-07-07T21:03:41.000Z"
   },
   {
    "duration": 500,
    "start_time": "2023-07-07T21:03:41.013Z"
   },
   {
    "duration": 234,
    "start_time": "2023-07-07T21:03:41.515Z"
   },
   {
    "duration": 37,
    "start_time": "2023-07-07T21:03:41.750Z"
   },
   {
    "duration": 12,
    "start_time": "2023-07-07T21:03:41.789Z"
   },
   {
    "duration": 268,
    "start_time": "2023-07-07T21:03:41.802Z"
   },
   {
    "duration": 29,
    "start_time": "2023-07-07T21:03:42.071Z"
   },
   {
    "duration": 13,
    "start_time": "2023-07-07T21:03:42.101Z"
   },
   {
    "duration": 7,
    "start_time": "2023-07-07T21:03:42.115Z"
   },
   {
    "duration": 6,
    "start_time": "2023-07-07T21:03:42.124Z"
   },
   {
    "duration": 3,
    "start_time": "2023-07-07T21:03:42.133Z"
   },
   {
    "duration": 1429,
    "start_time": "2023-07-07T21:03:42.139Z"
   },
   {
    "duration": 0,
    "start_time": "2023-07-07T21:03:43.571Z"
   },
   {
    "duration": 0,
    "start_time": "2023-07-07T21:03:43.573Z"
   },
   {
    "duration": 0,
    "start_time": "2023-07-07T21:03:43.574Z"
   },
   {
    "duration": 0,
    "start_time": "2023-07-07T21:03:43.575Z"
   },
   {
    "duration": 0,
    "start_time": "2023-07-07T21:03:43.577Z"
   },
   {
    "duration": 1,
    "start_time": "2023-07-07T21:03:43.578Z"
   },
   {
    "duration": 0,
    "start_time": "2023-07-07T21:03:43.583Z"
   },
   {
    "duration": 12,
    "start_time": "2023-07-07T21:04:21.155Z"
   },
   {
    "duration": 6,
    "start_time": "2023-07-07T21:05:33.154Z"
   },
   {
    "duration": 9,
    "start_time": "2023-07-07T21:05:36.494Z"
   },
   {
    "duration": 1394,
    "start_time": "2023-07-07T21:05:44.385Z"
   },
   {
    "duration": 59,
    "start_time": "2023-07-07T21:05:45.782Z"
   },
   {
    "duration": 14,
    "start_time": "2023-07-07T21:05:45.843Z"
   },
   {
    "duration": 167,
    "start_time": "2023-07-07T21:05:45.859Z"
   },
   {
    "duration": 33,
    "start_time": "2023-07-07T21:05:46.029Z"
   },
   {
    "duration": 11,
    "start_time": "2023-07-07T21:05:46.064Z"
   },
   {
    "duration": 330,
    "start_time": "2023-07-07T21:05:46.077Z"
   },
   {
    "duration": 35,
    "start_time": "2023-07-07T21:05:46.409Z"
   },
   {
    "duration": 21,
    "start_time": "2023-07-07T21:05:46.446Z"
   },
   {
    "duration": 41,
    "start_time": "2023-07-07T21:05:46.469Z"
   },
   {
    "duration": 11,
    "start_time": "2023-07-07T21:05:46.512Z"
   },
   {
    "duration": 126,
    "start_time": "2023-07-07T21:05:46.525Z"
   },
   {
    "duration": 32,
    "start_time": "2023-07-07T21:05:46.654Z"
   },
   {
    "duration": 11,
    "start_time": "2023-07-07T21:05:46.689Z"
   },
   {
    "duration": 512,
    "start_time": "2023-07-07T21:05:46.701Z"
   },
   {
    "duration": 209,
    "start_time": "2023-07-07T21:05:47.215Z"
   },
   {
    "duration": 36,
    "start_time": "2023-07-07T21:05:47.426Z"
   },
   {
    "duration": 11,
    "start_time": "2023-07-07T21:05:47.463Z"
   },
   {
    "duration": 257,
    "start_time": "2023-07-07T21:05:47.476Z"
   },
   {
    "duration": 34,
    "start_time": "2023-07-07T21:05:47.735Z"
   },
   {
    "duration": 13,
    "start_time": "2023-07-07T21:05:47.771Z"
   },
   {
    "duration": 9,
    "start_time": "2023-07-07T21:05:47.785Z"
   },
   {
    "duration": 6,
    "start_time": "2023-07-07T21:05:47.796Z"
   },
   {
    "duration": 6,
    "start_time": "2023-07-07T21:05:47.803Z"
   },
   {
    "duration": 5,
    "start_time": "2023-07-07T21:05:47.811Z"
   },
   {
    "duration": 21,
    "start_time": "2023-07-07T21:05:47.817Z"
   },
   {
    "duration": 4,
    "start_time": "2023-07-07T21:05:47.868Z"
   },
   {
    "duration": 58,
    "start_time": "2023-07-07T21:05:47.873Z"
   },
   {
    "duration": 467,
    "start_time": "2023-07-07T21:05:47.933Z"
   },
   {
    "duration": 10,
    "start_time": "2023-07-07T21:05:48.401Z"
   },
   {
    "duration": 7,
    "start_time": "2023-07-07T21:05:48.412Z"
   },
   {
    "duration": 4,
    "start_time": "2023-07-07T21:05:48.421Z"
   },
   {
    "duration": 10,
    "start_time": "2023-07-07T21:09:07.713Z"
   },
   {
    "duration": 10,
    "start_time": "2023-07-07T21:10:19.028Z"
   },
   {
    "duration": 21,
    "start_time": "2023-07-07T21:12:49.194Z"
   },
   {
    "duration": 4,
    "start_time": "2023-07-07T21:13:48.879Z"
   },
   {
    "duration": 4,
    "start_time": "2023-07-07T21:16:00.457Z"
   },
   {
    "duration": 4,
    "start_time": "2023-07-07T21:16:19.820Z"
   },
   {
    "duration": 122,
    "start_time": "2023-07-07T21:17:18.234Z"
   },
   {
    "duration": 13,
    "start_time": "2023-07-07T21:27:37.369Z"
   },
   {
    "duration": 20,
    "start_time": "2023-07-07T21:27:52.334Z"
   },
   {
    "duration": 7,
    "start_time": "2023-07-07T21:28:12.644Z"
   },
   {
    "duration": 4,
    "start_time": "2023-07-07T21:28:55.555Z"
   },
   {
    "duration": 5,
    "start_time": "2023-07-07T21:28:56.814Z"
   },
   {
    "duration": 1510,
    "start_time": "2023-07-07T21:30:34.341Z"
   },
   {
    "duration": 60,
    "start_time": "2023-07-07T21:30:35.853Z"
   },
   {
    "duration": 15,
    "start_time": "2023-07-07T21:30:35.915Z"
   },
   {
    "duration": 151,
    "start_time": "2023-07-07T21:30:35.932Z"
   },
   {
    "duration": 33,
    "start_time": "2023-07-07T21:30:36.086Z"
   },
   {
    "duration": 13,
    "start_time": "2023-07-07T21:30:36.121Z"
   },
   {
    "duration": 333,
    "start_time": "2023-07-07T21:30:36.136Z"
   },
   {
    "duration": 36,
    "start_time": "2023-07-07T21:30:36.472Z"
   },
   {
    "duration": 14,
    "start_time": "2023-07-07T21:30:36.509Z"
   },
   {
    "duration": 42,
    "start_time": "2023-07-07T21:30:36.525Z"
   },
   {
    "duration": 12,
    "start_time": "2023-07-07T21:30:36.569Z"
   },
   {
    "duration": 150,
    "start_time": "2023-07-07T21:30:36.584Z"
   },
   {
    "duration": 32,
    "start_time": "2023-07-07T21:30:36.736Z"
   },
   {
    "duration": 11,
    "start_time": "2023-07-07T21:30:36.771Z"
   },
   {
    "duration": 535,
    "start_time": "2023-07-07T21:30:36.784Z"
   },
   {
    "duration": 240,
    "start_time": "2023-07-07T21:30:37.320Z"
   },
   {
    "duration": 37,
    "start_time": "2023-07-07T21:30:37.561Z"
   },
   {
    "duration": 13,
    "start_time": "2023-07-07T21:30:37.600Z"
   },
   {
    "duration": 288,
    "start_time": "2023-07-07T21:30:37.615Z"
   },
   {
    "duration": 28,
    "start_time": "2023-07-07T21:30:37.905Z"
   },
   {
    "duration": 12,
    "start_time": "2023-07-07T21:30:37.935Z"
   },
   {
    "duration": 22,
    "start_time": "2023-07-07T21:30:37.949Z"
   },
   {
    "duration": 6,
    "start_time": "2023-07-07T21:30:37.973Z"
   },
   {
    "duration": 5,
    "start_time": "2023-07-07T21:30:37.981Z"
   },
   {
    "duration": 14,
    "start_time": "2023-07-07T21:30:37.987Z"
   },
   {
    "duration": 24,
    "start_time": "2023-07-07T21:30:38.003Z"
   },
   {
    "duration": 5,
    "start_time": "2023-07-07T21:30:38.029Z"
   },
   {
    "duration": 89,
    "start_time": "2023-07-07T21:30:38.036Z"
   },
   {
    "duration": 469,
    "start_time": "2023-07-07T21:30:38.127Z"
   },
   {
    "duration": 14,
    "start_time": "2023-07-07T21:30:38.598Z"
   },
   {
    "duration": 6,
    "start_time": "2023-07-07T21:30:38.614Z"
   },
   {
    "duration": 10,
    "start_time": "2023-07-07T21:30:38.622Z"
   },
   {
    "duration": 1521,
    "start_time": "2023-07-07T22:08:12.474Z"
   },
   {
    "duration": 67,
    "start_time": "2023-07-07T22:08:13.998Z"
   },
   {
    "duration": 15,
    "start_time": "2023-07-07T22:08:14.066Z"
   },
   {
    "duration": 153,
    "start_time": "2023-07-07T22:08:14.083Z"
   },
   {
    "duration": 32,
    "start_time": "2023-07-07T22:08:14.238Z"
   },
   {
    "duration": 14,
    "start_time": "2023-07-07T22:08:14.272Z"
   },
   {
    "duration": 337,
    "start_time": "2023-07-07T22:08:14.288Z"
   },
   {
    "duration": 34,
    "start_time": "2023-07-07T22:08:14.627Z"
   },
   {
    "duration": 14,
    "start_time": "2023-07-07T22:08:14.663Z"
   },
   {
    "duration": 41,
    "start_time": "2023-07-07T22:08:14.679Z"
   },
   {
    "duration": 11,
    "start_time": "2023-07-07T22:08:14.721Z"
   },
   {
    "duration": 132,
    "start_time": "2023-07-07T22:08:14.733Z"
   },
   {
    "duration": 39,
    "start_time": "2023-07-07T22:08:14.867Z"
   },
   {
    "duration": 12,
    "start_time": "2023-07-07T22:08:14.909Z"
   },
   {
    "duration": 536,
    "start_time": "2023-07-07T22:08:14.923Z"
   },
   {
    "duration": 239,
    "start_time": "2023-07-07T22:08:15.461Z"
   },
   {
    "duration": 46,
    "start_time": "2023-07-07T22:08:15.702Z"
   },
   {
    "duration": 12,
    "start_time": "2023-07-07T22:08:15.750Z"
   },
   {
    "duration": 259,
    "start_time": "2023-07-07T22:08:15.764Z"
   },
   {
    "duration": 28,
    "start_time": "2023-07-07T22:08:16.025Z"
   },
   {
    "duration": 15,
    "start_time": "2023-07-07T22:08:16.055Z"
   },
   {
    "duration": 14,
    "start_time": "2023-07-07T22:08:16.072Z"
   },
   {
    "duration": 6,
    "start_time": "2023-07-07T22:08:16.088Z"
   },
   {
    "duration": 5,
    "start_time": "2023-07-07T22:08:16.095Z"
   },
   {
    "duration": 10,
    "start_time": "2023-07-07T22:08:16.101Z"
   },
   {
    "duration": 24,
    "start_time": "2023-07-07T22:08:16.113Z"
   },
   {
    "duration": 3,
    "start_time": "2023-07-07T22:08:16.138Z"
   },
   {
    "duration": 69,
    "start_time": "2023-07-07T22:08:16.143Z"
   },
   {
    "duration": 487,
    "start_time": "2023-07-07T22:08:16.214Z"
   },
   {
    "duration": 12,
    "start_time": "2023-07-07T22:08:16.702Z"
   },
   {
    "duration": 21,
    "start_time": "2023-07-07T22:08:16.717Z"
   },
   {
    "duration": 13,
    "start_time": "2023-07-07T22:08:16.741Z"
   },
   {
    "duration": 1586,
    "start_time": "2023-07-07T22:55:21.056Z"
   },
   {
    "duration": 63,
    "start_time": "2023-07-07T22:55:22.644Z"
   },
   {
    "duration": 14,
    "start_time": "2023-07-07T22:55:22.709Z"
   },
   {
    "duration": 162,
    "start_time": "2023-07-07T22:55:22.725Z"
   },
   {
    "duration": 32,
    "start_time": "2023-07-07T22:55:22.890Z"
   },
   {
    "duration": 12,
    "start_time": "2023-07-07T22:55:22.924Z"
   },
   {
    "duration": 347,
    "start_time": "2023-07-07T22:55:22.938Z"
   },
   {
    "duration": 39,
    "start_time": "2023-07-07T22:55:23.287Z"
   },
   {
    "duration": 14,
    "start_time": "2023-07-07T22:55:23.329Z"
   },
   {
    "duration": 43,
    "start_time": "2023-07-07T22:55:23.344Z"
   },
   {
    "duration": 12,
    "start_time": "2023-07-07T22:55:23.389Z"
   },
   {
    "duration": 139,
    "start_time": "2023-07-07T22:55:23.403Z"
   },
   {
    "duration": 40,
    "start_time": "2023-07-07T22:55:23.544Z"
   },
   {
    "duration": 12,
    "start_time": "2023-07-07T22:55:23.588Z"
   },
   {
    "duration": 566,
    "start_time": "2023-07-07T22:55:23.601Z"
   },
   {
    "duration": 228,
    "start_time": "2023-07-07T22:55:24.168Z"
   },
   {
    "duration": 35,
    "start_time": "2023-07-07T22:55:24.398Z"
   },
   {
    "duration": 11,
    "start_time": "2023-07-07T22:55:24.435Z"
   },
   {
    "duration": 245,
    "start_time": "2023-07-07T22:55:24.447Z"
   },
   {
    "duration": 27,
    "start_time": "2023-07-07T22:55:24.693Z"
   },
   {
    "duration": 14,
    "start_time": "2023-07-07T22:55:24.722Z"
   },
   {
    "duration": 15,
    "start_time": "2023-07-07T22:55:24.737Z"
   },
   {
    "duration": 16,
    "start_time": "2023-07-07T22:55:24.754Z"
   },
   {
    "duration": 19,
    "start_time": "2023-07-07T22:55:24.772Z"
   },
   {
    "duration": 6,
    "start_time": "2023-07-07T22:55:24.793Z"
   },
   {
    "duration": 26,
    "start_time": "2023-07-07T22:55:24.801Z"
   },
   {
    "duration": 4,
    "start_time": "2023-07-07T22:55:24.829Z"
   },
   {
    "duration": 70,
    "start_time": "2023-07-07T22:55:24.835Z"
   },
   {
    "duration": 433,
    "start_time": "2023-07-07T22:55:24.907Z"
   },
   {
    "duration": 9,
    "start_time": "2023-07-07T22:55:25.341Z"
   },
   {
    "duration": 1381,
    "start_time": "2023-07-07T22:56:34.992Z"
   },
   {
    "duration": 59,
    "start_time": "2023-07-07T22:56:36.375Z"
   },
   {
    "duration": 14,
    "start_time": "2023-07-07T22:56:36.436Z"
   },
   {
    "duration": 144,
    "start_time": "2023-07-07T22:56:36.452Z"
   },
   {
    "duration": 32,
    "start_time": "2023-07-07T22:56:36.600Z"
   },
   {
    "duration": 12,
    "start_time": "2023-07-07T22:56:36.634Z"
   },
   {
    "duration": 372,
    "start_time": "2023-07-07T22:56:36.649Z"
   },
   {
    "duration": 53,
    "start_time": "2023-07-07T22:56:37.024Z"
   },
   {
    "duration": 12,
    "start_time": "2023-07-07T22:56:37.079Z"
   },
   {
    "duration": 44,
    "start_time": "2023-07-07T22:56:37.094Z"
   },
   {
    "duration": 12,
    "start_time": "2023-07-07T22:56:37.140Z"
   },
   {
    "duration": 133,
    "start_time": "2023-07-07T22:56:37.154Z"
   },
   {
    "duration": 32,
    "start_time": "2023-07-07T22:56:37.290Z"
   },
   {
    "duration": 12,
    "start_time": "2023-07-07T22:56:37.325Z"
   },
   {
    "duration": 469,
    "start_time": "2023-07-07T22:56:37.339Z"
   },
   {
    "duration": 230,
    "start_time": "2023-07-07T22:56:37.810Z"
   },
   {
    "duration": 35,
    "start_time": "2023-07-07T22:56:38.043Z"
   },
   {
    "duration": 11,
    "start_time": "2023-07-07T22:56:38.080Z"
   },
   {
    "duration": 281,
    "start_time": "2023-07-07T22:56:38.093Z"
   },
   {
    "duration": 41,
    "start_time": "2023-07-07T22:56:38.376Z"
   },
   {
    "duration": 12,
    "start_time": "2023-07-07T22:56:38.419Z"
   },
   {
    "duration": 22,
    "start_time": "2023-07-07T22:56:38.433Z"
   },
   {
    "duration": 15,
    "start_time": "2023-07-07T22:56:38.457Z"
   },
   {
    "duration": 13,
    "start_time": "2023-07-07T22:56:38.475Z"
   },
   {
    "duration": 10,
    "start_time": "2023-07-07T22:56:38.491Z"
   },
   {
    "duration": 49,
    "start_time": "2023-07-07T22:56:38.504Z"
   },
   {
    "duration": 4,
    "start_time": "2023-07-07T22:56:38.555Z"
   },
   {
    "duration": 60,
    "start_time": "2023-07-07T22:56:38.562Z"
   },
   {
    "duration": 499,
    "start_time": "2023-07-07T22:56:38.624Z"
   },
   {
    "duration": 12,
    "start_time": "2023-07-07T22:56:39.125Z"
   },
   {
    "duration": 1407,
    "start_time": "2023-07-07T23:03:48.566Z"
   },
   {
    "duration": 61,
    "start_time": "2023-07-07T23:03:49.975Z"
   },
   {
    "duration": 13,
    "start_time": "2023-07-07T23:03:50.038Z"
   },
   {
    "duration": 143,
    "start_time": "2023-07-07T23:03:50.053Z"
   },
   {
    "duration": 31,
    "start_time": "2023-07-07T23:03:50.199Z"
   },
   {
    "duration": 12,
    "start_time": "2023-07-07T23:03:50.232Z"
   },
   {
    "duration": 323,
    "start_time": "2023-07-07T23:03:50.246Z"
   },
   {
    "duration": 35,
    "start_time": "2023-07-07T23:03:50.570Z"
   },
   {
    "duration": 12,
    "start_time": "2023-07-07T23:03:50.606Z"
   },
   {
    "duration": 45,
    "start_time": "2023-07-07T23:03:50.620Z"
   },
   {
    "duration": 10,
    "start_time": "2023-07-07T23:03:50.666Z"
   },
   {
    "duration": 132,
    "start_time": "2023-07-07T23:03:50.678Z"
   },
   {
    "duration": 34,
    "start_time": "2023-07-07T23:03:50.811Z"
   },
   {
    "duration": 19,
    "start_time": "2023-07-07T23:03:50.848Z"
   },
   {
    "duration": 446,
    "start_time": "2023-07-07T23:03:50.869Z"
   },
   {
    "duration": 214,
    "start_time": "2023-07-07T23:03:51.317Z"
   },
   {
    "duration": 37,
    "start_time": "2023-07-07T23:03:51.532Z"
   },
   {
    "duration": 11,
    "start_time": "2023-07-07T23:03:51.571Z"
   },
   {
    "duration": 272,
    "start_time": "2023-07-07T23:03:51.583Z"
   },
   {
    "duration": 28,
    "start_time": "2023-07-07T23:03:51.857Z"
   },
   {
    "duration": 13,
    "start_time": "2023-07-07T23:03:51.886Z"
   },
   {
    "duration": 17,
    "start_time": "2023-07-07T23:03:51.900Z"
   },
   {
    "duration": 15,
    "start_time": "2023-07-07T23:03:51.919Z"
   },
   {
    "duration": 14,
    "start_time": "2023-07-07T23:03:51.936Z"
   },
   {
    "duration": 26,
    "start_time": "2023-07-07T23:03:51.952Z"
   },
   {
    "duration": 42,
    "start_time": "2023-07-07T23:03:51.980Z"
   },
   {
    "duration": 15,
    "start_time": "2023-07-07T23:03:52.024Z"
   },
   {
    "duration": 51,
    "start_time": "2023-07-07T23:03:52.041Z"
   },
   {
    "duration": 529,
    "start_time": "2023-07-07T23:03:52.093Z"
   },
   {
    "duration": 9,
    "start_time": "2023-07-07T23:03:52.623Z"
   },
   {
    "duration": 16,
    "start_time": "2023-07-07T23:03:52.634Z"
   },
   {
    "duration": 45,
    "start_time": "2023-07-07T23:03:52.652Z"
   },
   {
    "duration": 6271787,
    "start_time": "2023-07-07T23:03:52.699Z"
   },
   {
    "duration": 256,
    "start_time": "2023-07-08T00:48:24.488Z"
   },
   {
    "duration": 0,
    "start_time": "2023-07-08T00:48:24.747Z"
   },
   {
    "duration": 4235,
    "start_time": "2023-07-08T04:00:56.622Z"
   },
   {
    "duration": 1379,
    "start_time": "2023-07-08T04:01:19.123Z"
   },
   {
    "duration": 58,
    "start_time": "2023-07-08T04:01:20.504Z"
   },
   {
    "duration": 12,
    "start_time": "2023-07-08T04:01:20.563Z"
   },
   {
    "duration": 149,
    "start_time": "2023-07-08T04:01:20.577Z"
   },
   {
    "duration": 32,
    "start_time": "2023-07-08T04:01:20.729Z"
   },
   {
    "duration": 12,
    "start_time": "2023-07-08T04:01:20.763Z"
   },
   {
    "duration": 332,
    "start_time": "2023-07-08T04:01:20.776Z"
   },
   {
    "duration": 36,
    "start_time": "2023-07-08T04:01:21.110Z"
   },
   {
    "duration": 13,
    "start_time": "2023-07-08T04:01:21.148Z"
   },
   {
    "duration": 53,
    "start_time": "2023-07-08T04:01:21.169Z"
   },
   {
    "duration": 11,
    "start_time": "2023-07-08T04:01:21.223Z"
   },
   {
    "duration": 151,
    "start_time": "2023-07-08T04:01:21.236Z"
   },
   {
    "duration": 33,
    "start_time": "2023-07-08T04:01:21.388Z"
   },
   {
    "duration": 12,
    "start_time": "2023-07-08T04:01:21.424Z"
   },
   {
    "duration": 467,
    "start_time": "2023-07-08T04:01:21.437Z"
   },
   {
    "duration": 225,
    "start_time": "2023-07-08T04:01:21.906Z"
   },
   {
    "duration": 37,
    "start_time": "2023-07-08T04:01:22.132Z"
   },
   {
    "duration": 12,
    "start_time": "2023-07-08T04:01:22.170Z"
   },
   {
    "duration": 271,
    "start_time": "2023-07-08T04:01:22.183Z"
   },
   {
    "duration": 29,
    "start_time": "2023-07-08T04:01:22.455Z"
   },
   {
    "duration": 13,
    "start_time": "2023-07-08T04:01:22.486Z"
   },
   {
    "duration": 11,
    "start_time": "2023-07-08T04:01:22.500Z"
   },
   {
    "duration": 10,
    "start_time": "2023-07-08T04:01:22.512Z"
   },
   {
    "duration": 45,
    "start_time": "2023-07-08T04:01:22.524Z"
   },
   {
    "duration": 7,
    "start_time": "2023-07-08T04:01:22.571Z"
   },
   {
    "duration": 23,
    "start_time": "2023-07-08T04:01:22.580Z"
   },
   {
    "duration": 3,
    "start_time": "2023-07-08T04:01:22.605Z"
   },
   {
    "duration": 70,
    "start_time": "2023-07-08T04:01:22.609Z"
   },
   {
    "duration": 430,
    "start_time": "2023-07-08T04:01:22.681Z"
   },
   {
    "duration": 9,
    "start_time": "2023-07-08T04:01:23.113Z"
   },
   {
    "duration": 6,
    "start_time": "2023-07-08T04:01:23.123Z"
   },
   {
    "duration": 7,
    "start_time": "2023-07-08T04:01:23.131Z"
   },
   {
    "duration": 4059197,
    "start_time": "2023-07-08T04:01:23.139Z"
   },
   {
    "duration": 12,
    "start_time": "2023-07-08T05:09:02.339Z"
   },
   {
    "duration": 0,
    "start_time": "2023-07-08T05:09:02.353Z"
   },
   {
    "duration": 2027,
    "start_time": "2023-07-08T07:39:26.614Z"
   },
   {
    "duration": 173,
    "start_time": "2023-07-08T07:39:28.644Z"
   },
   {
    "duration": 13,
    "start_time": "2023-07-08T07:39:28.819Z"
   },
   {
    "duration": 171,
    "start_time": "2023-07-08T07:39:28.834Z"
   },
   {
    "duration": 75,
    "start_time": "2023-07-08T07:39:29.007Z"
   },
   {
    "duration": 14,
    "start_time": "2023-07-08T07:39:29.084Z"
   },
   {
    "duration": 344,
    "start_time": "2023-07-08T07:39:29.100Z"
   },
   {
    "duration": 115,
    "start_time": "2023-07-08T07:39:29.446Z"
   },
   {
    "duration": 12,
    "start_time": "2023-07-08T07:39:29.563Z"
   },
   {
    "duration": 70,
    "start_time": "2023-07-08T07:39:29.577Z"
   },
   {
    "duration": 92,
    "start_time": "2023-07-08T07:39:29.649Z"
   },
   {
    "duration": 136,
    "start_time": "2023-07-08T07:39:29.743Z"
   },
   {
    "duration": 76,
    "start_time": "2023-07-08T07:39:29.881Z"
   },
   {
    "duration": 11,
    "start_time": "2023-07-08T07:39:29.959Z"
   },
   {
    "duration": 443,
    "start_time": "2023-07-08T07:39:29.971Z"
   },
   {
    "duration": 131,
    "start_time": "2023-07-08T07:39:30.416Z"
   },
   {
    "duration": 78,
    "start_time": "2023-07-08T07:39:30.549Z"
   },
   {
    "duration": 11,
    "start_time": "2023-07-08T07:39:30.629Z"
   },
   {
    "duration": 255,
    "start_time": "2023-07-08T07:39:30.641Z"
   },
   {
    "duration": 71,
    "start_time": "2023-07-08T07:39:30.897Z"
   },
   {
    "duration": 13,
    "start_time": "2023-07-08T07:39:30.970Z"
   },
   {
    "duration": 31,
    "start_time": "2023-07-08T07:39:30.985Z"
   },
   {
    "duration": 20,
    "start_time": "2023-07-08T07:39:31.018Z"
   },
   {
    "duration": 41,
    "start_time": "2023-07-08T07:39:31.040Z"
   },
   {
    "duration": 44,
    "start_time": "2023-07-08T07:39:31.084Z"
   },
   {
    "duration": 47,
    "start_time": "2023-07-08T07:39:31.130Z"
   },
   {
    "duration": 26,
    "start_time": "2023-07-08T07:39:31.179Z"
   },
   {
    "duration": 87,
    "start_time": "2023-07-08T07:39:31.208Z"
   },
   {
    "duration": 429,
    "start_time": "2023-07-08T07:39:31.297Z"
   },
   {
    "duration": 118,
    "start_time": "2023-07-08T07:39:31.727Z"
   },
   {
    "duration": 0,
    "start_time": "2023-07-08T07:39:31.847Z"
   },
   {
    "duration": 0,
    "start_time": "2023-07-08T07:39:31.848Z"
   },
   {
    "duration": 0,
    "start_time": "2023-07-08T07:39:31.849Z"
   },
   {
    "duration": 0,
    "start_time": "2023-07-08T07:39:31.850Z"
   },
   {
    "duration": 0,
    "start_time": "2023-07-08T07:39:31.867Z"
   },
   {
    "duration": 3070,
    "start_time": "2023-07-08T07:40:42.922Z"
   },
   {
    "duration": 1800,
    "start_time": "2023-07-08T07:40:58.028Z"
   },
   {
    "duration": 57,
    "start_time": "2023-07-08T07:40:59.830Z"
   },
   {
    "duration": 12,
    "start_time": "2023-07-08T07:40:59.889Z"
   },
   {
    "duration": 153,
    "start_time": "2023-07-08T07:40:59.903Z"
   },
   {
    "duration": 33,
    "start_time": "2023-07-08T07:41:00.058Z"
   },
   {
    "duration": 18,
    "start_time": "2023-07-08T07:41:00.093Z"
   },
   {
    "duration": 349,
    "start_time": "2023-07-08T07:41:00.113Z"
   },
   {
    "duration": 38,
    "start_time": "2023-07-08T07:41:00.464Z"
   },
   {
    "duration": 14,
    "start_time": "2023-07-08T07:41:00.503Z"
   },
   {
    "duration": 69,
    "start_time": "2023-07-08T07:41:00.519Z"
   },
   {
    "duration": 15,
    "start_time": "2023-07-08T07:41:00.590Z"
   },
   {
    "duration": 157,
    "start_time": "2023-07-08T07:41:00.607Z"
   },
   {
    "duration": 32,
    "start_time": "2023-07-08T07:41:00.766Z"
   },
   {
    "duration": 32,
    "start_time": "2023-07-08T07:41:00.801Z"
   },
   {
    "duration": 497,
    "start_time": "2023-07-08T07:41:00.834Z"
   },
   {
    "duration": 226,
    "start_time": "2023-07-08T07:41:01.334Z"
   },
   {
    "duration": 39,
    "start_time": "2023-07-08T07:41:01.562Z"
   },
   {
    "duration": 11,
    "start_time": "2023-07-08T07:41:01.603Z"
   },
   {
    "duration": 310,
    "start_time": "2023-07-08T07:41:01.616Z"
   },
   {
    "duration": 28,
    "start_time": "2023-07-08T07:41:01.928Z"
   },
   {
    "duration": 51,
    "start_time": "2023-07-08T07:41:01.958Z"
   },
   {
    "duration": 57,
    "start_time": "2023-07-08T07:41:02.011Z"
   },
   {
    "duration": 39,
    "start_time": "2023-07-08T07:41:02.070Z"
   },
   {
    "duration": 33,
    "start_time": "2023-07-08T07:41:02.111Z"
   },
   {
    "duration": 68,
    "start_time": "2023-07-08T07:41:02.146Z"
   },
   {
    "duration": 85,
    "start_time": "2023-07-08T07:41:02.216Z"
   },
   {
    "duration": 47,
    "start_time": "2023-07-08T07:41:02.303Z"
   },
   {
    "duration": 70,
    "start_time": "2023-07-08T07:41:02.352Z"
   },
   {
    "duration": 486,
    "start_time": "2023-07-08T07:41:02.424Z"
   },
   {
    "duration": 2877,
    "start_time": "2023-07-08T07:41:02.912Z"
   },
   {
    "duration": 0,
    "start_time": "2023-07-08T07:41:05.791Z"
   },
   {
    "duration": 0,
    "start_time": "2023-07-08T07:41:05.793Z"
   },
   {
    "duration": 0,
    "start_time": "2023-07-08T07:41:05.794Z"
   },
   {
    "duration": 0,
    "start_time": "2023-07-08T07:41:05.796Z"
   },
   {
    "duration": 0,
    "start_time": "2023-07-08T07:41:05.797Z"
   },
   {
    "duration": 1793,
    "start_time": "2023-07-08T07:41:22.682Z"
   },
   {
    "duration": 56,
    "start_time": "2023-07-08T07:41:24.477Z"
   },
   {
    "duration": 12,
    "start_time": "2023-07-08T07:41:24.535Z"
   },
   {
    "duration": 145,
    "start_time": "2023-07-08T07:41:24.549Z"
   },
   {
    "duration": 32,
    "start_time": "2023-07-08T07:41:24.696Z"
   },
   {
    "duration": 11,
    "start_time": "2023-07-08T07:41:24.730Z"
   },
   {
    "duration": 329,
    "start_time": "2023-07-08T07:41:24.743Z"
   },
   {
    "duration": 37,
    "start_time": "2023-07-08T07:41:25.073Z"
   },
   {
    "duration": 16,
    "start_time": "2023-07-08T07:41:25.112Z"
   },
   {
    "duration": 47,
    "start_time": "2023-07-08T07:41:25.130Z"
   },
   {
    "duration": 11,
    "start_time": "2023-07-08T07:41:25.179Z"
   },
   {
    "duration": 137,
    "start_time": "2023-07-08T07:41:25.191Z"
   },
   {
    "duration": 32,
    "start_time": "2023-07-08T07:41:25.330Z"
   },
   {
    "duration": 12,
    "start_time": "2023-07-08T07:41:25.366Z"
   },
   {
    "duration": 418,
    "start_time": "2023-07-08T07:41:25.380Z"
   },
   {
    "duration": 211,
    "start_time": "2023-07-08T07:41:25.800Z"
   },
   {
    "duration": 37,
    "start_time": "2023-07-08T07:41:26.013Z"
   },
   {
    "duration": 10,
    "start_time": "2023-07-08T07:41:26.052Z"
   },
   {
    "duration": 228,
    "start_time": "2023-07-08T07:41:26.064Z"
   },
   {
    "duration": 26,
    "start_time": "2023-07-08T07:41:26.294Z"
   },
   {
    "duration": 11,
    "start_time": "2023-07-08T07:41:26.321Z"
   },
   {
    "duration": 6,
    "start_time": "2023-07-08T07:41:26.334Z"
   },
   {
    "duration": 15,
    "start_time": "2023-07-08T07:41:26.342Z"
   },
   {
    "duration": 8,
    "start_time": "2023-07-08T07:41:26.359Z"
   },
   {
    "duration": 4,
    "start_time": "2023-07-08T07:41:26.369Z"
   },
   {
    "duration": 18,
    "start_time": "2023-07-08T07:41:26.374Z"
   },
   {
    "duration": 3,
    "start_time": "2023-07-08T07:41:26.393Z"
   },
   {
    "duration": 44,
    "start_time": "2023-07-08T07:41:26.397Z"
   },
   {
    "duration": 441,
    "start_time": "2023-07-08T07:41:26.442Z"
   },
   {
    "duration": 11,
    "start_time": "2023-07-08T07:41:26.885Z"
   },
   {
    "duration": 9,
    "start_time": "2023-07-08T07:41:26.897Z"
   },
   {
    "duration": 8,
    "start_time": "2023-07-08T07:41:26.908Z"
   },
   {
    "duration": 7,
    "start_time": "2023-07-08T07:41:26.918Z"
   },
   {
    "duration": 113,
    "start_time": "2023-07-08T07:41:26.926Z"
   },
   {
    "duration": 0,
    "start_time": "2023-07-08T07:41:27.040Z"
   },
   {
    "duration": 34,
    "start_time": "2023-07-08T07:41:42.343Z"
   },
   {
    "duration": 11,
    "start_time": "2023-07-08T07:42:12.263Z"
   },
   {
    "duration": 32,
    "start_time": "2023-07-08T07:42:13.462Z"
   },
   {
    "duration": 50,
    "start_time": "2023-07-08T07:42:28.814Z"
   },
   {
    "duration": 11,
    "start_time": "2023-07-08T07:42:46.728Z"
   },
   {
    "duration": 31,
    "start_time": "2023-07-08T07:42:57.175Z"
   },
   {
    "duration": 2558,
    "start_time": "2023-07-08T07:43:10.631Z"
   },
   {
    "duration": 1858,
    "start_time": "2023-07-08T07:43:21.452Z"
   },
   {
    "duration": 57,
    "start_time": "2023-07-08T07:43:23.312Z"
   },
   {
    "duration": 12,
    "start_time": "2023-07-08T07:43:23.370Z"
   },
   {
    "duration": 151,
    "start_time": "2023-07-08T07:43:23.384Z"
   },
   {
    "duration": 31,
    "start_time": "2023-07-08T07:43:23.537Z"
   },
   {
    "duration": 10,
    "start_time": "2023-07-08T07:43:23.570Z"
   },
   {
    "duration": 347,
    "start_time": "2023-07-08T07:43:23.582Z"
   },
   {
    "duration": 41,
    "start_time": "2023-07-08T07:43:23.932Z"
   },
   {
    "duration": 15,
    "start_time": "2023-07-08T07:43:23.976Z"
   },
   {
    "duration": 52,
    "start_time": "2023-07-08T07:43:23.994Z"
   },
   {
    "duration": 13,
    "start_time": "2023-07-08T07:43:24.048Z"
   },
   {
    "duration": 143,
    "start_time": "2023-07-08T07:43:24.063Z"
   },
   {
    "duration": 31,
    "start_time": "2023-07-08T07:43:24.207Z"
   },
   {
    "duration": 11,
    "start_time": "2023-07-08T07:43:24.240Z"
   },
   {
    "duration": 451,
    "start_time": "2023-07-08T07:43:24.253Z"
   },
   {
    "duration": 212,
    "start_time": "2023-07-08T07:43:24.706Z"
   },
   {
    "duration": 35,
    "start_time": "2023-07-08T07:43:24.920Z"
   },
   {
    "duration": 11,
    "start_time": "2023-07-08T07:43:24.957Z"
   },
   {
    "duration": 249,
    "start_time": "2023-07-08T07:43:24.970Z"
   },
   {
    "duration": 26,
    "start_time": "2023-07-08T07:43:25.220Z"
   },
   {
    "duration": 12,
    "start_time": "2023-07-08T07:43:25.248Z"
   },
   {
    "duration": 15,
    "start_time": "2023-07-08T07:43:25.261Z"
   },
   {
    "duration": 8,
    "start_time": "2023-07-08T07:43:25.277Z"
   },
   {
    "duration": 25,
    "start_time": "2023-07-08T07:43:25.286Z"
   },
   {
    "duration": 6,
    "start_time": "2023-07-08T07:43:25.313Z"
   },
   {
    "duration": 24,
    "start_time": "2023-07-08T07:43:25.320Z"
   },
   {
    "duration": 3,
    "start_time": "2023-07-08T07:43:25.345Z"
   },
   {
    "duration": 58,
    "start_time": "2023-07-08T07:43:25.351Z"
   },
   {
    "duration": 435,
    "start_time": "2023-07-08T07:43:25.410Z"
   },
   {
    "duration": 2733,
    "start_time": "2023-07-08T07:43:25.847Z"
   },
   {
    "duration": 0,
    "start_time": "2023-07-08T07:43:28.581Z"
   },
   {
    "duration": 0,
    "start_time": "2023-07-08T07:43:28.583Z"
   },
   {
    "duration": 0,
    "start_time": "2023-07-08T07:43:28.583Z"
   },
   {
    "duration": 0,
    "start_time": "2023-07-08T07:43:28.584Z"
   },
   {
    "duration": 0,
    "start_time": "2023-07-08T07:43:28.585Z"
   },
   {
    "duration": 0,
    "start_time": "2023-07-08T07:43:28.587Z"
   },
   {
    "duration": 6,
    "start_time": "2023-07-08T07:44:04.926Z"
   },
   {
    "duration": 1979,
    "start_time": "2023-07-08T07:45:52.883Z"
   },
   {
    "duration": 60,
    "start_time": "2023-07-08T07:45:54.864Z"
   },
   {
    "duration": 15,
    "start_time": "2023-07-08T07:45:54.925Z"
   },
   {
    "duration": 188,
    "start_time": "2023-07-08T07:45:54.941Z"
   },
   {
    "duration": 35,
    "start_time": "2023-07-08T07:45:55.132Z"
   },
   {
    "duration": 37,
    "start_time": "2023-07-08T07:45:55.168Z"
   },
   {
    "duration": 416,
    "start_time": "2023-07-08T07:45:55.208Z"
   },
   {
    "duration": 35,
    "start_time": "2023-07-08T07:45:55.625Z"
   },
   {
    "duration": 13,
    "start_time": "2023-07-08T07:45:55.662Z"
   },
   {
    "duration": 78,
    "start_time": "2023-07-08T07:45:55.676Z"
   },
   {
    "duration": 12,
    "start_time": "2023-07-08T07:45:55.756Z"
   },
   {
    "duration": 163,
    "start_time": "2023-07-08T07:45:55.770Z"
   },
   {
    "duration": 42,
    "start_time": "2023-07-08T07:45:55.935Z"
   },
   {
    "duration": 11,
    "start_time": "2023-07-08T07:45:55.980Z"
   },
   {
    "duration": 525,
    "start_time": "2023-07-08T07:45:55.993Z"
   },
   {
    "duration": 273,
    "start_time": "2023-07-08T07:45:56.520Z"
   },
   {
    "duration": 26,
    "start_time": "2023-07-08T07:45:56.795Z"
   },
   {
    "duration": 57,
    "start_time": "2023-07-08T07:45:56.822Z"
   },
   {
    "duration": 256,
    "start_time": "2023-07-08T07:45:56.881Z"
   },
   {
    "duration": 38,
    "start_time": "2023-07-08T07:45:57.139Z"
   },
   {
    "duration": 12,
    "start_time": "2023-07-08T07:45:57.179Z"
   },
   {
    "duration": 10,
    "start_time": "2023-07-08T07:45:57.193Z"
   },
   {
    "duration": 6,
    "start_time": "2023-07-08T07:45:57.206Z"
   },
   {
    "duration": 21,
    "start_time": "2023-07-08T07:45:57.214Z"
   },
   {
    "duration": 7,
    "start_time": "2023-07-08T07:45:57.237Z"
   },
   {
    "duration": 28,
    "start_time": "2023-07-08T07:45:57.246Z"
   },
   {
    "duration": 3,
    "start_time": "2023-07-08T07:45:57.276Z"
   },
   {
    "duration": 49,
    "start_time": "2023-07-08T07:45:57.281Z"
   },
   {
    "duration": 472,
    "start_time": "2023-07-08T07:45:57.332Z"
   },
   {
    "duration": 4,
    "start_time": "2023-07-08T07:45:57.806Z"
   },
   {
    "duration": 144,
    "start_time": "2023-07-08T07:45:57.811Z"
   },
   {
    "duration": 0,
    "start_time": "2023-07-08T07:45:57.957Z"
   },
   {
    "duration": 0,
    "start_time": "2023-07-08T07:45:57.959Z"
   },
   {
    "duration": 0,
    "start_time": "2023-07-08T07:45:57.960Z"
   },
   {
    "duration": 0,
    "start_time": "2023-07-08T07:45:57.966Z"
   },
   {
    "duration": 0,
    "start_time": "2023-07-08T07:45:57.968Z"
   },
   {
    "duration": 0,
    "start_time": "2023-07-08T07:45:57.969Z"
   },
   {
    "duration": 0,
    "start_time": "2023-07-08T07:45:57.969Z"
   },
   {
    "duration": 11,
    "start_time": "2023-07-08T07:46:07.116Z"
   },
   {
    "duration": 10,
    "start_time": "2023-07-08T07:46:30.536Z"
   },
   {
    "duration": 12,
    "start_time": "2023-07-08T07:46:42.342Z"
   },
   {
    "duration": 11,
    "start_time": "2023-07-08T07:46:53.177Z"
   },
   {
    "duration": 1948,
    "start_time": "2023-07-08T07:47:09.658Z"
   },
   {
    "duration": 65,
    "start_time": "2023-07-08T07:47:11.608Z"
   },
   {
    "duration": 13,
    "start_time": "2023-07-08T07:47:11.674Z"
   },
   {
    "duration": 159,
    "start_time": "2023-07-08T07:47:11.689Z"
   },
   {
    "duration": 34,
    "start_time": "2023-07-08T07:47:11.850Z"
   },
   {
    "duration": 13,
    "start_time": "2023-07-08T07:47:11.886Z"
   },
   {
    "duration": 343,
    "start_time": "2023-07-08T07:47:11.901Z"
   },
   {
    "duration": 37,
    "start_time": "2023-07-08T07:47:12.246Z"
   },
   {
    "duration": 15,
    "start_time": "2023-07-08T07:47:12.285Z"
   },
   {
    "duration": 44,
    "start_time": "2023-07-08T07:47:12.302Z"
   },
   {
    "duration": 13,
    "start_time": "2023-07-08T07:47:12.348Z"
   },
   {
    "duration": 127,
    "start_time": "2023-07-08T07:47:12.363Z"
   },
   {
    "duration": 32,
    "start_time": "2023-07-08T07:47:12.492Z"
   },
   {
    "duration": 11,
    "start_time": "2023-07-08T07:47:12.528Z"
   },
   {
    "duration": 482,
    "start_time": "2023-07-08T07:47:12.540Z"
   },
   {
    "duration": 240,
    "start_time": "2023-07-08T07:47:13.025Z"
   },
   {
    "duration": 37,
    "start_time": "2023-07-08T07:47:13.267Z"
   },
   {
    "duration": 12,
    "start_time": "2023-07-08T07:47:13.306Z"
   },
   {
    "duration": 240,
    "start_time": "2023-07-08T07:47:13.320Z"
   },
   {
    "duration": 31,
    "start_time": "2023-07-08T07:47:13.562Z"
   },
   {
    "duration": 12,
    "start_time": "2023-07-08T07:47:13.595Z"
   },
   {
    "duration": 18,
    "start_time": "2023-07-08T07:47:13.609Z"
   },
   {
    "duration": 7,
    "start_time": "2023-07-08T07:47:13.628Z"
   },
   {
    "duration": 9,
    "start_time": "2023-07-08T07:47:13.637Z"
   },
   {
    "duration": 9,
    "start_time": "2023-07-08T07:47:13.648Z"
   },
   {
    "duration": 26,
    "start_time": "2023-07-08T07:47:13.659Z"
   },
   {
    "duration": 3,
    "start_time": "2023-07-08T07:47:13.687Z"
   },
   {
    "duration": 63,
    "start_time": "2023-07-08T07:47:13.692Z"
   },
   {
    "duration": 475,
    "start_time": "2023-07-08T07:47:13.757Z"
   },
   {
    "duration": 7,
    "start_time": "2023-07-08T07:47:14.234Z"
   },
   {
    "duration": 18,
    "start_time": "2023-07-08T07:47:14.242Z"
   },
   {
    "duration": 13,
    "start_time": "2023-07-08T07:47:14.262Z"
   },
   {
    "duration": 19,
    "start_time": "2023-07-08T07:47:14.277Z"
   },
   {
    "duration": 8,
    "start_time": "2023-07-08T07:47:14.298Z"
   },
   {
    "duration": 9,
    "start_time": "2023-07-08T07:47:14.308Z"
   },
   {
    "duration": 9,
    "start_time": "2023-07-08T07:47:14.318Z"
   },
   {
    "duration": 5,
    "start_time": "2023-07-08T07:47:14.329Z"
   },
   {
    "duration": 7,
    "start_time": "2023-07-08T07:47:14.335Z"
   },
   {
    "duration": 4,
    "start_time": "2023-07-08T07:47:43.782Z"
   },
   {
    "duration": 116,
    "start_time": "2023-07-08T07:48:03.592Z"
   },
   {
    "duration": 1835,
    "start_time": "2023-07-08T07:48:58.658Z"
   },
   {
    "duration": 58,
    "start_time": "2023-07-08T07:49:00.496Z"
   },
   {
    "duration": 13,
    "start_time": "2023-07-08T07:49:00.555Z"
   },
   {
    "duration": 208,
    "start_time": "2023-07-08T07:49:00.570Z"
   },
   {
    "duration": 32,
    "start_time": "2023-07-08T07:49:00.780Z"
   },
   {
    "duration": 11,
    "start_time": "2023-07-08T07:49:00.813Z"
   },
   {
    "duration": 329,
    "start_time": "2023-07-08T07:49:00.826Z"
   },
   {
    "duration": 35,
    "start_time": "2023-07-08T07:49:01.156Z"
   },
   {
    "duration": 17,
    "start_time": "2023-07-08T07:49:01.193Z"
   },
   {
    "duration": 105,
    "start_time": "2023-07-08T07:49:01.211Z"
   },
   {
    "duration": 34,
    "start_time": "2023-07-08T07:49:01.317Z"
   },
   {
    "duration": 193,
    "start_time": "2023-07-08T07:49:01.353Z"
   },
   {
    "duration": 120,
    "start_time": "2023-07-08T07:49:01.548Z"
   },
   {
    "duration": 0,
    "start_time": "2023-07-08T07:49:01.671Z"
   },
   {
    "duration": 0,
    "start_time": "2023-07-08T07:49:01.673Z"
   },
   {
    "duration": 0,
    "start_time": "2023-07-08T07:49:01.675Z"
   },
   {
    "duration": 0,
    "start_time": "2023-07-08T07:49:01.676Z"
   },
   {
    "duration": 0,
    "start_time": "2023-07-08T07:49:01.677Z"
   },
   {
    "duration": 0,
    "start_time": "2023-07-08T07:49:01.678Z"
   },
   {
    "duration": 1,
    "start_time": "2023-07-08T07:49:01.679Z"
   },
   {
    "duration": 0,
    "start_time": "2023-07-08T07:49:01.680Z"
   },
   {
    "duration": 0,
    "start_time": "2023-07-08T07:49:01.682Z"
   },
   {
    "duration": 0,
    "start_time": "2023-07-08T07:49:01.682Z"
   },
   {
    "duration": 0,
    "start_time": "2023-07-08T07:49:01.683Z"
   },
   {
    "duration": 0,
    "start_time": "2023-07-08T07:49:01.685Z"
   },
   {
    "duration": 0,
    "start_time": "2023-07-08T07:49:01.686Z"
   },
   {
    "duration": 0,
    "start_time": "2023-07-08T07:49:01.687Z"
   },
   {
    "duration": 0,
    "start_time": "2023-07-08T07:49:01.688Z"
   },
   {
    "duration": 0,
    "start_time": "2023-07-08T07:49:01.689Z"
   },
   {
    "duration": 0,
    "start_time": "2023-07-08T07:49:01.690Z"
   },
   {
    "duration": 0,
    "start_time": "2023-07-08T07:49:01.691Z"
   },
   {
    "duration": 0,
    "start_time": "2023-07-08T07:49:01.692Z"
   },
   {
    "duration": 0,
    "start_time": "2023-07-08T07:49:01.693Z"
   },
   {
    "duration": 0,
    "start_time": "2023-07-08T07:49:01.694Z"
   },
   {
    "duration": 0,
    "start_time": "2023-07-08T07:49:01.695Z"
   },
   {
    "duration": 0,
    "start_time": "2023-07-08T07:49:01.696Z"
   },
   {
    "duration": 0,
    "start_time": "2023-07-08T07:49:01.697Z"
   },
   {
    "duration": 0,
    "start_time": "2023-07-08T07:49:01.698Z"
   },
   {
    "duration": 0,
    "start_time": "2023-07-08T07:49:01.699Z"
   },
   {
    "duration": 12,
    "start_time": "2023-07-08T07:49:12.755Z"
   },
   {
    "duration": 1926,
    "start_time": "2023-07-08T07:49:20.479Z"
   },
   {
    "duration": 55,
    "start_time": "2023-07-08T07:49:22.407Z"
   },
   {
    "duration": 13,
    "start_time": "2023-07-08T07:49:22.464Z"
   },
   {
    "duration": 150,
    "start_time": "2023-07-08T07:49:22.479Z"
   },
   {
    "duration": 34,
    "start_time": "2023-07-08T07:49:22.632Z"
   },
   {
    "duration": 12,
    "start_time": "2023-07-08T07:49:22.667Z"
   },
   {
    "duration": 329,
    "start_time": "2023-07-08T07:49:22.681Z"
   },
   {
    "duration": 33,
    "start_time": "2023-07-08T07:49:23.012Z"
   },
   {
    "duration": 12,
    "start_time": "2023-07-08T07:49:23.046Z"
   },
   {
    "duration": 48,
    "start_time": "2023-07-08T07:49:23.059Z"
   },
   {
    "duration": 12,
    "start_time": "2023-07-08T07:49:23.109Z"
   },
   {
    "duration": 144,
    "start_time": "2023-07-08T07:49:23.122Z"
   },
   {
    "duration": 2,
    "start_time": "2023-07-08T07:49:23.268Z"
   },
   {
    "duration": 39,
    "start_time": "2023-07-08T07:49:23.274Z"
   },
   {
    "duration": 11,
    "start_time": "2023-07-08T07:49:23.315Z"
   },
   {
    "duration": 484,
    "start_time": "2023-07-08T07:49:23.328Z"
   },
   {
    "duration": 273,
    "start_time": "2023-07-08T07:49:23.814Z"
   },
   {
    "duration": 38,
    "start_time": "2023-07-08T07:49:24.089Z"
   },
   {
    "duration": 14,
    "start_time": "2023-07-08T07:49:24.128Z"
   },
   {
    "duration": 242,
    "start_time": "2023-07-08T07:49:24.145Z"
   },
   {
    "duration": 26,
    "start_time": "2023-07-08T07:49:24.389Z"
   },
   {
    "duration": 11,
    "start_time": "2023-07-08T07:49:24.418Z"
   },
   {
    "duration": 10,
    "start_time": "2023-07-08T07:49:24.431Z"
   },
   {
    "duration": 6,
    "start_time": "2023-07-08T07:49:24.443Z"
   },
   {
    "duration": 19,
    "start_time": "2023-07-08T07:49:24.450Z"
   },
   {
    "duration": 26,
    "start_time": "2023-07-08T07:49:24.471Z"
   },
   {
    "duration": 23,
    "start_time": "2023-07-08T07:49:24.498Z"
   },
   {
    "duration": 4,
    "start_time": "2023-07-08T07:49:24.523Z"
   },
   {
    "duration": 51,
    "start_time": "2023-07-08T07:49:24.529Z"
   },
   {
    "duration": 438,
    "start_time": "2023-07-08T07:49:24.582Z"
   },
   {
    "duration": 6,
    "start_time": "2023-07-08T07:49:25.022Z"
   },
   {
    "duration": 9,
    "start_time": "2023-07-08T07:49:25.030Z"
   },
   {
    "duration": 10,
    "start_time": "2023-07-08T07:49:25.041Z"
   },
   {
    "duration": 16,
    "start_time": "2023-07-08T07:49:25.052Z"
   },
   {
    "duration": 20,
    "start_time": "2023-07-08T07:49:25.070Z"
   },
   {
    "duration": 10,
    "start_time": "2023-07-08T07:49:25.092Z"
   },
   {
    "duration": 11,
    "start_time": "2023-07-08T07:49:25.104Z"
   },
   {
    "duration": 18,
    "start_time": "2023-07-08T07:49:25.117Z"
   },
   {
    "duration": 25,
    "start_time": "2023-07-08T07:49:25.137Z"
   },
   {
    "duration": 102,
    "start_time": "2023-07-08T07:49:35.437Z"
   },
   {
    "duration": 6,
    "start_time": "2023-07-08T07:50:39.802Z"
   },
   {
    "duration": 1865,
    "start_time": "2023-07-08T07:51:03.559Z"
   },
   {
    "duration": 56,
    "start_time": "2023-07-08T07:51:05.426Z"
   },
   {
    "duration": 14,
    "start_time": "2023-07-08T07:51:05.483Z"
   },
   {
    "duration": 153,
    "start_time": "2023-07-08T07:51:05.498Z"
   },
   {
    "duration": 33,
    "start_time": "2023-07-08T07:51:05.653Z"
   },
   {
    "duration": 12,
    "start_time": "2023-07-08T07:51:05.688Z"
   },
   {
    "duration": 331,
    "start_time": "2023-07-08T07:51:05.702Z"
   },
   {
    "duration": 37,
    "start_time": "2023-07-08T07:51:06.034Z"
   },
   {
    "duration": 13,
    "start_time": "2023-07-08T07:51:06.072Z"
   },
   {
    "duration": 51,
    "start_time": "2023-07-08T07:51:06.087Z"
   },
   {
    "duration": 10,
    "start_time": "2023-07-08T07:51:06.140Z"
   },
   {
    "duration": 145,
    "start_time": "2023-07-08T07:51:06.152Z"
   },
   {
    "duration": 31,
    "start_time": "2023-07-08T07:51:06.299Z"
   },
   {
    "duration": 11,
    "start_time": "2023-07-08T07:51:06.333Z"
   },
   {
    "duration": 465,
    "start_time": "2023-07-08T07:51:06.346Z"
   },
   {
    "duration": 221,
    "start_time": "2023-07-08T07:51:06.813Z"
   },
   {
    "duration": 35,
    "start_time": "2023-07-08T07:51:07.035Z"
   },
   {
    "duration": 11,
    "start_time": "2023-07-08T07:51:07.072Z"
   },
   {
    "duration": 250,
    "start_time": "2023-07-08T07:51:07.084Z"
   },
   {
    "duration": 30,
    "start_time": "2023-07-08T07:51:07.336Z"
   },
   {
    "duration": 14,
    "start_time": "2023-07-08T07:51:07.367Z"
   },
   {
    "duration": 10,
    "start_time": "2023-07-08T07:51:07.382Z"
   },
   {
    "duration": 5,
    "start_time": "2023-07-08T07:51:07.395Z"
   },
   {
    "duration": 7,
    "start_time": "2023-07-08T07:51:07.402Z"
   },
   {
    "duration": 5,
    "start_time": "2023-07-08T07:51:07.410Z"
   },
   {
    "duration": 23,
    "start_time": "2023-07-08T07:51:07.416Z"
   },
   {
    "duration": 3,
    "start_time": "2023-07-08T07:51:07.467Z"
   },
   {
    "duration": 48,
    "start_time": "2023-07-08T07:51:07.472Z"
   },
   {
    "duration": 491,
    "start_time": "2023-07-08T07:51:07.521Z"
   },
   {
    "duration": 10,
    "start_time": "2023-07-08T07:51:08.013Z"
   },
   {
    "duration": 6,
    "start_time": "2023-07-08T07:51:08.025Z"
   },
   {
    "duration": 6,
    "start_time": "2023-07-08T07:51:08.033Z"
   },
   {
    "duration": 36,
    "start_time": "2023-07-08T07:51:08.041Z"
   },
   {
    "duration": 10,
    "start_time": "2023-07-08T07:51:08.079Z"
   },
   {
    "duration": 16,
    "start_time": "2023-07-08T07:51:08.091Z"
   },
   {
    "duration": 7,
    "start_time": "2023-07-08T07:51:08.109Z"
   },
   {
    "duration": 2716,
    "start_time": "2023-07-08T07:54:14.575Z"
   },
   {
    "duration": 35,
    "start_time": "2023-07-08T07:54:46.432Z"
   },
   {
    "duration": 6,
    "start_time": "2023-07-08T07:54:58.848Z"
   },
   {
    "duration": 11,
    "start_time": "2023-07-08T07:56:56.555Z"
   },
   {
    "duration": 10,
    "start_time": "2023-07-08T07:58:12.679Z"
   },
   {
    "duration": 1865,
    "start_time": "2023-07-08T08:02:16.384Z"
   },
   {
    "duration": 61,
    "start_time": "2023-07-08T08:02:18.251Z"
   },
   {
    "duration": 15,
    "start_time": "2023-07-08T08:02:18.314Z"
   },
   {
    "duration": 174,
    "start_time": "2023-07-08T08:02:18.331Z"
   },
   {
    "duration": 33,
    "start_time": "2023-07-08T08:02:18.508Z"
   },
   {
    "duration": 12,
    "start_time": "2023-07-08T08:02:18.543Z"
   },
   {
    "duration": 353,
    "start_time": "2023-07-08T08:02:18.557Z"
   },
   {
    "duration": 36,
    "start_time": "2023-07-08T08:02:18.913Z"
   },
   {
    "duration": 21,
    "start_time": "2023-07-08T08:02:18.951Z"
   },
   {
    "duration": 50,
    "start_time": "2023-07-08T08:02:18.973Z"
   },
   {
    "duration": 10,
    "start_time": "2023-07-08T08:02:19.025Z"
   },
   {
    "duration": 138,
    "start_time": "2023-07-08T08:02:19.037Z"
   },
   {
    "duration": 32,
    "start_time": "2023-07-08T08:02:19.177Z"
   },
   {
    "duration": 12,
    "start_time": "2023-07-08T08:02:19.212Z"
   },
   {
    "duration": 495,
    "start_time": "2023-07-08T08:02:19.226Z"
   },
   {
    "duration": 224,
    "start_time": "2023-07-08T08:02:19.723Z"
   },
   {
    "duration": 37,
    "start_time": "2023-07-08T08:02:19.949Z"
   },
   {
    "duration": 11,
    "start_time": "2023-07-08T08:02:19.988Z"
   },
   {
    "duration": 307,
    "start_time": "2023-07-08T08:02:20.001Z"
   },
   {
    "duration": 29,
    "start_time": "2023-07-08T08:02:20.309Z"
   },
   {
    "duration": 18,
    "start_time": "2023-07-08T08:02:20.339Z"
   },
   {
    "duration": 36,
    "start_time": "2023-07-08T08:02:20.359Z"
   },
   {
    "duration": 48,
    "start_time": "2023-07-08T08:02:20.397Z"
   },
   {
    "duration": 22,
    "start_time": "2023-07-08T08:02:20.446Z"
   },
   {
    "duration": 39,
    "start_time": "2023-07-08T08:02:20.470Z"
   },
   {
    "duration": 23,
    "start_time": "2023-07-08T08:02:20.511Z"
   },
   {
    "duration": 16,
    "start_time": "2023-07-08T08:02:20.536Z"
   },
   {
    "duration": 64,
    "start_time": "2023-07-08T08:02:20.554Z"
   },
   {
    "duration": 469,
    "start_time": "2023-07-08T08:02:20.620Z"
   },
   {
    "duration": 4,
    "start_time": "2023-07-08T08:02:21.091Z"
   },
   {
    "duration": 25,
    "start_time": "2023-07-08T08:02:21.097Z"
   },
   {
    "duration": 41,
    "start_time": "2023-07-08T08:02:21.124Z"
   },
   {
    "duration": 33,
    "start_time": "2023-07-08T08:02:21.166Z"
   },
   {
    "duration": 108,
    "start_time": "2023-07-08T08:02:21.201Z"
   },
   {
    "duration": 55,
    "start_time": "2023-07-08T08:02:21.310Z"
   },
   {
    "duration": 4076,
    "start_time": "2023-07-08T08:02:40.060Z"
   },
   {
    "duration": 2652,
    "start_time": "2023-07-08T08:05:22.283Z"
   },
   {
    "duration": 1852,
    "start_time": "2023-07-08T08:05:37.022Z"
   },
   {
    "duration": 58,
    "start_time": "2023-07-08T08:05:38.876Z"
   },
   {
    "duration": 14,
    "start_time": "2023-07-08T08:05:38.936Z"
   },
   {
    "duration": 158,
    "start_time": "2023-07-08T08:05:38.953Z"
   },
   {
    "duration": 34,
    "start_time": "2023-07-08T08:05:39.113Z"
   },
   {
    "duration": 11,
    "start_time": "2023-07-08T08:05:39.149Z"
   },
   {
    "duration": 322,
    "start_time": "2023-07-08T08:05:39.167Z"
   },
   {
    "duration": 34,
    "start_time": "2023-07-08T08:05:39.490Z"
   },
   {
    "duration": 12,
    "start_time": "2023-07-08T08:05:39.525Z"
   },
   {
    "duration": 43,
    "start_time": "2023-07-08T08:05:39.540Z"
   },
   {
    "duration": 11,
    "start_time": "2023-07-08T08:05:39.585Z"
   },
   {
    "duration": 124,
    "start_time": "2023-07-08T08:05:39.597Z"
   },
   {
    "duration": 32,
    "start_time": "2023-07-08T08:05:39.722Z"
   },
   {
    "duration": 15,
    "start_time": "2023-07-08T08:05:39.756Z"
   },
   {
    "duration": 542,
    "start_time": "2023-07-08T08:05:39.773Z"
   },
   {
    "duration": 215,
    "start_time": "2023-07-08T08:05:40.317Z"
   },
   {
    "duration": 35,
    "start_time": "2023-07-08T08:05:40.534Z"
   },
   {
    "duration": 11,
    "start_time": "2023-07-08T08:05:40.571Z"
   },
   {
    "duration": 255,
    "start_time": "2023-07-08T08:05:40.584Z"
   },
   {
    "duration": 29,
    "start_time": "2023-07-08T08:05:40.840Z"
   },
   {
    "duration": 15,
    "start_time": "2023-07-08T08:05:40.871Z"
   },
   {
    "duration": 8,
    "start_time": "2023-07-08T08:05:40.889Z"
   },
   {
    "duration": 8,
    "start_time": "2023-07-08T08:05:40.898Z"
   },
   {
    "duration": 4,
    "start_time": "2023-07-08T08:05:40.908Z"
   },
   {
    "duration": 6,
    "start_time": "2023-07-08T08:05:40.914Z"
   },
   {
    "duration": 47,
    "start_time": "2023-07-08T08:05:40.921Z"
   },
   {
    "duration": 4,
    "start_time": "2023-07-08T08:05:40.969Z"
   },
   {
    "duration": 49,
    "start_time": "2023-07-08T08:05:40.975Z"
   },
   {
    "duration": 469,
    "start_time": "2023-07-08T08:05:41.026Z"
   },
   {
    "duration": 2867,
    "start_time": "2023-07-08T08:05:41.497Z"
   },
   {
    "duration": 0,
    "start_time": "2023-07-08T08:05:44.366Z"
   },
   {
    "duration": 0,
    "start_time": "2023-07-08T08:05:44.367Z"
   },
   {
    "duration": 0,
    "start_time": "2023-07-08T08:05:44.369Z"
   },
   {
    "duration": 0,
    "start_time": "2023-07-08T08:05:44.370Z"
   },
   {
    "duration": 0,
    "start_time": "2023-07-08T08:05:44.371Z"
   },
   {
    "duration": 13,
    "start_time": "2023-07-08T08:08:24.160Z"
   },
   {
    "duration": 32,
    "start_time": "2023-07-08T08:08:42.543Z"
   },
   {
    "duration": 8,
    "start_time": "2023-07-08T08:08:54.158Z"
   },
   {
    "duration": 6,
    "start_time": "2023-07-08T08:10:59.692Z"
   },
   {
    "duration": 5,
    "start_time": "2023-07-08T08:11:10.865Z"
   },
   {
    "duration": 1190640,
    "start_time": "2023-07-08T08:11:23.790Z"
   },
   {
    "duration": 13,
    "start_time": "2023-07-08T08:33:24.222Z"
   },
   {
    "duration": 5069,
    "start_time": "2023-07-08T08:34:03.522Z"
   },
   {
    "duration": 364,
    "start_time": "2023-07-08T08:34:15.842Z"
   },
   {
    "duration": 4,
    "start_time": "2023-07-08T08:35:30.690Z"
   },
   {
    "duration": 451121,
    "start_time": "2023-07-08T08:35:46.725Z"
   },
   {
    "duration": 2567,
    "start_time": "2023-07-08T08:44:02.079Z"
   },
   {
    "duration": 2061,
    "start_time": "2023-07-08T08:44:41.362Z"
   },
   {
    "duration": 149,
    "start_time": "2023-07-08T08:44:43.425Z"
   },
   {
    "duration": 16,
    "start_time": "2023-07-08T08:44:43.576Z"
   },
   {
    "duration": 161,
    "start_time": "2023-07-08T08:44:43.594Z"
   },
   {
    "duration": 32,
    "start_time": "2023-07-08T08:44:43.758Z"
   },
   {
    "duration": 11,
    "start_time": "2023-07-08T08:44:43.792Z"
   },
   {
    "duration": 418,
    "start_time": "2023-07-08T08:44:43.805Z"
   },
   {
    "duration": 37,
    "start_time": "2023-07-08T08:44:44.225Z"
   },
   {
    "duration": 18,
    "start_time": "2023-07-08T08:44:44.264Z"
   },
   {
    "duration": 48,
    "start_time": "2023-07-08T08:44:44.284Z"
   },
   {
    "duration": 12,
    "start_time": "2023-07-08T08:44:44.334Z"
   },
   {
    "duration": 160,
    "start_time": "2023-07-08T08:44:44.348Z"
   },
   {
    "duration": 42,
    "start_time": "2023-07-08T08:44:44.510Z"
   },
   {
    "duration": 12,
    "start_time": "2023-07-08T08:44:44.556Z"
   },
   {
    "duration": 441,
    "start_time": "2023-07-08T08:44:44.570Z"
   },
   {
    "duration": 130,
    "start_time": "2023-07-08T08:44:45.013Z"
   },
   {
    "duration": 29,
    "start_time": "2023-07-08T08:44:45.145Z"
   },
   {
    "duration": 12,
    "start_time": "2023-07-08T08:44:45.175Z"
   },
   {
    "duration": 245,
    "start_time": "2023-07-08T08:44:45.188Z"
   },
   {
    "duration": 28,
    "start_time": "2023-07-08T08:44:45.434Z"
   },
   {
    "duration": 44,
    "start_time": "2023-07-08T08:44:45.463Z"
   },
   {
    "duration": 12,
    "start_time": "2023-07-08T08:44:45.509Z"
   },
   {
    "duration": 5,
    "start_time": "2023-07-08T08:44:45.523Z"
   },
   {
    "duration": 12,
    "start_time": "2023-07-08T08:44:45.530Z"
   },
   {
    "duration": 9,
    "start_time": "2023-07-08T08:44:45.543Z"
   },
   {
    "duration": 24,
    "start_time": "2023-07-08T08:44:45.553Z"
   },
   {
    "duration": 3,
    "start_time": "2023-07-08T08:44:45.578Z"
   },
   {
    "duration": 53,
    "start_time": "2023-07-08T08:44:45.582Z"
   },
   {
    "duration": 473,
    "start_time": "2023-07-08T08:44:45.637Z"
   },
   {
    "duration": 11,
    "start_time": "2023-07-08T08:44:46.112Z"
   },
   {
    "duration": 2019,
    "start_time": "2023-07-08T08:51:26.459Z"
   },
   {
    "duration": 152,
    "start_time": "2023-07-08T08:51:28.480Z"
   },
   {
    "duration": 14,
    "start_time": "2023-07-08T08:51:28.634Z"
   },
   {
    "duration": 166,
    "start_time": "2023-07-08T08:51:28.650Z"
   },
   {
    "duration": 32,
    "start_time": "2023-07-08T08:51:28.818Z"
   },
   {
    "duration": 17,
    "start_time": "2023-07-08T08:51:28.852Z"
   },
   {
    "duration": 326,
    "start_time": "2023-07-08T08:51:28.870Z"
   },
   {
    "duration": 37,
    "start_time": "2023-07-08T08:51:29.197Z"
   },
   {
    "duration": 12,
    "start_time": "2023-07-08T08:51:29.235Z"
   },
   {
    "duration": 46,
    "start_time": "2023-07-08T08:51:29.249Z"
   },
   {
    "duration": 10,
    "start_time": "2023-07-08T08:51:29.297Z"
   },
   {
    "duration": 135,
    "start_time": "2023-07-08T08:51:29.308Z"
   },
   {
    "duration": 32,
    "start_time": "2023-07-08T08:51:29.445Z"
   },
   {
    "duration": 11,
    "start_time": "2023-07-08T08:51:29.481Z"
   },
   {
    "duration": 511,
    "start_time": "2023-07-08T08:51:29.493Z"
   },
   {
    "duration": 132,
    "start_time": "2023-07-08T08:51:30.006Z"
   },
   {
    "duration": 37,
    "start_time": "2023-07-08T08:51:30.140Z"
   },
   {
    "duration": 11,
    "start_time": "2023-07-08T08:51:30.178Z"
   },
   {
    "duration": 265,
    "start_time": "2023-07-08T08:51:30.191Z"
   },
   {
    "duration": 28,
    "start_time": "2023-07-08T08:51:30.457Z"
   },
   {
    "duration": 12,
    "start_time": "2023-07-08T08:51:30.486Z"
   },
   {
    "duration": 30,
    "start_time": "2023-07-08T08:51:30.499Z"
   },
   {
    "duration": 40,
    "start_time": "2023-07-08T08:51:30.531Z"
   },
   {
    "duration": 33,
    "start_time": "2023-07-08T08:51:30.572Z"
   },
   {
    "duration": 26,
    "start_time": "2023-07-08T08:51:30.607Z"
   },
   {
    "duration": 47,
    "start_time": "2023-07-08T08:51:30.635Z"
   },
   {
    "duration": 26,
    "start_time": "2023-07-08T08:51:30.684Z"
   },
   {
    "duration": 81,
    "start_time": "2023-07-08T08:51:30.712Z"
   },
   {
    "duration": 425,
    "start_time": "2023-07-08T08:51:30.795Z"
   },
   {
    "duration": 11,
    "start_time": "2023-07-08T08:51:31.222Z"
   },
   {
    "duration": 272,
    "start_time": "2023-07-08T08:51:31.235Z"
   },
   {
    "duration": 0,
    "start_time": "2023-07-08T08:51:31.509Z"
   },
   {
    "duration": 0,
    "start_time": "2023-07-08T08:51:31.510Z"
   },
   {
    "duration": 0,
    "start_time": "2023-07-08T08:51:31.511Z"
   },
   {
    "duration": 0,
    "start_time": "2023-07-08T08:51:31.513Z"
   },
   {
    "duration": 0,
    "start_time": "2023-07-08T08:51:31.514Z"
   },
   {
    "duration": 1638,
    "start_time": "2023-07-08T08:52:19.089Z"
   },
   {
    "duration": 160,
    "start_time": "2023-07-08T08:52:20.729Z"
   },
   {
    "duration": 15,
    "start_time": "2023-07-08T08:52:20.891Z"
   },
   {
    "duration": 173,
    "start_time": "2023-07-08T08:52:20.908Z"
   },
   {
    "duration": 34,
    "start_time": "2023-07-08T08:52:21.084Z"
   },
   {
    "duration": 13,
    "start_time": "2023-07-08T08:52:21.120Z"
   },
   {
    "duration": 350,
    "start_time": "2023-07-08T08:52:21.135Z"
   },
   {
    "duration": 36,
    "start_time": "2023-07-08T08:52:21.487Z"
   },
   {
    "duration": 13,
    "start_time": "2023-07-08T08:52:21.525Z"
   },
   {
    "duration": 44,
    "start_time": "2023-07-08T08:52:21.540Z"
   },
   {
    "duration": 11,
    "start_time": "2023-07-08T08:52:21.586Z"
   },
   {
    "duration": 140,
    "start_time": "2023-07-08T08:52:21.599Z"
   },
   {
    "duration": 44,
    "start_time": "2023-07-08T08:52:21.742Z"
   },
   {
    "duration": 12,
    "start_time": "2023-07-08T08:52:21.789Z"
   },
   {
    "duration": 547,
    "start_time": "2023-07-08T08:52:21.802Z"
   },
   {
    "duration": 135,
    "start_time": "2023-07-08T08:52:22.351Z"
   },
   {
    "duration": 28,
    "start_time": "2023-07-08T08:52:22.489Z"
   },
   {
    "duration": 13,
    "start_time": "2023-07-08T08:52:22.518Z"
   },
   {
    "duration": 301,
    "start_time": "2023-07-08T08:52:22.533Z"
   },
   {
    "duration": 45,
    "start_time": "2023-07-08T08:52:22.836Z"
   },
   {
    "duration": 178,
    "start_time": "2023-07-08T08:52:22.882Z"
   },
   {
    "duration": 76,
    "start_time": "2023-07-08T08:52:23.062Z"
   },
   {
    "duration": 64,
    "start_time": "2023-07-08T08:52:23.140Z"
   },
   {
    "duration": 14,
    "start_time": "2023-07-08T08:52:23.206Z"
   },
   {
    "duration": 19,
    "start_time": "2023-07-08T08:52:23.222Z"
   },
   {
    "duration": 33,
    "start_time": "2023-07-08T08:52:23.244Z"
   },
   {
    "duration": 9,
    "start_time": "2023-07-08T08:52:23.279Z"
   },
   {
    "duration": 67,
    "start_time": "2023-07-08T08:52:23.290Z"
   },
   {
    "duration": 455,
    "start_time": "2023-07-08T08:52:23.359Z"
   },
   {
    "duration": 12,
    "start_time": "2023-07-08T08:52:23.816Z"
   },
   {
    "duration": 1645,
    "start_time": "2023-07-08T08:54:34.252Z"
   },
   {
    "duration": 153,
    "start_time": "2023-07-08T08:54:35.899Z"
   },
   {
    "duration": 21,
    "start_time": "2023-07-08T08:54:36.054Z"
   },
   {
    "duration": 149,
    "start_time": "2023-07-08T08:54:36.077Z"
   },
   {
    "duration": 32,
    "start_time": "2023-07-08T08:54:36.228Z"
   },
   {
    "duration": 24,
    "start_time": "2023-07-08T08:54:36.261Z"
   },
   {
    "duration": 355,
    "start_time": "2023-07-08T08:54:36.286Z"
   },
   {
    "duration": 36,
    "start_time": "2023-07-08T08:54:36.643Z"
   },
   {
    "duration": 14,
    "start_time": "2023-07-08T08:54:36.681Z"
   },
   {
    "duration": 53,
    "start_time": "2023-07-08T08:54:36.697Z"
   },
   {
    "duration": 11,
    "start_time": "2023-07-08T08:54:36.752Z"
   },
   {
    "duration": 129,
    "start_time": "2023-07-08T08:54:36.765Z"
   },
   {
    "duration": 33,
    "start_time": "2023-07-08T08:54:36.896Z"
   },
   {
    "duration": 11,
    "start_time": "2023-07-08T08:54:36.932Z"
   },
   {
    "duration": 466,
    "start_time": "2023-07-08T08:54:36.945Z"
   },
   {
    "duration": 122,
    "start_time": "2023-07-08T08:54:37.412Z"
   },
   {
    "duration": 35,
    "start_time": "2023-07-08T08:54:37.536Z"
   },
   {
    "duration": 13,
    "start_time": "2023-07-08T08:54:37.573Z"
   },
   {
    "duration": 299,
    "start_time": "2023-07-08T08:54:37.587Z"
   },
   {
    "duration": 27,
    "start_time": "2023-07-08T08:54:37.888Z"
   },
   {
    "duration": 13,
    "start_time": "2023-07-08T08:54:37.917Z"
   },
   {
    "duration": 7,
    "start_time": "2023-07-08T08:54:37.932Z"
   },
   {
    "duration": 5,
    "start_time": "2023-07-08T08:54:37.941Z"
   },
   {
    "duration": 21,
    "start_time": "2023-07-08T08:54:37.947Z"
   },
   {
    "duration": 10,
    "start_time": "2023-07-08T08:54:37.969Z"
   },
   {
    "duration": 22,
    "start_time": "2023-07-08T08:54:37.981Z"
   },
   {
    "duration": 3,
    "start_time": "2023-07-08T08:54:38.005Z"
   },
   {
    "duration": 61,
    "start_time": "2023-07-08T08:54:38.010Z"
   },
   {
    "duration": 426,
    "start_time": "2023-07-08T08:54:38.073Z"
   },
   {
    "duration": 10,
    "start_time": "2023-07-08T08:54:38.501Z"
   },
   {
    "duration": 272,
    "start_time": "2023-07-08T08:54:38.513Z"
   },
   {
    "duration": 0,
    "start_time": "2023-07-08T08:54:38.787Z"
   },
   {
    "duration": 0,
    "start_time": "2023-07-08T08:54:38.788Z"
   },
   {
    "duration": 0,
    "start_time": "2023-07-08T08:54:38.791Z"
   },
   {
    "duration": 0,
    "start_time": "2023-07-08T08:54:38.792Z"
   },
   {
    "duration": 0,
    "start_time": "2023-07-08T08:54:38.794Z"
   },
   {
    "duration": 1923,
    "start_time": "2023-07-08T08:56:31.835Z"
   },
   {
    "duration": 185,
    "start_time": "2023-07-08T08:56:33.761Z"
   },
   {
    "duration": 28,
    "start_time": "2023-07-08T08:56:33.949Z"
   },
   {
    "duration": 248,
    "start_time": "2023-07-08T08:56:33.980Z"
   },
   {
    "duration": 38,
    "start_time": "2023-07-08T08:56:34.232Z"
   },
   {
    "duration": 21,
    "start_time": "2023-07-08T08:56:34.273Z"
   },
   {
    "duration": 390,
    "start_time": "2023-07-08T08:56:34.298Z"
   },
   {
    "duration": 42,
    "start_time": "2023-07-08T08:56:34.690Z"
   },
   {
    "duration": 15,
    "start_time": "2023-07-08T08:56:34.734Z"
   },
   {
    "duration": 61,
    "start_time": "2023-07-08T08:56:34.751Z"
   },
   {
    "duration": 17,
    "start_time": "2023-07-08T08:56:34.814Z"
   },
   {
    "duration": 212,
    "start_time": "2023-07-08T08:56:34.834Z"
   },
   {
    "duration": 48,
    "start_time": "2023-07-08T08:56:35.047Z"
   },
   {
    "duration": 15,
    "start_time": "2023-07-08T08:56:35.099Z"
   },
   {
    "duration": 631,
    "start_time": "2023-07-08T08:56:35.115Z"
   },
   {
    "duration": 163,
    "start_time": "2023-07-08T08:56:35.748Z"
   },
   {
    "duration": 29,
    "start_time": "2023-07-08T08:56:35.913Z"
   },
   {
    "duration": 13,
    "start_time": "2023-07-08T08:56:35.944Z"
   },
   {
    "duration": 286,
    "start_time": "2023-07-08T08:56:35.967Z"
   },
   {
    "duration": 40,
    "start_time": "2023-07-08T08:56:36.255Z"
   },
   {
    "duration": 14,
    "start_time": "2023-07-08T08:56:36.297Z"
   },
   {
    "duration": 13,
    "start_time": "2023-07-08T08:56:36.313Z"
   },
   {
    "duration": 8,
    "start_time": "2023-07-08T08:56:36.328Z"
   },
   {
    "duration": 4,
    "start_time": "2023-07-08T08:56:36.339Z"
   },
   {
    "duration": 24,
    "start_time": "2023-07-08T08:56:36.346Z"
   },
   {
    "duration": 29,
    "start_time": "2023-07-08T08:56:36.373Z"
   },
   {
    "duration": 8,
    "start_time": "2023-07-08T08:56:36.404Z"
   },
   {
    "duration": 80,
    "start_time": "2023-07-08T08:56:36.415Z"
   },
   {
    "duration": 506,
    "start_time": "2023-07-08T08:56:36.498Z"
   },
   {
    "duration": 13,
    "start_time": "2023-07-08T08:56:37.006Z"
   },
   {
    "duration": 1670,
    "start_time": "2023-07-08T08:58:39.191Z"
   },
   {
    "duration": 157,
    "start_time": "2023-07-08T08:58:40.864Z"
   },
   {
    "duration": 14,
    "start_time": "2023-07-08T08:58:41.023Z"
   },
   {
    "duration": 171,
    "start_time": "2023-07-08T08:58:41.039Z"
   },
   {
    "duration": 33,
    "start_time": "2023-07-08T08:58:41.214Z"
   },
   {
    "duration": 13,
    "start_time": "2023-07-08T08:58:41.249Z"
   },
   {
    "duration": 348,
    "start_time": "2023-07-08T08:58:41.267Z"
   },
   {
    "duration": 38,
    "start_time": "2023-07-08T08:58:41.617Z"
   },
   {
    "duration": 19,
    "start_time": "2023-07-08T08:58:41.656Z"
   },
   {
    "duration": 41,
    "start_time": "2023-07-08T08:58:41.677Z"
   },
   {
    "duration": 12,
    "start_time": "2023-07-08T08:58:41.721Z"
   },
   {
    "duration": 140,
    "start_time": "2023-07-08T08:58:41.736Z"
   },
   {
    "duration": 45,
    "start_time": "2023-07-08T08:58:41.879Z"
   },
   {
    "duration": 13,
    "start_time": "2023-07-08T08:58:41.928Z"
   },
   {
    "duration": 549,
    "start_time": "2023-07-08T08:58:41.943Z"
   },
   {
    "duration": 156,
    "start_time": "2023-07-08T08:58:42.495Z"
   },
   {
    "duration": 34,
    "start_time": "2023-07-08T08:58:42.653Z"
   },
   {
    "duration": 13,
    "start_time": "2023-07-08T08:58:42.689Z"
   },
   {
    "duration": 304,
    "start_time": "2023-07-08T08:58:42.704Z"
   },
   {
    "duration": 48,
    "start_time": "2023-07-08T08:58:43.011Z"
   },
   {
    "duration": 16,
    "start_time": "2023-07-08T08:58:43.061Z"
   },
   {
    "duration": 15,
    "start_time": "2023-07-08T08:58:43.078Z"
   },
   {
    "duration": 7,
    "start_time": "2023-07-08T08:58:43.095Z"
   },
   {
    "duration": 14,
    "start_time": "2023-07-08T08:58:43.104Z"
   },
   {
    "duration": 6,
    "start_time": "2023-07-08T08:58:43.120Z"
   },
   {
    "duration": 23,
    "start_time": "2023-07-08T08:58:43.127Z"
   },
   {
    "duration": 5,
    "start_time": "2023-07-08T08:58:43.166Z"
   },
   {
    "duration": 65,
    "start_time": "2023-07-08T08:58:43.173Z"
   },
   {
    "duration": 494,
    "start_time": "2023-07-08T08:58:43.241Z"
   },
   {
    "duration": 16,
    "start_time": "2023-07-08T08:58:43.737Z"
   },
   {
    "duration": 51089,
    "start_time": "2023-07-08T08:58:43.766Z"
   },
   {
    "duration": 0,
    "start_time": "2023-07-08T08:59:34.857Z"
   },
   {
    "duration": 0,
    "start_time": "2023-07-08T08:59:34.859Z"
   },
   {
    "duration": 0,
    "start_time": "2023-07-08T08:59:34.860Z"
   },
   {
    "duration": 0,
    "start_time": "2023-07-08T08:59:34.861Z"
   },
   {
    "duration": 0,
    "start_time": "2023-07-08T08:59:34.862Z"
   },
   {
    "duration": 6,
    "start_time": "2023-07-08T08:59:46.832Z"
   },
   {
    "duration": 146552,
    "start_time": "2023-07-08T08:59:51.929Z"
   },
   {
    "duration": 12,
    "start_time": "2023-07-08T09:02:18.483Z"
   },
   {
    "duration": 4,
    "start_time": "2023-07-08T09:02:33.259Z"
   },
   {
    "duration": 170,
    "start_time": "2023-07-08T09:02:36.549Z"
   },
   {
    "duration": 11,
    "start_time": "2023-07-08T09:52:42.231Z"
   },
   {
    "duration": 13,
    "start_time": "2023-07-08T09:53:08.686Z"
   },
   {
    "duration": 6,
    "start_time": "2023-07-08T09:53:24.927Z"
   },
   {
    "duration": 1658,
    "start_time": "2023-07-08T10:02:38.930Z"
   },
   {
    "duration": 151,
    "start_time": "2023-07-08T10:02:40.590Z"
   },
   {
    "duration": 14,
    "start_time": "2023-07-08T10:02:40.742Z"
   },
   {
    "duration": 153,
    "start_time": "2023-07-08T10:02:40.757Z"
   },
   {
    "duration": 32,
    "start_time": "2023-07-08T10:02:40.913Z"
   },
   {
    "duration": 20,
    "start_time": "2023-07-08T10:02:40.947Z"
   },
   {
    "duration": 329,
    "start_time": "2023-07-08T10:02:40.969Z"
   },
   {
    "duration": 38,
    "start_time": "2023-07-08T10:02:41.300Z"
   },
   {
    "duration": 14,
    "start_time": "2023-07-08T10:02:41.340Z"
   },
   {
    "duration": 46,
    "start_time": "2023-07-08T10:02:41.366Z"
   },
   {
    "duration": 13,
    "start_time": "2023-07-08T10:02:41.414Z"
   },
   {
    "duration": 128,
    "start_time": "2023-07-08T10:02:41.429Z"
   },
   {
    "duration": 32,
    "start_time": "2023-07-08T10:02:41.559Z"
   },
   {
    "duration": 12,
    "start_time": "2023-07-08T10:02:41.594Z"
   },
   {
    "duration": 504,
    "start_time": "2023-07-08T10:02:41.607Z"
   },
   {
    "duration": 127,
    "start_time": "2023-07-08T10:02:42.113Z"
   },
   {
    "duration": 37,
    "start_time": "2023-07-08T10:02:42.242Z"
   },
   {
    "duration": 21,
    "start_time": "2023-07-08T10:02:42.281Z"
   },
   {
    "duration": 249,
    "start_time": "2023-07-08T10:02:42.304Z"
   },
   {
    "duration": 27,
    "start_time": "2023-07-08T10:02:42.555Z"
   },
   {
    "duration": 12,
    "start_time": "2023-07-08T10:02:42.584Z"
   },
   {
    "duration": 10,
    "start_time": "2023-07-08T10:02:42.599Z"
   },
   {
    "duration": 14,
    "start_time": "2023-07-08T10:02:42.611Z"
   },
   {
    "duration": 16,
    "start_time": "2023-07-08T10:02:42.627Z"
   },
   {
    "duration": 18,
    "start_time": "2023-07-08T10:02:42.645Z"
   },
   {
    "duration": 24,
    "start_time": "2023-07-08T10:02:42.665Z"
   },
   {
    "duration": 4,
    "start_time": "2023-07-08T10:02:42.690Z"
   },
   {
    "duration": 51,
    "start_time": "2023-07-08T10:02:42.695Z"
   },
   {
    "duration": 465,
    "start_time": "2023-07-08T10:02:42.748Z"
   },
   {
    "duration": 12,
    "start_time": "2023-07-08T10:02:43.215Z"
   },
   {
    "duration": 26,
    "start_time": "2023-07-08T10:02:43.229Z"
   },
   {
    "duration": 6,
    "start_time": "2023-07-08T10:02:43.257Z"
   },
   {
    "duration": 144077,
    "start_time": "2023-07-08T10:02:43.266Z"
   },
   {
    "duration": 2,
    "start_time": "2023-07-08T10:05:07.345Z"
   },
   {
    "duration": 126,
    "start_time": "2023-07-08T10:05:07.349Z"
   },
   {
    "duration": 0,
    "start_time": "2023-07-08T10:05:07.477Z"
   },
   {
    "duration": 12,
    "start_time": "2023-07-08T10:05:14.508Z"
   },
   {
    "duration": 7,
    "start_time": "2023-07-08T10:05:22.933Z"
   },
   {
    "duration": 161,
    "start_time": "2023-07-08T10:06:10.689Z"
   },
   {
    "duration": 2,
    "start_time": "2023-07-08T10:06:16.376Z"
   },
   {
    "duration": 8,
    "start_time": "2023-07-08T10:06:53.549Z"
   },
   {
    "duration": 12,
    "start_time": "2023-07-08T10:07:46.253Z"
   },
   {
    "duration": 10,
    "start_time": "2023-07-08T10:08:06.222Z"
   },
   {
    "duration": 12,
    "start_time": "2023-07-08T10:08:47.497Z"
   },
   {
    "duration": 4,
    "start_time": "2023-07-08T10:08:50.396Z"
   },
   {
    "duration": 141339,
    "start_time": "2023-07-08T10:08:54.063Z"
   },
   {
    "duration": 271,
    "start_time": "2023-07-08T10:12:04.658Z"
   },
   {
    "duration": 246,
    "start_time": "2023-07-08T10:14:09.458Z"
   },
   {
    "duration": 254,
    "start_time": "2023-07-08T10:14:28.486Z"
   },
   {
    "duration": 252,
    "start_time": "2023-07-08T10:15:34.995Z"
   },
   {
    "duration": 290,
    "start_time": "2023-07-08T10:16:19.536Z"
   },
   {
    "duration": 264,
    "start_time": "2023-07-08T10:16:27.944Z"
   },
   {
    "duration": 6,
    "start_time": "2023-07-08T10:16:41.865Z"
   },
   {
    "duration": 29,
    "start_time": "2023-07-08T10:17:35.429Z"
   },
   {
    "duration": 248,
    "start_time": "2023-07-08T10:18:26.973Z"
   },
   {
    "duration": 163,
    "start_time": "2023-07-08T10:19:29.222Z"
   },
   {
    "duration": 31,
    "start_time": "2023-07-08T10:20:12.695Z"
   },
   {
    "duration": 244,
    "start_time": "2023-07-08T10:21:36.601Z"
   },
   {
    "duration": 240,
    "start_time": "2023-07-08T10:26:13.326Z"
   },
   {
    "duration": 1681,
    "start_time": "2023-07-08T10:28:34.917Z"
   },
   {
    "duration": 11,
    "start_time": "2023-07-08T10:28:49.803Z"
   },
   {
    "duration": 6,
    "start_time": "2023-07-08T10:28:53.642Z"
   },
   {
    "duration": 124822,
    "start_time": "2023-07-08T10:28:56.066Z"
   },
   {
    "duration": 242,
    "start_time": "2023-07-08T10:31:00.890Z"
   },
   {
    "duration": 17,
    "start_time": "2023-07-08T10:33:39.598Z"
   },
   {
    "duration": 17,
    "start_time": "2023-07-08T10:34:23.590Z"
   },
   {
    "duration": 7,
    "start_time": "2023-07-08T10:34:28.878Z"
   },
   {
    "duration": 15,
    "start_time": "2023-07-08T10:34:36.712Z"
   },
   {
    "duration": 45,
    "start_time": "2023-07-08T10:34:59.249Z"
   },
   {
    "duration": 12,
    "start_time": "2023-07-08T10:37:40.660Z"
   },
   {
    "duration": 5,
    "start_time": "2023-07-08T10:38:44.711Z"
   },
   {
    "duration": 47,
    "start_time": "2023-07-08T10:38:45.634Z"
   },
   {
    "duration": 10,
    "start_time": "2023-07-08T10:40:53.559Z"
   },
   {
    "duration": 5,
    "start_time": "2023-07-08T10:41:11.885Z"
   },
   {
    "duration": 36,
    "start_time": "2023-07-08T10:41:23.422Z"
   },
   {
    "duration": 42,
    "start_time": "2023-07-08T10:41:34.958Z"
   },
   {
    "duration": 467,
    "start_time": "2023-07-08T10:42:29.610Z"
   },
   {
    "duration": 1680,
    "start_time": "2023-07-08T10:42:41.826Z"
   },
   {
    "duration": 153,
    "start_time": "2023-07-08T10:42:43.508Z"
   },
   {
    "duration": 15,
    "start_time": "2023-07-08T10:42:43.666Z"
   },
   {
    "duration": 171,
    "start_time": "2023-07-08T10:42:43.684Z"
   },
   {
    "duration": 37,
    "start_time": "2023-07-08T10:42:43.857Z"
   },
   {
    "duration": 14,
    "start_time": "2023-07-08T10:42:43.896Z"
   },
   {
    "duration": 393,
    "start_time": "2023-07-08T10:42:43.912Z"
   },
   {
    "duration": 35,
    "start_time": "2023-07-08T10:42:44.307Z"
   },
   {
    "duration": 13,
    "start_time": "2023-07-08T10:42:44.344Z"
   },
   {
    "duration": 44,
    "start_time": "2023-07-08T10:42:44.366Z"
   },
   {
    "duration": 11,
    "start_time": "2023-07-08T10:42:44.412Z"
   },
   {
    "duration": 124,
    "start_time": "2023-07-08T10:42:44.424Z"
   },
   {
    "duration": 43,
    "start_time": "2023-07-08T10:42:44.550Z"
   },
   {
    "duration": 11,
    "start_time": "2023-07-08T10:42:44.596Z"
   },
   {
    "duration": 514,
    "start_time": "2023-07-08T10:42:44.608Z"
   },
   {
    "duration": 128,
    "start_time": "2023-07-08T10:42:45.124Z"
   },
   {
    "duration": 26,
    "start_time": "2023-07-08T10:42:45.253Z"
   },
   {
    "duration": 10,
    "start_time": "2023-07-08T10:42:45.281Z"
   },
   {
    "duration": 254,
    "start_time": "2023-07-08T10:42:45.292Z"
   },
   {
    "duration": 29,
    "start_time": "2023-07-08T10:42:45.548Z"
   },
   {
    "duration": 13,
    "start_time": "2023-07-08T10:42:45.579Z"
   },
   {
    "duration": 8,
    "start_time": "2023-07-08T10:42:45.594Z"
   },
   {
    "duration": 6,
    "start_time": "2023-07-08T10:42:45.603Z"
   },
   {
    "duration": 8,
    "start_time": "2023-07-08T10:42:45.611Z"
   },
   {
    "duration": 6,
    "start_time": "2023-07-08T10:42:45.620Z"
   },
   {
    "duration": 39,
    "start_time": "2023-07-08T10:42:45.628Z"
   },
   {
    "duration": 3,
    "start_time": "2023-07-08T10:42:45.669Z"
   },
   {
    "duration": 35,
    "start_time": "2023-07-08T10:42:45.674Z"
   },
   {
    "duration": 35,
    "start_time": "2023-07-08T10:42:45.712Z"
   },
   {
    "duration": 442,
    "start_time": "2023-07-08T10:42:45.749Z"
   },
   {
    "duration": 13,
    "start_time": "2023-07-08T10:42:46.193Z"
   },
   {
    "duration": 8,
    "start_time": "2023-07-08T10:42:46.208Z"
   },
   {
    "duration": 125812,
    "start_time": "2023-07-08T10:42:46.218Z"
   },
   {
    "duration": 137,
    "start_time": "2023-07-08T10:44:52.032Z"
   },
   {
    "duration": 0,
    "start_time": "2023-07-08T10:44:52.171Z"
   },
   {
    "duration": 0,
    "start_time": "2023-07-08T10:44:52.172Z"
   },
   {
    "duration": 4,
    "start_time": "2023-07-08T10:46:26.652Z"
   },
   {
    "duration": 12,
    "start_time": "2023-07-08T10:46:27.440Z"
   },
   {
    "duration": 13,
    "start_time": "2023-07-08T10:48:38.035Z"
   },
   {
    "duration": 1674,
    "start_time": "2023-07-08T10:50:36.836Z"
   },
   {
    "duration": 154,
    "start_time": "2023-07-08T10:50:38.512Z"
   },
   {
    "duration": 13,
    "start_time": "2023-07-08T10:50:38.668Z"
   },
   {
    "duration": 161,
    "start_time": "2023-07-08T10:50:38.684Z"
   },
   {
    "duration": 33,
    "start_time": "2023-07-08T10:50:38.847Z"
   },
   {
    "duration": 21,
    "start_time": "2023-07-08T10:50:38.881Z"
   },
   {
    "duration": 339,
    "start_time": "2023-07-08T10:50:38.904Z"
   },
   {
    "duration": 35,
    "start_time": "2023-07-08T10:50:39.245Z"
   },
   {
    "duration": 12,
    "start_time": "2023-07-08T10:50:39.282Z"
   },
   {
    "duration": 50,
    "start_time": "2023-07-08T10:50:39.298Z"
   },
   {
    "duration": 11,
    "start_time": "2023-07-08T10:50:39.350Z"
   },
   {
    "duration": 132,
    "start_time": "2023-07-08T10:50:39.363Z"
   },
   {
    "duration": 32,
    "start_time": "2023-07-08T10:50:39.497Z"
   },
   {
    "duration": 12,
    "start_time": "2023-07-08T10:50:39.531Z"
   },
   {
    "duration": 464,
    "start_time": "2023-07-08T10:50:39.545Z"
   },
   {
    "duration": 140,
    "start_time": "2023-07-08T10:50:40.012Z"
   },
   {
    "duration": 36,
    "start_time": "2023-07-08T10:50:40.154Z"
   },
   {
    "duration": 13,
    "start_time": "2023-07-08T10:50:40.191Z"
   },
   {
    "duration": 240,
    "start_time": "2023-07-08T10:50:40.205Z"
   },
   {
    "duration": 28,
    "start_time": "2023-07-08T10:50:40.448Z"
   },
   {
    "duration": 12,
    "start_time": "2023-07-08T10:50:40.478Z"
   },
   {
    "duration": 10,
    "start_time": "2023-07-08T10:50:40.492Z"
   },
   {
    "duration": 18,
    "start_time": "2023-07-08T10:50:40.504Z"
   },
   {
    "duration": 5,
    "start_time": "2023-07-08T10:50:40.524Z"
   },
   {
    "duration": 7,
    "start_time": "2023-07-08T10:50:40.530Z"
   },
   {
    "duration": 30,
    "start_time": "2023-07-08T10:50:40.538Z"
   },
   {
    "duration": 3,
    "start_time": "2023-07-08T10:50:40.570Z"
   },
   {
    "duration": 27,
    "start_time": "2023-07-08T10:50:40.576Z"
   },
   {
    "duration": 35,
    "start_time": "2023-07-08T10:50:40.604Z"
   },
   {
    "duration": 474,
    "start_time": "2023-07-08T10:50:40.641Z"
   },
   {
    "duration": 11,
    "start_time": "2023-07-08T10:50:41.117Z"
   },
   {
    "duration": 5,
    "start_time": "2023-07-08T10:50:41.131Z"
   },
   {
    "duration": 123528,
    "start_time": "2023-07-08T10:50:41.138Z"
   },
   {
    "duration": 130,
    "start_time": "2023-07-08T10:52:44.668Z"
   },
   {
    "duration": 0,
    "start_time": "2023-07-08T10:52:44.800Z"
   },
   {
    "duration": 0,
    "start_time": "2023-07-08T10:52:44.801Z"
   },
   {
    "duration": 146,
    "start_time": "2023-07-08T10:52:54.848Z"
   },
   {
    "duration": 559,
    "start_time": "2023-07-08T10:54:23.491Z"
   },
   {
    "duration": 581,
    "start_time": "2023-07-08T10:54:42.340Z"
   },
   {
    "duration": 581,
    "start_time": "2023-07-08T11:37:09.940Z"
   },
   {
    "duration": 1835,
    "start_time": "2023-07-08T11:38:08.841Z"
   },
   {
    "duration": 165,
    "start_time": "2023-07-08T11:38:10.679Z"
   },
   {
    "duration": 25,
    "start_time": "2023-07-08T11:38:10.846Z"
   },
   {
    "duration": 184,
    "start_time": "2023-07-08T11:38:10.874Z"
   },
   {
    "duration": 37,
    "start_time": "2023-07-08T11:38:11.066Z"
   },
   {
    "duration": 14,
    "start_time": "2023-07-08T11:38:11.105Z"
   },
   {
    "duration": 391,
    "start_time": "2023-07-08T11:38:11.121Z"
   },
   {
    "duration": 40,
    "start_time": "2023-07-08T11:38:11.517Z"
   },
   {
    "duration": 18,
    "start_time": "2023-07-08T11:38:11.559Z"
   },
   {
    "duration": 53,
    "start_time": "2023-07-08T11:38:11.580Z"
   },
   {
    "duration": 13,
    "start_time": "2023-07-08T11:38:11.635Z"
   },
   {
    "duration": 164,
    "start_time": "2023-07-08T11:38:11.650Z"
   },
   {
    "duration": 44,
    "start_time": "2023-07-08T11:38:11.816Z"
   },
   {
    "duration": 14,
    "start_time": "2023-07-08T11:38:11.863Z"
   },
   {
    "duration": 574,
    "start_time": "2023-07-08T11:38:11.879Z"
   },
   {
    "duration": 152,
    "start_time": "2023-07-08T11:38:12.455Z"
   },
   {
    "duration": 29,
    "start_time": "2023-07-08T11:38:12.609Z"
   },
   {
    "duration": 17,
    "start_time": "2023-07-08T11:38:12.640Z"
   },
   {
    "duration": 274,
    "start_time": "2023-07-08T11:38:12.660Z"
   },
   {
    "duration": 41,
    "start_time": "2023-07-08T11:38:12.935Z"
   },
   {
    "duration": 14,
    "start_time": "2023-07-08T11:38:12.978Z"
   },
   {
    "duration": 51,
    "start_time": "2023-07-08T11:38:12.994Z"
   },
   {
    "duration": 45,
    "start_time": "2023-07-08T11:38:13.048Z"
   },
   {
    "duration": 12,
    "start_time": "2023-07-08T11:38:13.095Z"
   },
   {
    "duration": 9,
    "start_time": "2023-07-08T11:38:13.109Z"
   },
   {
    "duration": 23,
    "start_time": "2023-07-08T11:38:13.120Z"
   },
   {
    "duration": 4,
    "start_time": "2023-07-08T11:38:13.145Z"
   },
   {
    "duration": 26,
    "start_time": "2023-07-08T11:38:13.154Z"
   },
   {
    "duration": 44,
    "start_time": "2023-07-08T11:38:13.183Z"
   },
   {
    "duration": 497,
    "start_time": "2023-07-08T11:38:13.228Z"
   },
   {
    "duration": 13,
    "start_time": "2023-07-08T11:38:13.727Z"
   },
   {
    "duration": 416,
    "start_time": "2023-07-08T11:38:13.742Z"
   },
   {
    "duration": 143940,
    "start_time": "2023-07-08T11:38:14.161Z"
   },
   {
    "duration": 156,
    "start_time": "2023-07-08T11:40:38.103Z"
   },
   {
    "duration": 0,
    "start_time": "2023-07-08T11:40:38.261Z"
   },
   {
    "duration": 0,
    "start_time": "2023-07-08T11:40:38.262Z"
   },
   {
    "duration": 1781,
    "start_time": "2023-07-08T11:41:15.806Z"
   },
   {
    "duration": 161,
    "start_time": "2023-07-08T11:41:17.593Z"
   },
   {
    "duration": 20,
    "start_time": "2023-07-08T11:41:17.756Z"
   },
   {
    "duration": 217,
    "start_time": "2023-07-08T11:41:17.778Z"
   },
   {
    "duration": 41,
    "start_time": "2023-07-08T11:41:17.998Z"
   },
   {
    "duration": 29,
    "start_time": "2023-07-08T11:41:18.041Z"
   },
   {
    "duration": 451,
    "start_time": "2023-07-08T11:41:18.073Z"
   },
   {
    "duration": 49,
    "start_time": "2023-07-08T11:41:18.526Z"
   },
   {
    "duration": 18,
    "start_time": "2023-07-08T11:41:18.578Z"
   },
   {
    "duration": 49,
    "start_time": "2023-07-08T11:41:18.600Z"
   },
   {
    "duration": 14,
    "start_time": "2023-07-08T11:41:18.651Z"
   },
   {
    "duration": 162,
    "start_time": "2023-07-08T11:41:18.667Z"
   },
   {
    "duration": 44,
    "start_time": "2023-07-08T11:41:18.831Z"
   },
   {
    "duration": 17,
    "start_time": "2023-07-08T11:41:18.879Z"
   },
   {
    "duration": 606,
    "start_time": "2023-07-08T11:41:18.898Z"
   },
   {
    "duration": 152,
    "start_time": "2023-07-08T11:41:19.507Z"
   },
   {
    "duration": 29,
    "start_time": "2023-07-08T11:41:19.661Z"
   },
   {
    "duration": 13,
    "start_time": "2023-07-08T11:41:19.692Z"
   },
   {
    "duration": 291,
    "start_time": "2023-07-08T11:41:19.708Z"
   },
   {
    "duration": 39,
    "start_time": "2023-07-08T11:41:20.001Z"
   },
   {
    "duration": 15,
    "start_time": "2023-07-08T11:41:20.042Z"
   },
   {
    "duration": 25,
    "start_time": "2023-07-08T11:41:20.060Z"
   },
   {
    "duration": 17,
    "start_time": "2023-07-08T11:41:20.088Z"
   },
   {
    "duration": 7,
    "start_time": "2023-07-08T11:41:20.107Z"
   },
   {
    "duration": 5,
    "start_time": "2023-07-08T11:41:20.116Z"
   },
   {
    "duration": 23,
    "start_time": "2023-07-08T11:41:20.123Z"
   },
   {
    "duration": 4,
    "start_time": "2023-07-08T11:41:20.148Z"
   },
   {
    "duration": 28,
    "start_time": "2023-07-08T11:41:20.154Z"
   },
   {
    "duration": 48,
    "start_time": "2023-07-08T11:41:20.184Z"
   },
   {
    "duration": 476,
    "start_time": "2023-07-08T11:41:20.234Z"
   },
   {
    "duration": 11,
    "start_time": "2023-07-08T11:41:20.712Z"
   },
   {
    "duration": 34,
    "start_time": "2023-07-08T11:41:20.725Z"
   },
   {
    "duration": 133674,
    "start_time": "2023-07-08T11:41:20.762Z"
   },
   {
    "duration": 123,
    "start_time": "2023-07-08T11:43:34.438Z"
   },
   {
    "duration": 0,
    "start_time": "2023-07-08T11:43:34.563Z"
   },
   {
    "duration": 1,
    "start_time": "2023-07-08T11:43:34.566Z"
   },
   {
    "duration": 13,
    "start_time": "2023-07-08T11:44:57.271Z"
   },
   {
    "duration": 8,
    "start_time": "2023-07-08T11:45:03.414Z"
   },
   {
    "duration": 166213,
    "start_time": "2023-07-08T11:45:05.704Z"
   },
   {
    "duration": 20,
    "start_time": "2023-07-08T11:47:51.920Z"
   },
   {
    "duration": 7,
    "start_time": "2023-07-08T12:29:48.504Z"
   },
   {
    "duration": 1911,
    "start_time": "2023-07-08T12:32:03.512Z"
   },
   {
    "duration": 2471,
    "start_time": "2023-07-08T12:32:34.741Z"
   },
   {
    "duration": 177,
    "start_time": "2023-07-08T12:32:37.214Z"
   },
   {
    "duration": 20,
    "start_time": "2023-07-08T12:32:37.396Z"
   },
   {
    "duration": 198,
    "start_time": "2023-07-08T12:32:37.419Z"
   },
   {
    "duration": 36,
    "start_time": "2023-07-08T12:32:37.619Z"
   },
   {
    "duration": 30,
    "start_time": "2023-07-08T12:32:37.657Z"
   },
   {
    "duration": 463,
    "start_time": "2023-07-08T12:32:37.700Z"
   },
   {
    "duration": 85,
    "start_time": "2023-07-08T12:32:38.166Z"
   },
   {
    "duration": 23,
    "start_time": "2023-07-08T12:32:38.522Z"
   },
   {
    "duration": 66,
    "start_time": "2023-07-08T12:32:39.917Z"
   },
   {
    "duration": 18,
    "start_time": "2023-07-08T12:32:40.098Z"
   },
   {
    "duration": 148,
    "start_time": "2023-07-08T12:32:40.912Z"
   },
   {
    "duration": 68,
    "start_time": "2023-07-08T12:32:41.772Z"
   },
   {
    "duration": 12,
    "start_time": "2023-07-08T12:32:41.932Z"
   },
   {
    "duration": 553,
    "start_time": "2023-07-08T12:32:42.089Z"
   },
   {
    "duration": 186,
    "start_time": "2023-07-08T12:32:42.644Z"
   },
   {
    "duration": 63,
    "start_time": "2023-07-08T12:32:44.961Z"
   },
   {
    "duration": 27,
    "start_time": "2023-07-08T12:32:45.404Z"
   },
   {
    "duration": 344,
    "start_time": "2023-07-08T12:32:45.712Z"
   },
   {
    "duration": 75,
    "start_time": "2023-07-08T12:32:47.753Z"
   },
   {
    "duration": 15,
    "start_time": "2023-07-08T12:32:48.613Z"
   },
   {
    "duration": 7,
    "start_time": "2023-07-08T12:32:51.739Z"
   },
   {
    "duration": 50,
    "start_time": "2023-07-08T12:32:52.753Z"
   },
   {
    "duration": 20,
    "start_time": "2023-07-08T12:34:14.408Z"
   },
   {
    "duration": 177,
    "start_time": "2023-07-08T12:36:58.008Z"
   },
   {
    "duration": 2337,
    "start_time": "2023-07-08T12:37:12.766Z"
   },
   {
    "duration": 212,
    "start_time": "2023-07-08T12:37:15.107Z"
   },
   {
    "duration": 18,
    "start_time": "2023-07-08T12:37:15.321Z"
   },
   {
    "duration": 205,
    "start_time": "2023-07-08T12:37:15.341Z"
   },
   {
    "duration": 56,
    "start_time": "2023-07-08T12:37:15.550Z"
   },
   {
    "duration": 15,
    "start_time": "2023-07-08T12:37:15.609Z"
   },
   {
    "duration": 485,
    "start_time": "2023-07-08T12:37:15.626Z"
   },
   {
    "duration": 37,
    "start_time": "2023-07-08T12:37:16.114Z"
   },
   {
    "duration": 45,
    "start_time": "2023-07-08T12:37:16.153Z"
   },
   {
    "duration": 53,
    "start_time": "2023-07-08T12:37:16.203Z"
   },
   {
    "duration": 44,
    "start_time": "2023-07-08T12:37:16.259Z"
   },
   {
    "duration": 209,
    "start_time": "2023-07-08T12:37:16.306Z"
   },
   {
    "duration": 34,
    "start_time": "2023-07-08T12:37:16.518Z"
   },
   {
    "duration": 33,
    "start_time": "2023-07-08T12:37:16.556Z"
   },
   {
    "duration": 622,
    "start_time": "2023-07-08T12:37:16.599Z"
   },
   {
    "duration": 200,
    "start_time": "2023-07-08T12:37:17.223Z"
   },
   {
    "duration": 38,
    "start_time": "2023-07-08T12:37:17.425Z"
   },
   {
    "duration": 26,
    "start_time": "2023-07-08T12:37:17.465Z"
   },
   {
    "duration": 349,
    "start_time": "2023-07-08T12:37:17.493Z"
   },
   {
    "duration": 56,
    "start_time": "2023-07-08T12:37:17.844Z"
   },
   {
    "duration": 16,
    "start_time": "2023-07-08T12:37:17.904Z"
   },
   {
    "duration": 10,
    "start_time": "2023-07-08T12:37:17.922Z"
   },
   {
    "duration": 26,
    "start_time": "2023-07-08T12:37:17.934Z"
   },
   {
    "duration": 24,
    "start_time": "2023-07-08T12:37:17.962Z"
   },
   {
    "duration": 10,
    "start_time": "2023-07-08T12:37:17.994Z"
   },
   {
    "duration": 586,
    "start_time": "2023-07-08T12:37:18.006Z"
   },
   {
    "duration": 0,
    "start_time": "2023-07-08T12:37:18.596Z"
   },
   {
    "duration": 0,
    "start_time": "2023-07-08T12:37:18.597Z"
   },
   {
    "duration": 0,
    "start_time": "2023-07-08T12:37:18.602Z"
   },
   {
    "duration": 0,
    "start_time": "2023-07-08T12:37:18.603Z"
   },
   {
    "duration": 0,
    "start_time": "2023-07-08T12:37:18.604Z"
   },
   {
    "duration": 0,
    "start_time": "2023-07-08T12:37:18.607Z"
   },
   {
    "duration": 0,
    "start_time": "2023-07-08T12:37:18.608Z"
   },
   {
    "duration": 0,
    "start_time": "2023-07-08T12:37:18.609Z"
   },
   {
    "duration": 0,
    "start_time": "2023-07-08T12:37:18.610Z"
   },
   {
    "duration": 0,
    "start_time": "2023-07-08T12:37:18.611Z"
   },
   {
    "duration": 346,
    "start_time": "2023-07-08T12:38:57.210Z"
   },
   {
    "duration": 10,
    "start_time": "2023-07-08T12:39:59.009Z"
   },
   {
    "duration": 13,
    "start_time": "2023-07-08T12:40:06.799Z"
   },
   {
    "duration": 38,
    "start_time": "2023-07-08T12:41:09.958Z"
   },
   {
    "duration": 1755,
    "start_time": "2023-07-08T12:41:19.642Z"
   },
   {
    "duration": 168,
    "start_time": "2023-07-08T12:41:21.399Z"
   },
   {
    "duration": 18,
    "start_time": "2023-07-08T12:41:21.569Z"
   },
   {
    "duration": 182,
    "start_time": "2023-07-08T12:41:21.590Z"
   },
   {
    "duration": 43,
    "start_time": "2023-07-08T12:41:21.779Z"
   },
   {
    "duration": 13,
    "start_time": "2023-07-08T12:41:21.824Z"
   },
   {
    "duration": 422,
    "start_time": "2023-07-08T12:41:21.839Z"
   },
   {
    "duration": 49,
    "start_time": "2023-07-08T12:41:22.271Z"
   },
   {
    "duration": 18,
    "start_time": "2023-07-08T12:41:22.321Z"
   },
   {
    "duration": 71,
    "start_time": "2023-07-08T12:41:22.341Z"
   },
   {
    "duration": 15,
    "start_time": "2023-07-08T12:41:22.414Z"
   },
   {
    "duration": 169,
    "start_time": "2023-07-08T12:41:22.431Z"
   },
   {
    "duration": 48,
    "start_time": "2023-07-08T12:41:22.603Z"
   },
   {
    "duration": 28,
    "start_time": "2023-07-08T12:41:22.655Z"
   },
   {
    "duration": 493,
    "start_time": "2023-07-08T12:41:22.695Z"
   },
   {
    "duration": 166,
    "start_time": "2023-07-08T12:41:23.197Z"
   },
   {
    "duration": 35,
    "start_time": "2023-07-08T12:41:23.367Z"
   },
   {
    "duration": 19,
    "start_time": "2023-07-08T12:41:23.405Z"
   },
   {
    "duration": 350,
    "start_time": "2023-07-08T12:41:23.427Z"
   },
   {
    "duration": 44,
    "start_time": "2023-07-08T12:41:23.791Z"
   },
   {
    "duration": 18,
    "start_time": "2023-07-08T12:41:23.837Z"
   },
   {
    "duration": 56,
    "start_time": "2023-07-08T12:41:23.858Z"
   },
   {
    "duration": 106,
    "start_time": "2023-07-08T12:41:23.917Z"
   },
   {
    "duration": 4,
    "start_time": "2023-07-08T12:41:24.025Z"
   },
   {
    "duration": 24,
    "start_time": "2023-07-08T12:41:24.031Z"
   },
   {
    "duration": 41,
    "start_time": "2023-07-08T12:41:24.058Z"
   },
   {
    "duration": 11,
    "start_time": "2023-07-08T12:41:24.101Z"
   },
   {
    "duration": 50,
    "start_time": "2023-07-08T12:41:24.115Z"
   },
   {
    "duration": 58,
    "start_time": "2023-07-08T12:41:24.176Z"
   },
   {
    "duration": 563,
    "start_time": "2023-07-08T12:41:24.236Z"
   },
   {
    "duration": 15,
    "start_time": "2023-07-08T12:41:24.805Z"
   },
   {
    "duration": 7,
    "start_time": "2023-07-08T12:41:24.823Z"
   },
   {
    "duration": 193798,
    "start_time": "2023-07-08T12:41:24.832Z"
   },
   {
    "duration": 152,
    "start_time": "2023-07-08T12:44:38.632Z"
   },
   {
    "duration": 0,
    "start_time": "2023-07-08T12:44:38.793Z"
   },
   {
    "duration": 1882,
    "start_time": "2023-07-08T13:21:51.838Z"
   },
   {
    "duration": 156,
    "start_time": "2023-07-08T13:21:53.722Z"
   },
   {
    "duration": 33,
    "start_time": "2023-07-08T13:21:53.880Z"
   },
   {
    "duration": 215,
    "start_time": "2023-07-08T13:21:53.915Z"
   },
   {
    "duration": 50,
    "start_time": "2023-07-08T13:21:54.134Z"
   },
   {
    "duration": 15,
    "start_time": "2023-07-08T13:21:54.186Z"
   },
   {
    "duration": 401,
    "start_time": "2023-07-08T13:21:54.203Z"
   },
   {
    "duration": 42,
    "start_time": "2023-07-08T13:21:54.605Z"
   },
   {
    "duration": 20,
    "start_time": "2023-07-08T13:21:54.649Z"
   },
   {
    "duration": 64,
    "start_time": "2023-07-08T13:21:54.670Z"
   },
   {
    "duration": 12,
    "start_time": "2023-07-08T13:21:54.735Z"
   },
   {
    "duration": 168,
    "start_time": "2023-07-08T13:21:54.748Z"
   },
   {
    "duration": 42,
    "start_time": "2023-07-08T13:21:54.918Z"
   },
   {
    "duration": 18,
    "start_time": "2023-07-08T13:21:54.963Z"
   },
   {
    "duration": 463,
    "start_time": "2023-07-08T13:21:54.983Z"
   },
   {
    "duration": 155,
    "start_time": "2023-07-08T13:21:55.448Z"
   },
   {
    "duration": 27,
    "start_time": "2023-07-08T13:21:55.605Z"
   },
   {
    "duration": 11,
    "start_time": "2023-07-08T13:21:55.634Z"
   },
   {
    "duration": 293,
    "start_time": "2023-07-08T13:21:55.647Z"
   },
   {
    "duration": 45,
    "start_time": "2023-07-08T13:21:55.942Z"
   },
   {
    "duration": 13,
    "start_time": "2023-07-08T13:21:55.989Z"
   },
   {
    "duration": 22,
    "start_time": "2023-07-08T13:21:56.004Z"
   },
   {
    "duration": 30,
    "start_time": "2023-07-08T13:21:56.027Z"
   },
   {
    "duration": 12,
    "start_time": "2023-07-08T13:21:56.059Z"
   },
   {
    "duration": 20,
    "start_time": "2023-07-08T13:21:56.074Z"
   },
   {
    "duration": 19,
    "start_time": "2023-07-08T13:21:56.097Z"
   },
   {
    "duration": 4,
    "start_time": "2023-07-08T13:21:56.118Z"
   },
   {
    "duration": 24,
    "start_time": "2023-07-08T13:21:56.123Z"
   },
   {
    "duration": 59,
    "start_time": "2023-07-08T13:21:56.149Z"
   },
   {
    "duration": 494,
    "start_time": "2023-07-08T13:21:56.210Z"
   },
   {
    "duration": 11,
    "start_time": "2023-07-08T13:21:56.705Z"
   },
   {
    "duration": 14,
    "start_time": "2023-07-08T13:21:56.718Z"
   },
   {
    "duration": 834843,
    "start_time": "2023-07-08T13:21:56.734Z"
   },
   {
    "duration": 350,
    "start_time": "2023-07-08T13:35:51.584Z"
   },
   {
    "duration": 4,
    "start_time": "2023-07-08T13:35:51.936Z"
   },
   {
    "duration": 134311,
    "start_time": "2023-07-08T13:36:56.885Z"
   },
   {
    "duration": 295,
    "start_time": "2023-07-08T13:39:11.198Z"
   },
   {
    "duration": 3257,
    "start_time": "2023-07-10T07:27:39.959Z"
   },
   {
    "duration": 119,
    "start_time": "2023-07-10T07:27:43.218Z"
   },
   {
    "duration": 0,
    "start_time": "2023-07-10T07:27:43.339Z"
   },
   {
    "duration": 0,
    "start_time": "2023-07-10T07:27:43.340Z"
   },
   {
    "duration": 0,
    "start_time": "2023-07-10T07:27:43.341Z"
   },
   {
    "duration": 0,
    "start_time": "2023-07-10T07:27:43.342Z"
   },
   {
    "duration": 0,
    "start_time": "2023-07-10T07:27:43.344Z"
   },
   {
    "duration": 0,
    "start_time": "2023-07-10T07:27:43.345Z"
   },
   {
    "duration": 0,
    "start_time": "2023-07-10T07:27:43.346Z"
   },
   {
    "duration": 17,
    "start_time": "2023-07-10T07:27:43.906Z"
   },
   {
    "duration": 15,
    "start_time": "2023-07-10T07:27:44.107Z"
   },
   {
    "duration": 2239,
    "start_time": "2023-07-10T09:00:57.816Z"
   },
   {
    "duration": 102,
    "start_time": "2023-07-10T09:01:03.484Z"
   },
   {
    "duration": 110,
    "start_time": "2023-07-10T09:01:40.807Z"
   },
   {
    "duration": 106,
    "start_time": "2023-07-10T09:03:27.899Z"
   },
   {
    "duration": 143,
    "start_time": "2023-07-10T09:03:31.803Z"
   },
   {
    "duration": 4,
    "start_time": "2023-07-11T07:25:47.462Z"
   },
   {
    "duration": 72,
    "start_time": "2023-07-11T07:25:47.468Z"
   },
   {
    "duration": 14,
    "start_time": "2023-07-11T07:25:47.541Z"
   },
   {
    "duration": 177,
    "start_time": "2023-07-11T07:25:47.556Z"
   },
   {
    "duration": 33,
    "start_time": "2023-07-11T07:25:47.735Z"
   },
   {
    "duration": 14,
    "start_time": "2023-07-11T07:25:47.770Z"
   },
   {
    "duration": 322,
    "start_time": "2023-07-11T07:25:47.786Z"
   },
   {
    "duration": 37,
    "start_time": "2023-07-11T07:25:48.110Z"
   },
   {
    "duration": 12,
    "start_time": "2023-07-11T07:25:48.149Z"
   },
   {
    "duration": 44,
    "start_time": "2023-07-11T07:25:48.162Z"
   },
   {
    "duration": 224,
    "start_time": "2023-07-11T07:25:48.208Z"
   },
   {
    "duration": 32,
    "start_time": "2023-07-11T07:25:48.434Z"
   },
   {
    "duration": 11,
    "start_time": "2023-07-11T07:25:48.469Z"
   },
   {
    "duration": 478,
    "start_time": "2023-07-11T07:25:48.482Z"
   },
   {
    "duration": 132,
    "start_time": "2023-07-11T07:25:48.962Z"
   },
   {
    "duration": 38,
    "start_time": "2023-07-11T07:25:49.096Z"
   },
   {
    "duration": 11,
    "start_time": "2023-07-11T07:25:49.136Z"
   },
   {
    "duration": 245,
    "start_time": "2023-07-11T07:25:49.149Z"
   },
   {
    "duration": 29,
    "start_time": "2023-07-11T07:25:49.395Z"
   },
   {
    "duration": 12,
    "start_time": "2023-07-11T07:25:49.426Z"
   },
   {
    "duration": 14,
    "start_time": "2023-07-11T07:25:49.440Z"
   },
   {
    "duration": 47,
    "start_time": "2023-07-11T07:25:49.456Z"
   },
   {
    "duration": 3941,
    "start_time": "2023-07-11T07:25:49.504Z"
   },
   {
    "duration": 12,
    "start_time": "2023-07-11T07:25:53.447Z"
   },
   {
    "duration": 3947,
    "start_time": "2023-07-11T07:25:53.460Z"
   },
   {
    "duration": 10,
    "start_time": "2023-07-11T07:25:57.409Z"
   },
   {
    "duration": 33,
    "start_time": "2023-07-11T07:25:57.420Z"
   },
   {
    "duration": 14,
    "start_time": "2023-07-11T07:25:57.454Z"
   },
   {
    "duration": 16,
    "start_time": "2023-07-11T07:25:57.469Z"
   },
   {
    "duration": 23,
    "start_time": "2023-07-11T07:25:57.503Z"
   },
   {
    "duration": 16,
    "start_time": "2023-07-11T07:25:57.527Z"
   },
   {
    "duration": 72,
    "start_time": "2023-07-11T07:25:57.545Z"
   },
   {
    "duration": 29,
    "start_time": "2023-07-11T07:25:57.619Z"
   },
   {
    "duration": 7,
    "start_time": "2023-07-11T07:25:57.650Z"
   },
   {
    "duration": 481,
    "start_time": "2023-07-11T07:25:57.659Z"
   },
   {
    "duration": 11,
    "start_time": "2023-07-11T07:25:58.141Z"
   },
   {
    "duration": 5,
    "start_time": "2023-07-11T07:25:58.156Z"
   },
   {
    "duration": 7,
    "start_time": "2023-07-11T07:25:58.163Z"
   },
   {
    "duration": 2089,
    "start_time": "2023-07-11T10:27:02.504Z"
   },
   {
    "duration": 172,
    "start_time": "2023-07-11T10:27:04.595Z"
   },
   {
    "duration": 24,
    "start_time": "2023-07-11T10:27:04.769Z"
   },
   {
    "duration": 186,
    "start_time": "2023-07-11T10:27:04.795Z"
   },
   {
    "duration": 67,
    "start_time": "2023-07-11T10:27:04.988Z"
   },
   {
    "duration": 14,
    "start_time": "2023-07-11T10:27:05.057Z"
   },
   {
    "duration": 337,
    "start_time": "2023-07-11T10:27:05.074Z"
   },
   {
    "duration": 188,
    "start_time": "2023-07-11T10:27:05.413Z"
   },
   {
    "duration": 15,
    "start_time": "2023-07-11T10:27:05.603Z"
   },
   {
    "duration": 104,
    "start_time": "2023-07-11T10:27:05.620Z"
   },
   {
    "duration": 229,
    "start_time": "2023-07-11T10:27:05.726Z"
   },
   {
    "duration": 81,
    "start_time": "2023-07-11T10:27:05.956Z"
   },
   {
    "duration": 12,
    "start_time": "2023-07-11T10:27:06.039Z"
   },
   {
    "duration": 552,
    "start_time": "2023-07-11T10:27:06.054Z"
   },
   {
    "duration": 120,
    "start_time": "2023-07-11T10:27:06.608Z"
   },
   {
    "duration": 92,
    "start_time": "2023-07-11T10:27:06.730Z"
   },
   {
    "duration": 10,
    "start_time": "2023-07-11T10:27:06.824Z"
   },
   {
    "duration": 239,
    "start_time": "2023-07-11T10:27:06.836Z"
   },
   {
    "duration": 60,
    "start_time": "2023-07-11T10:27:07.080Z"
   },
   {
    "duration": 12,
    "start_time": "2023-07-11T10:27:07.142Z"
   },
   {
    "duration": 15,
    "start_time": "2023-07-11T10:27:07.156Z"
   },
   {
    "duration": 38,
    "start_time": "2023-07-11T10:27:07.173Z"
   },
   {
    "duration": 4113,
    "start_time": "2023-07-11T10:27:07.213Z"
   },
   {
    "duration": 11,
    "start_time": "2023-07-11T10:27:11.328Z"
   },
   {
    "duration": 4680,
    "start_time": "2023-07-11T10:27:11.340Z"
   },
   {
    "duration": 11,
    "start_time": "2023-07-11T10:27:16.021Z"
   },
   {
    "duration": 45,
    "start_time": "2023-07-11T10:27:16.034Z"
   },
   {
    "duration": 17,
    "start_time": "2023-07-11T10:27:16.087Z"
   },
   {
    "duration": 23,
    "start_time": "2023-07-11T10:27:16.106Z"
   },
   {
    "duration": 29,
    "start_time": "2023-07-11T10:27:16.131Z"
   },
   {
    "duration": 22,
    "start_time": "2023-07-11T10:27:16.162Z"
   },
   {
    "duration": 52,
    "start_time": "2023-07-11T10:27:16.186Z"
   },
   {
    "duration": 68,
    "start_time": "2023-07-11T10:27:16.240Z"
   },
   {
    "duration": 8,
    "start_time": "2023-07-11T10:27:16.310Z"
   },
   {
    "duration": 533,
    "start_time": "2023-07-11T10:27:16.320Z"
   },
   {
    "duration": 21,
    "start_time": "2023-07-11T10:27:16.855Z"
   },
   {
    "duration": 7,
    "start_time": "2023-07-11T10:27:16.878Z"
   },
   {
    "duration": 7,
    "start_time": "2023-07-11T10:27:16.888Z"
   },
   {
    "duration": 6,
    "start_time": "2023-07-11T10:27:16.897Z"
   },
   {
    "duration": 5,
    "start_time": "2023-07-11T10:27:16.905Z"
   },
   {
    "duration": 8,
    "start_time": "2023-07-11T10:27:16.915Z"
   },
   {
    "duration": 2904,
    "start_time": "2023-07-11T10:27:16.925Z"
   },
   {
    "duration": 393,
    "start_time": "2023-07-11T10:27:19.831Z"
   },
   {
    "duration": 317,
    "start_time": "2023-07-11T10:27:20.225Z"
   },
   {
    "duration": 190485,
    "start_time": "2023-07-11T10:27:20.544Z"
   },
   {
    "duration": 380,
    "start_time": "2023-07-11T10:30:31.031Z"
   },
   {
    "duration": 350,
    "start_time": "2023-07-11T10:30:31.413Z"
   },
   {
    "duration": 166,
    "start_time": "2023-07-11T10:30:31.771Z"
   },
   {
    "duration": 0,
    "start_time": "2023-07-11T10:30:31.938Z"
   },
   {
    "duration": 0,
    "start_time": "2023-07-11T10:30:31.940Z"
   },
   {
    "duration": 0,
    "start_time": "2023-07-11T10:30:31.941Z"
   },
   {
    "duration": 0,
    "start_time": "2023-07-11T10:30:31.942Z"
   },
   {
    "duration": 0,
    "start_time": "2023-07-11T10:30:31.943Z"
   },
   {
    "duration": 18,
    "start_time": "2023-07-11T10:30:53.756Z"
   },
   {
    "duration": 7,
    "start_time": "2023-07-11T10:39:56.808Z"
   },
   {
    "duration": 2057,
    "start_time": "2023-07-11T10:40:04.139Z"
   },
   {
    "duration": 1823,
    "start_time": "2023-07-11T10:40:29.052Z"
   },
   {
    "duration": 353,
    "start_time": "2023-07-11T10:41:12.896Z"
   },
   {
    "duration": 19,
    "start_time": "2023-07-11T10:45:20.556Z"
   },
   {
    "duration": 10,
    "start_time": "2023-07-11T10:45:52.332Z"
   },
   {
    "duration": 1507,
    "start_time": "2023-07-11T10:50:49.514Z"
   },
   {
    "duration": 67,
    "start_time": "2023-07-11T10:50:51.022Z"
   },
   {
    "duration": 17,
    "start_time": "2023-07-11T10:50:51.091Z"
   },
   {
    "duration": 156,
    "start_time": "2023-07-11T10:50:51.110Z"
   },
   {
    "duration": 41,
    "start_time": "2023-07-11T10:50:51.269Z"
   },
   {
    "duration": 10,
    "start_time": "2023-07-11T10:50:51.312Z"
   },
   {
    "duration": 328,
    "start_time": "2023-07-11T10:50:51.324Z"
   },
   {
    "duration": 43,
    "start_time": "2023-07-11T10:50:51.653Z"
   },
   {
    "duration": 15,
    "start_time": "2023-07-11T10:50:51.697Z"
   },
   {
    "duration": 42,
    "start_time": "2023-07-11T10:50:51.715Z"
   },
   {
    "duration": 166,
    "start_time": "2023-07-11T10:50:51.758Z"
   },
   {
    "duration": 29,
    "start_time": "2023-07-11T10:50:51.925Z"
   },
   {
    "duration": 13,
    "start_time": "2023-07-11T10:50:51.955Z"
   },
   {
    "duration": 567,
    "start_time": "2023-07-11T10:50:51.973Z"
   },
   {
    "duration": 126,
    "start_time": "2023-07-11T10:50:52.542Z"
   },
   {
    "duration": 39,
    "start_time": "2023-07-11T10:50:52.671Z"
   },
   {
    "duration": 10,
    "start_time": "2023-07-11T10:50:52.711Z"
   },
   {
    "duration": 255,
    "start_time": "2023-07-11T10:50:52.723Z"
   },
   {
    "duration": 33,
    "start_time": "2023-07-11T10:50:52.980Z"
   },
   {
    "duration": 13,
    "start_time": "2023-07-11T10:50:53.015Z"
   },
   {
    "duration": 13,
    "start_time": "2023-07-11T10:50:53.029Z"
   },
   {
    "duration": 70,
    "start_time": "2023-07-11T10:50:53.043Z"
   },
   {
    "duration": 4561,
    "start_time": "2023-07-11T10:50:53.115Z"
   },
   {
    "duration": 12,
    "start_time": "2023-07-11T10:50:57.678Z"
   },
   {
    "duration": 4209,
    "start_time": "2023-07-11T10:50:57.691Z"
   },
   {
    "duration": 12,
    "start_time": "2023-07-11T10:51:01.902Z"
   },
   {
    "duration": 29,
    "start_time": "2023-07-11T10:51:01.916Z"
   },
   {
    "duration": 27,
    "start_time": "2023-07-11T10:51:01.947Z"
   },
   {
    "duration": 54,
    "start_time": "2023-07-11T10:51:01.976Z"
   },
   {
    "duration": 32,
    "start_time": "2023-07-11T10:51:02.032Z"
   },
   {
    "duration": 28,
    "start_time": "2023-07-11T10:51:02.066Z"
   },
   {
    "duration": 46,
    "start_time": "2023-07-11T10:51:02.096Z"
   },
   {
    "duration": 42,
    "start_time": "2023-07-11T10:51:02.144Z"
   },
   {
    "duration": 10,
    "start_time": "2023-07-11T10:51:02.189Z"
   },
   {
    "duration": 548,
    "start_time": "2023-07-11T10:51:02.200Z"
   },
   {
    "duration": 19,
    "start_time": "2023-07-11T10:51:02.749Z"
   },
   {
    "duration": 7,
    "start_time": "2023-07-11T10:51:02.770Z"
   },
   {
    "duration": 33,
    "start_time": "2023-07-11T10:51:02.780Z"
   },
   {
    "duration": 2455,
    "start_time": "2023-07-11T10:51:02.814Z"
   },
   {
    "duration": 327,
    "start_time": "2023-07-11T10:51:05.273Z"
   },
   {
    "duration": 285,
    "start_time": "2023-07-11T10:51:05.605Z"
   },
   {
    "duration": 165068,
    "start_time": "2023-07-11T10:51:05.892Z"
   },
   {
    "duration": 301,
    "start_time": "2023-07-11T10:53:50.961Z"
   },
   {
    "duration": 350,
    "start_time": "2023-07-11T10:53:51.264Z"
   },
   {
    "duration": 14,
    "start_time": "2023-07-11T10:53:51.616Z"
   },
   {
    "duration": 2375,
    "start_time": "2023-07-11T10:53:51.631Z"
   },
   {
    "duration": 353,
    "start_time": "2023-07-11T10:53:54.008Z"
   },
   {
    "duration": 29,
    "start_time": "2023-07-11T10:53:54.362Z"
   }
  ],
  "colab": {
   "provenance": []
  },
  "kernelspec": {
   "display_name": "Python 3 (ipykernel)",
   "language": "python",
   "name": "python3"
  },
  "language_info": {
   "codemirror_mode": {
    "name": "ipython",
    "version": 3
   },
   "file_extension": ".py",
   "mimetype": "text/x-python",
   "name": "python",
   "nbconvert_exporter": "python",
   "pygments_lexer": "ipython3",
   "version": "3.9.5"
  },
  "toc": {
   "base_numbering": 1,
   "nav_menu": {},
   "number_sections": true,
   "sideBar": true,
   "skip_h1_title": true,
   "title_cell": "Table of Contents",
   "title_sidebar": "Contents",
   "toc_cell": false,
   "toc_position": {},
   "toc_section_display": true,
   "toc_window_display": false
  }
 },
 "nbformat": 4,
 "nbformat_minor": 1
}
